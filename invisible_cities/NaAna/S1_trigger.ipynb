{
 "cells": [
  {
   "cell_type": "code",
   "execution_count": 1,
   "metadata": {
    "collapsed": false,
    "deletable": true,
    "editable": true
   },
   "outputs": [
    {
     "name": "stdout",
     "output_type": "stream",
     "text": [
      "Running on  Tue May  9 21:19:22 2017\n"
     ]
    }
   ],
   "source": [
    "from __future__ import print_function, division\n",
    "\n",
    "import os\n",
    "import operator\n",
    "import functools\n",
    "import time\n",
    "import glob\n",
    "import tables as tb\n",
    "import pandas as pd\n",
    "print(\"Running on \", time.asctime())\n",
    "\n",
    "import numpy as np\n",
    "import matplotlib.pyplot as plt\n",
    "%matplotlib inline\n",
    "\n",
    "\n",
    "import invisible_cities.database.load_db as DB\n",
    "import invisible_cities.core.system_of_units_c as SystemOfUnits\n",
    "import invisible_cities.reco.pmaps_functions as pmapf\n",
    "import invisible_cities.core.fit_functions as fitf\n",
    "\n",
    "DataPMT = DB.DataPMT()\n",
    "DataSiPM = DB.DataSiPM()\n",
    "units = SystemOfUnits.SystemOfUnits()\n",
    "pi = np.pi"
   ]
  },
  {
   "cell_type": "markdown",
   "metadata": {
    "deletable": true,
    "editable": true
   },
   "source": [
    "#### General plotting"
   ]
  },
  {
   "cell_type": "code",
   "execution_count": 2,
   "metadata": {
    "collapsed": true,
    "deletable": true,
    "editable": true
   },
   "outputs": [],
   "source": [
    "plt.rcParams[\"figure.figsize\"]          = 8, 6\n",
    "plt.rcParams[\"font.size\"]               = 15\n",
    "plt.rcParams[\"figure.max_open_warning\"] = 100\n",
    "\n",
    "profOpt = \"--k\"\n",
    "fitOpt  = \"r\"\n",
    "\n",
    "outputfolder = \"plots/Na_Coincidence\"\n",
    "if not os.path.exists(outputfolder):\n",
    "    os.mkdir(outputfolder)"
   ]
  },
  {
   "cell_type": "markdown",
   "metadata": {
    "deletable": true,
    "editable": true
   },
   "source": [
    "#### Usefull functions"
   ]
  },
  {
   "cell_type": "code",
   "execution_count": 3,
   "metadata": {
    "collapsed": true,
    "deletable": true,
    "editable": true
   },
   "outputs": [],
   "source": [
    "def width(times, to_mus=False):\n",
    "    \"\"\"\n",
    "    Compute peak width.\n",
    "    \"\"\"\n",
    "    w = (np.max(times) - np.min(times)) if np.any(times) else 0.\n",
    "    return w * units.ns/units.mus if to_mus else w\n",
    "\n",
    "\n",
    "def timefunc(f):\n",
    "    \"\"\"\n",
    "    Decorator for function timing.\n",
    "    \"\"\"\n",
    "    def time_f(*args, **kwargs):\n",
    "        t0 = time.time()\n",
    "        output = f(*args, **kwargs)\n",
    "        print(\"Time spent in {}: {} s\".format(f.__name__,\n",
    "                                              time.time() - t0))\n",
    "        return output\n",
    "    return time_f\n",
    "\n",
    "\n",
    "def integrate_charge(d):\n",
    "    \"\"\"\n",
    "    Integrate charge from a SiPM dictionary.\n",
    "    \"\"\"\n",
    "    newd = dict((key, np.sum(value)) for key, value in d.items())\n",
    "    return map(np.array, list(zip(*newd.items())))\n",
    "\n",
    "\n",
    "def flat(nested_list):\n",
    "    while hasattr(nested_list[0], \"__iter__\"):\n",
    "        nested_list = [item for inner_list in nested_list for item in inner_list]\n",
    "    return np.array(nested_list)\n",
    "\n",
    "\n",
    "def labels(xlabel, ylabel):\n",
    "    \"\"\"\n",
    "    Set x and y labels.\n",
    "    \"\"\"\n",
    "    plt.xlabel(xlabel)\n",
    "    plt.ylabel(ylabel)\n",
    "\n",
    "\n",
    "def hist(*args, **kwargs):\n",
    "    \"\"\"\n",
    "    Create a figure and then the histogram\n",
    "    \"\"\"\n",
    "    plt.figure()\n",
    "    return plt.hist(*args, **kwargs)\n",
    "\n",
    "    \n",
    "def hist2d(*args, **kwargs):\n",
    "    \"\"\"\n",
    "    Create a figure and then the histogram\n",
    "    \"\"\"\n",
    "    plt.figure()\n",
    "    return plt.hist2d(*args, **kwargs)\n",
    "\n",
    "    \n",
    "def pdf(data, *args, **kwargs):\n",
    "    \"\"\"\n",
    "    Create a normalized histogram with appropiate range.\n",
    "    \"\"\"\n",
    "    data = np.array(data)\n",
    "    h = hist(data, *args, **kwargs, weights=np.ones_like(data)/len(data))\n",
    "    plt.yscale(\"log\")\n",
    "    plt.ylim(1e-4, 1.)\n",
    "    return h\n",
    "    \n",
    "def scatter(*args, **kwargs):\n",
    "    \"\"\"\n",
    "    Create a figure and then a scatter plot\n",
    "    \"\"\"\n",
    "    plt.figure()\n",
    "    return plt.scatter(*args, **kwargs)\n",
    "\n",
    "\n",
    "def save_to_folder(outputfolder, name):\n",
    "    \"\"\"\n",
    "    Set title and save plot in folder.\n",
    "    \"\"\"\n",
    "    plt.title(name)\n",
    "    plt.savefig(\"{}/{}.png\".format(outputfolder, name), dpi=100)\n",
    "\n",
    "\n",
    "\n",
    "def get_centers(xbins):\n",
    "    # xbins should be shifted, as it contains the lower bounds\n",
    "    # and we want bin centers\n",
    "    return xbins[:-1] + np.diff(xbins) * 0.5\n",
    "\n",
    "\n",
    "def profile_and_scatter(x, y, z, nbin, *args, **kwargs):\n",
    "    \"\"\"\n",
    "    Create a figure and then a scatter plot\n",
    "    \"\"\"\n",
    "    plt.figure()\n",
    "    x, y, z, ze = fitf.profileXY(x, y, z, *nbin, *args, **kwargs)\n",
    "    x_ = np.repeat(x, x.size)\n",
    "    y_ = np.tile  (y, y.size)\n",
    "    z_ = z.flatten()\n",
    "    return (x, y, z, ze), plt.scatter(x_, y_, c=z_, marker=\"s\"), plt.colorbar()\n",
    "\n",
    "two_gauss = lambda x, *args: fitf.gauss(x, *args[:3]) + fitf.gauss(x, *args[3:-1])+args[-1]\n",
    "one_gauss = lambda x, *args: fitf.gauss(x, *args[:3]) +args[-1]\n",
    "save = functools.partial(save_to_folder, outputfolder)"
   ]
  },
  {
   "cell_type": "markdown",
   "metadata": {
    "deletable": true,
    "editable": true
   },
   "source": [
    "### Input data"
   ]
  },
  {
   "cell_type": "code",
   "execution_count": 4,
   "metadata": {
    "collapsed": false,
    "deletable": true,
    "editable": true
   },
   "outputs": [
    {
     "name": "stdout",
     "output_type": "stream",
     "text": [
      "# files: 22 \n",
      " /home/brais/Documents/Next/Na/data/3755/dst_3755.root.h5\n"
     ]
    }
   ],
   "source": [
    "# Comment out this line if your data is in $IC_DATA\n",
    "os.environ[\"IC_DATA\"] = \"/home/brais/Documents/Next/Na/data/\"\n",
    "\n",
    "pattern = \"$IC_DATA/37*/dst_*.h5\"\n",
    "ifiles  = glob.glob(os.path.expandvars(pattern))\n",
    "ifiles = sorted(ifiles)\n",
    "pattern = \"$IC_DATA/38*/dst_*.h5\"\n",
    "ifiles  += glob.glob(os.path.expandvars(pattern))\n",
    "print(\"# files:\", len(ifiles),\"\\n\",ifiles[5])"
   ]
  },
  {
   "cell_type": "code",
   "execution_count": 5,
   "metadata": {
    "collapsed": true,
    "deletable": true,
    "editable": true
   },
   "outputs": [],
   "source": [
    "run_number = [file[44:48] for file in ifiles]"
   ]
  },
  {
   "cell_type": "code",
   "execution_count": 6,
   "metadata": {
    "collapsed": false,
    "deletable": true,
    "editable": true
   },
   "outputs": [
    {
     "data": {
      "text/plain": [
       "['/home/brais/Documents/Next/Na/data/3708/dst_3708.root.h5',\n",
       " '/home/brais/Documents/Next/Na/data/3723/dst_3723.root.h5',\n",
       " '/home/brais/Documents/Next/Na/data/3732/dst_3732.root.h5',\n",
       " '/home/brais/Documents/Next/Na/data/3740/dst_3740.root.h5',\n",
       " '/home/brais/Documents/Next/Na/data/3752/dst_3752.root.h5',\n",
       " '/home/brais/Documents/Next/Na/data/3755/dst_3755.root.h5',\n",
       " '/home/brais/Documents/Next/Na/data/3757/dst_3757.root.h5',\n",
       " '/home/brais/Documents/Next/Na/data/3761/dst_3761.root.h5',\n",
       " '/home/brais/Documents/Next/Na/data/3763/dst_3763.root.h5',\n",
       " '/home/brais/Documents/Next/Na/data/3768/dst_3768.root.h5',\n",
       " '/home/brais/Documents/Next/Na/data/3770/dst_3770.root.h5',\n",
       " '/home/brais/Documents/Next/Na/data/3773/dst_3773.root.h5',\n",
       " '/home/brais/Documents/Next/Na/data/3779/dst_3779.root.h5',\n",
       " '/home/brais/Documents/Next/Na/data/3781/dst_3781.root.h5',\n",
       " '/home/brais/Documents/Next/Na/data/3783/dst_3783.root.h5',\n",
       " '/home/brais/Documents/Next/Na/data/3787/dst_3787.root.h5',\n",
       " '/home/brais/Documents/Next/Na/data/3789/dst_3789.root.h5',\n",
       " '/home/brais/Documents/Next/Na/data/3791/dst_3791.root.h5',\n",
       " '/home/brais/Documents/Next/Na/data/3794/dst_3794.root.h5',\n",
       " '/home/brais/Documents/Next/Na/data/3890/dst_3890.root.h5',\n",
       " '/home/brais/Documents/Next/Na/data/3896/dst_3896.root.h5',\n",
       " '/home/brais/Documents/Next/Na/data/3898/dst_3898.root.h5']"
      ]
     },
     "execution_count": 6,
     "metadata": {},
     "output_type": "execute_result"
    }
   ],
   "source": [
    "ifiles"
   ]
  },
  {
   "cell_type": "markdown",
   "metadata": {
    "deletable": true,
    "editable": true
   },
   "source": [
    "### Reading data"
   ]
  },
  {
   "cell_type": "code",
   "execution_count": 7,
   "metadata": {
    "collapsed": true,
    "deletable": true,
    "editable": true
   },
   "outputs": [],
   "source": [
    "def load_dst(filename, group, node):\n",
    "    with tb.open_file(filename) as h5in:\n",
    "        table = getattr(getattr(h5in.root, group), node).read()\n",
    "        return pd.DataFrame.from_records(table)\n",
    "    "
   ]
  },
  {
   "cell_type": "code",
   "execution_count": 8,
   "metadata": {
    "collapsed": true,
    "deletable": true,
    "editable": true
   },
   "outputs": [],
   "source": [
    "data_read = [load_dst(file, \"DST\", \"Events\") for file in ifiles]\n",
    "data_len  = [len(file) for file in data_read]"
   ]
  },
  {
   "cell_type": "code",
   "execution_count": 9,
   "metadata": {
    "collapsed": false,
    "deletable": true,
    "editable": true
   },
   "outputs": [
    {
     "name": "stdout",
     "output_type": "stream",
     "text": [
      "3708 18\n",
      "3723 1076\n",
      "3732 3464\n",
      "3740 13899\n",
      "3752 16682\n",
      "3755 14870\n",
      "3757 17051\n",
      "3761 16570\n",
      "3763 6492\n",
      "3768 9593\n",
      "3770 6688\n",
      "3773 9117\n",
      "3779 3934\n",
      "3781 3131\n",
      "3783 7855\n",
      "3787 6884\n",
      "3789 9584\n",
      "3791 8695\n",
      "3794 9106\n",
      "3890 11319\n",
      "3896 5387\n",
      "3898 11185\n"
     ]
    }
   ],
   "source": [
    "for i in range(len(data_read)): print(run_number[i], data_len[i])"
   ]
  },
  {
   "cell_type": "markdown",
   "metadata": {
    "deletable": true,
    "editable": true
   },
   "source": [
    "### Some plots"
   ]
  },
  {
   "cell_type": "code",
   "execution_count": 10,
   "metadata": {
    "collapsed": false,
    "deletable": true,
    "editable": true,
    "scrolled": false
   },
   "outputs": [
    {
     "data": {
      "image/png": "[encoded data removed]",
      "text/plain": [
       "<matplotlib.figure.Figure at 0x7fef9b981240>"
      ]
     },
     "metadata": {},
     "output_type": "display_data"
    },
    {
     "data": {
      "image/png": "[encoded data removed]",
      "text/plain": [
       "<matplotlib.figure.Figure at 0x7fefd9073cc0>"
      ]
     },
     "metadata": {},
     "output_type": "display_data"
    }
   ],
   "source": [
    "data_read_combined = pd.concat(data_read)\n",
    "hist(data_read_combined.S2e, 100, [0, 2e5]);\n",
    "plt.ticklabel_format(style='sci', axis='x', scilimits=(0,0))\n",
    "\n",
    "plt.figure()\n",
    "for i in data_read: \n",
    "    plt.hist(i.S2e, 100, [0, 2e5], alpha=0.5)\n",
    "plt.legend(run_number)\n",
    "\n",
    "plt.ticklabel_format(style='sci', axis='x', scilimits=(0,0))\n",
    "plt.show()"
   ]
  },
  {
   "cell_type": "code",
   "execution_count": 11,
   "metadata": {
    "collapsed": false,
    "deletable": true,
    "editable": true
   },
   "outputs": [
    {
     "data": {
      "image/png": "[encoded data removed]",
      "text/plain": [
       "<matplotlib.figure.Figure at 0x7fef9b957860>"
      ]
     },
     "metadata": {},
     "output_type": "display_data"
    }
   ],
   "source": [
    "data = data_read_combined[(data_read_combined.Z<210)&(data_read_combined.R<180)]\n",
    "\n",
    "Et = data.S2e \n",
    "\n",
    "time = data.time\n",
    "time = time-np.min(time)\n",
    "hist2d(time,Et,[100,100], range=[[0,1.5e6],[0,1.25e5]]);\n",
    "x, y, _ = fitf.profileX(time,Et, 100, yrange=[0,2e5])\n",
    "plt.plot(x,y,profOpt)\n",
    "plt.ticklabel_format(style='sci', axis='x', scilimits=(0,0))"
   ]
  },
  {
   "cell_type": "code",
   "execution_count": 12,
   "metadata": {
    "collapsed": false,
    "deletable": true,
    "editable": true
   },
   "outputs": [
    {
     "data": {
      "text/plain": [
       "3.0277356263699207"
      ]
     },
     "execution_count": 12,
     "metadata": {},
     "output_type": "execute_result"
    },
    {
     "data": {
      "image/png": "[encoded data removed]",
      "text/plain": [
       "<matplotlib.figure.Figure at 0x7fefa1fd5ef0>"
      ]
     },
     "metadata": {},
     "output_type": "display_data"
    }
   ],
   "source": [
    "hist(data_read_combined[(data_read_combined.nS2>0)&(data_read_combined.S2e<12e3)].Nsipm, 20, [0,20]);\n",
    "np.mean(data_read_combined[(data_read_combined.nS2>0)&(data_read_combined.S2e<12e3)].Nsipm)\n"
   ]
  },
  {
   "cell_type": "markdown",
   "metadata": {
    "deletable": true,
    "editable": true
   },
   "source": [
    "### XR Filter"
   ]
  },
  {
   "cell_type": "code",
   "execution_count": 13,
   "metadata": {
    "collapsed": true,
    "deletable": true,
    "editable": true
   },
   "outputs": [],
   "source": [
    "from copy import deepcopy\n",
    "from functools import reduce\n",
    "\n",
    "def Filter(data, verbosity=False):\n",
    "    filtered_XR = deepcopy(data)\n",
    "    filtered_noXR = deepcopy(data)\n",
    "    \n",
    "    min_S1w = 250.\n",
    "    max_S1w = 400.\n",
    "    min_S1h = 10.\n",
    "    max_S1h = 100.\n",
    "    \n",
    "    min_S2e = 2500.\n",
    "    max_S2e = 10000.\n",
    "    \n",
    "    if verbosity: print('Inicial: ',len(filtered_XR), len(filtered_noXR))\n",
    "\n",
    "    filtered_XR = filtered_XR[filtered_XR.nS2>1]\n",
    "    if verbosity: print('nS2 > 1: ', len(filtered_XR))\n",
    "    \n",
    "    filtered_XR = filtered_XR[filtered_XR.S2e>min_S2e]\n",
    "    filtered_XR = filtered_XR[filtered_XR.S2e<max_S2e]\n",
    "    \n",
    "    \n",
    "    if verbosity: print('S2 XR Energy: ', len(filtered_XR))\n",
    "    \n",
    "    filtered_XR = filtered_XR[filtered_XR.Nsipm>0]\n",
    "    \n",
    "    if verbosity: print('Nsimp > 0: ', len(filtered_XR))\n",
    "    \n",
    "\n",
    "    \n",
    "    \n",
    "    #filtered_noXR = filtered_noXR[filtered_noXR.S2e<min_S2e]\n",
    "    filtered_noXR = filtered_noXR[filtered_noXR.S2e>max_S2e]\n",
    "    \n",
    "    if verbosity: print('no XR: ', len(filtered_noXR))\n",
    "    \n",
    "    return filtered_XR, filtered_noXR\n"
   ]
  },
  {
   "cell_type": "code",
   "execution_count": 14,
   "metadata": {
    "collapsed": false,
    "deletable": true,
    "editable": true,
    "scrolled": false
   },
   "outputs": [
    {
     "name": "stdout",
     "output_type": "stream",
     "text": [
      "Inicial:  18 18\n",
      "nS2 > 1:  14\n",
      "S2 XR Energy:  2\n",
      "Nsimp > 0:  2\n",
      "no XR:  16\n",
      "Inicial:  1076 1076\n",
      "nS2 > 1:  564\n",
      "S2 XR Energy:  151\n",
      "Nsimp > 0:  151\n",
      "no XR:  901\n",
      "Inicial:  3464 3464\n",
      "nS2 > 1:  1810\n",
      "S2 XR Energy:  480\n",
      "Nsimp > 0:  480\n",
      "no XR:  2911\n",
      "Inicial:  13899 13899\n",
      "nS2 > 1:  7703\n",
      "S2 XR Energy:  2161\n",
      "Nsimp > 0:  2161\n",
      "no XR:  11576\n",
      "Inicial:  16682 16682\n",
      "nS2 > 1:  8791\n",
      "S2 XR Energy:  2437\n",
      "Nsimp > 0:  2437\n",
      "no XR:  13980\n",
      "Inicial:  14870 14870\n",
      "nS2 > 1:  7868\n",
      "S2 XR Energy:  2185\n",
      "Nsimp > 0:  2185\n",
      "no XR:  12454\n",
      "Inicial:  17051 17051\n",
      "nS2 > 1:  8931\n",
      "S2 XR Energy:  2467\n",
      "Nsimp > 0:  2467\n",
      "no XR:  14324\n",
      "Inicial:  16570 16570\n",
      "nS2 > 1:  8883\n",
      "S2 XR Energy:  2523\n",
      "Nsimp > 0:  2523\n",
      "no XR:  13821\n",
      "Inicial:  6492 6492\n",
      "nS2 > 1:  3543\n",
      "S2 XR Energy:  967\n",
      "Nsimp > 0:  967\n",
      "no XR:  5441\n",
      "Inicial:  9593 9593\n",
      "nS2 > 1:  5262\n",
      "S2 XR Energy:  1489\n",
      "Nsimp > 0:  1489\n",
      "no XR:  7990\n",
      "Inicial:  6688 6688\n",
      "nS2 > 1:  3739\n",
      "S2 XR Energy:  1085\n",
      "Nsimp > 0:  1085\n",
      "no XR:  5530\n",
      "Inicial:  9117 9117\n",
      "nS2 > 1:  4829\n",
      "S2 XR Energy:  1388\n",
      "Nsimp > 0:  1388\n",
      "no XR:  7613\n",
      "Inicial:  3934 3934\n",
      "nS2 > 1:  2206\n",
      "S2 XR Energy:  596\n",
      "Nsimp > 0:  596\n",
      "no XR:  3281\n",
      "Inicial:  3131 3131\n",
      "nS2 > 1:  1695\n",
      "S2 XR Energy:  487\n",
      "Nsimp > 0:  487\n",
      "no XR:  2609\n",
      "Inicial:  7855 7855\n",
      "nS2 > 1:  4311\n",
      "S2 XR Energy:  1260\n",
      "Nsimp > 0:  1260\n",
      "no XR:  6494\n",
      "Inicial:  6884 6884\n",
      "nS2 > 1:  3711\n",
      "S2 XR Energy:  1045\n",
      "Nsimp > 0:  1045\n",
      "no XR:  5765\n",
      "Inicial:  9584 9584\n",
      "nS2 > 1:  5208\n",
      "S2 XR Energy:  1463\n",
      "Nsimp > 0:  1463\n",
      "no XR:  8004\n",
      "Inicial:  8695 8695\n",
      "nS2 > 1:  4691\n",
      "S2 XR Energy:  1353\n",
      "Nsimp > 0:  1353\n",
      "no XR:  7246\n",
      "Inicial:  9106 9106\n",
      "nS2 > 1:  4959\n",
      "S2 XR Energy:  1380\n",
      "Nsimp > 0:  1380\n",
      "no XR:  7635\n",
      "Inicial:  11319 11319\n",
      "nS2 > 1:  6463\n",
      "S2 XR Energy:  1852\n",
      "Nsimp > 0:  1852\n",
      "no XR:  9353\n",
      "Inicial:  5387 5387\n",
      "nS2 > 1:  3063\n",
      "S2 XR Energy:  877\n",
      "Nsimp > 0:  877\n",
      "no XR:  4471\n",
      "Inicial:  11185 11185\n",
      "nS2 > 1:  6424\n",
      "S2 XR Energy:  1885\n",
      "Nsimp > 0:  1885\n",
      "no XR:  9177\n"
     ]
    }
   ],
   "source": [
    "filt_XR, filt_noXR = [], []\n",
    "for i in data_read:\n",
    "    \n",
    "    XR, noXR = Filter(i,True)\n",
    "    filt_XR.append(XR)\n",
    "    filt_noXR.append(noXR)\n",
    "\n",
    "#full = data_read[:]"
   ]
  },
  {
   "cell_type": "code",
   "execution_count": 15,
   "metadata": {
    "collapsed": false,
    "deletable": true,
    "editable": true
   },
   "outputs": [
    {
     "name": "stdout",
     "output_type": "stream",
     "text": [
      "[2, 151, 480, 2161, 2437, 2185, 2467, 2523, 967, 1489, 1085, 1388, 596, 487, 1260, 1045, 1463, 1353, 1380, 1852, 877, 1885]\n"
     ]
    }
   ],
   "source": [
    "min_len   = 1000\n",
    "len_XR    = [len(Filter(data)[0]) for data in data_read]\n",
    "print(len_XR)"
   ]
  },
  {
   "cell_type": "code",
   "execution_count": 16,
   "metadata": {
    "collapsed": false,
    "deletable": true,
    "editable": true,
    "scrolled": false
   },
   "outputs": [
    {
     "name": "stdout",
     "output_type": "stream",
     "text": [
      "FitFunction(fn=<function fit.<locals>.<lambda> at 0x7fef96253950>, values=array([ 8109.39395362,  -579.37235691]), errors=array([ 179.74372834,   45.47925172]), chi2=1.5149604634635054)\n",
      "FitFunction(fn=<function fit.<locals>.<lambda> at 0x7fef950e4e18>, values=array([ 8449.0851226 ,  -461.78758435]), errors=array([ 100.66807086,   15.44208787]), chi2=0.26537787958366449)\n",
      "FitFunction(fn=<function fit.<locals>.<lambda> at 0x7fef95acac80>, values=array([ 8644.34844916,  -388.20504899]), errors=array([ 138.13701215,   14.59852166]), chi2=0.68272324551684938)\n",
      "FitFunction(fn=<function fit.<locals>.<lambda> at 0x7fef9568af28>, values=array([ 8487.23498438,  -392.39343364]), errors=array([ 220.81051144,   24.70917648]), chi2=1.5497178861152834)\n",
      "FitFunction(fn=<function fit.<locals>.<lambda> at 0x7fef94ed9730>, values=array([ 8169.86784208,  -508.5284583 ]), errors=array([ 150.21586433,   28.23652261]), chi2=0.58108607682045721)\n",
      "FitFunction(fn=<function fit.<locals>.<lambda> at 0x7fef94ccb8c8>, values=array([ 7978.58511852,  -542.50045279]), errors=array([ 141.19882803,   30.95851582]), chi2=0.78435570697077439)\n",
      "FitFunction(fn=<function fit.<locals>.<lambda> at 0x7fef94d1e400>, values=array([ 9240.0819366 ,  -361.50806201]), errors=array([ 226.17525986,   20.29224174]), chi2=1.172573043639598)\n",
      "FitFunction(fn=<function fit.<locals>.<lambda> at 0x7fef94df6c80>, values=array([ 8439.00092279,  -467.41178055]), errors=array([ 184.87448501,   29.10892646]), chi2=0.97552139588948406)\n",
      "FitFunction(fn=<function fit.<locals>.<lambda> at 0x7fef94e31e18>, values=array([ 8266.77001571,  -564.5209306 ]), errors=array([ 204.73271636,   47.08559866]), chi2=1.4193025035359772)\n",
      "FitFunction(fn=<function fit.<locals>.<lambda> at 0x7fef9ae15e18>, values=array([ 8353.04773453,  -545.03131006]), errors=array([ 309.53411533,   65.19195034]), chi2=3.2053759045659724)\n",
      "FitFunction(fn=<function fit.<locals>.<lambda> at 0x7fef9ad669d8>, values=array([ 8515.09243057,  -462.7546655 ]), errors=array([ 210.77422109,   31.34214186]), chi2=1.2211244045331486)\n",
      "FitFunction(fn=<function fit.<locals>.<lambda> at 0x7fef9ad3ed08>, values=array([ 8341.0614807 ,  -512.28287151]), errors=array([ 211.35351104,   40.56164029]), chi2=1.7617195586911485)\n",
      "FitFunction(fn=<function fit.<locals>.<lambda> at 0x7fef9ad0db70>, values=array([ 8425.45874047,  -553.89439904]), errors=array([ 263.97443287,   60.53861074]), chi2=2.9037336932507771)\n",
      "FitFunction(fn=<function fit.<locals>.<lambda> at 0x7fef9ace0d90>, values=array([ 8207.57831196,  -718.56524653]), errors=array([ 182.2732087 ,   68.98284666]), chi2=1.4281642408142226)\n"
     ]
    },
    {
     "data": {
      "image/png": "[encoded data removed]",
      "text/plain": [
       "<matplotlib.figure.Figure at 0x7fef967fe278>"
      ]
     },
     "metadata": {},
     "output_type": "display_data"
    }
   ],
   "source": [
    "rcut = 180.\n",
    "data_cut = []\n",
    "i = 0\n",
    "j = 0\n",
    "def get_zcorr(zfun, coef):\n",
    "    def zcorr(z):\n",
    "        return zfun(coef)/zfun(z)\n",
    "    return zcorr\n",
    "\n",
    "plt.figure(figsize=[15,15])\n",
    "for idata in [Filter(data)[0] for data in data_read[:-2]]:\n",
    "    #print(idata)\n",
    "    if len(idata)>min_len:\n",
    "        \n",
    "        j +=1\n",
    "        \n",
    "        idata_cut           = {}\n",
    "        idata_cut['run']    = run_number[i]\n",
    "        data_               = idata[idata.R<rcut]\n",
    "        idata_cut['XR']     = deepcopy(idata)\n",
    "        idata_cut['Full']   = deepcopy(data_read[i])\n",
    "        \n",
    "        xbin, ybin, z       = np.histogram2d(data_.Z, data_.S2e, [25,25], [[0,300], [2000,10000]])\n",
    "        plt.subplot(4,4,j)\n",
    "        x, y, ey             = fitf.profileX(data_.Z, data_.S2e, 12, xrange=[75,250], yrange=[2000,8000])\n",
    "        plt.errorbar(x, y, yerr=ey, xerr=(x[1]-x[0])/12**0.5, fmt='o', color='g')\n",
    "        \n",
    "        sel                 = fitf.in_range(x, 100, 220)\n",
    "        x, y, ey            = x[sel], y[sel], ey[sel]\n",
    "        f                   = fitf.fit(fitf.expo, x, y, (1e5, -250), sigma=ey)\n",
    "        \n",
    "        plt.plot(x, f.fn(x), fitOpt)\n",
    "        \n",
    "        #plt.show()\n",
    "        \n",
    "        #plt.errorbar(x, y, yerr=ey, xerr=(x[1]-x[0])/12**0.5, fmt='o', color='g')        \n",
    "        #plt.plot(x, f.fn(x), fitOpt)\n",
    "        print(f)\n",
    "        \n",
    "        plt.xlabel(\"Drift time ($\\mu$s)\")\n",
    "        plt.ylabel(\"Event energy (pes)\")\n",
    "        plt.title(run_number[i])\n",
    "        \n",
    "        idata_cut['zcorr']  = get_zcorr(f.fn, np.min(x))\n",
    "        \n",
    "        idata_cut['zfit']   = f\n",
    "        \n",
    "        \n",
    "        data_cut.append(idata_cut)\n",
    "    i += 1\n",
    "\n",
    "    \n",
    "plt.tight_layout()    \n",
    "    \n"
   ]
  },
  {
   "cell_type": "code",
   "execution_count": 17,
   "metadata": {
    "collapsed": false,
    "deletable": true,
    "editable": true
   },
   "outputs": [
    {
     "data": {
      "text/plain": [
       "14"
      ]
     },
     "execution_count": 17,
     "metadata": {},
     "output_type": "execute_result"
    }
   ],
   "source": [
    "j"
   ]
  },
  {
   "cell_type": "code",
   "execution_count": 18,
   "metadata": {
    "collapsed": false,
    "deletable": true,
    "editable": true
   },
   "outputs": [],
   "source": [
    "x    = [idata['run']            for idata in data_cut]\n",
    "y    = [idata['zfit'].values[1] for idata in data_cut]\n",
    "ey   = [idata['zfit'].errors[1] for idata in data_cut]\n",
    "chi2 = [idata['zfit'].chi2      for idata in data_cut]\n",
    "n    = [len(idata['XR'])        for idata in data_cut]"
   ]
  },
  {
   "cell_type": "code",
   "execution_count": 19,
   "metadata": {
    "collapsed": false,
    "deletable": true,
    "editable": true
   },
   "outputs": [
    {
     "data": {
      "text/plain": [
       "['3740',\n",
       " '3752',\n",
       " '3755',\n",
       " '3757',\n",
       " '3761',\n",
       " '3768',\n",
       " '3770',\n",
       " '3773',\n",
       " '3783',\n",
       " '3787',\n",
       " '3789',\n",
       " '3791',\n",
       " '3794',\n",
       " '3890']"
      ]
     },
     "execution_count": 19,
     "metadata": {},
     "output_type": "execute_result"
    }
   ],
   "source": [
    "x"
   ]
  },
  {
   "cell_type": "code",
   "execution_count": null,
   "metadata": {
    "collapsed": true,
    "deletable": true,
    "editable": true
   },
   "outputs": [],
   "source": []
  },
  {
   "cell_type": "code",
   "execution_count": 20,
   "metadata": {
    "collapsed": false,
    "deletable": true,
    "editable": true
   },
   "outputs": [
    {
     "data": {
      "image/png": "[encoded data removed]",
      "text/plain": [
       "<matplotlib.figure.Figure at 0x7fef9686dc50>"
      ]
     },
     "metadata": {},
     "output_type": "display_data"
    },
    {
     "data": {
      "image/png": "[encoded data removed]",
      "text/plain": [
       "<matplotlib.figure.Figure at 0x7fef9aa96ef0>"
      ]
     },
     "metadata": {},
     "output_type": "display_data"
    }
   ],
   "source": [
    "eyn = np.array(ey)\n",
    "a = plt.errorbar(range(len(x)),abs(np.array(y)),eyn)\n",
    "plt.xticks(range(len(x)),x,rotation='vertical')\n",
    "plt.show()\n",
    "\n",
    "plt.plot(range(len(x)), chi2)\n",
    "plt.xticks(range(len(x)),x,rotation='vertical')\n",
    "\n",
    "plt.plot(range(len(x)), np.array(n)/100)\n",
    "#plt.xticks(range(len(x)),x,rotation='vertical')\n",
    "plt.show()"
   ]
  },
  {
   "cell_type": "code",
   "execution_count": null,
   "metadata": {
    "collapsed": true,
    "deletable": true,
    "editable": true
   },
   "outputs": [],
   "source": []
  },
  {
   "cell_type": "code",
   "execution_count": 21,
   "metadata": {
    "collapsed": false,
    "deletable": true,
    "editable": true
   },
   "outputs": [
    {
     "ename": "NameError",
     "evalue": "name 'runs' is not defined",
     "output_type": "error",
     "traceback": [
      "\u001b[0;31m---------------------------------------------------------------------------\u001b[0m",
      "\u001b[0;31mNameError\u001b[0m                                 Traceback (most recent call last)",
      "\u001b[0;32m<ipython-input-21-39dcb551e756>\u001b[0m in \u001b[0;36m<module>\u001b[0;34m()\u001b[0m\n\u001b[1;32m      4\u001b[0m \u001b[0;34m\u001b[0m\u001b[0m\n\u001b[1;32m      5\u001b[0m \u001b[0;32mfor\u001b[0m \u001b[0mi\u001b[0m \u001b[0;32min\u001b[0m \u001b[0mrange\u001b[0m\u001b[0;34m(\u001b[0m\u001b[0mlen\u001b[0m\u001b[0;34m(\u001b[0m\u001b[0mx\u001b[0m\u001b[0;34m)\u001b[0m\u001b[0;34m)\u001b[0m\u001b[0;34m:\u001b[0m\u001b[0;34m\u001b[0m\u001b[0m\n\u001b[0;32m----> 6\u001b[0;31m     \u001b[0;32mfor\u001b[0m \u001b[0mj\u001b[0m \u001b[0;32min\u001b[0m \u001b[0mrange\u001b[0m\u001b[0;34m(\u001b[0m\u001b[0mlen\u001b[0m\u001b[0;34m(\u001b[0m\u001b[0mruns\u001b[0m\u001b[0;34m)\u001b[0m\u001b[0;34m)\u001b[0m\u001b[0;34m:\u001b[0m\u001b[0;34m\u001b[0m\u001b[0m\n\u001b[0m\u001b[1;32m      7\u001b[0m         \u001b[0;32mif\u001b[0m \u001b[0mx\u001b[0m\u001b[0;34m[\u001b[0m\u001b[0mi\u001b[0m\u001b[0;34m]\u001b[0m\u001b[0;34m==\u001b[0m\u001b[0mruns\u001b[0m\u001b[0;34m[\u001b[0m\u001b[0mj\u001b[0m\u001b[0;34m]\u001b[0m\u001b[0;34m-\u001b[0m\u001b[0;36m1\u001b[0m\u001b[0;34m:\u001b[0m\u001b[0;34m\u001b[0m\u001b[0m\n\u001b[1;32m      8\u001b[0m             \u001b[0mxi\u001b[0m\u001b[0;34m.\u001b[0m\u001b[0mappend\u001b[0m\u001b[0;34m(\u001b[0m\u001b[0;34m)\u001b[0m\u001b[0;34m\u001b[0m\u001b[0m\n",
      "\u001b[0;31mNameError\u001b[0m: name 'runs' is not defined"
     ]
    }
   ],
   "source": [
    "xi = []\n",
    "yi = []\n",
    "\n",
    "\n",
    "for i in range(len(x)):\n",
    "    for j in range(len(runs)):\n",
    "        if x[i]==runs[j]-1:\n",
    "            xi.append()\n",
    "            yi = []\n"
   ]
  },
  {
   "cell_type": "code",
   "execution_count": null,
   "metadata": {
    "collapsed": false,
    "deletable": true,
    "editable": true
   },
   "outputs": [],
   "source": [
    "runs= [3645, 3715, 3724, 3733, 3741, 3753, 3756, 3758, 3762, 3767, 3769, 3772,\n",
    "       3774, 3782, 3784, 3788, 3790, 3793, 3795, 3822, 3824, 3826, 3829]\n",
    "\n",
    "lifetimes = [474.41099311946277,  504.15251919578071, 519.30917837870686, 518.02811413069685, 532.97159910798757,\n",
    "              415.51195316787062, 397.45427486981401, 428.51794570076862, 515.50856117526359, 422.80059055577334,\n",
    "              518.02083320905024, 419.97646149139285, 429.75838777926833, 521.83297156881144, 469.21745429222761,\n",
    "              463.826604058616, 461.06619446987372, 500.6616657051581, 540.39746211228908, 549.07810091024749,\n",
    "              544.57593904287273, 543.26890350017925, 548.4509769880807]\n",
    "\n",
    "elambdas = [0.45610521129754389, 0.39496148002734938, 7.1924391956263989, 6.3141707641315312, 4.5069070673219533,\n",
    "             0.54717654845191099, 1.6326697526988669, 0.58043603501794649, 2.1244323267837881, 0.28654390913506583,\n",
    "             3.822902769037376, 3.650949171398798, 1.5991794319982626, 4.2184333670711194, 0.2673803059344585,\n",
    "            15.249539113903822, 11.22508358475883, 5.9907961163047405, 1.9609900515946075, 10.630602475189789,\n",
    "             15.572425132253926, 10.651666662207665, 2.6543080579975458]\n",
    "\n",
    "\n",
    "eyn = np.array(ey)\n",
    "xn  = np.array(x,dtype=np.float)\n",
    "yn  = abs(np.array(y))\n",
    "a = plt.errorbar(xn,yn,eyn)\n",
    "b = plt.errorbar(runs,lifetimes,elambdas)\n",
    "\n",
    "locs, labels = plt.xticks()\n",
    "plt.legend([\"Na22 XR\", \"alphas\"], loc=2)\n",
    "plt.setp(labels, rotation=90)\n",
    "plt.show()\n",
    "\n"
   ]
  },
  {
   "cell_type": "code",
   "execution_count": null,
   "metadata": {
    "collapsed": true,
    "deletable": true,
    "editable": true
   },
   "outputs": [],
   "source": []
  },
  {
   "cell_type": "code",
   "execution_count": null,
   "metadata": {
    "collapsed": false,
    "deletable": true,
    "editable": true,
    "scrolled": false
   },
   "outputs": [],
   "source": [
    "def get_tcorr(tfun, tmin):\n",
    "    def tcorr(t):\n",
    "        return tfun(tmin)/tfun(t)\n",
    "    return tcorr\n",
    "\n",
    "for run in data_cut:\n",
    "    data_        = run['Full']\n",
    "    E            = data_.S2e * run['zcorr'](data_.Z) #* xycorr(data_.X.values, data_.Y.values)\n",
    "    time         = data_.time.values\n",
    "    time        -= np.min(time)\n",
    "    \n",
    "    hist2d(time, E,[100,100],[[min(time),max(time)],[0,2e5]]);\n",
    "    \n",
    "    x, y, _      = fitf.profileX(time,E, 30, xrange = (min(time),max(time)), yrange=[1.1e5,2e5])\n",
    "    f            = fitf.fit(fitf.polynom, x, y, (6000,-200,1,2,3,1,2,3,5))\n",
    "    \n",
    "    plt.plot(x, f.fn(x), fitOpt)\n",
    "    #print(f.values,f.errors)\n",
    "\n",
    "    plt.plot(x, y, profOpt, linewidth=3)\n",
    "    #labels(\"time (s)\", \"Energy (pes)\")\n",
    "    \n",
    "    run['tcorr'] = get_tcorr(f.fn, np.min(x))"
   ]
  },
  {
   "cell_type": "code",
   "execution_count": null,
   "metadata": {
    "collapsed": true,
    "deletable": true,
    "editable": true
   },
   "outputs": [],
   "source": [
    "data_cut_corr = deepcopy(data_cut)\n",
    "for idata in data_cut_corr:\n",
    "    data_1            = idata[\"XR\"]\n",
    "    time              = data_1.time\n",
    "    time              = time-np.min(time)\n",
    "    idata[\"XR\"].S2e   = data_1.S2e * idata[\"zcorr\"](data_1.Z) * idata[\"tcorr\"](time) \n",
    "    data_2            = idata[\"Full\"]\n",
    "    time              = data_2.time\n",
    "    time              = time-np.min(time)\n",
    "    idata[\"Full\"].S2e = data_2.S2e * idata[\"zcorr\"](data_2.Z) * idata[\"tcorr\"](time) "
   ]
  },
  {
   "cell_type": "code",
   "execution_count": null,
   "metadata": {
    "collapsed": false,
    "deletable": true,
    "editable": true,
    "scrolled": true
   },
   "outputs": [],
   "source": [
    "for idata in data_cut_corr:\n",
    "    data_             = idata[\"XR\"]\n",
    "    data_             = data_[(data_.R<180)]\n",
    "    entries, xbins, _ = hist(data_.S2e,50,[2e3,11e3])\n",
    "    xbins             = get_centers(xbins)\n",
    "    selbins           = fitf.in_range(xbins,5000, 12000)\n",
    "\n",
    "\n",
    "    f               = fitf.fit(two_gauss, xbins[selbins], entries[selbins],( 9e4, 7000, 500, 9e4, 8050, 500, 10),\n",
    "                                                                  bounds= ([ 1e4, 6000, 100, 0.1e4, 8000, 100, 0],\n",
    "                                                                          [ 10e6, 8500, 700,10e5, 100000,600, 300] ))\n",
    "    mean, sigma     = f.values[1], f.values[2]\n",
    "    res             = 2.355*sigma/mean\n",
    "    print(f.values)\n",
    "    print('res',res,(30/2458)**0.5*res)\n",
    "\n",
    "    text = \"\\n\".join([\"{} = {:.4g} $\\pm$ {:.2g}\".format(name, val, err)\n",
    "                      for name, val, err in zip(\"A $\\mu$ $\\sigma$\".split(),\n",
    "                                                f.values,\n",
    "                                                f.errors)] + \n",
    "                     [\"$\\chi^2$/ndof = {:.2f}\".format(f.chi2)])\n",
    "    text += \"\\n\\n Res={:.2f} % \\n Res(Qbb)={:.2f}% \".format(res*100, (30/2458)**0.5*res*100)\n",
    "\n",
    "    xrange = np.linspace(np.min(xbins), np.max(xbins),1000)\n",
    "    \n",
    "    plt.text(np.min(xbins), np.mean(entries), text, fontsize=15);\n",
    "    plt.plot(xrange, fitf.gauss(xrange, *f.values[:3]), \"b-\")\n",
    "    plt.plot(xrange, fitf.gauss(xrange, *f.values[3:-1]))\n",
    "    plt.plot(xrange, f.values[-1]*np.ones_like(xrange))\n",
    "    plt.plot(xrange, f.fn(xrange), fitOpt)\n",
    "    #labels(\"Event energy (pes)\", \"Entries\")\n",
    "    \n",
    "    idata['mean_corr'] = f.values[1]"
   ]
  },
  {
   "cell_type": "code",
   "execution_count": null,
   "metadata": {
    "collapsed": false,
    "deletable": true,
    "editable": true
   },
   "outputs": [],
   "source": [
    "data_cut_corr[-1][\"mean_corr\"]"
   ]
  },
  {
   "cell_type": "code",
   "execution_count": null,
   "metadata": {
    "collapsed": true,
    "deletable": true,
    "editable": true
   },
   "outputs": [],
   "source": [
    "for idata in data_cut_corr:\n",
    "    data_1      = idata[\"XR\"]\n",
    "    data_1.S2e *=  8000./idata[\"mean_corr\"]\n",
    "    data_2      = idata[\"Full\"]\n",
    "    data_2.S2e *=  8000./idata[\"mean_corr\"]       "
   ]
  },
  {
   "cell_type": "code",
   "execution_count": null,
   "metadata": {
    "collapsed": false,
    "deletable": true,
    "editable": true
   },
   "outputs": [],
   "source": [
    "for idata in data_cut_corr: \n",
    "    plt.hist(idata[\"XR\"].S2e, 100, [0, 12e3], alpha=0.5)\n",
    "plt.legend([run[\"run\"] for run in data_cut_corr])\n",
    "\n",
    "plt.ticklabel_format(style='sci', axis='x', scilimits=(0,0))\n",
    "plt.show()"
   ]
  },
  {
   "cell_type": "code",
   "execution_count": null,
   "metadata": {
    "collapsed": true,
    "deletable": true,
    "editable": true
   },
   "outputs": [],
   "source": [
    "data_sum_corr    = pd.concat(idata['Full'] for idata in data_cut_corr)\n",
    "data_sum_corr_XR = pd.concat(idata['XR'  ] for idata in data_cut_corr)"
   ]
  },
  {
   "cell_type": "code",
   "execution_count": null,
   "metadata": {
    "collapsed": false,
    "deletable": true,
    "editable": true
   },
   "outputs": [],
   "source": [
    "data_             = data_sum_corr_XR\n",
    "data_             = data_[(data_.R<180)&(data_.Z<150)]\n",
    "entries, xbins, _ = hist(data_.S2e,50,[2e3,11e3])\n",
    "xbins             = get_centers(xbins)\n",
    "selbins           = fitf.in_range(xbins,5000, 12000)\n",
    "\n",
    "\n",
    "f                = fitf.fit(two_gauss, xbins[selbins], entries[selbins],( 9e4, 7000, 500, 9e4, 8050, 500, 10),\n",
    "                                                              bounds= ([ 1e4, 6000, 100, 0.1e4, 8000, 100, 0],\n",
    "                                                                      [ 10e6, 8500, 700,10e5, 100000,600, 300] ))\n",
    "mean, sigma      = f.values[1], f.values[2]\n",
    "res              = 2.355*sigma/mean\n",
    "print(f.values)\n",
    "print('res',res,(30/2458)**0.5*res)\n",
    "\n",
    "text = \"\\n\".join([\"{} = {:.4g} $\\pm$ {:.2g}\".format(name, val, err)\n",
    "                  for name, val, err in zip(\"A $\\mu$ $\\sigma$\".split(),\n",
    "                                            f.values,\n",
    "                                            f.errors)] + \n",
    "                 [\"$\\chi^2$/ndof = {:.2f}\".format(f.chi2)])\n",
    "text += \"\\n\\n Res={:.2f} % \\n Res(Qbb)={:.2f}% \".format(res*100, (30/2458)**0.5*res*100)\n",
    "\n",
    "xrange = np.linspace(np.min(xbins), np.max(xbins),1000)\n",
    "\n",
    "plt.text(np.min(xbins), np.mean(entries), text, fontsize=15);\n",
    "plt.plot(xrange, fitf.gauss(xrange, *f.values[:3]), \"b-\")\n",
    "plt.plot(xrange, fitf.gauss(xrange, *f.values[3:-1]))\n",
    "plt.plot(xrange, f.values[-1]*np.ones_like(xrange))\n",
    "plt.plot(xrange, f.fn(xrange), fitOpt)\n",
    "#labels(\"Event energy (pes)\", \"Entries\")"
   ]
  },
  {
   "cell_type": "code",
   "execution_count": null,
   "metadata": {
    "collapsed": false,
    "deletable": true,
    "editable": true
   },
   "outputs": [],
   "source": [
    "xrange = -215, 215\n",
    "yrange = -215, 215\n",
    "rrange =    0, 250\n",
    "prange = - pi,  pi\n",
    "Erange =  2e3, 12e3\n",
    "nbin = 25\n",
    "\n",
    "#data = filt_XR[filt_XR.Z<150][:]\n",
    "data = data_sum_corr_XR\n",
    "data = data[(data.Z<150)&(data.R<180)][:]\n",
    "Ez   = data.S2e \n",
    "\n",
    "\n",
    "pf, _, cb = profile_and_scatter(data.X, data.Y, Ez, (nbin, nbin), xrange=xrange, yrange=yrange)\n",
    "cb.set_label(\"E (pes)\")\n",
    "#labels(\"x (mm)\", \"y (mm)\")\n",
    "#save(\"EvsXY\")\n",
    "\"\"\"_, _, cb = profile_and_scatter(data.R, data.Phi, Ez, (nbin, nbin), xrange=rrange, yrange=prange)\n",
    "cb.set_label(\"E (pes)\")\n",
    "labels(\"r (mm)\", \"$\\phi$ (rad)\")\n",
    "#save(\"EvsRPhi\")\n",
    "\"\"\"\n",
    "\n",
    "hist2d(data.R, Ez, (nbin, nbin), range=(rrange, Erange), weights=Ez)\n",
    "x, y, _ = fitf.profileX(data.R, Ez, nbin, xrange=rrange, yrange=Erange)\n",
    "plt.plot(x, y, profOpt)\n",
    "#labels(\"r (mm)\", \"S2 energy (pes)\")\n",
    "#save(\"EvsR\")\n",
    "\n",
    "hist2d(data.Phi, Ez, (nbin, nbin), range=(prange, Erange), weights=Ez)\n",
    "x, y, _ = fitf.profileX(data.Phi, Ez, nbin, xrange=prange, yrange=Erange)\n",
    "plt.plot(x, y, profOpt)\n",
    "#labels(\"phi (rad)\", \"S2 energy (pes)\")\n",
    "#save(\"EvsPhi\")\n",
    "\n",
    "'''\n",
    "np.savetxt('xycorr_xs_3614.dat',np.array(pf[0]))\n",
    "np.savetxt('xycorr_ys_3614.dat',np.array(pf[1]))\n",
    "np.savetxt('xycorr_es_3614.dat',np.array(pf[2]))\n",
    "'''\n",
    "\n",
    "\n",
    "\n",
    "def get_xycorr(xs, ys, es, eref=None):\n",
    "    if eref is None:\n",
    "        eref = es[es.shape[0]//2, es.shape[1]//2]\n",
    "    xs   = xs.reshape(xs.size, 1)\n",
    "    ys   = ys.reshape(ys.size, 1)\n",
    "    print(eref)\n",
    "    def xycorr(x, y):\n",
    "        x_closest = np.apply_along_axis(np.argmin, 0, abs(x-xs))\n",
    "        y_closest = np.apply_along_axis(np.argmin, 0, abs(y-ys))\n",
    "        e = es[x_closest, y_closest]\n",
    "        e[e<1e3] = eref\n",
    "        return eref/ e\n",
    "    return xycorr\n",
    "xycorr = get_xycorr(*pf[:-1])"
   ]
  },
  {
   "cell_type": "code",
   "execution_count": null,
   "metadata": {
    "collapsed": false,
    "deletable": true,
    "editable": true
   },
   "outputs": [],
   "source": [
    "xrange = -215, 215\n",
    "yrange = -215, 215\n",
    "rrange =    0, 250\n",
    "prange = - pi,  pi\n",
    "Erange =  2e3, 12e3\n",
    "nbin = 100\n",
    "\n",
    "#data = filt_XR[filt_XR.Z<150][:]\n",
    "data = data_sum_corr_XR\n",
    "data = data[(data.Z<150)&(data.R<180)][:]\n",
    "Ez   = data.S2e * xycorr(data.X.values, data.Y.values)\n",
    "\n",
    "\n",
    "pf, _, cb = profile_and_scatter(data.X, data.Y, Ez, (nbin, nbin), xrange=xrange, yrange=yrange)\n",
    "cb.set_label(\"E (pes)\")\n",
    "labels(\"x (mm)\", \"y (mm)\")\n",
    "#save(\"EvsXY\")\n",
    "\n",
    "_, _, cb = profile_and_scatter(data.R, data.Phi, Ez, (nbin, nbin), xrange=rrange, yrange=prange)\n",
    "cb.set_label(\"E (pes)\")\n",
    "labels(\"r (mm)\", \"$\\phi$ (rad)\")\n",
    "#save(\"EvsRPhi\")\n",
    "\n",
    "hist2d(data.R, Ez, (nbin, nbin), range=(rrange, Erange), weights=Ez)\n",
    "x, y, _ = fitf.profileX(data.R, Ez, nbin, xrange=rrange, yrange=Erange)\n",
    "plt.plot(x, y, profOpt)\n",
    "labels(\"r (mm)\", \"S2 energy (pes)\")\n",
    "#save(\"EvsR\")\n",
    "\n",
    "hist2d(data.Phi, Ez, (nbin, nbin), range=(prange, Erange), weights=Ez)\n",
    "x, y, _ = fitf.profileX(data.Phi, Ez, nbin, xrange=prange, yrange=Erange)\n",
    "plt.plot(x, y, profOpt)\n",
    "labels(\"phi (rad)\", \"S2 energy (pes)\")\n",
    "#save(\"EvsPhi\")"
   ]
  },
  {
   "cell_type": "code",
   "execution_count": null,
   "metadata": {
    "collapsed": false,
    "deletable": true,
    "editable": true
   },
   "outputs": [],
   "source": [
    "data_             = data_sum_corr_XR\n",
    "data_             = data_[(data_.R<100)&(data_.Z<150)]\n",
    "E                 = data_.S2e * xycorr(data_.X.values, data_.Y.values)\n",
    "entries, xbins, _ = hist(E,50,[2e3,13e3])\n",
    "xbins             = get_centers(xbins)\n",
    "selbins           = fitf.in_range(xbins,5000, 13000)\n",
    "\n",
    "\n",
    "f                = fitf.fit(two_gauss, xbins[selbins], entries[selbins],( 9e4, 7000, 500, 9e4, 9050, 500, 10),\n",
    "                                                              bounds= ([ 1e4, 6000, 100, 0.1e4, 8000, 100, 0],\n",
    "                                                                      [ 10e6, 8500, 500,10e5, 100000,600, 300] ))\n",
    "mean, sigma      = f.values[1], f.values[2]\n",
    "res              = 2.355*sigma/mean\n",
    "print(f.values)\n",
    "print('res',res,(30/2458)**0.5*res)\n",
    "\n",
    "text = \"\\n\".join([\"{} = {:.4g} $\\pm$ {:.2g}\".format(name, val, err)\n",
    "                  for name, val, err in zip(\"A $\\mu$ $\\sigma$\".split(),\n",
    "                                            f.values,\n",
    "                                            f.errors)] + \n",
    "                 [\"$\\chi^2$/ndof = {:.2f}\".format(f.chi2)])\n",
    "text += \"\\n\\n Res={:.2f} % \\n Res(Qbb)={:.2f}% \".format(res*100, (30/2458)**0.5*res*100)\n",
    "\n",
    "xrange = np.linspace(np.min(xbins), np.max(xbins),1000)\n",
    "\n",
    "plt.text(np.min(xbins), np.mean(entries), text, fontsize=15);\n",
    "plt.plot(xrange, fitf.gauss(xrange, *f.values[:3]), \"b-\")\n",
    "plt.plot(xrange, fitf.gauss(xrange, *f.values[3:-1]))\n",
    "plt.plot(xrange, f.values[-1]*np.ones_like(xrange))\n",
    "plt.plot(xrange, f.fn(xrange), fitOpt)\n",
    "#labels(\"Event energy (pes)\", \"Entries\")"
   ]
  },
  {
   "cell_type": "code",
   "execution_count": null,
   "metadata": {
    "collapsed": false,
    "deletable": true,
    "editable": true
   },
   "outputs": [],
   "source": [
    "data_             = data_sum_corr_XR\n",
    "data_             = data_[(data_.R<100)&(data_.Z<150)]\n",
    "E                 = data_.S2e * xycorr(data_.X.values, data_.Y.values)\n",
    "entries, xbins, _ = hist(E,50,[2e3,12e3])\n",
    "xbins             = get_centers(xbins)\n",
    "selbins           = fitf.in_range(xbins,5000, 12000)\n",
    "\n",
    "\n",
    "f                = fitf.fit(two_gauss, xbins[selbins], entries[selbins],( 9e4, 7000, 500, 9e4, 8050, 500, 10),\n",
    "                                                              bounds= ([ 1e4, 6000, 100, 0.1e4, 8000, 100, 0],\n",
    "                                                                      [ 10e6, 8500, 700,10e5, 100000,1000, 300] ))\n",
    "mean, sigma      = f.values[1], f.values[2]\n",
    "res              = 2.355*sigma/mean\n",
    "print(f.values)\n",
    "print('res',res,(30/2458)**0.5*res)\n",
    "\n",
    "text = \"\\n\".join([\"{} = {:.4g} $\\pm$ {:.2g}\".format(name, val, err)\n",
    "                  for name, val, err in zip(\"A $\\mu$ $\\sigma$\".split(),\n",
    "                                            f.values,\n",
    "                                            f.errors)] + \n",
    "                 [\"$\\chi^2$/ndof = {:.2f}\".format(f.chi2)])\n",
    "text += \"\\n\\n Res={:.2f} % \\n Res(Qbb)={:.2f}% \".format(res*100, (30/2458)**0.5*res*100)\n",
    "\n",
    "xrange = np.linspace(np.min(xbins), np.max(xbins),1000)\n",
    "\n",
    "plt.text(np.min(xbins), np.mean(entries), text, fontsize=15);\n",
    "plt.plot(xrange, fitf.gauss(xrange, *f.values[:3]), \"b-\")\n",
    "plt.plot(xrange, fitf.gauss(xrange, *f.values[3:-1]))\n",
    "plt.plot(xrange, f.values[-1]*np.ones_like(xrange))\n",
    "plt.plot(xrange, f.fn(xrange), fitOpt)\n",
    "labels(\"Event energy (pes)\", \"Entries\")"
   ]
  },
  {
   "cell_type": "code",
   "execution_count": null,
   "metadata": {
    "collapsed": false,
    "deletable": true,
    "editable": true,
    "scrolled": true
   },
   "outputs": [],
   "source": [
    "R_list = np.linspace(50,200,75)\n",
    "res_list = []\n",
    "\n",
    "for Rcut in R_list:\n",
    "\n",
    "    data_             = data_sum_corr_XR\n",
    "    data_             = data_[(data_.R<Rcut)&(data_.Z<150)]\n",
    "    Ez_               = data_.S2e * xycorr(data_.X.values, data_.Y.values)\n",
    "\n",
    "    entries, xbins, _ = hist(Ez_, 50, range=(2e3, 12e3))\n",
    "    xbins    = get_centers(xbins)\n",
    "    selbins  = fitf.in_range(xbins, 5e3, 12e3)\n",
    "\n",
    "\n",
    "    f = fitf.fit(two_gauss, xbins[selbins], entries[selbins],( 9e4, 7000, 500, 9e4, 9230, 500, 10),\n",
    "                                                    bounds= ([ 1e4, 6000, 100, 0.1e4, 8500, 0.00, 0],\n",
    "                                                             [ 10e6, 8500, 700,10e5, 150000,600, 300] ))\n",
    "    mean, sigma = f.values[1], f.values[2]\n",
    "    res = 2.355*sigma/mean*(29.6/2458)**0.5*100\n",
    "    res_list.append(res)\n",
    "    \n",
    "    xrange = np.linspace(4e3, 11e3,1000)\n",
    "\n",
    "    #plt.text(min(xbins)-100, 200, text, fontsize=15);\n",
    "    plt.plot(xrange, fitf.gauss(xrange, *f.values[:3]), \"r-\", linewidth=2)\n",
    "    plt.plot(xrange, fitf.gauss(xrange, *f.values[3:-1]), linewidth=2)\n",
    "    plt.plot(xrange, f.values[-1]*np.ones_like(xrange), linewidth=2)\n",
    "    plt.plot(xrange, f.fn(xrange), \"k-\", linewidth=2)\n",
    "    \n",
    "    print(f.values)"
   ]
  },
  {
   "cell_type": "code",
   "execution_count": null,
   "metadata": {
    "collapsed": false,
    "deletable": true,
    "editable": true
   },
   "outputs": [],
   "source": [
    "plt.plot(R_list,res_list)\n",
    "#labels(\"R cut\",\"res\")\n",
    "#save(\"res ver R cut\")"
   ]
  },
  {
   "cell_type": "code",
   "execution_count": null,
   "metadata": {
    "collapsed": true,
    "deletable": true,
    "editable": true
   },
   "outputs": [],
   "source": []
  },
  {
   "cell_type": "code",
   "execution_count": null,
   "metadata": {
    "collapsed": true,
    "deletable": true,
    "editable": true
   },
   "outputs": [],
   "source": []
  },
  {
   "cell_type": "code",
   "execution_count": null,
   "metadata": {
    "collapsed": true,
    "deletable": true,
    "editable": true
   },
   "outputs": [],
   "source": []
  },
  {
   "cell_type": "code",
   "execution_count": null,
   "metadata": {
    "collapsed": false,
    "deletable": true,
    "editable": true
   },
   "outputs": [],
   "source": [
    "data_ = data_sum_corr[(data_sum_corr.R<180)&(data_sum_corr.nS2 ==1)]\n",
    "E = data_.S2e * xycorr(data_.X.values, data_.Y.values)\n",
    "\n",
    "entries, xbins, _ = hist(E, 50, range=(0.80e5, 1.8e5))\n",
    "xbins    = get_centers(xbins)\n",
    "selbins  = fitf.in_range(xbins, 1.3e5, 1.8e5)\n",
    "\n",
    "\n",
    "f = fitf.fit(one_gauss, xbins[selbins], entries[selbins],( 9e4 , 1.3e5, 5000, 10),\n",
    "                                                 bounds=([ 1e4 , 1.0e5, 1000,  0],\n",
    "                                                         [ 10e7, 1.6e5, 10000, 300] ))\n",
    "mean, sigma = f.values[1], f.values[2]\n",
    "res = 2.355*sigma/mean\n",
    "print(f.values)\n",
    "print('res',res,(511/2458)**0.5*res)\n",
    "\n",
    "text = \"\\n\".join([\"{} = {:.4g} $\\pm$ {:.2g}\".format(name, val, err)\n",
    "                  for name, val, err in zip(\"A $\\mu$ $\\sigma$\".split(),\n",
    "                                            f.values,\n",
    "                                            f.errors)] + \n",
    "                 [\"$\\chi^2$/ndof = {:.2f}\".format(f.chi2)])\n",
    "text += \"\\n\\n Res={:.2f} % \\n Res(Qbb)={:.2f}% \".format(res*100, (511/2458)**0.5*res*100)\n",
    "\n",
    "\n",
    "xrange = np.linspace(np.min(xbins), np.max(xbins),1000)\n",
    "plt.text(np.min(xbins), np.mean(entries), text, fontsize=15);\n",
    "plt.plot(xrange, fitf.gauss(xrange, *f.values[:3]), \"b-\")\n",
    "plt.plot(xrange, f.values[-1]*np.ones_like(xrange))\n",
    "plt.plot(xrange, f.fn(xrange), fitOpt)\n",
    "plt.ticklabel_format(style='sci', axis='x', scilimits=(0,0))"
   ]
  },
  {
   "cell_type": "code",
   "execution_count": null,
   "metadata": {
    "collapsed": true,
    "deletable": true,
    "editable": true
   },
   "outputs": [],
   "source": []
  },
  {
   "cell_type": "code",
   "execution_count": null,
   "metadata": {
    "collapsed": false,
    "deletable": true,
    "editable": true,
    "scrolled": true
   },
   "outputs": [],
   "source": [
    "R_list = np.linspace(50,200,75)\n",
    "res_list = []\n",
    "\n",
    "for Rcut in R_list:\n",
    "\n",
    "    data_ = data_sum_corr[(data_sum_corr.R<Rcut)&(data_sum_corr.nS2 ==1)]\n",
    "    E = data_.S2e * xycorr(data_.X.values, data_.Y.values)\n",
    "\n",
    "    entries, xbins, _ = hist(E, 50, range=(0.80e5, 1.8e5))\n",
    "    xbins    = get_centers(xbins)\n",
    "    selbins  = fitf.in_range(xbins, 1.3e5, 1.8e5)\n",
    "\n",
    "\n",
    "    f = fitf.fit(one_gauss, xbins[selbins], entries[selbins],( 9e4 , 1.3e5, 5000, 10),\n",
    "                                                     bounds=([ 1e4 , 1.0e5, 1000,  0],\n",
    "                                                         [ 10e7, 1.6e5, 10000, 300] ))\n",
    "\n",
    "\n",
    "    mean, sigma = f.values[1], f.values[2]\n",
    "    res = 2.355*sigma/mean*(511/2458)**0.5*100\n",
    "    res_list.append(res)\n",
    "    \n",
    "    xrange = np.linspace(xbins[0], xbins[-1],1000)\n",
    "\n",
    "    #plt.text(min(xbins)-100, 200, text, fontsize=15);\n",
    "    plt.plot(xrange, fitf.gauss(xrange, *f.values[:3]), \"r-\", linewidth=2)\n",
    "    plt.plot(xrange, f.values[-1]*np.ones_like(xrange), linewidth=2)\n",
    "    plt.plot(xrange, f.fn(xrange), \"k-\", linewidth=2)\n",
    "    \n",
    "    print(f.values)"
   ]
  },
  {
   "cell_type": "code",
   "execution_count": null,
   "metadata": {
    "collapsed": false,
    "deletable": true,
    "editable": true
   },
   "outputs": [],
   "source": [
    "plt.plot(R_list,res_list)\n",
    "#labels(\"R cut\",\"res\")\n",
    "#save(\"res ver R cut\")"
   ]
  },
  {
   "cell_type": "code",
   "execution_count": null,
   "metadata": {
    "collapsed": true,
    "deletable": true,
    "editable": true
   },
   "outputs": [],
   "source": []
  },
  {
   "cell_type": "code",
   "execution_count": null,
   "metadata": {
    "collapsed": false,
    "deletable": true,
    "editable": true,
    "scrolled": false
   },
   "outputs": [],
   "source": [
    "data_ = data_sum_corr[(data_sum_corr.R<180)&(data_sum_corr.nS2 ==1)]\n",
    "E = data_.S2e * xycorr_50(data_.X.values, data_.Y.values)\n",
    "\n",
    "hist2d(data_.Z,E,[100,100],[[100,250],[1.25e5, 1.6e5]]);\n",
    "hist2d(data_.X,E,[100,100],[[-215,215],[1.25e5, 2e5]]);\n",
    "hist2d(data_.Y,E,[100,100],[[-215,215],[1.25e5, 2e5]]);\n",
    "hist2d(data_.R,E,[100,100],[[0,250],[1.25e5, 2e5]]);\n",
    "hist2d(data_.Phi,E,[100,100],[[-pi,pi],[1.25e5, 2e5]]);\n",
    "plt.ticklabel_format(style='sci', axis='x', scilimits=(0,0))"
   ]
  },
  {
   "cell_type": "code",
   "execution_count": null,
   "metadata": {
    "collapsed": true,
    "deletable": true,
    "editable": true
   },
   "outputs": [],
   "source": []
  },
  {
   "cell_type": "code",
   "execution_count": null,
   "metadata": {
    "collapsed": false,
    "deletable": true,
    "editable": true
   },
   "outputs": [],
   "source": [
    "xrange =   -215, 215\n",
    "yrange =   -215, 215\n",
    "rrange =      0, 250\n",
    "prange =   - pi,  pi\n",
    "Erange =  1.3e5, 1.6e5\n",
    "nbin = 25\n",
    "\n",
    "#data = filt_XR[filt_XR.Z<150][:]\n",
    "data = data_sum_corr\n",
    "data = data[(data.R<250)&(data_sum_corr.nS2 ==1)][:]\n",
    "Ez   = data.S2e * xycorr(data.X.values, data.Y.values)\n",
    "\n",
    "\n",
    "pf, _, cb = profile_and_scatter(data.X, data.Y, Ez, (nbin, nbin), xrange=xrange, yrange=yrange)\n",
    "cb.set_label(\"E (pes)\")\n",
    "labels(\"x (mm)\", \"y (mm)\")\n",
    "#save(\"EvsXY\")\n",
    "\n",
    "_, _, cb = profile_and_scatter(data.R, data.Phi, Ez, (nbin, nbin), xrange=rrange, yrange=prange)\n",
    "cb.set_label(\"E (pes)\")\n",
    "labels(\"r (mm)\", \"$\\phi$ (rad)\")\n",
    "#save(\"EvsRPhi\")\n",
    "\n",
    "hist2d(data.R, Ez, (nbin, nbin), range=(rrange, Erange), weights=Ez)\n",
    "x, y, _ = fitf.profileX(data.R, Ez, nbin, xrange=rrange, yrange=Erange)\n",
    "plt.plot(x, y, profOpt)\n",
    "labels(\"r (mm)\", \"S2 energy (pes)\")\n",
    "#save(\"EvsR\")\n",
    "\n",
    "hist2d(data.Phi, Ez, (nbin, nbin), range=(prange, Erange), weights=Ez)\n",
    "x, y, _ = fitf.profileX(data.Phi, Ez, nbin, xrange=prange, yrange=Erange)\n",
    "plt.plot(x, y, profOpt)\n",
    "labels(\"phi (rad)\", \"S2 energy (pes)\")\n",
    "#save(\"EvsPhi\")\n",
    "\n",
    "'''\n",
    "np.savetxt('xycorr_xs_3614.dat',np.array(pf[0]))\n",
    "np.savetxt('xycorr_ys_3614.dat',np.array(pf[1]))\n",
    "np.savetxt('xycorr_es_3614.dat',np.array(pf[2]))\n",
    "'''\n",
    "\n",
    "\n",
    "\n",
    "def get_xycorr(xs, ys, es, eref=None):\n",
    "    if eref is None:\n",
    "        eref = es[es.shape[0]//2, es.shape[1]//2]\n",
    "    xs   = xs.reshape(xs.size, 1)\n",
    "    ys   = ys.reshape(ys.size, 1)\n",
    "    print(eref)\n",
    "    def xycorr(x, y):\n",
    "        x_closest = np.apply_along_axis(np.argmin, 0, abs(x-xs))\n",
    "        y_closest = np.apply_along_axis(np.argmin, 0, abs(y-ys))\n",
    "        e = es[x_closest, y_closest]\n",
    "        e[e<1e3] = eref\n",
    "        return eref/ e\n",
    "    return xycorr\n",
    "xycorr_PP = get_xycorr(*pf[:-1])"
   ]
  },
  {
   "cell_type": "code",
   "execution_count": null,
   "metadata": {
    "collapsed": false,
    "deletable": true,
    "editable": true
   },
   "outputs": [],
   "source": [
    "xrange =   -215, 215\n",
    "yrange =   -215, 215\n",
    "rrange =      0, 250\n",
    "prange =   - pi,  pi\n",
    "Erange =  1.3e5, 1.6e5\n",
    "nbin = 25\n",
    "\n",
    "#data = filt_XR[filt_XR.Z<150][:]\n",
    "data = data_sum_corr\n",
    "data = data[(data.R<250)&(data_sum_corr.nS2 ==1)][:]\n",
    "Ez   = data.S2e * xycorr(data.X.values, data.Y.values)* xycorr_PP(data.X.values, data.Y.values)\n",
    "\n",
    "\n",
    "pf, _, cb = profile_and_scatter(data.X, data.Y, Ez, (nbin, nbin), xrange=xrange, yrange=yrange)\n",
    "cb.set_label(\"E (pes)\")\n",
    "labels(\"x (mm)\", \"y (mm)\")\n",
    "#save(\"EvsXY\")\n",
    "\n",
    "_, _, cb = profile_and_scatter(data.R, data.Phi, Ez, (nbin, nbin), xrange=rrange, yrange=prange)\n",
    "cb.set_label(\"E (pes)\")\n",
    "labels(\"r (mm)\", \"$\\phi$ (rad)\")\n",
    "#save(\"EvsRPhi\")\n",
    "\n",
    "hist2d(data.R, Ez, (nbin, nbin), range=(rrange, Erange), weights=Ez)\n",
    "x, y, _ = fitf.profileX(data.R, Ez, nbin, xrange=rrange, yrange=Erange)\n",
    "plt.plot(x, y, profOpt)\n",
    "labels(\"r (mm)\", \"S2 energy (pes)\")\n",
    "#save(\"EvsR\")\n",
    "\n",
    "hist2d(data.Phi, Ez, (nbin, nbin), range=(prange, Erange), weights=Ez)\n",
    "x, y, _ = fitf.profileX(data.Phi, Ez, nbin, xrange=prange, yrange=Erange)\n",
    "plt.plot(x, y, profOpt)\n",
    "labels(\"phi (rad)\", \"S2 energy (pes)\")\n",
    "#save(\"EvsPhi\")\n",
    "\n"
   ]
  },
  {
   "cell_type": "code",
   "execution_count": null,
   "metadata": {
    "collapsed": false,
    "deletable": true,
    "editable": true
   },
   "outputs": [],
   "source": [
    "data_ = data_sum_corr[(data_sum_corr.R<100)&(data_sum_corr.nS2 ==1)]\n",
    "E = data_.S2e * xycorr(data_.X.values, data_.Y.values) * xycorr_PP(data_.X.values, data_.Y.values) \n",
    "\n",
    "entries, xbins, _ = hist(E, 50, range=(0.80e5, 1.8e5))\n",
    "xbins    = get_centers(xbins)\n",
    "selbins  = fitf.in_range(xbins, 1.3e5, 1.8e5)\n",
    "\n",
    "\n",
    "f = fitf.fit(one_gauss, xbins[selbins], entries[selbins],( 9e4 , 1.3e5, 5000, 10),\n",
    "                                                 bounds=([ 1e4 , 1.0e5, 1000,  0],\n",
    "                                                         [ 10e7, 1.6e5, 10000, 300] ))\n",
    "mean, sigma = f.values[1], f.values[2]\n",
    "res = 2.355*sigma/mean\n",
    "print(f.values)\n",
    "print('res',res,(511/2458)**0.5*res)\n",
    "\n",
    "text = \"\\n\".join([\"{} = {:.4g} $\\pm$ {:.2g}\".format(name, val, err)\n",
    "                  for name, val, err in zip(\"A $\\mu$ $\\sigma$\".split(),\n",
    "                                            f.values,\n",
    "                                            f.errors)] + \n",
    "                 [\"$\\chi^2$/ndof = {:.2f}\".format(f.chi2)])\n",
    "text += \"\\n\\n Res={:.2f} % \\n Res(Qbb)={:.2f}% \".format(res*100, (511/2458)**0.5*res*100)\n",
    "\n",
    "\n",
    "xrange = np.linspace(np.min(xbins), np.max(xbins),1000)\n",
    "plt.text(np.min(xbins), np.mean(entries), text, fontsize=15);\n",
    "plt.plot(xrange, fitf.gauss(xrange, *f.values[:3]), \"b-\")\n",
    "plt.plot(xrange, f.values[-1]*np.ones_like(xrange))\n",
    "plt.plot(xrange, f.fn(xrange), fitOpt)\n",
    "plt.ticklabel_format(style='sci', axis='x', scilimits=(0,0))"
   ]
  },
  {
   "cell_type": "code",
   "execution_count": null,
   "metadata": {
    "collapsed": false,
    "deletable": true,
    "editable": true,
    "scrolled": false
   },
   "outputs": [],
   "source": [
    "data_ = data_sum_corr[(data_sum_corr.R<180)&(data_sum_corr.nS2 ==1)]\n",
    "E = data_.S2e * xycorr(data_.X.values, data_.Y.values) *xycorr_PP(data_.X.values, data_.Y.values)\n",
    "\n",
    "hist2d(data_.Z,E,[100,100],[[100,250],[1.25e5, 1.6e5]]);\n",
    "hist2d(data_.X,E,[100,100],[[-215,215],[1.25e5, 2e5]]);\n",
    "hist2d(data_.Y,E,[100,100],[[-215,215],[1.25e5, 2e5]]);\n",
    "hist2d(data_.R,E,[100,100],[[0,250],[1.25e5, 2e5]]);\n",
    "hist2d(data_.Phi,E,[100,100],[[-pi,pi],[1.25e5, 2e5]]);\n",
    "plt.ticklabel_format(style='sci', axis='x', scilimits=(0,0))"
   ]
  },
  {
   "cell_type": "code",
   "execution_count": null,
   "metadata": {
    "collapsed": false,
    "deletable": true,
    "editable": true
   },
   "outputs": [],
   "source": [
    "data_ = data_sum_corr[(data_sum_corr.R<180)&(data_sum_corr.nS2 ==1)]\n",
    "E = data_.S2e * xycorr(data_.X.values, data_.Y.values) \n",
    "hist2d(data_.X,E,[100,100],[[-215,215],[1.25e5, 1.6e5]]);\n",
    "x, y, _ = fitf.profileX(data_.X,E, 100, xrange=[-180, 180], yrange=[1.25e5,1.6e5])\n",
    "plt.plot(x, y, profOpt, linewidth=3)\n",
    "\n",
    "def get_xcorr(T, E):\n",
    "    eref = np.max(E)\n",
    "    def phicorr(t):\n",
    "        dt = np.abs(t[:, np.newaxis]-T)\n",
    "        return eref / E[np.apply_along_axis(np.argmin, 1, dt)]\n",
    "    return phicorr\n",
    "xcorr_PP = get_xcorr(x, y)"
   ]
  },
  {
   "cell_type": "code",
   "execution_count": null,
   "metadata": {
    "collapsed": false,
    "deletable": true,
    "editable": true
   },
   "outputs": [],
   "source": [
    "data_ = data_sum_corr[(data_sum_corr.R<180)&(data_sum_corr.nS2 ==1)]\n",
    "E = data_.S2e * xcorr_PP(data_.X.values) * xycorr(data_.X.values, data_.Y.values) * xcorr_PP(data_.X.values)\n",
    "hist2d(data_.Y,E,[100,100],[[-50,50],[1.25e5, 1.6e5]]);\n",
    "x, y, _ = fitf.profileX(data_.Y,E, 100, xrange=[-25, 25], yrange=[1.25e5,1.6e5])\n",
    "plt.plot(x, y, profOpt, linewidth=3)\n",
    "\n",
    "def get_xcorr(T, E):\n",
    "    eref = np.max(E)\n",
    "    def phicorr(t):\n",
    "        dt = np.abs(t[:, np.newaxis]-T)\n",
    "        return eref / E[np.apply_along_axis(np.argmin, 1, dt)]\n",
    "    return phicorr\n",
    "ycorr_PP = get_xcorr(x, y)\n",
    "ycorr_PP(np.array([0]))"
   ]
  },
  {
   "cell_type": "code",
   "execution_count": null,
   "metadata": {
    "collapsed": false,
    "deletable": true,
    "editable": true
   },
   "outputs": [],
   "source": [
    "data_ = data_sum_corr\n",
    "data_ = data_[(data_.R<180)&(data_.nS2 ==1)&(data_.Y>-50)&(data_.Y<50)]\n",
    "E = data_.S2e * xycorr(data_.X.values, data_.Y.values) * xcorr_PP(data_.X.values) * ycorr_PP(data_.Y.values)\n",
    "\n",
    "hist2d(data_.X,E,[100,100],[[-215,215],[1.25e5, 2e5]]);\n",
    "x, y, _ = fitf.profileX(data_.X,E, 100, xrange=[-180, 180], yrange=[1.3e5,1.55e5])\n",
    "plt.plot(x, y, profOpt, linewidth=3)\n",
    "\n",
    "hist2d(data_.Y,E,[100,100],[[-50,50],[1.25e5, 2e5]]);\n",
    "x, y, _ = fitf.profileX(data_.Y,E, 100, xrange=[-180, 180], yrange=[1.3e5,1.55e5])\n",
    "plt.plot(x, y, profOpt, linewidth=3)"
   ]
  },
  {
   "cell_type": "code",
   "execution_count": null,
   "metadata": {
    "collapsed": false,
    "deletable": true,
    "editable": true
   },
   "outputs": [],
   "source": [
    "data_ = data_sum_corr[(data_sum_corr.R<100)&(data_sum_corr.nS2 ==1)]\n",
    "E = data_.S2e * xycorr(data_.X.values, data_.Y.values) * xcorr_PP(data_.X.values)* ycorr_PP(data_.Y.values)\n",
    "\n",
    "entries, xbins, _ = hist(E, 50, range=(0.80e5, 1.8e5))\n",
    "xbins    = get_centers(xbins)\n",
    "selbins  = fitf.in_range(xbins, 1.4e5, 1.8e5)\n",
    "\n",
    "\n",
    "f = fitf.fit(one_gauss, xbins[selbins], entries[selbins],( 9e4 , 1.3e5, 5000, 10),\n",
    "                                                 bounds=([ 1e4 , 1.0e5, 1000,  0],\n",
    "                                                         [ 10e7, 1.6e5, 10000, 300] ))\n",
    "mean, sigma = f.values[1], f.values[2]\n",
    "res = 2.355*sigma/mean\n",
    "print(f.values)\n",
    "print('res',res,(511/2458)**0.5*res)\n",
    "\n",
    "text = \"\\n\".join([\"{} = {:.4g} $\\pm$ {:.2g}\".format(name, val, err)\n",
    "                  for name, val, err in zip(\"A $\\mu$ $\\sigma$\".split(),\n",
    "                                            f.values,\n",
    "                                            f.errors)] + \n",
    "                 [\"$\\chi^2$/ndof = {:.2f}\".format(f.chi2)])\n",
    "text += \"\\n\\n Res={:.2f} % \\n Res(Qbb)={:.2f}% \".format(res*100, (511/2458)**0.5*res*100)\n",
    "\n",
    "\n",
    "xrange = np.linspace(np.min(xbins), np.max(xbins),1000)\n",
    "plt.text(np.min(xbins), np.mean(entries), text, fontsize=15);\n",
    "plt.plot(xrange, fitf.gauss(xrange, *f.values[:3]), \"b-\")\n",
    "plt.plot(xrange, f.values[-1]*np.ones_like(xrange))\n",
    "plt.plot(xrange, f.fn(xrange), fitOpt)\n",
    "plt.ticklabel_format(style='sci', axis='x', scilimits=(0,0))"
   ]
  },
  {
   "cell_type": "code",
   "execution_count": null,
   "metadata": {
    "collapsed": false,
    "deletable": true,
    "editable": true
   },
   "outputs": [],
   "source": [
    "data_ = data_sum_corr[(data_sum_corr.R<100)&(data_sum_corr.nS2 ==1)]\n",
    "E = data_.S2e * xycorr(data_.X.values, data_.Y.values) * xycorr_PP(data_.X.values,data_.Y.values)\n",
    "\n",
    "entries, xbins, _ = hist(E, 50, range=(0.80e5, 1.8e5))\n",
    "xbins    = get_centers(xbins)\n",
    "selbins  = fitf.in_range(xbins, 1.3e5, 1.8e5)\n",
    "\n",
    "\n",
    "f = fitf.fit(one_gauss, xbins[selbins], entries[selbins],( 9e4 , 1.3e5, 5000, 10),\n",
    "                                                 bounds=([ 1e4 , 1.0e5, 1000,  0],\n",
    "                                                         [ 10e7, 1.6e5, 10000, 300] ))\n",
    "mean, sigma = f.values[1], f.values[2]\n",
    "res = 2.355*sigma/mean\n",
    "print(f.values)\n",
    "print('res',res,(511/2458)**0.5*res)\n",
    "\n",
    "text = \"\\n\".join([\"{} = {:.4g} $\\pm$ {:.2g}\".format(name, val, err)\n",
    "                  for name, val, err in zip(\"A $\\mu$ $\\sigma$\".split(),\n",
    "                                            f.values,\n",
    "                                            f.errors)] + \n",
    "                 [\"$\\chi^2$/ndof = {:.2f}\".format(f.chi2)])\n",
    "text += \"\\n\\n Res={:.2f} % \\n Res(Qbb)={:.2f}% \".format(res*100, (511/2458)**0.5*res*100)\n",
    "\n",
    "\n",
    "xrange = np.linspace(np.min(xbins), np.max(xbins),1000)\n",
    "plt.text(np.min(xbins), np.mean(entries), text, fontsize=15);\n",
    "plt.plot(xrange, fitf.gauss(xrange, *f.values[:3]), \"b-\")\n",
    "plt.plot(xrange, f.values[-1]*np.ones_like(xrange))\n",
    "plt.plot(xrange, f.fn(xrange), fitOpt)\n",
    "plt.ticklabel_format(style='sci', axis='x', scilimits=(0,0))"
   ]
  },
  {
   "cell_type": "code",
   "execution_count": null,
   "metadata": {
    "collapsed": false,
    "deletable": true,
    "editable": true,
    "scrolled": false
   },
   "outputs": [],
   "source": [
    "data_ = data_sum_corr[(data_sum_corr.R<180)&(data_sum_corr.nS2 ==1)]\n",
    "E = data_.S2e * xycorr(data_.X.values, data_.Y.values) *xcorr_PP(data_.X.values)\n",
    "\n",
    "hist2d(data_.Z,E,[100,100],[[100,250],[1.25e5, 1.6e5]]);\n",
    "hist2d(data_.X,E,[100,100],[[-215,215],[1.25e5, 2e5]]);\n",
    "hist2d(data_.Y,E,[100,100],[[-50,50],[1.25e5, 2e5]]);\n",
    "hist2d(data_.R,E,[100,100],[[0,250],[1.25e5, 2e5]]);\n",
    "hist2d(data_.Phi,E,[100,100],[[-pi,pi],[1.25e5, 2e5]]);\n",
    "plt.ticklabel_format(style='sci', axis='x', scilimits=(0,0))"
   ]
  },
  {
   "cell_type": "code",
   "execution_count": null,
   "metadata": {
    "collapsed": false,
    "deletable": true,
    "editable": true
   },
   "outputs": [],
   "source": [
    "data_ = data_sum_corr[(data_sum_corr.R<100)&(data_sum_corr.nS2 ==1)]\n",
    "E = data_.S2e * xycorr(data_.X.values, data_.Y.values) * xcorr_PP(data_.X.values) * ycorr_PP(data_.Y.values)\n",
    "\n",
    "entries, xbins, _ = hist(E, 50, range=(0.80e5, 1.8e5))\n",
    "xbins    = get_centers(xbins)\n",
    "selbins  = fitf.in_range(xbins, 1.3e5, 1.8e5)\n",
    "\n",
    "\n",
    "f = fitf.fit(one_gauss, xbins[selbins], entries[selbins],( 9e4 , 1.3e5, 5000, 10),\n",
    "                                                 bounds=([ 1e4 , 1.0e5, 1000,  0],\n",
    "                                                         [ 10e7, 1.6e5, 10000, 300] ))\n",
    "mean, sigma = f.values[1], f.values[2]\n",
    "res = 2.355*sigma/mean\n",
    "print(f.values)\n",
    "print('res',res,(511/2458)**0.5*res)\n",
    "\n",
    "text = \"\\n\".join([\"{} = {:.4g} $\\pm$ {:.2g}\".format(name, val, err)\n",
    "                  for name, val, err in zip(\"A $\\mu$ $\\sigma$\".split(),\n",
    "                                            f.values,\n",
    "                                            f.errors)] + \n",
    "                 [\"$\\chi^2$/ndof = {:.2f}\".format(f.chi2)])\n",
    "text += \"\\n\\n Res={:.2f} % \\n Res(Qbb)={:.2f}% \".format(res*100, (511/2458)**0.5*res*100)\n",
    "\n",
    "\n",
    "xrange = np.linspace(np.min(xbins), np.max(xbins),1000)\n",
    "plt.text(np.min(xbins), np.mean(entries), text, fontsize=15);\n",
    "plt.plot(xrange, fitf.gauss(xrange, *f.values[:3]), \"b-\")\n",
    "plt.plot(xrange, f.values[-1]*np.ones_like(xrange))\n",
    "plt.plot(xrange, f.fn(xrange), fitOpt)\n",
    "plt.ticklabel_format(style='sci', axis='x', scilimits=(0,0))"
   ]
  },
  {
   "cell_type": "code",
   "execution_count": null,
   "metadata": {
    "collapsed": true,
    "deletable": true,
    "editable": true
   },
   "outputs": [],
   "source": []
  },
  {
   "cell_type": "code",
   "execution_count": null,
   "metadata": {
    "collapsed": true,
    "deletable": true,
    "editable": true
   },
   "outputs": [],
   "source": []
  },
  {
   "cell_type": "code",
   "execution_count": null,
   "metadata": {
    "collapsed": true,
    "deletable": true,
    "editable": true
   },
   "outputs": [],
   "source": []
  },
  {
   "cell_type": "code",
   "execution_count": null,
   "metadata": {
    "collapsed": true,
    "deletable": true,
    "editable": true
   },
   "outputs": [],
   "source": []
  },
  {
   "cell_type": "code",
   "execution_count": null,
   "metadata": {
    "collapsed": false,
    "deletable": true,
    "editable": true,
    "scrolled": false
   },
   "outputs": [],
   "source": [
    "data_ = data_sum_corr[(data_sum_corr.R<180)&(data_sum_corr.nS2 ==1)]\n",
    "E = data_.S2e \n",
    "hist2d(data_.Z,E,[100,100],[[100,250],[1.25e5, 1.6e5]]);\n",
    "hist2d(data_.X,E,[100,100],[[-215,215],[1.0e5, 2e5]]);\n",
    "\n",
    "hist2d(data_.Y,E,[100,100],[[-50,50],[1.25e5, 2e5]]);\n",
    "hist2d(data_.R,E,[100,100],[[0,250],[1.25e5, 2e5]]);\n",
    "hist2d(data_.Phi,E,[100,100],[[-pi,pi],[1.25e5, 2e5]]);\n",
    "plt.ticklabel_format(style='sci', axis='x', scilimits=(0,0))"
   ]
  },
  {
   "cell_type": "code",
   "execution_count": null,
   "metadata": {
    "collapsed": false,
    "deletable": true,
    "editable": true
   },
   "outputs": [],
   "source": [
    "data_ = data_sum_corr[(data_sum_corr.R<180)&(data_sum_corr.nS2 ==1)]\n",
    "E = data_.S2e \n",
    "\n",
    "x, y, ey = fitf.profileX(data_.X,E,50,xrange=(-215,215),yrange=(1.0e5, 2e5))\n",
    "plt.errorbar(x,y,ey)\n",
    "plt.show()"
   ]
  },
  {
   "cell_type": "code",
   "execution_count": null,
   "metadata": {
    "collapsed": false,
    "deletable": true,
    "editable": true
   },
   "outputs": [],
   "source": [
    "data_ = data_sum_corr_XR\n",
    "data_ = data_[(data_.R<180)&(data_.Z<150)]\n",
    "E = data_.S2e \n",
    "\n",
    "x, y, ey = fitf.profileX(data_.X,E,30,xrange=(-215,215),yrange=(0.1e3, 12e3))\n",
    "plt.errorbar(x,y,ey)\n",
    "plt.show()"
   ]
  },
  {
   "cell_type": "code",
   "execution_count": null,
   "metadata": {
    "collapsed": true,
    "deletable": true,
    "editable": true
   },
   "outputs": [],
   "source": []
  }
 ],
 "metadata": {
  "kernelspec": {
   "display_name": "Python 3",
   "language": "python",
   "name": "python3"
  },
  "language_info": {
   "codemirror_mode": {
    "name": "ipython",
    "version": 3
   },
   "file_extension": ".py",
   "mimetype": "text/x-python",
   "name": "python",
   "nbconvert_exporter": "python",
   "pygments_lexer": "ipython3",
   "version": "3.5.3"
  }
 },
 "nbformat": 4,
 "nbformat_minor": 2
}
