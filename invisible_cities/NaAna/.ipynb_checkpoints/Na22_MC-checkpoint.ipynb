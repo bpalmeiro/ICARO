{
 "cells": [
  {
   "cell_type": "markdown",
   "metadata": {
    "deletable": true,
    "editable": true
   },
   "source": [
    "# Kr analysis (MC)"
   ]
  },
  {
   "cell_type": "code",
   "execution_count": 1,
   "metadata": {
    "collapsed": false,
    "deletable": true,
    "editable": true
   },
   "outputs": [
    {
     "name": "stdout",
     "output_type": "stream",
     "text": [
      "Running on  Tue Apr  4 18:10:42 2017\n"
     ]
    }
   ],
   "source": [
    "from __future__ import print_function, division\n",
    "\n",
    "import os\n",
    "import operator\n",
    "import functools\n",
    "import time\n",
    "import glob\n",
    "print(\"Running on \", time.asctime())\n",
    "\n",
    "import numpy as np\n",
    "import matplotlib.pyplot as plt\n",
    "%matplotlib inline\n",
    "\n",
    "import invisible_cities.database.load_db as DB\n",
    "import invisible_cities.core.system_of_units_c as SystemOfUnits\n",
    "import invisible_cities.reco.pmaps_functions as pmapf\n",
    "import invisible_cities.core.fit_functions as fitf\n",
    "\n",
    "DataPMT = DB.DataPMT()\n",
    "DataSiPM = DB.DataSiPM()\n",
    "units = SystemOfUnits.SystemOfUnits()\n",
    "pi = np.pi\n"
   ]
  },
  {
   "cell_type": "markdown",
   "metadata": {
    "deletable": true,
    "editable": true
   },
   "source": [
    "#### General plotting options"
   ]
  },
  {
   "cell_type": "code",
   "execution_count": 91,
   "metadata": {
    "collapsed": true,
    "deletable": true,
    "editable": true
   },
   "outputs": [],
   "source": [
    "plt.rcParams[\"figure.figsize\"]          = 8, 6\n",
    "plt.rcParams[\"font.size\"]               = 15\n",
    "plt.rcParams[\"figure.max_open_warning\"] = 100\n",
    "\n",
    "profOpt = \"--k\"\n",
    "fitOpt  = \"r\"\n",
    "\n",
    "outputfolder = \"plots/Na_MC_FirstApproach/NoCuts/\"\n",
    "if not os.path.exists(outputfolder):\n",
    "    os.mkdir(outputfolder)"
   ]
  },
  {
   "cell_type": "markdown",
   "metadata": {
    "deletable": true,
    "editable": true
   },
   "source": [
    "#### Useful functions"
   ]
  },
  {
   "cell_type": "code",
   "execution_count": 3,
   "metadata": {
    "collapsed": false,
    "deletable": true,
    "editable": true
   },
   "outputs": [],
   "source": [
    "def width(times, to_mus=False):\n",
    "    \"\"\"\n",
    "    Compute peak width.\n",
    "    \"\"\"\n",
    "    w = (np.max(times) - np.min(times)) if np.any(times) else 0.\n",
    "    return w * units.ns/units.mus if to_mus else w\n",
    "\n",
    "\n",
    "def timefunc(f):\n",
    "    \"\"\"\n",
    "    Decorator for function timing.\n",
    "    \"\"\"\n",
    "    def time_f(*args, **kwargs):\n",
    "        t0 = time.time()\n",
    "        output = f(*args, **kwargs)\n",
    "        print(\"Time spent in {}: {} s\".format(f.__name__,\n",
    "                                              time.time() - t0))\n",
    "        return output\n",
    "    return time_f\n",
    "\n",
    "\n",
    "def integrate_charge(d):\n",
    "    \"\"\"\n",
    "    Integrate charge from a SiPM dictionary.\n",
    "    \"\"\"\n",
    "    newd = dict((key, np.sum(value)) for key, value in d.items())\n",
    "    return map(np.array, list(zip(*newd.items())))\n",
    "\n",
    "\n",
    "def flat(nested_list):\n",
    "    while hasattr(nested_list[0], \"__iter__\"):\n",
    "        nested_list = [item for inner_list in nested_list for item in inner_list]\n",
    "    return np.array(nested_list)\n",
    "\n",
    "\n",
    "def labels(xlabel, ylabel):\n",
    "    \"\"\"\n",
    "    Set x and y labels.\n",
    "    \"\"\"\n",
    "    plt.xlabel(xlabel)\n",
    "    plt.ylabel(ylabel)\n",
    "\n",
    "\n",
    "def hist(*args, **kwargs):\n",
    "    \"\"\"\n",
    "    Create a figure and then the histogram\n",
    "    \"\"\"\n",
    "    plt.figure()\n",
    "    return plt.hist(*args, **kwargs)\n",
    "\n",
    "    \n",
    "def hist2d(*args, **kwargs):\n",
    "    \"\"\"\n",
    "    Create a figure and then the histogram\n",
    "    \"\"\"\n",
    "    plt.figure()\n",
    "    return plt.hist2d(*args, **kwargs)\n",
    "\n",
    "    \n",
    "def pdf(data, *args, **kwargs):\n",
    "    \"\"\"\n",
    "    Create a normalized histogram with appropiate range.\n",
    "    \"\"\"\n",
    "    data = np.array(data)\n",
    "    h = hist(data, *args, **kwargs, weights=np.ones_like(data)/len(data))\n",
    "    plt.yscale(\"log\")\n",
    "    plt.ylim(1e-4, 1.)\n",
    "    return h\n",
    "    \n",
    "def scatter(*args, **kwargs):\n",
    "    \"\"\"\n",
    "    Create a figure and then a scatter plot\n",
    "    \"\"\"\n",
    "    plt.figure()\n",
    "    return plt.scatter(*args, **kwargs)\n",
    "\n",
    "\n",
    "def save_to_folder(outputfolder, name):\n",
    "    \"\"\"\n",
    "    Set title and save plot in folder.\n",
    "    \"\"\"\n",
    "    plt.title(name)\n",
    "    plt.savefig(\"{}/{}.png\".format(outputfolder, name), dpi=100)\n",
    "\n",
    "save = functools.partial(save_to_folder, outputfolder)"
   ]
  },
  {
   "cell_type": "markdown",
   "metadata": {
    "deletable": true,
    "editable": true
   },
   "source": [
    "### Input data"
   ]
  },
  {
   "cell_type": "code",
   "execution_count": 4,
   "metadata": {
    "collapsed": false,
    "deletable": true,
    "editable": true
   },
   "outputs": [
    {
     "name": "stdout",
     "output_type": "stream",
     "text": [
      "# files: 108\n"
     ]
    }
   ],
   "source": [
    "# Comment out this line if your data is in $IC_DATA\n",
    "os.environ[\"IC_DATA\"] = \"/home/brais/Documents/Next/Na/data/2948/\"\n",
    "\n",
    "pattern = \"$IC_DATA/run_2948.gdcsnext.*.next1el_2948.root.h5\"\n",
    "ifiles  = glob.glob(os.path.expandvars(pattern))\n",
    "print(\"# files:\", len(ifiles))"
   ]
  },
  {
   "cell_type": "markdown",
   "metadata": {
    "deletable": true,
    "editable": true
   },
   "source": [
    "### Define event class"
   ]
  },
  {
   "cell_type": "code",
   "execution_count": 451,
   "metadata": {
    "collapsed": true,
    "deletable": true,
    "editable": true
   },
   "outputs": [],
   "source": [
    "class Event:\n",
    "    \"\"\"\n",
    "    Store for relevant event info.\n",
    "    \"\"\"\n",
    "    def __init__(self):\n",
    "        self.nS1   = 0\n",
    "        self.S1w   = []\n",
    "        self.S1h   = []\n",
    "        self.S1i   = []\n",
    "        self.S1t   = []\n",
    "        \n",
    "\n",
    "        self.nS2   = 0\n",
    "        self.S2w   = []\n",
    "        self.S2h   = []\n",
    "        self.S2i   = []\n",
    "        self.S2t   = []\n",
    "        self.S2p   = []\n",
    "\n",
    "        self.Nsipm = []\n",
    "        self.Q     = []\n",
    "        self.Qsipm = []\n",
    "        self.Xt    = np.nan\n",
    "        self.Yt    = np.nan\n",
    "        self.X     = np.nan\n",
    "        self.Y     = np.nan\n",
    "        self.Xrms  = np.nan\n",
    "        self.Yrms  = np.nan\n",
    "        self.Z     = []\n",
    "        self.R     = np.nan\n",
    "        self.Phi   = np.nan\n",
    "\n",
    "        self.ok    = False"
   ]
  },
  {
   "cell_type": "markdown",
   "metadata": {
    "deletable": true,
    "editable": true
   },
   "source": [
    "### Define dataset class"
   ]
  },
  {
   "cell_type": "code",
   "execution_count": 6,
   "metadata": {
    "collapsed": false,
    "deletable": true,
    "editable": true
   },
   "outputs": [],
   "source": [
    "class Dataset:\n",
    "    \"\"\"\n",
    "    Trick for accesing event properties as an attribute of the dataset.\n",
    "    \"\"\"\n",
    "    def __init__(self, evts):\n",
    "        self.evts = np.array(evts, dtype=object)\n",
    "        self._create_attrs()\n",
    "    \n",
    "    @timefunc\n",
    "    def _create_attrs(self):\n",
    "        for attr in filter(lambda x: not x.endswith(\"__\"), Event().__dict__):\n",
    "            setattr(self, attr, np.array([getattr(evt, attr) for evt in self.evts]))\n",
    "\n",
    "    def __getitem__(self, sel):\n",
    "        return Dataset(self.evts[sel])"
   ]
  },
  {
   "cell_type": "markdown",
   "metadata": {
    "deletable": true,
    "editable": true
   },
   "source": [
    "## Functions to fill the event and dataset classes"
   ]
  },
  {
   "cell_type": "code",
   "execution_count": 437,
   "metadata": {
    "collapsed": false,
    "deletable": true,
    "editable": true
   },
   "outputs": [],
   "source": [
    "@timefunc\n",
    "def fill_evts(s1s, s2s, sis, evts_out, ifile=None):    \n",
    "    evts = set(list(s1s.keys()) +\n",
    "               list(s2s.keys()) +\n",
    "               list(sis.keys()))\n",
    "    nevt = len(evts)\n",
    "    print(ifile, nevt)\n",
    "    for i, evt_number in enumerate(evts):\n",
    "        evt = Event()\n",
    "        s1  = s1s.get(evt_number, dict())\n",
    "        s2  = s2s.get(evt_number, dict())\n",
    "        si  = sis.get(evt_number, dict())\n",
    "        \n",
    "        evt.nS1 = len(s1)\n",
    "        evt.nS2 = 0# len(s2)\n",
    "\n",
    "        s1time = 0\n",
    "        for peak, (t, e) in s1.items():\n",
    "            evt.S1w.append(width(t))\n",
    "            evt.S1h.append(np.max(e))\n",
    "            evt.S1i.append(np.sum(e))\n",
    "            s1time = t[np.argmax(e)]\n",
    "            evt.S1t.append(s1time)\n",
    "\n",
    "        s2time = 0\n",
    "        for peak, (t, e) in s2.items():\n",
    "            evt.S2p.append(peak)\n",
    "            evt.S2w.append(width(t, to_mus=True))\n",
    "            evt.S2h.append(np.max(e))\n",
    "            evt.S2i.append(np.sum(e))\n",
    "            s2time = t[np.argmax(e)]\n",
    "            if s2time < 105000: continue\n",
    "            evt.nS2 += 1\n",
    "            evt.S2t.append(s2time)\n",
    "\n",
    "            IDs, Qs = integrate_charge(si[peak]) if peak in si else ([], [])\n",
    "            Qpeak   = np.sum(Qs)\n",
    "            xsipms  = DataSiPM.X.values[IDs]\n",
    "            ysipms  = DataSiPM.Y.values[IDs]\n",
    "\n",
    "            evt.Qsipm.append(Qs)\n",
    "            evt.Nsipm.append(len(IDs))\n",
    "            evt.Q    .append(Qpeak)\n",
    "            evt.X    = np.average(xsipms, weights=Qs) if np.any(Qs) else np.nan\n",
    "            evt.Y    = np.average(ysipms, weights=Qs) if np.any(Qs) else np.nan\n",
    "            evt.Xrms = (np.sum(Qs * (xsipms-evt.X)**2) / (Qpeak - 1))**0.5 if np.any(Qs) else np.nan\n",
    "            evt.Yrms = (np.sum(Qs * (ysipms-evt.Y)**2) / (Qpeak - 1))**0.5 if np.any(Qs) else np.nan\n",
    "            evt.R    = (evt.X**2 + evt.Y**2)**0.5 if np.any(Qs) else np.nan\n",
    "            evt.Phi  = np.arctan2(evt.Y, evt.X) if np.any(Qs) else np.nan\n",
    "        \n",
    "        evt.ok = evt.nS1 > 0 and evt.nS2 > 0.\n",
    "        if evt.ok:\n",
    "            for iS2 in evt.S2t:\n",
    "                evt.Z.append((iS2 - s1time) * units.ns / units.mus)\n",
    "        evts_out.append(evt)\n",
    "\n",
    "\n",
    "@timefunc\n",
    "def build_dataset(inputfiles):\n",
    "    evts_out = []\n",
    "    for ifile in inputfiles:\n",
    "        s1s, s2s, sis = pmapf.read_pmaps(ifile)\n",
    "        fill_evts(pmapf.df_to_pmaps_dict(s1s),\n",
    "                  pmapf.df_to_pmaps_dict(s2s),\n",
    "                  pmapf.df_to_s2si_dict (sis),\n",
    "                  evts_out, ifile)\n",
    "    return Dataset(evts_out)\n"
   ]
  },
  {
   "cell_type": "markdown",
   "metadata": {
    "deletable": true,
    "editable": true
   },
   "source": [
    "# Read data"
   ]
  },
  {
   "cell_type": "code",
   "execution_count": 438,
   "metadata": {
    "collapsed": false,
    "deletable": true,
    "editable": true,
    "scrolled": true
   },
   "outputs": [
    {
     "name": "stdout",
     "output_type": "stream",
     "text": [
      "/home/brais/Documents/Next/Na/data/2948/run_2948.gdcsnext.026.next1el_2948.root.h5 262\n",
      "Time spent in fill_evts: 0.15586185455322266 s\n",
      "/home/brais/Documents/Next/Na/data/2948/run_2948.gdcsnext.063.next1el_2948.root.h5 262\n",
      "Time spent in fill_evts: 0.15380311012268066 s\n",
      "/home/brais/Documents/Next/Na/data/2948/run_2948.gdcsnext.089.next1el_2948.root.h5 262\n",
      "Time spent in fill_evts: 0.16785573959350586 s\n",
      "/home/brais/Documents/Next/Na/data/2948/run_2948.gdcsnext.010.next1el_2948.root.h5 259\n",
      "Time spent in fill_evts: 0.15433645248413086 s\n",
      "/home/brais/Documents/Next/Na/data/2948/run_2948.gdcsnext.000.next1el_2948.root.h5 262\n",
      "Time spent in fill_evts: 0.15689420700073242 s\n",
      "/home/brais/Documents/Next/Na/data/2948/run_2948.gdcsnext.034.next1el_2948.root.h5 259\n",
      "Time spent in fill_evts: 0.15664410591125488 s\n",
      "/home/brais/Documents/Next/Na/data/2948/run_2948.gdcsnext.106.next1el_2948.root.h5 264\n",
      "Time spent in fill_evts: 0.16765117645263672 s\n",
      "/home/brais/Documents/Next/Na/data/2948/run_2948.gdcsnext.084.next1el_2948.root.h5 261\n",
      "Time spent in fill_evts: 0.17705202102661133 s\n",
      "/home/brais/Documents/Next/Na/data/2948/run_2948.gdcsnext.065.next1el_2948.root.h5 263\n",
      "Time spent in fill_evts: 0.1705033779144287 s\n",
      "/home/brais/Documents/Next/Na/data/2948/run_2948.gdcsnext.031.next1el_2948.root.h5 261\n",
      "Time spent in fill_evts: 0.16588234901428223 s\n",
      "/home/brais/Documents/Next/Na/data/2948/run_2948.gdcsnext.030.next1el_2948.root.h5 261\n",
      "Time spent in fill_evts: 0.17000198364257812 s\n",
      "/home/brais/Documents/Next/Na/data/2948/run_2948.gdcsnext.098.next1el_2948.root.h5 258\n",
      "Time spent in fill_evts: 0.16229653358459473 s\n",
      "/home/brais/Documents/Next/Na/data/2948/run_2948.gdcsnext.006.next1el_2948.root.h5 261\n",
      "Time spent in fill_evts: 0.15656399726867676 s\n",
      "/home/brais/Documents/Next/Na/data/2948/run_2948.gdcsnext.088.next1el_2948.root.h5 262\n",
      "Time spent in fill_evts: 0.15886902809143066 s\n",
      "/home/brais/Documents/Next/Na/data/2948/run_2948.gdcsnext.090.next1el_2948.root.h5 263\n",
      "Time spent in fill_evts: 0.17027783393859863 s\n",
      "/home/brais/Documents/Next/Na/data/2948/run_2948.gdcsnext.107.next1el_2948.root.h5 259\n",
      "Time spent in fill_evts: 0.15509343147277832 s\n",
      "/home/brais/Documents/Next/Na/data/2948/run_2948.gdcsnext.037.next1el_2948.root.h5 261\n",
      "Time spent in fill_evts: 0.16361403465270996 s\n",
      "/home/brais/Documents/Next/Na/data/2948/run_2948.gdcsnext.019.next1el_2948.root.h5 260\n",
      "Time spent in fill_evts: 0.17001843452453613 s\n",
      "/home/brais/Documents/Next/Na/data/2948/run_2948.gdcsnext.053.next1el_2948.root.h5 260\n",
      "Time spent in fill_evts: 0.1661696434020996 s\n",
      "/home/brais/Documents/Next/Na/data/2948/run_2948.gdcsnext.009.next1el_2948.root.h5 258\n",
      "Time spent in fill_evts: 0.1608448028564453 s\n",
      "/home/brais/Documents/Next/Na/data/2948/run_2948.gdcsnext.021.next1el_2948.root.h5 261\n",
      "Time spent in fill_evts: 0.16338324546813965 s\n",
      "/home/brais/Documents/Next/Na/data/2948/run_2948.gdcsnext.005.next1el_2948.root.h5 262\n",
      "Time spent in fill_evts: 0.16921591758728027 s\n",
      "/home/brais/Documents/Next/Na/data/2948/run_2948.gdcsnext.032.next1el_2948.root.h5 262\n",
      "Time spent in fill_evts: 0.16043591499328613 s\n",
      "/home/brais/Documents/Next/Na/data/2948/run_2948.gdcsnext.078.next1el_2948.root.h5 260\n",
      "Time spent in fill_evts: 0.15621495246887207 s\n",
      "/home/brais/Documents/Next/Na/data/2948/run_2948.gdcsnext.016.next1el_2948.root.h5 259\n",
      "Time spent in fill_evts: 0.16367459297180176 s\n",
      "/home/brais/Documents/Next/Na/data/2948/run_2948.gdcsnext.064.next1el_2948.root.h5 260\n",
      "Time spent in fill_evts: 0.1579432487487793 s\n",
      "/home/brais/Documents/Next/Na/data/2948/run_2948.gdcsnext.076.next1el_2948.root.h5 261\n",
      "Time spent in fill_evts: 0.15534019470214844 s\n",
      "/home/brais/Documents/Next/Na/data/2948/run_2948.gdcsnext.081.next1el_2948.root.h5 262\n",
      "Time spent in fill_evts: 0.16641449928283691 s\n",
      "/home/brais/Documents/Next/Na/data/2948/run_2948.gdcsnext.096.next1el_2948.root.h5 261\n",
      "Time spent in fill_evts: 0.15294742584228516 s\n",
      "/home/brais/Documents/Next/Na/data/2948/run_2948.gdcsnext.055.next1el_2948.root.h5 260\n",
      "Time spent in fill_evts: 0.16660094261169434 s\n",
      "/home/brais/Documents/Next/Na/data/2948/run_2948.gdcsnext.071.next1el_2948.root.h5 261\n",
      "Time spent in fill_evts: 0.16610455513000488 s\n",
      "/home/brais/Documents/Next/Na/data/2948/run_2948.gdcsnext.067.next1el_2948.root.h5 262\n",
      "Time spent in fill_evts: 0.17432856559753418 s\n",
      "/home/brais/Documents/Next/Na/data/2948/run_2948.gdcsnext.043.next1el_2948.root.h5 261\n",
      "Time spent in fill_evts: 0.16075420379638672 s\n",
      "/home/brais/Documents/Next/Na/data/2948/run_2948.gdcsnext.054.next1el_2948.root.h5 262\n",
      "Time spent in fill_evts: 0.16568732261657715 s\n",
      "/home/brais/Documents/Next/Na/data/2948/run_2948.gdcsnext.011.next1el_2948.root.h5 262\n",
      "Time spent in fill_evts: 0.15696048736572266 s\n",
      "/home/brais/Documents/Next/Na/data/2948/run_2948.gdcsnext.028.next1el_2948.root.h5 260\n",
      "Time spent in fill_evts: 0.16466474533081055 s\n",
      "/home/brais/Documents/Next/Na/data/2948/run_2948.gdcsnext.025.next1el_2948.root.h5 258\n",
      "Time spent in fill_evts: 0.15767550468444824 s\n",
      "/home/brais/Documents/Next/Na/data/2948/run_2948.gdcsnext.040.next1el_2948.root.h5 262\n",
      "Time spent in fill_evts: 0.16504263877868652 s\n",
      "/home/brais/Documents/Next/Na/data/2948/run_2948.gdcsnext.007.next1el_2948.root.h5 261\n",
      "Time spent in fill_evts: 0.16373467445373535 s\n",
      "/home/brais/Documents/Next/Na/data/2948/run_2948.gdcsnext.093.next1el_2948.root.h5 264\n",
      "Time spent in fill_evts: 0.159651517868042 s\n",
      "/home/brais/Documents/Next/Na/data/2948/run_2948.gdcsnext.086.next1el_2948.root.h5 262\n",
      "Time spent in fill_evts: 0.17158174514770508 s\n",
      "/home/brais/Documents/Next/Na/data/2948/run_2948.gdcsnext.051.next1el_2948.root.h5 262\n",
      "Time spent in fill_evts: 0.148789644241333 s\n",
      "/home/brais/Documents/Next/Na/data/2948/run_2948.gdcsnext.097.next1el_2948.root.h5 260\n",
      "Time spent in fill_evts: 0.1629471778869629 s\n",
      "/home/brais/Documents/Next/Na/data/2948/run_2948.gdcsnext.018.next1el_2948.root.h5 261\n",
      "Time spent in fill_evts: 0.16675472259521484 s\n",
      "/home/brais/Documents/Next/Na/data/2948/run_2948.gdcsnext.100.next1el_2948.root.h5 261\n",
      "Time spent in fill_evts: 0.156724214553833 s\n",
      "/home/brais/Documents/Next/Na/data/2948/run_2948.gdcsnext.035.next1el_2948.root.h5 259\n",
      "Time spent in fill_evts: 0.16996026039123535 s\n",
      "/home/brais/Documents/Next/Na/data/2948/run_2948.gdcsnext.023.next1el_2948.root.h5 260\n",
      "Time spent in fill_evts: 0.1566448211669922 s\n",
      "/home/brais/Documents/Next/Na/data/2948/run_2948.gdcsnext.050.next1el_2948.root.h5 259\n",
      "Time spent in fill_evts: 0.1573476791381836 s\n",
      "/home/brais/Documents/Next/Na/data/2948/run_2948.gdcsnext.048.next1el_2948.root.h5 263\n",
      "Time spent in fill_evts: 0.16273975372314453 s\n",
      "/home/brais/Documents/Next/Na/data/2948/run_2948.gdcsnext.056.next1el_2948.root.h5 262\n",
      "Time spent in fill_evts: 0.1526799201965332 s\n",
      "/home/brais/Documents/Next/Na/data/2948/run_2948.gdcsnext.027.next1el_2948.root.h5 262\n",
      "Time spent in fill_evts: 0.15900111198425293 s\n",
      "/home/brais/Documents/Next/Na/data/2948/run_2948.gdcsnext.069.next1el_2948.root.h5 260\n",
      "Time spent in fill_evts: 0.16411685943603516 s\n",
      "/home/brais/Documents/Next/Na/data/2948/run_2948.gdcsnext.101.next1el_2948.root.h5 260\n",
      "Time spent in fill_evts: 0.15855979919433594 s\n",
      "/home/brais/Documents/Next/Na/data/2948/run_2948.gdcsnext.038.next1el_2948.root.h5 260\n",
      "Time spent in fill_evts: 0.1632378101348877 s\n",
      "/home/brais/Documents/Next/Na/data/2948/run_2948.gdcsnext.085.next1el_2948.root.h5 260\n",
      "Time spent in fill_evts: 0.14428210258483887 s\n",
      "/home/brais/Documents/Next/Na/data/2948/run_2948.gdcsnext.066.next1el_2948.root.h5 260\n",
      "Time spent in fill_evts: 0.15967988967895508 s\n",
      "/home/brais/Documents/Next/Na/data/2948/run_2948.gdcsnext.008.next1el_2948.root.h5 261\n",
      "Time spent in fill_evts: 0.15204524993896484 s\n",
      "/home/brais/Documents/Next/Na/data/2948/run_2948.gdcsnext.041.next1el_2948.root.h5 261\n",
      "Time spent in fill_evts: 0.16848373413085938 s\n",
      "/home/brais/Documents/Next/Na/data/2948/run_2948.gdcsnext.045.next1el_2948.root.h5 263\n",
      "Time spent in fill_evts: 0.15738272666931152 s\n",
      "/home/brais/Documents/Next/Na/data/2948/run_2948.gdcsnext.105.next1el_2948.root.h5 260\n",
      "Time spent in fill_evts: 0.16723203659057617 s\n",
      "/home/brais/Documents/Next/Na/data/2948/run_2948.gdcsnext.033.next1el_2948.root.h5 260\n",
      "Time spent in fill_evts: 0.17179512977600098 s\n",
      "/home/brais/Documents/Next/Na/data/2948/run_2948.gdcsnext.077.next1el_2948.root.h5 259\n",
      "Time spent in fill_evts: 0.16063594818115234 s\n",
      "/home/brais/Documents/Next/Na/data/2948/run_2948.gdcsnext.046.next1el_2948.root.h5 261\n",
      "Time spent in fill_evts: 0.17972350120544434 s\n",
      "/home/brais/Documents/Next/Na/data/2948/run_2948.gdcsnext.062.next1el_2948.root.h5 257\n",
      "Time spent in fill_evts: 0.154998779296875 s\n",
      "/home/brais/Documents/Next/Na/data/2948/run_2948.gdcsnext.091.next1el_2948.root.h5 257\n",
      "Time spent in fill_evts: 0.15001821517944336 s\n",
      "/home/brais/Documents/Next/Na/data/2948/run_2948.gdcsnext.014.next1el_2948.root.h5 263\n",
      "Time spent in fill_evts: 0.15926599502563477 s\n",
      "/home/brais/Documents/Next/Na/data/2948/run_2948.gdcsnext.060.next1el_2948.root.h5 261\n",
      "Time spent in fill_evts: 0.1570281982421875 s\n",
      "/home/brais/Documents/Next/Na/data/2948/run_2948.gdcsnext.012.next1el_2948.root.h5 262\n",
      "Time spent in fill_evts: 0.16979670524597168 s\n",
      "/home/brais/Documents/Next/Na/data/2948/run_2948.gdcsnext.039.next1el_2948.root.h5 259\n",
      "Time spent in fill_evts: 0.16517949104309082 s\n",
      "/home/brais/Documents/Next/Na/data/2948/run_2948.gdcsnext.022.next1el_2948.root.h5 259\n",
      "Time spent in fill_evts: 0.14980792999267578 s\n",
      "/home/brais/Documents/Next/Na/data/2948/run_2948.gdcsnext.024.next1el_2948.root.h5 259\n",
      "Time spent in fill_evts: 0.1783299446105957 s\n",
      "/home/brais/Documents/Next/Na/data/2948/run_2948.gdcsnext.036.next1el_2948.root.h5 263\n",
      "Time spent in fill_evts: 0.16677403450012207 s\n",
      "/home/brais/Documents/Next/Na/data/2948/run_2948.gdcsnext.074.next1el_2948.root.h5 264\n",
      "Time spent in fill_evts: 0.17331480979919434 s\n",
      "/home/brais/Documents/Next/Na/data/2948/run_2948.gdcsnext.083.next1el_2948.root.h5 263\n",
      "Time spent in fill_evts: 0.1513233184814453 s\n",
      "/home/brais/Documents/Next/Na/data/2948/run_2948.gdcsnext.068.next1el_2948.root.h5 261\n",
      "Time spent in fill_evts: 0.16282224655151367 s\n",
      "/home/brais/Documents/Next/Na/data/2948/run_2948.gdcsnext.080.next1el_2948.root.h5 261\n",
      "Time spent in fill_evts: 0.15435338020324707 s\n",
      "/home/brais/Documents/Next/Na/data/2948/run_2948.gdcsnext.103.next1el_2948.root.h5 258\n",
      "Time spent in fill_evts: 0.15436053276062012 s\n",
      "/home/brais/Documents/Next/Na/data/2948/run_2948.gdcsnext.017.next1el_2948.root.h5 261\n",
      "Time spent in fill_evts: 0.16734528541564941 s\n",
      "/home/brais/Documents/Next/Na/data/2948/run_2948.gdcsnext.059.next1el_2948.root.h5 260\n",
      "Time spent in fill_evts: 0.1541752815246582 s\n",
      "/home/brais/Documents/Next/Na/data/2948/run_2948.gdcsnext.072.next1el_2948.root.h5 259\n",
      "Time spent in fill_evts: 0.16092514991760254 s\n",
      "/home/brais/Documents/Next/Na/data/2948/run_2948.gdcsnext.057.next1el_2948.root.h5 262\n",
      "Time spent in fill_evts: 0.16731548309326172 s\n",
      "/home/brais/Documents/Next/Na/data/2948/run_2948.gdcsnext.082.next1el_2948.root.h5 259\n",
      "Time spent in fill_evts: 0.15397429466247559 s\n",
      "/home/brais/Documents/Next/Na/data/2948/run_2948.gdcsnext.049.next1el_2948.root.h5 262\n",
      "Time spent in fill_evts: 0.1644284725189209 s\n",
      "/home/brais/Documents/Next/Na/data/2948/run_2948.gdcsnext.052.next1el_2948.root.h5 261\n",
      "Time spent in fill_evts: 0.15982937812805176 s\n",
      "/home/brais/Documents/Next/Na/data/2948/run_2948.gdcsnext.047.next1el_2948.root.h5 261\n",
      "Time spent in fill_evts: 0.1600053310394287 s\n",
      "/home/brais/Documents/Next/Na/data/2948/run_2948.gdcsnext.013.next1el_2948.root.h5 259\n",
      "Time spent in fill_evts: 0.16456270217895508 s\n",
      "/home/brais/Documents/Next/Na/data/2948/run_2948.gdcsnext.015.next1el_2948.root.h5 263\n",
      "Time spent in fill_evts: 0.16056609153747559 s\n",
      "/home/brais/Documents/Next/Na/data/2948/run_2948.gdcsnext.020.next1el_2948.root.h5 263\n",
      "Time spent in fill_evts: 0.1694188117980957 s\n",
      "/home/brais/Documents/Next/Na/data/2948/run_2948.gdcsnext.003.next1el_2948.root.h5 263\n",
      "Time spent in fill_evts: 0.14928770065307617 s\n",
      "/home/brais/Documents/Next/Na/data/2948/run_2948.gdcsnext.092.next1el_2948.root.h5 260\n",
      "Time spent in fill_evts: 0.16433978080749512 s\n",
      "/home/brais/Documents/Next/Na/data/2948/run_2948.gdcsnext.042.next1el_2948.root.h5 259\n",
      "Time spent in fill_evts: 0.15930700302124023 s\n",
      "/home/brais/Documents/Next/Na/data/2948/run_2948.gdcsnext.087.next1el_2948.root.h5 260\n",
      "Time spent in fill_evts: 0.16467785835266113 s\n",
      "/home/brais/Documents/Next/Na/data/2948/run_2948.gdcsnext.061.next1el_2948.root.h5 262\n",
      "Time spent in fill_evts: 0.15540671348571777 s\n",
      "/home/brais/Documents/Next/Na/data/2948/run_2948.gdcsnext.044.next1el_2948.root.h5 261\n",
      "Time spent in fill_evts: 0.16150379180908203 s\n",
      "/home/brais/Documents/Next/Na/data/2948/run_2948.gdcsnext.099.next1el_2948.root.h5 262\n",
      "Time spent in fill_evts: 0.15539932250976562 s\n",
      "/home/brais/Documents/Next/Na/data/2948/run_2948.gdcsnext.073.next1el_2948.root.h5 258\n",
      "Time spent in fill_evts: 0.15039873123168945 s\n",
      "/home/brais/Documents/Next/Na/data/2948/run_2948.gdcsnext.104.next1el_2948.root.h5 260\n",
      "Time spent in fill_evts: 0.14825987815856934 s\n",
      "/home/brais/Documents/Next/Na/data/2948/run_2948.gdcsnext.079.next1el_2948.root.h5 263\n",
      "Time spent in fill_evts: 0.16528630256652832 s\n",
      "/home/brais/Documents/Next/Na/data/2948/run_2948.gdcsnext.075.next1el_2948.root.h5 260\n",
      "Time spent in fill_evts: 0.1766343116760254 s\n",
      "/home/brais/Documents/Next/Na/data/2948/run_2948.gdcsnext.004.next1el_2948.root.h5 263\n",
      "Time spent in fill_evts: 0.15459966659545898 s\n",
      "/home/brais/Documents/Next/Na/data/2948/run_2948.gdcsnext.001.next1el_2948.root.h5 259\n",
      "Time spent in fill_evts: 0.16557836532592773 s\n",
      "/home/brais/Documents/Next/Na/data/2948/run_2948.gdcsnext.029.next1el_2948.root.h5 261\n",
      "Time spent in fill_evts: 0.16797494888305664 s\n",
      "/home/brais/Documents/Next/Na/data/2948/run_2948.gdcsnext.102.next1el_2948.root.h5 260\n",
      "Time spent in fill_evts: 0.16390585899353027 s\n",
      "/home/brais/Documents/Next/Na/data/2948/run_2948.gdcsnext.095.next1el_2948.root.h5 262\n",
      "Time spent in fill_evts: 0.1740572452545166 s\n",
      "/home/brais/Documents/Next/Na/data/2948/run_2948.gdcsnext.058.next1el_2948.root.h5 257\n",
      "Time spent in fill_evts: 0.1602644920349121 s\n",
      "/home/brais/Documents/Next/Na/data/2948/run_2948.gdcsnext.094.next1el_2948.root.h5 260\n",
      "Time spent in fill_evts: 0.22284770011901855 s\n",
      "/home/brais/Documents/Next/Na/data/2948/run_2948.gdcsnext.070.next1el_2948.root.h5 261\n",
      "Time spent in fill_evts: 0.1642611026763916 s\n",
      "/home/brais/Documents/Next/Na/data/2948/run_2948.gdcsnext.002.next1el_2948.root.h5 261\n",
      "Time spent in fill_evts: 0.15994477272033691 s\n",
      "Time spent in _create_attrs: 0.5351521968841553 s\n",
      "Time spent in build_dataset: 39.37125635147095 s\n"
     ]
    }
   ],
   "source": [
    "data = build_dataset(ifiles)"
   ]
  },
  {
   "cell_type": "markdown",
   "metadata": {},
   "source": [
    "# Filtering data"
   ]
  },
  {
   "cell_type": "code",
   "execution_count": 449,
   "metadata": {
    "collapsed": false
   },
   "outputs": [],
   "source": [
    "from copy import deepcopy\n",
    "def Filter(data):\n",
    "    filtered = deepcopy(data)\n",
    "    \n",
    "    min_S1w = 250.\n",
    "    max_S1w = 400.\n",
    "    min_S1h = 10.\n",
    "    max_S1h = 100.\n",
    "    \n",
    "    min_S2i = 3000.\n",
    "    max_S2i = 6500.\n",
    "    \n",
    "    \n",
    "    print('Inicial: ',len(filtered.nS1))\n",
    "    filtered = filtered[filtered.nS1 == 1] # Just one S2\n",
    "    print('1 S1: ', len(filtered.nS1))\n",
    "    filtered = filtered[filtered.nS2 == 2] # Just two S2\n",
    "    print('2 S2: ', len(filtered.nS1))\n",
    "    \n",
    "    filtered = filtered[flat(filtered.S1w > min_S1w)]\n",
    "    filtered = filtered[flat(filtered.S1w < max_S1w)]\n",
    "    print('S1 width: ', len(filtered.nS1))\n",
    "    \n",
    "    filtered = filtered[flat(filtered.S1h > min_S1h )]\n",
    "    filtered = filtered[flat(filtered.S1h < max_S1h)]\n",
    "    print('S1 height: ', len(filtered.nS1))\n",
    "\n",
    "    mask = []\n",
    "    flat_mask = []\n",
    "    o = 1\n",
    "    for pairS2 in filtered.S2i: \n",
    "        mask_i = np.logical_and(pairS2>min_S2i, pairS2<max_S2i)\n",
    "        mask.append(mask_i)\n",
    "        flat_mask.append(np.logical_or(mask_i[0],mask_i[1]))\n",
    "\n",
    "    filtered = filtered[flat_mask]\n",
    "    mask = np.array(mask)\n",
    "    mask     = mask[flat_mask]\n",
    "    filtered.XRi = filtered.S2i[:][mask]\n",
    "    filtered.XRw = filtered.S2w[:][mask]\n",
    "    filtered.XRh = filtered.S2h[:][mask]\n",
    "    filtered.XRt = filtered.S2t[:][mask]\n",
    "    filtered.XRp = filtered.S2p[:][mask]\n",
    "    \n",
    "    print('S2 XR Energy: ', len(filtered.nS1))\n",
    "    return filtered\n",
    "\n",
    "def energy_filter(data):\n",
    "\n",
    "    "
   ]
  },
  {
   "cell_type": "code",
   "execution_count": 450,
   "metadata": {
    "collapsed": false,
    "scrolled": false
   },
   "outputs": [
    {
     "name": "stdout",
     "output_type": "stream",
     "text": [
      "Inicial:  28164\n",
      "Time spent in _create_attrs: 0.06681418418884277 s\n",
      "1 S1:  5152\n",
      "Time spent in _create_attrs: 0.02198314666748047 s\n",
      "2 S2:  1334\n",
      "Time spent in _create_attrs: 0.00912332534790039 s\n",
      "Time spent in _create_attrs: 0.007745027542114258 s\n",
      "S1 width:  548\n",
      "Time spent in _create_attrs: 0.010333538055419922 s\n",
      "Time spent in _create_attrs: 0.006962776184082031 s\n",
      "S1 height:  513\n",
      "Time spent in _create_attrs: 0.002683401107788086 s\n",
      "S2 XR Energy:  207\n"
     ]
    }
   ],
   "source": [
    "filt = Filter(data)"
   ]
  },
  {
   "cell_type": "code",
   "execution_count": 446,
   "metadata": {
    "collapsed": false
   },
   "outputs": [
    {
     "name": "stdout",
     "output_type": "stream",
     "text": [
      "28164\n",
      "Time spent in _create_attrs: 0.06586909294128418 s\n",
      "Time spent in _create_attrs: 0.021912097930908203 s\n",
      "Time spent in _create_attrs: 0.00915980339050293 s\n",
      "Time spent in _create_attrs: 0.008055448532104492 s\n",
      "Time spent in _create_attrs: 0.007174968719482422 s\n",
      "Time spent in _create_attrs: 0.008568525314331055 s\n",
      "513\n",
      "Time spent in _create_attrs: 0.003068208694458008 s\n",
      "207\n"
     ]
    }
   ],
   "source": [
    "print(len(data.Z))\n",
    "filt = Filter(data)\n",
    "print(len(filt.Z))"
   ]
  },
  {
   "cell_type": "markdown",
   "metadata": {
    "deletable": true,
    "editable": true
   },
   "source": [
    "## General plots about S1 and S2 (no selections applied)"
   ]
  },
  {
   "cell_type": "code",
   "execution_count": 440,
   "metadata": {
    "collapsed": true,
    "deletable": true,
    "editable": true
   },
   "outputs": [],
   "source": [
    "data = full"
   ]
  },
  {
   "cell_type": "markdown",
   "metadata": {
    "deletable": true,
    "editable": true
   },
   "source": [
    "#### Number of S1 and S2 signals"
   ]
  },
  {
   "cell_type": "code",
   "execution_count": 110,
   "metadata": {
    "collapsed": false,
    "deletable": true,
    "editable": true
   },
   "outputs": [
    {
     "data": {
      "image/png": "[encoded data removed]",
      "text/plain": [
       "<matplotlib.figure.Figure at 0x7fe3f7adfe48>"
      ]
     },
     "metadata": {},
     "output_type": "display_data"
    },
    {
     "data": {
      "image/png": "[encoded data removed]",
      "text/plain": [
       "<matplotlib.figure.Figure at 0x7fe3f7b9dd68>"
      ]
     },
     "metadata": {},
     "output_type": "display_data"
    }
   ],
   "source": [
    "pdf(data.nS1, 10, range=(0, 10))\n",
    "labels(\"# S1\", \"Entries\")\n",
    "save(\"NS1\")\n",
    "\n",
    "################################\n",
    "pdf(data.nS2, 15, range=(0, 15))\n",
    "labels(\"# S2\", \"Entries\")\n",
    "save(\"NS2\")\n"
   ]
  },
  {
   "cell_type": "markdown",
   "metadata": {
    "deletable": true,
    "editable": true
   },
   "source": [
    "## From now on the study is focused on those events with exactly one S1 and one S2"
   ]
  },
  {
   "cell_type": "code",
   "execution_count": 200,
   "metadata": {
    "collapsed": false,
    "deletable": true,
    "editable": true
   },
   "outputs": [
    {
     "name": "stdout",
     "output_type": "stream",
     "text": [
      "Time spent in _create_attrs: 0.10727787017822266 s\n",
      "Full set   : 28164 events\n",
      "Reduced set: 6516 events\n",
      "Ratio      : 0.23135918193438432\n"
     ]
    }
   ],
   "source": [
    "oneS1oneS2 = full[full.ok]\n",
    "data = oneS1oneS2\n",
    "print(\"Full set   :\", full.evts.size, \"events\")\n",
    "print(\"Reduced set:\", data.evts.size, \"events\")\n",
    "print(\"Ratio      :\", data.evts.size/full.evts.size)"
   ]
  },
  {
   "cell_type": "markdown",
   "metadata": {
    "deletable": true,
    "editable": true
   },
   "source": [
    "<b>\n",
    "The ratio of \"reliable\" to total events is ~69.19%\n",
    "</b>"
   ]
  },
  {
   "cell_type": "markdown",
   "metadata": {
    "deletable": true,
    "editable": true
   },
   "source": [
    "## Distribution of events in Z"
   ]
  },
  {
   "cell_type": "code",
   "execution_count": 178,
   "metadata": {
    "collapsed": false,
    "deletable": true,
    "editable": true,
    "scrolled": true
   },
   "outputs": [
    {
     "name": "stdout",
     "output_type": "stream",
     "text": [
      "[[283.46249999999998, 598.13750000000005]\n",
      " [133.03749999999999, 185.41249999999999]\n",
      " [354.28750000000002, 374.51249999999999, 475.96249999999998] ...,\n",
      " [340.4375] [447.66250000000002] [99.612499999999997, 142.56562500000001]]\n"
     ]
    },
    {
     "ename": "TypeError",
     "evalue": "unorderable types: list() < float()",
     "output_type": "error",
     "traceback": [
      "\u001b[0;31m---------------------------------------------------------------------------\u001b[0m",
      "\u001b[0;31mTypeError\u001b[0m                                 Traceback (most recent call last)",
      "\u001b[0;32m<ipython-input-178-6ebedc6f8115>\u001b[0m in \u001b[0;36m<module>\u001b[0;34m()\u001b[0m\n\u001b[1;32m      1\u001b[0m \u001b[0mprint\u001b[0m\u001b[0;34m(\u001b[0m\u001b[0mdata\u001b[0m\u001b[0;34m.\u001b[0m\u001b[0mZ\u001b[0m\u001b[0;34m)\u001b[0m\u001b[0;34m\u001b[0m\u001b[0m\n\u001b[0;32m----> 2\u001b[0;31m \u001b[0mhist\u001b[0m\u001b[0;34m(\u001b[0m\u001b[0mdata\u001b[0m\u001b[0;34m.\u001b[0m\u001b[0mZ\u001b[0m\u001b[0;34m,\u001b[0m \u001b[0;36m100\u001b[0m\u001b[0;34m)\u001b[0m\u001b[0;34m\u001b[0m\u001b[0m\n\u001b[0m\u001b[1;32m      3\u001b[0m \u001b[0mlabels\u001b[0m\u001b[0;34m(\u001b[0m\u001b[0;34m\"Drift time ($\\mu$s)\"\u001b[0m\u001b[0;34m,\u001b[0m \u001b[0;34m\"Event energy (pes)\"\u001b[0m\u001b[0;34m)\u001b[0m\u001b[0;34m\u001b[0m\u001b[0m\n\u001b[1;32m      4\u001b[0m \u001b[0msave\u001b[0m\u001b[0;34m(\u001b[0m\u001b[0;34m\"Z\"\u001b[0m\u001b[0;34m)\u001b[0m\u001b[0;34m\u001b[0m\u001b[0m\n",
      "\u001b[0;32m<ipython-input-3-32208213289e>\u001b[0m in \u001b[0;36mhist\u001b[0;34m(*args, **kwargs)\u001b[0m\n\u001b[1;32m     47\u001b[0m     \"\"\"\n\u001b[1;32m     48\u001b[0m     \u001b[0mplt\u001b[0m\u001b[0;34m.\u001b[0m\u001b[0mfigure\u001b[0m\u001b[0;34m(\u001b[0m\u001b[0;34m)\u001b[0m\u001b[0;34m\u001b[0m\u001b[0m\n\u001b[0;32m---> 49\u001b[0;31m     \u001b[0;32mreturn\u001b[0m \u001b[0mplt\u001b[0m\u001b[0;34m.\u001b[0m\u001b[0mhist\u001b[0m\u001b[0;34m(\u001b[0m\u001b[0;34m*\u001b[0m\u001b[0margs\u001b[0m\u001b[0;34m,\u001b[0m \u001b[0;34m**\u001b[0m\u001b[0mkwargs\u001b[0m\u001b[0;34m)\u001b[0m\u001b[0;34m\u001b[0m\u001b[0m\n\u001b[0m\u001b[1;32m     50\u001b[0m \u001b[0;34m\u001b[0m\u001b[0m\n\u001b[1;32m     51\u001b[0m \u001b[0;34m\u001b[0m\u001b[0m\n",
      "\u001b[0;32m/home/brais/anaconda3/envs/IC3.5/lib/python3.5/site-packages/matplotlib/pyplot.py\u001b[0m in \u001b[0;36mhist\u001b[0;34m(x, bins, range, normed, weights, cumulative, bottom, histtype, align, orientation, rwidth, log, color, label, stacked, hold, data, **kwargs)\u001b[0m\n\u001b[1;32m   3080\u001b[0m                       \u001b[0mhisttype\u001b[0m\u001b[0;34m=\u001b[0m\u001b[0mhisttype\u001b[0m\u001b[0;34m,\u001b[0m \u001b[0malign\u001b[0m\u001b[0;34m=\u001b[0m\u001b[0malign\u001b[0m\u001b[0;34m,\u001b[0m \u001b[0morientation\u001b[0m\u001b[0;34m=\u001b[0m\u001b[0morientation\u001b[0m\u001b[0;34m,\u001b[0m\u001b[0;34m\u001b[0m\u001b[0m\n\u001b[1;32m   3081\u001b[0m                       \u001b[0mrwidth\u001b[0m\u001b[0;34m=\u001b[0m\u001b[0mrwidth\u001b[0m\u001b[0;34m,\u001b[0m \u001b[0mlog\u001b[0m\u001b[0;34m=\u001b[0m\u001b[0mlog\u001b[0m\u001b[0;34m,\u001b[0m \u001b[0mcolor\u001b[0m\u001b[0;34m=\u001b[0m\u001b[0mcolor\u001b[0m\u001b[0;34m,\u001b[0m \u001b[0mlabel\u001b[0m\u001b[0;34m=\u001b[0m\u001b[0mlabel\u001b[0m\u001b[0;34m,\u001b[0m\u001b[0;34m\u001b[0m\u001b[0m\n\u001b[0;32m-> 3082\u001b[0;31m                       stacked=stacked, data=data, **kwargs)\n\u001b[0m\u001b[1;32m   3083\u001b[0m     \u001b[0;32mfinally\u001b[0m\u001b[0;34m:\u001b[0m\u001b[0;34m\u001b[0m\u001b[0m\n\u001b[1;32m   3084\u001b[0m         \u001b[0max\u001b[0m\u001b[0;34m.\u001b[0m\u001b[0m_hold\u001b[0m \u001b[0;34m=\u001b[0m \u001b[0mwashold\u001b[0m\u001b[0;34m\u001b[0m\u001b[0m\n",
      "\u001b[0;32m/home/brais/anaconda3/envs/IC3.5/lib/python3.5/site-packages/matplotlib/__init__.py\u001b[0m in \u001b[0;36minner\u001b[0;34m(ax, *args, **kwargs)\u001b[0m\n\u001b[1;32m   1890\u001b[0m                     warnings.warn(msg % (label_namer, func.__name__),\n\u001b[1;32m   1891\u001b[0m                                   RuntimeWarning, stacklevel=2)\n\u001b[0;32m-> 1892\u001b[0;31m             \u001b[0;32mreturn\u001b[0m \u001b[0mfunc\u001b[0m\u001b[0;34m(\u001b[0m\u001b[0max\u001b[0m\u001b[0;34m,\u001b[0m \u001b[0;34m*\u001b[0m\u001b[0margs\u001b[0m\u001b[0;34m,\u001b[0m \u001b[0;34m**\u001b[0m\u001b[0mkwargs\u001b[0m\u001b[0;34m)\u001b[0m\u001b[0;34m\u001b[0m\u001b[0m\n\u001b[0m\u001b[1;32m   1893\u001b[0m         \u001b[0mpre_doc\u001b[0m \u001b[0;34m=\u001b[0m \u001b[0minner\u001b[0m\u001b[0;34m.\u001b[0m\u001b[0m__doc__\u001b[0m\u001b[0;34m\u001b[0m\u001b[0m\n\u001b[1;32m   1894\u001b[0m         \u001b[0;32mif\u001b[0m \u001b[0mpre_doc\u001b[0m \u001b[0;32mis\u001b[0m \u001b[0;32mNone\u001b[0m\u001b[0;34m:\u001b[0m\u001b[0;34m\u001b[0m\u001b[0m\n",
      "\u001b[0;32m/home/brais/anaconda3/envs/IC3.5/lib/python3.5/site-packages/matplotlib/axes/_axes.py\u001b[0m in \u001b[0;36mhist\u001b[0;34m(self, x, bins, range, normed, weights, cumulative, bottom, histtype, align, orientation, rwidth, log, color, label, stacked, **kwargs)\u001b[0m\n\u001b[1;32m   6176\u001b[0m             \u001b[0;32mfor\u001b[0m \u001b[0mxi\u001b[0m \u001b[0;32min\u001b[0m \u001b[0mx\u001b[0m\u001b[0;34m:\u001b[0m\u001b[0;34m\u001b[0m\u001b[0m\n\u001b[1;32m   6177\u001b[0m                 \u001b[0;32mif\u001b[0m \u001b[0mlen\u001b[0m\u001b[0;34m(\u001b[0m\u001b[0mxi\u001b[0m\u001b[0;34m)\u001b[0m \u001b[0;34m>\u001b[0m \u001b[0;36m0\u001b[0m\u001b[0;34m:\u001b[0m\u001b[0;34m\u001b[0m\u001b[0m\n\u001b[0;32m-> 6178\u001b[0;31m                     \u001b[0mxmin\u001b[0m \u001b[0;34m=\u001b[0m \u001b[0mmin\u001b[0m\u001b[0;34m(\u001b[0m\u001b[0mxmin\u001b[0m\u001b[0;34m,\u001b[0m \u001b[0mxi\u001b[0m\u001b[0;34m.\u001b[0m\u001b[0mmin\u001b[0m\u001b[0;34m(\u001b[0m\u001b[0;34m)\u001b[0m\u001b[0;34m)\u001b[0m\u001b[0;34m\u001b[0m\u001b[0m\n\u001b[0m\u001b[1;32m   6179\u001b[0m                     \u001b[0mxmax\u001b[0m \u001b[0;34m=\u001b[0m \u001b[0mmax\u001b[0m\u001b[0;34m(\u001b[0m\u001b[0mxmax\u001b[0m\u001b[0;34m,\u001b[0m \u001b[0mxi\u001b[0m\u001b[0;34m.\u001b[0m\u001b[0mmax\u001b[0m\u001b[0;34m(\u001b[0m\u001b[0;34m)\u001b[0m\u001b[0;34m)\u001b[0m\u001b[0;34m\u001b[0m\u001b[0m\n\u001b[1;32m   6180\u001b[0m             \u001b[0mbin_range\u001b[0m \u001b[0;34m=\u001b[0m \u001b[0;34m(\u001b[0m\u001b[0mxmin\u001b[0m\u001b[0;34m,\u001b[0m \u001b[0mxmax\u001b[0m\u001b[0;34m)\u001b[0m\u001b[0;34m\u001b[0m\u001b[0m\n",
      "\u001b[0;31mTypeError\u001b[0m: unorderable types: list() < float()"
     ]
    },
    {
     "data": {
      "image/png": "[encoded data removed]",
      "text/plain": [
       "<matplotlib.figure.Figure at 0x7fe3f209d4a8>"
      ]
     },
     "metadata": {},
     "output_type": "display_data"
    }
   ],
   "source": [
    "print(data.Z)\n",
    "hist(data.Z, 100)\n",
    "labels(\"Drift time ($\\mu$s)\", \"Event energy (pes)\")\n",
    "save(\"Z\")    "
   ]
  },
  {
   "cell_type": "markdown",
   "metadata": {
    "deletable": true,
    "editable": true
   },
   "source": [
    "## Width of S1 signals"
   ]
  },
  {
   "cell_type": "code",
   "execution_count": 201,
   "metadata": {
    "collapsed": false,
    "deletable": true,
    "editable": true
   },
   "outputs": [
    {
     "data": {
      "image/png": "[encoded data removed]",
      "text/plain": [
       "<matplotlib.figure.Figure at 0x7fe3f2cb17b8>"
      ]
     },
     "metadata": {},
     "output_type": "display_data"
    }
   ],
   "source": [
    "s1t = flat(data.S1t)/1e3\n",
    "\n",
    "################################\n",
    "hist(s1t, 100, range=(0, 2e2))\n",
    "labels(\"S1 time (mus)\", \"Entries\")\n",
    "save(\"S1time\")"
   ]
  },
  {
   "cell_type": "code",
   "execution_count": 204,
   "metadata": {
    "collapsed": false,
    "deletable": true,
    "editable": true
   },
   "outputs": [
    {
     "data": {
      "text/plain": [
       "'\\nfor i in data.Z:\\n    print(i)\\n\\nscatter(data.Z[:, 0], s1w)\\nx, y, _ = fitf.profileX(data.Z[:, 0], s1w, 50)\\nplt.plot(x, y, profOpt)\\nf = fitf.fit(fitf.polynom, x, y, (1., 1.))\\nplt.plot(x, f.fn(x), fitOpt)\\nplt.text(20, 20, \"{:.3f} + {:.3f} x\".format(*f.values))\\nlabels(\"Drift time ($\\\\mu$s)\", \"S1 width (ns)\")\\nplt.ylim(0, 2e5)\\nsave(\"S1widthvsZ\")\\n'"
      ]
     },
     "execution_count": 204,
     "metadata": {},
     "output_type": "execute_result"
    },
    {
     "data": {
      "image/png": "[encoded data removed]",
      "text/plain": [
       "<matplotlib.figure.Figure at 0x7fe3f72c1358>"
      ]
     },
     "metadata": {},
     "output_type": "display_data"
    }
   ],
   "source": [
    "s1w = flat(data.S1w)\n",
    "\n",
    "################################\n",
    "hist(s1w, 20, range=(0, 600))\n",
    "labels(\"S1 width (ns)\", \"Entries\")\n",
    "save(\"S1width\")\n",
    "\n",
    "################################\n",
    "'''\n",
    "for i in data.Z:\n",
    "    print(i)\n",
    "\n",
    "scatter(data.Z[:, 0], s1w)\n",
    "x, y, _ = fitf.profileX(data.Z[:, 0], s1w, 50)\n",
    "plt.plot(x, y, profOpt)\n",
    "f = fitf.fit(fitf.polynom, x, y, (1., 1.))\n",
    "plt.plot(x, f.fn(x), fitOpt)\n",
    "plt.text(20, 20, \"{:.3f} + {:.3f} x\".format(*f.values))\n",
    "labels(\"Drift time ($\\mu$s)\", \"S1 width (ns)\")\n",
    "plt.ylim(0, 2e5)\n",
    "save(\"S1widthvsZ\")\n",
    "'''\n"
   ]
  },
  {
   "cell_type": "markdown",
   "metadata": {
    "deletable": true,
    "editable": true
   },
   "source": [
    "# Height of S1 signals"
   ]
  },
  {
   "cell_type": "code",
   "execution_count": 205,
   "metadata": {
    "collapsed": false,
    "deletable": true,
    "editable": true,
    "scrolled": false
   },
   "outputs": [
    {
     "data": {
      "text/plain": [
       "'\\nprint(len(data.Z[:,0]), len(s1h))\\nscatter(data.Z[:,0], s1h)\\nx, y, _ = fitf.profileX(data.Z[:,0], s1h, 100)\\nplt.plot(x, y, profOpt)\\nf = fitf.fit(fitf.polynom, x, y, (1., 0.8, 0.01))\\n#plt.plot(x, f.fn(x), fitOpt)\\n#plt.text(0, 6, \"{:.3g} + {:.3g} x + {:.3g} x^2\".format(*f.values))\\nlabels(\"Drift time ($\\\\mu$s)\", \"S1 height (pes)\")\\nplt.ylim(0, 100)\\nsave(\"S1heightvsZ\")\\n'"
      ]
     },
     "execution_count": 205,
     "metadata": {},
     "output_type": "execute_result"
    },
    {
     "data": {
      "image/png": "[encoded data removed]",
      "text/plain": [
       "<matplotlib.figure.Figure at 0x7fe3f277dd68>"
      ]
     },
     "metadata": {},
     "output_type": "display_data"
    }
   ],
   "source": [
    "s1h = flat(data.S1h)\n",
    "\n",
    "################################\n",
    "hist(s1h, 40, range=(0, 100))\n",
    "labels(\"S1 height (pes)\", \"Entries\")\n",
    "save(\"S1height\")\n",
    "\n",
    "################################\n",
    "'''\n",
    "print(len(data.Z[:,0]), len(s1h))\n",
    "scatter(data.Z[:,0], s1h)\n",
    "x, y, _ = fitf.profileX(data.Z[:,0], s1h, 100)\n",
    "plt.plot(x, y, profOpt)\n",
    "f = fitf.fit(fitf.polynom, x, y, (1., 0.8, 0.01))\n",
    "#plt.plot(x, f.fn(x), fitOpt)\n",
    "#plt.text(0, 6, \"{:.3g} + {:.3g} x + {:.3g} x^2\".format(*f.values))\n",
    "labels(\"Drift time ($\\mu$s)\", \"S1 height (pes)\")\n",
    "plt.ylim(0, 100)\n",
    "save(\"S1heightvsZ\")\n",
    "'''"
   ]
  },
  {
   "cell_type": "code",
   "execution_count": 206,
   "metadata": {
    "collapsed": false
   },
   "outputs": [
    {
     "data": {
      "image/png": "[encoded data removed]",
      "text/plain": [
       "<matplotlib.figure.Figure at 0x7fe3f1ad98d0>"
      ]
     },
     "metadata": {},
     "output_type": "display_data"
    }
   ],
   "source": [
    "\n",
    "s1h = flat(data.S1h)\n",
    "s1w = flat(data.S1w)\n",
    "scatter(s1h,s1w)\n",
    "plt.yscale\n",
    "#x, y, _ = fitf.profileX(s1h, s1w, 100)\n",
    "#plt.plot(x, y, profOpt)\n",
    "#f = fitf.fit(fitf.polynom, x, y, (1., 1e-2, 1e-4))\n",
    "#plt.plot(x, f.fn(x), fitOpt)\n",
    "#plt.text(0, 100, \"{:.3g} + {:.3g} x + {:.3g} x^2\".format(*f.values))\n",
    "labels(\"S1 height (pes)\", \"S1 width (ns)\")\n",
    "plt.ylim(0, 1000)\n",
    "save(\"S1withvsS1Height\")"
   ]
  },
  {
   "cell_type": "markdown",
   "metadata": {
    "deletable": true,
    "editable": true
   },
   "source": [
    "## S1 energy"
   ]
  },
  {
   "cell_type": "code",
   "execution_count": 207,
   "metadata": {
    "collapsed": false,
    "deletable": true,
    "editable": true,
    "scrolled": false
   },
   "outputs": [
    {
     "data": {
      "text/plain": [
       "'\\nscatter(data.Z, s1i)\\nx, y, _ = fitf.profileX(data.Z, s1i, 100)\\nplt.plot(x, y, profOpt)\\nf = fitf.fit(fitf.polynom, x, y, (1., 1e-2, 1e-4))\\nplt.plot(x, f.fn(x), fitOpt)\\nplt.text(0, 20, \"{:.3g} + {:.3g} x + {:.3g} x^2\".format(*f.values))\\nlabels(\"Drift time ($\\\\mu$s)\", \"S1 energy (pes)\")\\nplt.ylim(0, 25)\\nsave(\"S1vsZ\")\\n'"
      ]
     },
     "execution_count": 207,
     "metadata": {},
     "output_type": "execute_result"
    },
    {
     "data": {
      "image/png": "[encoded data removed]",
      "text/plain": [
       "<matplotlib.figure.Figure at 0x7fe3f7310080>"
      ]
     },
     "metadata": {},
     "output_type": "display_data"
    },
    {
     "data": {
      "image/png": "[encoded data removed]",
      "text/plain": [
       "<matplotlib.figure.Figure at 0x7fe3f1442940>"
      ]
     },
     "metadata": {},
     "output_type": "display_data"
    }
   ],
   "source": [
    "s1i = flat(data.S1i)\n",
    "\n",
    "################################\n",
    "hist(s1i, 50, range=(0, 600))\n",
    "labels(\"S1 integral (pes)\", \"Entries\")\n",
    "save(\"S1energy\")\n",
    "\n",
    "################################\n",
    "pdf(s1i, 50, range=(0, 600))\n",
    "labels(\"S1 integral (pes)\", \"Entries\")\n",
    "save(\"S1energy_log\")\n",
    "\n",
    "################################\n",
    "\"\"\"\n",
    "scatter(data.Z, s1i)\n",
    "x, y, _ = fitf.profileX(data.Z, s1i, 100)\n",
    "plt.plot(x, y, profOpt)\n",
    "f = fitf.fit(fitf.polynom, x, y, (1., 1e-2, 1e-4))\n",
    "plt.plot(x, f.fn(x), fitOpt)\n",
    "plt.text(0, 20, \"{:.3g} + {:.3g} x + {:.3g} x^2\".format(*f.values))\n",
    "labels(\"Drift time ($\\mu$s)\", \"S1 energy (pes)\")\n",
    "plt.ylim(0, 25)\n",
    "save(\"S1vsZ\")\n",
    "\"\"\""
   ]
  },
  {
   "cell_type": "markdown",
   "metadata": {
    "deletable": true,
    "editable": true
   },
   "source": [
    "## S1 peak-to-area ratio"
   ]
  },
  {
   "cell_type": "code",
   "execution_count": 208,
   "metadata": {
    "collapsed": false,
    "deletable": true,
    "editable": true
   },
   "outputs": [
    {
     "name": "stderr",
     "output_type": "stream",
     "text": [
      "/home/brais/Documents/Next/IC/IC-1/invisible_cities/core/fit_functions.py:119: RuntimeWarning: divide by zero encountered in true_divide\n",
      "  chi2 = np.sum(np.ma.masked_invalid((fitx - y)**2/y))\n"
     ]
    },
    {
     "data": {
      "image/png": "[encoded data removed]",
      "text/plain": [
       "<matplotlib.figure.Figure at 0x7fe3f23412e8>"
      ]
     },
     "metadata": {},
     "output_type": "display_data"
    }
   ],
   "source": [
    "################################\n",
    "y, x, _ = hist(s1h/s1i, 50, range=(0, 0.5))\n",
    "x = x[:-1] + np.diff(x) * 0.5\n",
    "f = fitf.fit(fitf.gauss, x, y, (1e5, 0.3, 0.01))\n",
    "#plt.plot(x, f.fn(x), \"r\")\n",
    "labels(\"Peak to area ratio (pes/pes)\", \"Entries\")\n",
    "save(\"S1peak2area\")"
   ]
  },
  {
   "cell_type": "markdown",
   "metadata": {
    "deletable": true,
    "editable": true
   },
   "source": [
    "<b>\n",
    "1. The peak to area ratio is roughtly gaussianly distributed. On average, the ratio is ~26%.\n",
    "</b>"
   ]
  },
  {
   "cell_type": "markdown",
   "metadata": {
    "deletable": true,
    "editable": true
   },
   "source": [
    "## Width of S2 signals"
   ]
  },
  {
   "cell_type": "code",
   "execution_count": 209,
   "metadata": {
    "collapsed": false,
    "deletable": true,
    "editable": true
   },
   "outputs": [
    {
     "data": {
      "image/png": "[encoded data removed]",
      "text/plain": [
       "<matplotlib.figure.Figure at 0x7fe3f104a160>"
      ]
     },
     "metadata": {},
     "output_type": "display_data"
    }
   ],
   "source": [
    "s2t = flat(data.S2t)/1e3\n",
    "\n",
    "################################\n",
    "hist(s2t, 100, range=(0, 10e2))\n",
    "labels(\"S2 time (mus)\", \"Entries\")\n",
    "save(\"S2time_ok\")"
   ]
  },
  {
   "cell_type": "code",
   "execution_count": 211,
   "metadata": {
    "collapsed": false,
    "deletable": true,
    "editable": true
   },
   "outputs": [
    {
     "data": {
      "image/png": "[encoded data removed]",
      "text/plain": [
       "<matplotlib.figure.Figure at 0x7fe3f1cc8518>"
      ]
     },
     "metadata": {},
     "output_type": "display_data"
    }
   ],
   "source": [
    "s2w = flat(data.S2w)\n",
    "\n",
    "################################\n",
    "hist(s2w, 30, range=(0, 100))\n",
    "labels(\"S2 width (mus)\", \"Entries\")\n",
    "save(\"S2width\")\n",
    "\n",
    "################################\n",
    "#scatter(flat(data.Z), s2w[::-1])\n",
    "#x, y, _ = fitf.profileX(data.Z, s2w, 100)\n",
    "#plt.plot(x, y, profOpt)\n",
    "#f = fitf.fit(fitf.power, x, y, (1., 0.8))\n",
    "#plt.plot(x, f.fn(x), fitOpt)\n",
    "#plt.text(0, 20, \"{:.3f} $\\cdot$ x^{:.2f}\".format(*f.values))\n",
    "#labels(\"Drift time ($\\mu$s)\", \"S2 width ($\\mu$s)\")\n",
    "#plt.ylim(0, 30)\n",
    "#save(\"S2widthvsZ\")"
   ]
  },
  {
   "cell_type": "markdown",
   "metadata": {
    "deletable": true,
    "editable": true
   },
   "source": [
    "# Height of S2 signals"
   ]
  },
  {
   "cell_type": "code",
   "execution_count": 212,
   "metadata": {
    "collapsed": false,
    "deletable": true,
    "editable": true,
    "scrolled": false
   },
   "outputs": [
    {
     "data": {
      "image/png": "[encoded data removed]",
      "text/plain": [
       "<matplotlib.figure.Figure at 0x7fe3fa370080>"
      ]
     },
     "metadata": {},
     "output_type": "display_data"
    },
    {
     "data": {
      "image/png": "[encoded data removed]",
      "text/plain": [
       "<matplotlib.figure.Figure at 0x7fe3f8f68f28>"
      ]
     },
     "metadata": {},
     "output_type": "display_data"
    }
   ],
   "source": [
    "s2h = flat(data.S2h)\n",
    "\n",
    "################################\n",
    "hist(s2h, 40, range=(0, 15e3))\n",
    "labels(\"S2 height (pes)\", \"Entries\")\n",
    "save(\"S2height\")\n",
    "\n",
    "################################\n",
    "\"\"\"scatter(data.Z, s2h)\n",
    "x, y, _ = fitf.profileX(data.Z, s2h, 100)\n",
    "plt.plot(x, y, profOpt)\n",
    "fun = lambda x, *args: fitf.expo(x,*args[:2])/fitf.power(x, *args[2:])\n",
    "f = fitf.fit(fun, x, y, (1., -2e4, 0.1, -0.8))\n",
    "plt.plot(x, f.fn(x), fitOpt)\n",
    "plt.text(1e2, 4e3, \"{:.3f} exp(x/{:.3g}) / \"\n",
    "                   \"({:.3g} $\\cdot$ x^{:.2f})\".format(*f.values))\n",
    "labels(\"Drift time ($\\mu$s)\", \"S2 height (pes)\")\n",
    "plt.ylim(0, 3e4)\n",
    "save(\"S2heightvsZ\")\n",
    "\"\"\"\n",
    "################################\n",
    "scatter(s2w, s2h)\n",
    "#x, y, _ = fitf.profileX(s2w, s2h, 50)\n",
    "#plt.plot(x, y, profOpt)\n",
    "#f = fitf.fit(fitf.power, x, y, (1., -1.0))\n",
    "#plt.plot(x, f.fn(x), fitOpt)\n",
    "#plt.text(10, 4e3, \"{:.3f} $\\cdot$ x^{:.2f}\".format(*f.values))\n",
    "labels(\"S2 width ($\\mu$s)\", \"S2 height (pes)\")\n",
    "plt.ylim(0, 3e4)\n",
    "plt.xlim(0,100)\n",
    "save(\"S2heightvsS2width\")\n"
   ]
  },
  {
   "cell_type": "markdown",
   "metadata": {
    "deletable": true,
    "editable": true
   },
   "source": [
    "## S2 energy"
   ]
  },
  {
   "cell_type": "code",
   "execution_count": 213,
   "metadata": {
    "collapsed": false,
    "deletable": true,
    "editable": true
   },
   "outputs": [
    {
     "data": {
      "text/plain": [
       "'\\nscatter(data.Z, s2i)\\nx, y, _ = fitf.profileX(data.Z, s2i, 100)\\nplt.plot(x, y, profOpt)\\nf = fitf.fit(fitf.expo, x, y, (7e3, -1))\\nplt.plot(x, f.fn(x), fitOpt)\\nplt.text(0, 2200, \"{:.1f} $\\\\cdot$ exp(-x/{:.4g})\".format(*f.values))\\nlabels(\"Drift time ($\\\\mu$s)\", \"Event energy (pes)\")\\nplt.ylim(2e3, 8e3)\\nsave(\"EvsZ\")\\n'"
      ]
     },
     "execution_count": 213,
     "metadata": {},
     "output_type": "execute_result"
    },
    {
     "data": {
      "image/png": "[encoded data removed]",
      "text/plain": [
       "<matplotlib.figure.Figure at 0x7fe3f17665c0>"
      ]
     },
     "metadata": {},
     "output_type": "display_data"
    },
    {
     "data": {
      "image/png": "[encoded data removed]",
      "text/plain": [
       "<matplotlib.figure.Figure at 0x7fe3f1665898>"
      ]
     },
     "metadata": {},
     "output_type": "display_data"
    },
    {
     "data": {
      "image/png": "[encoded data removed]",
      "text/plain": [
       "<matplotlib.figure.Figure at 0x7fe3f1a777f0>"
      ]
     },
     "metadata": {},
     "output_type": "display_data"
    },
    {
     "data": {
      "image/png": "[encoded data removed]",
      "text/plain": [
       "<matplotlib.figure.Figure at 0x7fe3f7306c50>"
      ]
     },
     "metadata": {},
     "output_type": "display_data"
    }
   ],
   "source": [
    "s2i = flat(data.S2i)\n",
    "\n",
    "################################\n",
    "hist(s2i, 50, range=(0, 300e3))\n",
    "labels(\"S2 integral (pes)\", \"Entries\")\n",
    "save(\"S2energy_fullRange\")\n",
    "\n",
    "################################\n",
    "hist(s2i, 50, range=(0, 8e3))\n",
    "labels(\"S2 integral (pes)\", \"Entries\")\n",
    "save(\"S2energy_RX\")\n",
    "\n",
    "################################\n",
    "pdf(s2i, 50, range=(0, 300e3))\n",
    "labels(\"S2 integral (pes)\", \"Entries\")\n",
    "save(\"S2energy_log_fullRange\")\n",
    "\n",
    "################################\n",
    "pdf(s2i, 50, range=(0, 8e3))\n",
    "labels(\"S2 integral (pes)\", \"Entries\")\n",
    "save(\"S2energy_log_RX\")\n",
    "\n",
    "################################\n",
    "'''\n",
    "scatter(data.Z, s2i)\n",
    "x, y, _ = fitf.profileX(data.Z, s2i, 100)\n",
    "plt.plot(x, y, profOpt)\n",
    "f = fitf.fit(fitf.expo, x, y, (7e3, -1))\n",
    "plt.plot(x, f.fn(x), fitOpt)\n",
    "plt.text(0, 2200, \"{:.1f} $\\cdot$ exp(-x/{:.4g})\".format(*f.values))\n",
    "labels(\"Drift time ($\\mu$s)\", \"Event energy (pes)\")\n",
    "plt.ylim(2e3, 8e3)\n",
    "save(\"EvsZ\")\n",
    "'''"
   ]
  },
  {
   "cell_type": "code",
   "execution_count": null,
   "metadata": {
    "collapsed": true
   },
   "outputs": [],
   "source": []
  },
  {
   "cell_type": "code",
   "execution_count": null,
   "metadata": {
    "collapsed": true
   },
   "outputs": [],
   "source": []
  },
  {
   "cell_type": "code",
   "execution_count": null,
   "metadata": {
    "collapsed": true
   },
   "outputs": [],
   "source": []
  },
  {
   "cell_type": "code",
   "execution_count": null,
   "metadata": {
    "collapsed": true
   },
   "outputs": [],
   "source": []
  },
  {
   "cell_type": "code",
   "execution_count": null,
   "metadata": {
    "collapsed": true
   },
   "outputs": [],
   "source": []
  },
  {
   "cell_type": "markdown",
   "metadata": {
    "deletable": true,
    "editable": true
   },
   "source": [
    "## S2 peak-to-area ratio"
   ]
  },
  {
   "cell_type": "code",
   "execution_count": 214,
   "metadata": {
    "collapsed": false,
    "deletable": true,
    "editable": true
   },
   "outputs": [
    {
     "data": {
      "image/png": "[encoded data removed]",
      "text/plain": [
       "<matplotlib.figure.Figure at 0x7fe3f7bdb2e8>"
      ]
     },
     "metadata": {},
     "output_type": "display_data"
    }
   ],
   "source": [
    "################################\n",
    "hist(s2h/s2i, 50, range=(0, 1))\n",
    "labels(\"Peak to area ratio (pes/pes)\", \"Entries\")\n",
    "save(\"S2peak2area\")"
   ]
  },
  {
   "cell_type": "markdown",
   "metadata": {
    "deletable": true,
    "editable": true
   },
   "source": [
    "<b>\n",
    "1. The peak to area ratio seems to be composed of different types of peaks (~0.2, ~0.32, ~0.42, ~0.5). Not yet understood, but surely related to the structure found in the height of S2 signals.\n",
    "</b>"
   ]
  },
  {
   "cell_type": "markdown",
   "metadata": {
    "deletable": true,
    "editable": true
   },
   "source": [
    "## S2 vs S1"
   ]
  },
  {
   "cell_type": "code",
   "execution_count": 62,
   "metadata": {
    "collapsed": false,
    "deletable": true,
    "editable": true
   },
   "outputs": [
    {
     "name": "stdout",
     "output_type": "stream",
     "text": [
      "[  21037.00981998   14909.16256714  151959.96480942 ...,   20367.43749619\n",
      "   63449.7917366      290.22417879]\n"
     ]
    },
    {
     "ename": "ValueError",
     "evalue": "x and y must be the same size",
     "output_type": "error",
     "traceback": [
      "\u001b[0;31m---------------------------------------------------------------------------\u001b[0m",
      "\u001b[0;31mValueError\u001b[0m                                Traceback (most recent call last)",
      "\u001b[0;32m<ipython-input-62-a54de2ed6a97>\u001b[0m in \u001b[0;36m<module>\u001b[0;34m()\u001b[0m\n\u001b[1;32m      1\u001b[0m \u001b[0;31m################################\u001b[0m\u001b[0;34m\u001b[0m\u001b[0;34m\u001b[0m\u001b[0m\n\u001b[1;32m      2\u001b[0m \u001b[0mprint\u001b[0m\u001b[0;34m(\u001b[0m\u001b[0ms2i\u001b[0m\u001b[0;34m)\u001b[0m\u001b[0;34m\u001b[0m\u001b[0m\n\u001b[0;32m----> 3\u001b[0;31m \u001b[0mscatter\u001b[0m\u001b[0;34m(\u001b[0m\u001b[0ms1i\u001b[0m\u001b[0;34m,\u001b[0m \u001b[0ms2i\u001b[0m\u001b[0;34m)\u001b[0m\u001b[0;34m\u001b[0m\u001b[0m\n\u001b[0m\u001b[1;32m      4\u001b[0m \u001b[0mx\u001b[0m\u001b[0;34m,\u001b[0m \u001b[0my\u001b[0m\u001b[0;34m,\u001b[0m \u001b[0m_\u001b[0m \u001b[0;34m=\u001b[0m \u001b[0mfitf\u001b[0m\u001b[0;34m.\u001b[0m\u001b[0mprofileX\u001b[0m\u001b[0;34m(\u001b[0m\u001b[0ms1i\u001b[0m\u001b[0;34m,\u001b[0m \u001b[0ms2i\u001b[0m\u001b[0;34m,\u001b[0m \u001b[0;36m100\u001b[0m\u001b[0;34m,\u001b[0m \u001b[0;34m(\u001b[0m\u001b[0;36m0\u001b[0m\u001b[0;34m,\u001b[0m \u001b[0;36m20\u001b[0m\u001b[0;34m)\u001b[0m\u001b[0;34m)\u001b[0m\u001b[0;34m\u001b[0m\u001b[0m\n\u001b[1;32m      5\u001b[0m \u001b[0mplt\u001b[0m\u001b[0;34m.\u001b[0m\u001b[0mplot\u001b[0m\u001b[0;34m(\u001b[0m\u001b[0mx\u001b[0m\u001b[0;34m,\u001b[0m \u001b[0my\u001b[0m\u001b[0;34m,\u001b[0m \u001b[0mprofOpt\u001b[0m\u001b[0;34m)\u001b[0m\u001b[0;34m\u001b[0m\u001b[0m\n",
      "\u001b[0;32m<ipython-input-3-32208213289e>\u001b[0m in \u001b[0;36mscatter\u001b[0;34m(*args, **kwargs)\u001b[0m\n\u001b[1;32m     73\u001b[0m     \"\"\"\n\u001b[1;32m     74\u001b[0m     \u001b[0mplt\u001b[0m\u001b[0;34m.\u001b[0m\u001b[0mfigure\u001b[0m\u001b[0;34m(\u001b[0m\u001b[0;34m)\u001b[0m\u001b[0;34m\u001b[0m\u001b[0m\n\u001b[0;32m---> 75\u001b[0;31m     \u001b[0;32mreturn\u001b[0m \u001b[0mplt\u001b[0m\u001b[0;34m.\u001b[0m\u001b[0mscatter\u001b[0m\u001b[0;34m(\u001b[0m\u001b[0;34m*\u001b[0m\u001b[0margs\u001b[0m\u001b[0;34m,\u001b[0m \u001b[0;34m**\u001b[0m\u001b[0mkwargs\u001b[0m\u001b[0;34m)\u001b[0m\u001b[0;34m\u001b[0m\u001b[0m\n\u001b[0m\u001b[1;32m     76\u001b[0m \u001b[0;34m\u001b[0m\u001b[0m\n\u001b[1;32m     77\u001b[0m \u001b[0;34m\u001b[0m\u001b[0m\n",
      "\u001b[0;32m/home/brais/anaconda3/envs/IC3.5/lib/python3.5/site-packages/matplotlib/pyplot.py\u001b[0m in \u001b[0;36mscatter\u001b[0;34m(x, y, s, c, marker, cmap, norm, vmin, vmax, alpha, linewidths, verts, edgecolors, hold, data, **kwargs)\u001b[0m\n\u001b[1;32m   3433\u001b[0m                          \u001b[0mvmin\u001b[0m\u001b[0;34m=\u001b[0m\u001b[0mvmin\u001b[0m\u001b[0;34m,\u001b[0m \u001b[0mvmax\u001b[0m\u001b[0;34m=\u001b[0m\u001b[0mvmax\u001b[0m\u001b[0;34m,\u001b[0m \u001b[0malpha\u001b[0m\u001b[0;34m=\u001b[0m\u001b[0malpha\u001b[0m\u001b[0;34m,\u001b[0m\u001b[0;34m\u001b[0m\u001b[0m\n\u001b[1;32m   3434\u001b[0m                          \u001b[0mlinewidths\u001b[0m\u001b[0;34m=\u001b[0m\u001b[0mlinewidths\u001b[0m\u001b[0;34m,\u001b[0m \u001b[0mverts\u001b[0m\u001b[0;34m=\u001b[0m\u001b[0mverts\u001b[0m\u001b[0;34m,\u001b[0m\u001b[0;34m\u001b[0m\u001b[0m\n\u001b[0;32m-> 3435\u001b[0;31m                          edgecolors=edgecolors, data=data, **kwargs)\n\u001b[0m\u001b[1;32m   3436\u001b[0m     \u001b[0;32mfinally\u001b[0m\u001b[0;34m:\u001b[0m\u001b[0;34m\u001b[0m\u001b[0m\n\u001b[1;32m   3437\u001b[0m         \u001b[0max\u001b[0m\u001b[0;34m.\u001b[0m\u001b[0m_hold\u001b[0m \u001b[0;34m=\u001b[0m \u001b[0mwashold\u001b[0m\u001b[0;34m\u001b[0m\u001b[0m\n",
      "\u001b[0;32m/home/brais/anaconda3/envs/IC3.5/lib/python3.5/site-packages/matplotlib/__init__.py\u001b[0m in \u001b[0;36minner\u001b[0;34m(ax, *args, **kwargs)\u001b[0m\n\u001b[1;32m   1890\u001b[0m                     warnings.warn(msg % (label_namer, func.__name__),\n\u001b[1;32m   1891\u001b[0m                                   RuntimeWarning, stacklevel=2)\n\u001b[0;32m-> 1892\u001b[0;31m             \u001b[0;32mreturn\u001b[0m \u001b[0mfunc\u001b[0m\u001b[0;34m(\u001b[0m\u001b[0max\u001b[0m\u001b[0;34m,\u001b[0m \u001b[0;34m*\u001b[0m\u001b[0margs\u001b[0m\u001b[0;34m,\u001b[0m \u001b[0;34m**\u001b[0m\u001b[0mkwargs\u001b[0m\u001b[0;34m)\u001b[0m\u001b[0;34m\u001b[0m\u001b[0m\n\u001b[0m\u001b[1;32m   1893\u001b[0m         \u001b[0mpre_doc\u001b[0m \u001b[0;34m=\u001b[0m \u001b[0minner\u001b[0m\u001b[0;34m.\u001b[0m\u001b[0m__doc__\u001b[0m\u001b[0;34m\u001b[0m\u001b[0m\n\u001b[1;32m   1894\u001b[0m         \u001b[0;32mif\u001b[0m \u001b[0mpre_doc\u001b[0m \u001b[0;32mis\u001b[0m \u001b[0;32mNone\u001b[0m\u001b[0;34m:\u001b[0m\u001b[0;34m\u001b[0m\u001b[0m\n",
      "\u001b[0;32m/home/brais/anaconda3/envs/IC3.5/lib/python3.5/site-packages/matplotlib/axes/_axes.py\u001b[0m in \u001b[0;36mscatter\u001b[0;34m(self, x, y, s, c, marker, cmap, norm, vmin, vmax, alpha, linewidths, verts, edgecolors, **kwargs)\u001b[0m\n\u001b[1;32m   3956\u001b[0m         \u001b[0my\u001b[0m \u001b[0;34m=\u001b[0m \u001b[0mnp\u001b[0m\u001b[0;34m.\u001b[0m\u001b[0mma\u001b[0m\u001b[0;34m.\u001b[0m\u001b[0mravel\u001b[0m\u001b[0;34m(\u001b[0m\u001b[0my\u001b[0m\u001b[0;34m)\u001b[0m\u001b[0;34m\u001b[0m\u001b[0m\n\u001b[1;32m   3957\u001b[0m         \u001b[0;32mif\u001b[0m \u001b[0mx\u001b[0m\u001b[0;34m.\u001b[0m\u001b[0msize\u001b[0m \u001b[0;34m!=\u001b[0m \u001b[0my\u001b[0m\u001b[0;34m.\u001b[0m\u001b[0msize\u001b[0m\u001b[0;34m:\u001b[0m\u001b[0;34m\u001b[0m\u001b[0m\n\u001b[0;32m-> 3958\u001b[0;31m             \u001b[0;32mraise\u001b[0m \u001b[0mValueError\u001b[0m\u001b[0;34m(\u001b[0m\u001b[0;34m\"x and y must be the same size\"\u001b[0m\u001b[0;34m)\u001b[0m\u001b[0;34m\u001b[0m\u001b[0m\n\u001b[0m\u001b[1;32m   3959\u001b[0m \u001b[0;34m\u001b[0m\u001b[0m\n\u001b[1;32m   3960\u001b[0m         \u001b[0;32mif\u001b[0m \u001b[0ms\u001b[0m \u001b[0;32mis\u001b[0m \u001b[0;32mNone\u001b[0m\u001b[0;34m:\u001b[0m\u001b[0;34m\u001b[0m\u001b[0m\n",
      "\u001b[0;31mValueError\u001b[0m: x and y must be the same size"
     ]
    },
    {
     "data": {
      "image/png": "[encoded data removed]",
      "text/plain": [
       "<matplotlib.figure.Figure at 0x7fe3f7722828>"
      ]
     },
     "metadata": {},
     "output_type": "display_data"
    }
   ],
   "source": [
    "################################\n",
    "print(s2i)\n",
    "scatter(s1i, s2i)\n",
    "x, y, _ = fitf.profileX(s1i, s2i, 100, (0, 20))\n",
    "plt.plot(x, y, profOpt)\n",
    "f = fitf.fit(fitf.polynom, x, y, (6e3, -1.))\n",
    "plt.plot(x, f.fn(x), fitOpt)\n",
    "plt.text(12, 3200, \"{:.3f} + {:.3f} x\".format(*f.values))\n",
    "labels(\"S1 energy (pes)\", \"S2 energy (pes)\")\n",
    "plt.xlim(0, 20)\n",
    "plt.ylim(2e3, 8e3)\n",
    "save(\"S2vsS1\")\n"
   ]
  },
  {
   "cell_type": "markdown",
   "metadata": {
    "deletable": true,
    "editable": true
   },
   "source": [
    "<b>\n",
    "1. S2 energy is also (anti)correlated with S1 charge. I don’t know where does this come from as there is no recombination in the MC. It may be caused purely by the S2 vs Z dependence.\n",
    "</b>"
   ]
  },
  {
   "cell_type": "markdown",
   "metadata": {
    "deletable": true,
    "editable": true
   },
   "source": [
    "## Number of SiPMs touched"
   ]
  },
  {
   "cell_type": "code",
   "execution_count": 196,
   "metadata": {
    "collapsed": false,
    "deletable": true,
    "editable": true,
    "scrolled": false
   },
   "outputs": [
    {
     "ename": "ValueError",
     "evalue": "x and y must be the same size",
     "output_type": "error",
     "traceback": [
      "\u001b[0;31m---------------------------------------------------------------------------\u001b[0m",
      "\u001b[0;31mValueError\u001b[0m                                Traceback (most recent call last)",
      "\u001b[0;32m<ipython-input-196-204ecdc0570e>\u001b[0m in \u001b[0;36m<module>\u001b[0;34m()\u001b[0m\n\u001b[1;32m      7\u001b[0m \u001b[0;34m\u001b[0m\u001b[0m\n\u001b[1;32m      8\u001b[0m \u001b[0;31m################################\u001b[0m\u001b[0;34m\u001b[0m\u001b[0;34m\u001b[0m\u001b[0m\n\u001b[0;32m----> 9\u001b[0;31m \u001b[0mscatter\u001b[0m\u001b[0;34m(\u001b[0m\u001b[0mdata\u001b[0m\u001b[0;34m.\u001b[0m\u001b[0mZ\u001b[0m\u001b[0;34m,\u001b[0m \u001b[0mnsipm\u001b[0m\u001b[0;34m)\u001b[0m\u001b[0;34m\u001b[0m\u001b[0m\n\u001b[0m\u001b[1;32m     10\u001b[0m \u001b[0mx\u001b[0m\u001b[0;34m,\u001b[0m \u001b[0my\u001b[0m\u001b[0;34m,\u001b[0m \u001b[0m_\u001b[0m \u001b[0;34m=\u001b[0m \u001b[0mfitf\u001b[0m\u001b[0;34m.\u001b[0m\u001b[0mprofileX\u001b[0m\u001b[0;34m(\u001b[0m\u001b[0mflat\u001b[0m\u001b[0;34m(\u001b[0m\u001b[0mdata\u001b[0m\u001b[0;34m.\u001b[0m\u001b[0mZ\u001b[0m\u001b[0;34m)\u001b[0m\u001b[0;34m,\u001b[0m \u001b[0mnsipm\u001b[0m\u001b[0;34m,\u001b[0m \u001b[0;36m100\u001b[0m\u001b[0;34m)\u001b[0m\u001b[0;34m\u001b[0m\u001b[0m\n\u001b[1;32m     11\u001b[0m \u001b[0mplt\u001b[0m\u001b[0;34m.\u001b[0m\u001b[0mplot\u001b[0m\u001b[0;34m(\u001b[0m\u001b[0mx\u001b[0m\u001b[0;34m,\u001b[0m \u001b[0my\u001b[0m\u001b[0;34m,\u001b[0m \u001b[0mprofOpt\u001b[0m\u001b[0;34m)\u001b[0m\u001b[0;34m\u001b[0m\u001b[0m\n",
      "\u001b[0;32m<ipython-input-3-32208213289e>\u001b[0m in \u001b[0;36mscatter\u001b[0;34m(*args, **kwargs)\u001b[0m\n\u001b[1;32m     73\u001b[0m     \"\"\"\n\u001b[1;32m     74\u001b[0m     \u001b[0mplt\u001b[0m\u001b[0;34m.\u001b[0m\u001b[0mfigure\u001b[0m\u001b[0;34m(\u001b[0m\u001b[0;34m)\u001b[0m\u001b[0;34m\u001b[0m\u001b[0m\n\u001b[0;32m---> 75\u001b[0;31m     \u001b[0;32mreturn\u001b[0m \u001b[0mplt\u001b[0m\u001b[0;34m.\u001b[0m\u001b[0mscatter\u001b[0m\u001b[0;34m(\u001b[0m\u001b[0;34m*\u001b[0m\u001b[0margs\u001b[0m\u001b[0;34m,\u001b[0m \u001b[0;34m**\u001b[0m\u001b[0mkwargs\u001b[0m\u001b[0;34m)\u001b[0m\u001b[0;34m\u001b[0m\u001b[0m\n\u001b[0m\u001b[1;32m     76\u001b[0m \u001b[0;34m\u001b[0m\u001b[0m\n\u001b[1;32m     77\u001b[0m \u001b[0;34m\u001b[0m\u001b[0m\n",
      "\u001b[0;32m/home/brais/anaconda3/envs/IC3.5/lib/python3.5/site-packages/matplotlib/pyplot.py\u001b[0m in \u001b[0;36mscatter\u001b[0;34m(x, y, s, c, marker, cmap, norm, vmin, vmax, alpha, linewidths, verts, edgecolors, hold, data, **kwargs)\u001b[0m\n\u001b[1;32m   3433\u001b[0m                          \u001b[0mvmin\u001b[0m\u001b[0;34m=\u001b[0m\u001b[0mvmin\u001b[0m\u001b[0;34m,\u001b[0m \u001b[0mvmax\u001b[0m\u001b[0;34m=\u001b[0m\u001b[0mvmax\u001b[0m\u001b[0;34m,\u001b[0m \u001b[0malpha\u001b[0m\u001b[0;34m=\u001b[0m\u001b[0malpha\u001b[0m\u001b[0;34m,\u001b[0m\u001b[0;34m\u001b[0m\u001b[0m\n\u001b[1;32m   3434\u001b[0m                          \u001b[0mlinewidths\u001b[0m\u001b[0;34m=\u001b[0m\u001b[0mlinewidths\u001b[0m\u001b[0;34m,\u001b[0m \u001b[0mverts\u001b[0m\u001b[0;34m=\u001b[0m\u001b[0mverts\u001b[0m\u001b[0;34m,\u001b[0m\u001b[0;34m\u001b[0m\u001b[0m\n\u001b[0;32m-> 3435\u001b[0;31m                          edgecolors=edgecolors, data=data, **kwargs)\n\u001b[0m\u001b[1;32m   3436\u001b[0m     \u001b[0;32mfinally\u001b[0m\u001b[0;34m:\u001b[0m\u001b[0;34m\u001b[0m\u001b[0m\n\u001b[1;32m   3437\u001b[0m         \u001b[0max\u001b[0m\u001b[0;34m.\u001b[0m\u001b[0m_hold\u001b[0m \u001b[0;34m=\u001b[0m \u001b[0mwashold\u001b[0m\u001b[0;34m\u001b[0m\u001b[0m\n",
      "\u001b[0;32m/home/brais/anaconda3/envs/IC3.5/lib/python3.5/site-packages/matplotlib/__init__.py\u001b[0m in \u001b[0;36minner\u001b[0;34m(ax, *args, **kwargs)\u001b[0m\n\u001b[1;32m   1890\u001b[0m                     warnings.warn(msg % (label_namer, func.__name__),\n\u001b[1;32m   1891\u001b[0m                                   RuntimeWarning, stacklevel=2)\n\u001b[0;32m-> 1892\u001b[0;31m             \u001b[0;32mreturn\u001b[0m \u001b[0mfunc\u001b[0m\u001b[0;34m(\u001b[0m\u001b[0max\u001b[0m\u001b[0;34m,\u001b[0m \u001b[0;34m*\u001b[0m\u001b[0margs\u001b[0m\u001b[0;34m,\u001b[0m \u001b[0;34m**\u001b[0m\u001b[0mkwargs\u001b[0m\u001b[0;34m)\u001b[0m\u001b[0;34m\u001b[0m\u001b[0m\n\u001b[0m\u001b[1;32m   1893\u001b[0m         \u001b[0mpre_doc\u001b[0m \u001b[0;34m=\u001b[0m \u001b[0minner\u001b[0m\u001b[0;34m.\u001b[0m\u001b[0m__doc__\u001b[0m\u001b[0;34m\u001b[0m\u001b[0m\n\u001b[1;32m   1894\u001b[0m         \u001b[0;32mif\u001b[0m \u001b[0mpre_doc\u001b[0m \u001b[0;32mis\u001b[0m \u001b[0;32mNone\u001b[0m\u001b[0;34m:\u001b[0m\u001b[0;34m\u001b[0m\u001b[0m\n",
      "\u001b[0;32m/home/brais/anaconda3/envs/IC3.5/lib/python3.5/site-packages/matplotlib/axes/_axes.py\u001b[0m in \u001b[0;36mscatter\u001b[0;34m(self, x, y, s, c, marker, cmap, norm, vmin, vmax, alpha, linewidths, verts, edgecolors, **kwargs)\u001b[0m\n\u001b[1;32m   3956\u001b[0m         \u001b[0my\u001b[0m \u001b[0;34m=\u001b[0m \u001b[0mnp\u001b[0m\u001b[0;34m.\u001b[0m\u001b[0mma\u001b[0m\u001b[0;34m.\u001b[0m\u001b[0mravel\u001b[0m\u001b[0;34m(\u001b[0m\u001b[0my\u001b[0m\u001b[0;34m)\u001b[0m\u001b[0;34m\u001b[0m\u001b[0m\n\u001b[1;32m   3957\u001b[0m         \u001b[0;32mif\u001b[0m \u001b[0mx\u001b[0m\u001b[0;34m.\u001b[0m\u001b[0msize\u001b[0m \u001b[0;34m!=\u001b[0m \u001b[0my\u001b[0m\u001b[0;34m.\u001b[0m\u001b[0msize\u001b[0m\u001b[0;34m:\u001b[0m\u001b[0;34m\u001b[0m\u001b[0m\n\u001b[0;32m-> 3958\u001b[0;31m             \u001b[0;32mraise\u001b[0m \u001b[0mValueError\u001b[0m\u001b[0;34m(\u001b[0m\u001b[0;34m\"x and y must be the same size\"\u001b[0m\u001b[0;34m)\u001b[0m\u001b[0;34m\u001b[0m\u001b[0m\n\u001b[0m\u001b[1;32m   3959\u001b[0m \u001b[0;34m\u001b[0m\u001b[0m\n\u001b[1;32m   3960\u001b[0m         \u001b[0;32mif\u001b[0m \u001b[0ms\u001b[0m \u001b[0;32mis\u001b[0m \u001b[0;32mNone\u001b[0m\u001b[0;34m:\u001b[0m\u001b[0;34m\u001b[0m\u001b[0m\n",
      "\u001b[0;31mValueError\u001b[0m: x and y must be the same size"
     ]
    },
    {
     "data": {
      "image/png": "[encoded data removed]",
      "text/plain": [
       "<matplotlib.figure.Figure at 0x7fe3f8dd59e8>"
      ]
     },
     "metadata": {},
     "output_type": "display_data"
    },
    {
     "data": {
      "image/png": "[encoded data removed]",
      "text/plain": [
       "<matplotlib.figure.Figure at 0x7fe3f8dd5fd0>"
      ]
     },
     "metadata": {},
     "output_type": "display_data"
    }
   ],
   "source": [
    "nsipm = flat(data.Nsipm)\n",
    "\n",
    "################################\n",
    "hist(nsipm, 10, range=(0, 10))\n",
    "labels(\"Number of charged SiPMs\", \"Entries\")\n",
    "save(\"Nsipm\")\n",
    "\n",
    "################################\n",
    "scatter(data.Z, nsipm)\n",
    "x, y, _ = fitf.profileX(flat(data.Z), nsipm, 100)\n",
    "plt.plot(x, y, profOpt)\n",
    "f = fitf.fit(fitf.polynom, x, y, (2, -1e-5, -1e-2, -1e-3))\n",
    "plt.plot(x, f.fn(x), fitOpt)\n",
    "plt.text(0, 3.5, \"{:.3g} + {:.3g} x + {:.3g} x^2 + {:.3g} x^3\".format(*f.values))\n",
    "labels(\"Drift time ($\\mu$s)\", \"Number of SiPMs touched\")\n",
    "save(\"NsipmvsZ\")\n",
    "\n",
    "################################\n",
    "selection = ~np.isnan(data.R)\n",
    "R = data.R[selection]\n",
    "scatter(R, nsipm[selection])\n",
    "x, y, _ = fitf.profileX(R, nsipm[selection], 50)\n",
    "plt.plot(x, y, profOpt)\n",
    "f = fitf.fit(fitf.expo, x, y, (1., -0.8))\n",
    "plt.plot(x, f.fn(x), fitOpt)\n",
    "plt.text(0, 3.2, \"{:.3f} exp(x/{:.2f})\".format(*f.values))\n",
    "labels(\"r (mm)\", \"Number of SiPMs touched\")\n",
    "save(\"NsipmvsR\")\n"
   ]
  },
  {
   "cell_type": "markdown",
   "metadata": {
    "deletable": true,
    "editable": true
   },
   "source": [
    "## To study geometrical dependendes, we will select those events with Nsipm > 0"
   ]
  },
  {
   "cell_type": "code",
   "execution_count": null,
   "metadata": {
    "collapsed": false,
    "deletable": true,
    "editable": true
   },
   "outputs": [],
   "source": [
    "atleast1sipm = oneS1oneS2[flat(oneS1oneS2.Nsipm) > 0]\n",
    "data         = atleast1sipm"
   ]
  },
  {
   "cell_type": "markdown",
   "metadata": {
    "deletable": true,
    "editable": true
   },
   "source": [
    "## Event distribution in the X, Y plane"
   ]
  },
  {
   "cell_type": "code",
   "execution_count": null,
   "metadata": {
    "collapsed": false,
    "deletable": true,
    "editable": true,
    "scrolled": false
   },
   "outputs": [],
   "source": [
    "X, Y, R, Phi = flat(data.X), flat(data.Y), flat(data.R), flat(data.Phi)\n",
    "\n",
    "################################\n",
    "hist(X, 100, range=(-220, 220))\n",
    "labels(\"x (mm)\", \"Entries\")\n",
    "save(\"X\")\n",
    "\n",
    "################################\n",
    "hist(Y, 100, range=(-220, 220))\n",
    "labels(\"y (mm)\", \"Entries\")\n",
    "save(\"Y\")\n",
    "\n",
    "################################\n",
    "hist(R, 100, range=(0, 220))\n",
    "labels(\"r (mm)\", \"Entries\")\n",
    "save(\"R\")\n",
    "\n",
    "################################\n",
    "hist(Phi, 100, range=(-pi, pi))\n",
    "labels(\"$\\phi$ (rad)\", \"Entries\")\n",
    "save(\"Phi\")\n",
    "\n",
    "################################\n",
    "hist2d(X, Y, 100, range=((-220, 220),\n",
    "                         (-220, 220)))\n",
    "plt.colorbar().set_label(\"# events\")\n",
    "labels(\"x (mm)\", \"y (mm)\")\n",
    "save(\"XY\")\n",
    "\n",
    "################################\n",
    "hist2d(R, Phi, 100, range=((  0, 220),\n",
    "                           (-pi, pi )))\n",
    "plt.colorbar().set_label(\"# events\")\n",
    "labels(\"r (mm)\", \"$\\phi$ (mm)\")\n",
    "save(\"RPhi\")\n"
   ]
  },
  {
   "cell_type": "markdown",
   "metadata": {
    "deletable": true,
    "editable": true
   },
   "source": [
    "<b>\n",
    "1. The distribution of events (computed using the barycenter) is, as expected, quite homogeneous if we ignore the strip pattern. It seems that the differences in bin contents are small, with the only exception of the hole in (5, -155).\n",
    "2. Because there is a dead SiPM at that position and because of the low number of SiPMs touched, the events that should be reconstructed at (5, -155) are biased towards the closest neighbors.\n",
    "3. The strip pattern is clearly caused by the the small number of charged SiPMs (particularly when Nsipm = 1). This makes the outcome kind of discrete and biased.\n",
    "</b>"
   ]
  },
  {
   "cell_type": "markdown",
   "metadata": {
    "deletable": true,
    "editable": true
   },
   "source": [
    "## S2 charge"
   ]
  },
  {
   "cell_type": "code",
   "execution_count": null,
   "metadata": {
    "collapsed": false,
    "deletable": true,
    "editable": true
   },
   "outputs": [],
   "source": [
    "################################\n",
    "s2q = flat(data.Q)\n",
    "hist(s2q, 100, range=(0, 600))\n",
    "labels(\"Tracking plane charge (pes)\", \"Entries\")\n",
    "save(\"S2Q\")\n",
    "\n",
    "################################\n",
    "pdf(s2q, 100, range=(0, 600))\n",
    "labels(\"Tracking plane charge (pes)\", \"Entries\")\n",
    "save(\"S2Q_log\")"
   ]
  },
  {
   "cell_type": "markdown",
   "metadata": {
    "deletable": true,
    "editable": true
   },
   "source": [
    "<b>\n",
    "1. The total charge (integral of the tracking plane) is weirdly distributed, not even close to a gaussian form. We need to look at its dependences.\n",
    "</b>"
   ]
  },
  {
   "cell_type": "code",
   "execution_count": null,
   "metadata": {
    "collapsed": false,
    "deletable": true,
    "editable": true
   },
   "outputs": [],
   "source": [
    "################################\n",
    "scatter(data.Z, s2q)\n",
    "x, y, _ = fitf.profileX(data.Z, s2q, 100)\n",
    "plt.plot(x, y, profOpt)\n",
    "f = fitf.fit(fitf.polynom, x, y, (400, -1, 0.1, 0.01))\n",
    "plt.plot(x, f.fn(x), fitOpt)\n",
    "plt.text(50, 550, \"{:.3g} + {:.3g} x + {:.3g} x^2 + {:.3g} x^3\".format(*f.values))\n",
    "labels(\"Drift time ($\\mu$s)\", \"Traking Plane integral (pes)\")\n",
    "save(\"QvsZ\")\n",
    "\n",
    "################################\n",
    "ave = f.fn(data.Z[data.Z<200])\n",
    "y, x, _ = hist((s2q[data.Z<200] - ave)/ave**0.5, 100, range=(-10, 10))\n",
    "x = x[:-1] + np.diff(x) * 0.5\n",
    "f = fitf.fit(fitf.gauss, x, y, (1e4, 0, 5))\n",
    "plt.plot(x, f.fn(x), \"r\")\n",
    "labels(\"Traking Plane integral - average value (pes)\", \"Entries\")\n",
    "save(\"QvsZ_shifted\")"
   ]
  },
  {
   "cell_type": "code",
   "execution_count": null,
   "metadata": {
    "collapsed": false,
    "deletable": true,
    "editable": true
   },
   "outputs": [],
   "source": [
    "nsipm = flat(data.Nsipm)\n",
    "################################\n",
    "scatter(nsipm, s2q)\n",
    "x, y, _ = fitf.profileX(nsipm, s2q, 100, xrange=(0, 5))\n",
    "plt.plot(x, y, profOpt)\n",
    "f = fitf.fit(fitf.power, x, y, (100, 0.7))\n",
    "plt.plot(x, f.fn(x), fitOpt)\n",
    "plt.text(2.5, 50, \"{:.3f} $\\cdot$ x^{:.2f}\".format(*f.values))\n",
    "labels(\"Number of SiPMs touched\", \"S2 charge (pes)\")\n",
    "save(\"QvsNsipm\")"
   ]
  },
  {
   "cell_type": "code",
   "execution_count": null,
   "metadata": {
    "collapsed": false,
    "deletable": true,
    "editable": true
   },
   "outputs": [],
   "source": [
    "################################\n",
    "plt.figure()\n",
    "x, y, q, qe = fitf.profileXY(X, Y, s2q, 100, 100)\n",
    "x = np.repeat(x, x.size)\n",
    "y = np.tile(y, y.size)\n",
    "q = np.concatenate(q)\n",
    "plt.scatter(x, y, c=q, marker=\"s\")\n",
    "plt.colorbar().set_label(\"S2 charge (pes)\")\n",
    "labels(\"x (mm)\", \"y (mm)\")\n",
    "save(\"QvsXY\")\n",
    "\n",
    "################################\n",
    "plt.figure()\n",
    "x, y, q, qe = fitf.profileXY(R, Phi, s2q, 100, 100)\n",
    "x = np.repeat(x, x.size)\n",
    "y = np.tile(y, y.size)\n",
    "q = np.concatenate(q)\n",
    "plt.scatter(x, y, c=q, marker=\"s\")\n",
    "plt.colorbar().set_label(\"S2 charge (pes)\")\n",
    "labels(\"r (mm)\", \"$\\phi$ (rad)\")\n",
    "save(\"QvsRPhi\")\n",
    "\n",
    "################################\n",
    "scatter(R, s2q)\n",
    "x, y, _ = fitf.profileX(R, s2q, 50)\n",
    "plt.plot(x, y, profOpt)\n",
    "f = fitf.fit(fitf.polynom, x, y, (200, -0.001))\n",
    "plt.plot(x, f.fn(x), fitOpt)\n",
    "plt.text(0, 600, \"{:.3g} + {:.3g} x\".format(*f.values))\n",
    "labels(\"r (mm)\", \"S2 charge (pes)\")\n",
    "save(\"QvsR\")\n",
    "\n",
    "################################\n",
    "scatter(Phi, s2q)\n",
    "x, y, _ = fitf.profileX(Phi, s2q, 100)\n",
    "plt.plot(x, y, profOpt)\n",
    "labels(\"$\\phi$ (rad)\", \"S2 charge (pes)\")\n",
    "save(\"QvsPhi\")"
   ]
  },
  {
   "cell_type": "markdown",
   "metadata": {
    "deletable": true,
    "editable": true
   },
   "source": [
    "<b>\n",
    "After taking a look to the dependencies of this magnitude we see that:\n",
    "    - Charge collection is homogeneous in the TP.\n",
    "    - It depends on the number of SiPMs touched, but this magnitude depends on Z.\n",
    "    - There is a strong dependence on Z. While events occurring near the anode have ~400 pes, it is very likely to miss those happening near the cathode. On the other hand, if we take Q - averageQ for Z < 200 mus, the distribution seems gaussianly distributed, as expected. Therefore, we can conclude that charge variation in Z is the dominant effect in the TP.\n",
    "</b>"
   ]
  },
  {
   "cell_type": "code",
   "execution_count": null,
   "metadata": {
    "collapsed": false,
    "deletable": true,
    "editable": true
   },
   "outputs": [],
   "source": [
    "s2e = flat(data.S2i)\n",
    "\n",
    "################################\n",
    "plt.figure()\n",
    "x, y, q, qe = fitf.profileXY(X, Y, s2e, 100, 100)\n",
    "x = np.repeat(x, x.size)\n",
    "y = np.tile(y, y.size)\n",
    "q = np.concatenate(q)\n",
    "plt.scatter(x, y, c=q, marker=\"s\")\n",
    "plt.colorbar().set_label(\"Event energy (pes)\")\n",
    "labels(\"x (mm)\", \"y (mm)\")\n",
    "save(\"EvsXY\")\n",
    "\n",
    "################################\n",
    "plt.figure()\n",
    "x, y, q, qe = fitf.profileXY(R, Phi, s2e, 100, 100)\n",
    "x = np.repeat(x, x.size)\n",
    "y = np.tile(y, y.size)\n",
    "q = np.concatenate(q)\n",
    "plt.scatter(x, y, c=q, marker=\"s\")\n",
    "plt.colorbar().set_label(\"S2 energy (pes)\")\n",
    "labels(\"r (mm)\", \"$\\phi$ (rad)\")\n",
    "save(\"EvsRPhi\")\n",
    "\n",
    "################################\n",
    "scatter(R, s2e)\n",
    "x, y, _ = fitf.profileX(R, s2e, 100)\n",
    "plt.plot(x, y, profOpt)\n",
    "f = fitf.fit(fitf.polynom, x, y, (6e3, -1e-2, 1e-2, -1e-3, -1e-4, 1e-6, 1e-7))\n",
    "plt.plot(x, f.fn(x), fitOpt)\n",
    "plt.text(0, 3e3, \"{:.3g} + {:.3g} x + {:.3g} x^2 + \\n\"\n",
    "                 \"{:.3g} x^3 + {:.3g} x^4 + {:.3g} x^5 +\\n\"\n",
    "                 \"{:.3g} x^6\".format(*f.values))\n",
    "labels(\"r (mm)\", \"Event energy (pes)\")\n",
    "save(\"EvsR\")\n",
    "\n",
    "################################\n",
    "scatter(Phi, s2e)\n",
    "x, y, _ = fitf.profileX(Phi, s2e, 100)\n",
    "plt.plot(x, y, profOpt)\n",
    "labels(\"$\\phi$ (rad)\", \"Event energy (pes)\")\n",
    "save(\"EvsPhi\")"
   ]
  },
  {
   "cell_type": "markdown",
   "metadata": {
    "deletable": true,
    "editable": true
   },
   "source": [
    "<b>\n",
    "1. Finally, the dependence of the energy with the position is obvious. The behaviour in R and $\\phi$ are the ones expected from the parametrization. The Kr energy map seems quite good, even with the bias introduced by the small number of SiPMs touched (although the bins are 4mm wide). There are still some holes for which we only need more statistics, but there is a big one at the position of the dead SiPM. Unless we can increase the number of SiPMs touched and/or the light they receive, I don’t think we can do a better energy map.\n",
    "</b>"
   ]
  },
  {
   "cell_type": "code",
   "execution_count": null,
   "metadata": {
    "collapsed": false,
    "deletable": true,
    "editable": true
   },
   "outputs": [],
   "source": [
    "################################\n",
    "scatter(s2e, s2q)\n",
    "plt.xlim(3500)\n",
    "x, y, _ = fitf.profileX(s2e, s2q, 100, (4700, 7200))\n",
    "plt.plot(x, y, profOpt)\n",
    "f = fitf.fit(fitf.polynom, x, y, (200, 1e-2, 1e-4))\n",
    "plt.plot(x, f.fn(x), fitOpt)\n",
    "plt.text(3600, 600, \"{:.3g} + {:.3g} x + {:.3g} x^2\".format(*f.values))\n",
    "labels(\"S2 energy (pes)\", \"S2 charge (pes)\")\n",
    "save(\"QvsE\")"
   ]
  },
  {
   "cell_type": "markdown",
   "metadata": {
    "deletable": true,
    "editable": true
   },
   "source": [
    "<b>\n",
    "1. The meaning of the charge vs energy plot is not clear. The only dependences are Q(Z) and E(R) (E(z) is negligible compared with the other one), so the quadratic correlation does not seem obvious to me.\n",
    "</b>"
   ]
  },
  {
   "cell_type": "code",
   "execution_count": null,
   "metadata": {
    "collapsed": false,
    "deletable": true,
    "editable": true
   },
   "outputs": [],
   "source": [
    "################################\n",
    "qsipm = flat(data.Qsipm)\n",
    "hist(qsipm, 100, range=(0, 600))\n",
    "labels(\"SiPM charge (pes)\", \"Entries\")\n",
    "save(\"SipmQ\")\n",
    "\n",
    "################################\n",
    "pdf(qsipm, 100, range=(0, 600))\n",
    "labels(\"SiPM charge (pes)\", \"Entries\")\n",
    "save(\"SipmQ_log\")"
   ]
  },
  {
   "cell_type": "markdown",
   "metadata": {
    "deletable": true,
    "editable": true
   },
   "source": [
    "<b>\n",
    "1. The charge per SiPM shows that the majority of them have less than 100 pes, but, in the best-case scenario, they can reach up to 400 pes. However, since this charge is time-integrated, the lower bound of the distribution is shifted towards the ~5 pes/$\\mu$s region, very close to the ZS cut.\n",
    "</b>"
   ]
  },
  {
   "cell_type": "code",
   "execution_count": null,
   "metadata": {
    "collapsed": false,
    "deletable": true,
    "editable": true,
    "scrolled": false
   },
   "outputs": [],
   "source": [
    "################################\n",
    "order, charge, norm_charge = [], [], []\n",
    "for evt in data.Qsipm:\n",
    "    for peak in evt:\n",
    "        maxq = np.sum(peak)\n",
    "        for i, q in enumerate(sorted(peak, reverse=True)):\n",
    "            order.append(i)\n",
    "            charge.append(q)\n",
    "            norm_charge.append(q/maxq)\n",
    "\n",
    "order, charge, norm_charge = map(np.array, [order, charge, norm_charge])\n",
    "scatter(order, charge)\n",
    "x, y, _ = fitf.profileX(order, charge, 100, (0, 4))\n",
    "plt.plot(x, y, profOpt)\n",
    "labels(\"Ordering\", \"SiPM charge (pes)\")\n",
    "save(\"SipmQordered\")\n",
    "\n",
    "###########################\n",
    "scatter(order, norm_charge)\n",
    "x, y, _ = fitf.profileX(order, norm_charge, 100, (0, 4))\n",
    "plt.plot(x, y, profOpt)\n",
    "labels(\"Ordering\", \"SiPM normalized charge (pes/pes)\")\n",
    "save(\"SipmQnormordered\")"
   ]
  },
  {
   "cell_type": "markdown",
   "metadata": {
    "deletable": true,
    "editable": true
   },
   "source": [
    "## Spread of the events"
   ]
  },
  {
   "cell_type": "code",
   "execution_count": null,
   "metadata": {
    "collapsed": false,
    "deletable": true,
    "editable": true
   },
   "outputs": [],
   "source": [
    "################################\n",
    "hist(flat(data.Xrms), 100, range=(0, 10))\n",
    "labels(\"rms x (mm)\", \"Entries\")\n",
    "save(\"rmsX_full\")\n",
    "\n",
    "################################\n",
    "hist(flat(data.Yrms), 100, range=(0, 10))\n",
    "labels(\"rms y (mm)\", \"Entries\")\n",
    "save(\"rmsY_full\")"
   ]
  },
  {
   "cell_type": "markdown",
   "metadata": {
    "deletable": true,
    "editable": true
   },
   "source": [
    "<b>\n",
    "1. The spread of the event can be measured by the standard deviation of X and Y. These plots show how the distributions of these variables are affected by those events with Nsipm=1. Therefore, to perform this study we must get rid of those events with rms=0.\n",
    "</b>"
   ]
  },
  {
   "cell_type": "code",
   "execution_count": null,
   "metadata": {
    "collapsed": false,
    "deletable": true,
    "editable": true
   },
   "outputs": [],
   "source": [
    "rmsnotzero = data[(data.Xrms > 1e-3) & (data.Yrms > 1e-3)]\n",
    "data = rmsnotzero"
   ]
  },
  {
   "cell_type": "code",
   "execution_count": null,
   "metadata": {
    "collapsed": false,
    "deletable": true,
    "editable": true,
    "scrolled": false
   },
   "outputs": [],
   "source": [
    "xrms, yrms = data.Xrms, data.Yrms\n",
    "\n",
    "################################\n",
    "hist(xrms, 100, range=(0, 10))\n",
    "labels(\"rms x (mm)\", \"Entries\")\n",
    "save(\"rmsX\")\n",
    "\n",
    "################################\n",
    "hist(yrms, 100, range=(0, 10))\n",
    "labels(\"rms y (mm)\", \"Entries\")\n",
    "save(\"rmsY\")\n",
    "\n",
    "################################\n",
    "scatter(data.Z, xrms)\n",
    "x, y, _ = fitf.profileX(data.Z, xrms, 100, yrange=(0,30))\n",
    "plt.plot(x, y, profOpt)\n",
    "f = fitf.fit(fitf.polynom, x, y, (1., 0.8))\n",
    "plt.plot(x, f.fn(x), fitOpt)\n",
    "plt.text(100, 5, \"{:.3f} + {:.3f} x\".format(*f.values))\n",
    "labels(\"Drift time ($\\mu$s)\", \"rms x (mm)\")\n",
    "save(\"rmsXvsZ\")\n",
    "\n",
    "################################\n",
    "scatter(data.Z, yrms)\n",
    "x, y, _ = fitf.profileX(data.Z, yrms, 100, yrange=(0,30))\n",
    "plt.plot(x, y, profOpt)\n",
    "f = fitf.fit(fitf.polynom, x, y, (1., 0.8))\n",
    "plt.plot(x, f.fn(x), fitOpt)\n",
    "plt.text(100, 5, \"{:.3f} + {:.3f} x\".format(*f.values))\n",
    "labels(\"Drift time ($\\mu$s)\", \"rms y (mm)\")\n",
    "save(\"rmsYvsZ\")"
   ]
  },
  {
   "cell_type": "markdown",
   "metadata": {
    "deletable": true,
    "editable": true
   },
   "source": [
    "<b>\n",
    "1. The same distributions after the second selection are more clear. These are unfolded in Z and it seems that the spread of the event increases slightly with Z, but this plot is biased because of the Nsipm > 1 selection. However, even when selecting events with the same number of charged SiPMs, the same distribution shows up again, so the effect is real. It would be interesting to reproduce this with a higher number of SiPMs touched.\n",
    "</b>"
   ]
  }
 ],
 "metadata": {
  "kernelspec": {
   "display_name": "Python 3",
   "language": "python",
   "name": "python3"
  },
  "language_info": {
   "codemirror_mode": {
    "name": "ipython",
    "version": 3
   },
   "file_extension": ".py",
   "mimetype": "text/x-python",
   "name": "python",
   "nbconvert_exporter": "python",
   "pygments_lexer": "ipython3",
   "version": "3.5.3"
  }
 },
 "nbformat": 4,
 "nbformat_minor": 2
}
