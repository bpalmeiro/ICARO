{
 "cells": [
  {
   "cell_type": "markdown",
   "metadata": {
    "deletable": true,
    "editable": true
   },
   "source": [
    "# Kr analysis (MC)"
   ]
  },
  {
   "cell_type": "code",
   "execution_count": 1,
   "metadata": {
    "collapsed": false,
    "deletable": true,
    "editable": true
   },
   "outputs": [
    {
     "name": "stdout",
     "output_type": "stream",
     "text": [
      "Running on  Thu Apr  6 10:11:42 2017\n"
     ]
    }
   ],
   "source": [
    "from __future__ import print_function, division\n",
    "\n",
    "import os\n",
    "import operator\n",
    "import functools\n",
    "import time\n",
    "import glob\n",
    "print(\"Running on \", time.asctime())\n",
    "\n",
    "import numpy as np\n",
    "import matplotlib.pyplot as plt\n",
    "%matplotlib inline\n",
    "\n",
    "import invisible_cities.database.load_db as DB\n",
    "import invisible_cities.core.system_of_units_c as SystemOfUnits\n",
    "import invisible_cities.reco.pmaps_functions as pmapf\n",
    "import invisible_cities.core.fit_functions as fitf\n",
    "\n",
    "DataPMT = DB.DataPMT()\n",
    "DataSiPM = DB.DataSiPM()\n",
    "units = SystemOfUnits.SystemOfUnits()\n",
    "pi = np.pi\n"
   ]
  },
  {
   "cell_type": "markdown",
   "metadata": {
    "deletable": true,
    "editable": true
   },
   "source": [
    "#### General plotting options"
   ]
  },
  {
   "cell_type": "code",
   "execution_count": 2,
   "metadata": {
    "collapsed": true,
    "deletable": true,
    "editable": true
   },
   "outputs": [],
   "source": [
    "plt.rcParams[\"figure.figsize\"]          = 8, 6\n",
    "plt.rcParams[\"font.size\"]               = 15\n",
    "plt.rcParams[\"figure.max_open_warning\"] = 100\n",
    "\n",
    "profOpt = \"--k\"\n",
    "fitOpt  = \"r\"\n",
    "\n",
    "outputfolder = \"plots/Na_MC_FirstApproach/Cuts_S1h_S1w_S2i\"\n",
    "if not os.path.exists(outputfolder):\n",
    "    os.mkdir(outputfolder)"
   ]
  },
  {
   "cell_type": "markdown",
   "metadata": {
    "deletable": true,
    "editable": true
   },
   "source": [
    "#### Useful functions"
   ]
  },
  {
   "cell_type": "code",
   "execution_count": 3,
   "metadata": {
    "collapsed": false,
    "deletable": true,
    "editable": true
   },
   "outputs": [],
   "source": [
    "def width(times, to_mus=False):\n",
    "    \"\"\"\n",
    "    Compute peak width.\n",
    "    \"\"\"\n",
    "    w = (np.max(times) - np.min(times)) if np.any(times) else 0.\n",
    "    return w * units.ns/units.mus if to_mus else w\n",
    "\n",
    "\n",
    "def timefunc(f):\n",
    "    \"\"\"\n",
    "    Decorator for function timing.\n",
    "    \"\"\"\n",
    "    def time_f(*args, **kwargs):\n",
    "        t0 = time.time()\n",
    "        output = f(*args, **kwargs)\n",
    "        print(\"Time spent in {}: {} s\".format(f.__name__,\n",
    "                                              time.time() - t0))\n",
    "        return output\n",
    "    return time_f\n",
    "\n",
    "\n",
    "def integrate_charge(d):\n",
    "    \"\"\"\n",
    "    Integrate charge from a SiPM dictionary.\n",
    "    \"\"\"\n",
    "    newd = dict((key, np.sum(value)) for key, value in d.items())\n",
    "    return map(np.array, list(zip(*newd.items())))\n",
    "\n",
    "\n",
    "def flat(nested_list):\n",
    "    while hasattr(nested_list[0], \"__iter__\"):\n",
    "        nested_list = [item for inner_list in nested_list for item in inner_list]\n",
    "    return np.array(nested_list)\n",
    "\n",
    "\n",
    "def labels(xlabel, ylabel):\n",
    "    \"\"\"\n",
    "    Set x and y labels.\n",
    "    \"\"\"\n",
    "    plt.xlabel(xlabel)\n",
    "    plt.ylabel(ylabel)\n",
    "\n",
    "\n",
    "def hist(*args, **kwargs):\n",
    "    \"\"\"\n",
    "    Create a figure and then the histogram\n",
    "    \"\"\"\n",
    "    plt.figure()\n",
    "    return plt.hist(*args, **kwargs)\n",
    "\n",
    "    \n",
    "def hist2d(*args, **kwargs):\n",
    "    \"\"\"\n",
    "    Create a figure and then the histogram\n",
    "    \"\"\"\n",
    "    plt.figure()\n",
    "    return plt.hist2d(*args, **kwargs)\n",
    "\n",
    "    \n",
    "def pdf(data, *args, **kwargs):\n",
    "    \"\"\"\n",
    "    Create a normalized histogram with appropiate range.\n",
    "    \"\"\"\n",
    "    data = np.array(data)\n",
    "    h = hist(data, *args, **kwargs, weights=np.ones_like(data)/len(data))\n",
    "    plt.yscale(\"log\")\n",
    "    plt.ylim(1e-4, 1.)\n",
    "    return h\n",
    "    \n",
    "def scatter(*args, **kwargs):\n",
    "    \"\"\"\n",
    "    Create a figure and then a scatter plot\n",
    "    \"\"\"\n",
    "    plt.figure()\n",
    "    return plt.scatter(*args, **kwargs)\n",
    "\n",
    "\n",
    "def save_to_folder(outputfolder, name):\n",
    "    \"\"\"\n",
    "    Set title and save plot in folder.\n",
    "    \"\"\"\n",
    "    plt.title(name)\n",
    "    plt.savefig(\"{}/{}.png\".format(outputfolder, name), dpi=100)\n",
    "\n",
    "save = functools.partial(save_to_folder, outputfolder)"
   ]
  },
  {
   "cell_type": "markdown",
   "metadata": {
    "deletable": true,
    "editable": true
   },
   "source": [
    "### Input data"
   ]
  },
  {
   "cell_type": "code",
   "execution_count": 4,
   "metadata": {
    "collapsed": false,
    "deletable": true,
    "editable": true
   },
   "outputs": [
    {
     "name": "stdout",
     "output_type": "stream",
     "text": [
      "# files: 108\n"
     ]
    }
   ],
   "source": [
    "# Comment out this line if your data is in $IC_DATA\n",
    "os.environ[\"IC_DATA\"] = \"/home/brais/Documents/Next/Na/data/2948/\"\n",
    "\n",
    "pattern = \"$IC_DATA/run_2948.gdcsnext.*.next1el_2948.root.h5\"\n",
    "ifiles  = glob.glob(os.path.expandvars(pattern))\n",
    "print(\"# files:\", len(ifiles))"
   ]
  },
  {
   "cell_type": "markdown",
   "metadata": {
    "deletable": true,
    "editable": true
   },
   "source": [
    "### Define event class"
   ]
  },
  {
   "cell_type": "code",
   "execution_count": 5,
   "metadata": {
    "collapsed": true,
    "deletable": true,
    "editable": true
   },
   "outputs": [],
   "source": [
    "class Event:\n",
    "    \"\"\"\n",
    "    Store for relevant event info.\n",
    "    \"\"\"\n",
    "    def __init__(self):\n",
    "        self.nS1   = 0\n",
    "        self.S1w   = []\n",
    "        self.S1h   = []\n",
    "        self.S1i   = []\n",
    "        self.S1t   = []\n",
    "        \n",
    "\n",
    "        self.nS2   = 0\n",
    "        self.S2w   = []\n",
    "        self.S2h   = []\n",
    "        self.S2i   = []\n",
    "        self.S2t   = []\n",
    "        self.S2p   = []\n",
    "\n",
    "        self.Nsipm = []\n",
    "        self.Q     = []\n",
    "        self.Qsipm = []\n",
    "        self.Xt    = np.nan\n",
    "        self.Yt    = np.nan\n",
    "        self.X     = np.nan\n",
    "        self.Y     = np.nan\n",
    "        self.Xrms  = np.nan\n",
    "        self.Yrms  = np.nan\n",
    "        self.Z     = []\n",
    "        self.R     = np.nan\n",
    "        self.Phi   = np.nan\n",
    "\n",
    "        self.ok    = False"
   ]
  },
  {
   "cell_type": "markdown",
   "metadata": {
    "deletable": true,
    "editable": true
   },
   "source": [
    "### Define dataset class"
   ]
  },
  {
   "cell_type": "code",
   "execution_count": 6,
   "metadata": {
    "collapsed": false,
    "deletable": true,
    "editable": true
   },
   "outputs": [],
   "source": [
    "class Dataset:\n",
    "    \"\"\"\n",
    "    Trick for accesing event properties as an attribute of the dataset.\n",
    "    \"\"\"\n",
    "    def __init__(self, evts):\n",
    "        self.evts = np.array(evts, dtype=object)\n",
    "        self._create_attrs()\n",
    "    \n",
    "    @timefunc\n",
    "    def _create_attrs(self):\n",
    "        for attr in filter(lambda x: not x.endswith(\"__\"), Event().__dict__):\n",
    "            setattr(self, attr, np.array([getattr(evt, attr) for evt in self.evts]))\n",
    "\n",
    "    def __getitem__(self, sel):\n",
    "        return Dataset(self.evts[sel])"
   ]
  },
  {
   "cell_type": "markdown",
   "metadata": {
    "deletable": true,
    "editable": true
   },
   "source": [
    "## Functions to fill the event and dataset classes"
   ]
  },
  {
   "cell_type": "code",
   "execution_count": 7,
   "metadata": {
    "collapsed": false,
    "deletable": true,
    "editable": true
   },
   "outputs": [],
   "source": [
    "@timefunc\n",
    "def fill_evts(s1s, s2s, sis, evts_out, ifile=None):    \n",
    "    evts = set(list(s1s.keys()) +\n",
    "               list(s2s.keys()) +\n",
    "               list(sis.keys()))\n",
    "    nevt = len(evts)\n",
    "    print(ifile, nevt)\n",
    "    for i, evt_number in enumerate(evts):\n",
    "        evt = Event()\n",
    "        s1  = s1s.get(evt_number, dict())\n",
    "        s2  = s2s.get(evt_number, dict())\n",
    "        si  = sis.get(evt_number, dict())\n",
    "        \n",
    "        evt.nS1 = len(s1)\n",
    "        evt.nS2 = 0# len(s2)\n",
    "\n",
    "        s1time = 0\n",
    "        for peak, (t, e) in s1.items():\n",
    "            evt.S1w.append(width(t))\n",
    "            evt.S1h.append(np.max(e))\n",
    "            evt.S1i.append(np.sum(e))\n",
    "            s1time = t[np.argmax(e)]\n",
    "            evt.S1t.append(s1time)\n",
    "\n",
    "        s2time = 0\n",
    "        for peak, (t, e) in s2.items():\n",
    "            evt.S2p.append(peak)\n",
    "            evt.S2w.append(width(t, to_mus=True))\n",
    "            evt.S2h.append(np.max(e))\n",
    "            evt.S2i.append(np.sum(e))\n",
    "            s2time = t[np.argmax(e)]\n",
    "            if s2time < 105000: continue\n",
    "            evt.nS2 += 1\n",
    "            evt.S2t.append(s2time)\n",
    "\n",
    "            IDs, Qs = integrate_charge(si[peak]) if peak in si else ([], [])\n",
    "            Qpeak   = np.sum(Qs)\n",
    "            xsipms  = DataSiPM.X.values[IDs]\n",
    "            ysipms  = DataSiPM.Y.values[IDs]\n",
    "\n",
    "            evt.Qsipm.append(Qs)\n",
    "            evt.Nsipm.append(len(IDs))\n",
    "            evt.Q    .append(Qpeak)\n",
    "            evt.X    = np.average(xsipms, weights=Qs) if np.any(Qs) else np.nan\n",
    "            evt.Y    = np.average(ysipms, weights=Qs) if np.any(Qs) else np.nan\n",
    "            evt.Xrms = (np.sum(Qs * (xsipms-evt.X)**2) / (Qpeak - 1))**0.5 if np.any(Qs) else np.nan\n",
    "            evt.Yrms = (np.sum(Qs * (ysipms-evt.Y)**2) / (Qpeak - 1))**0.5 if np.any(Qs) else np.nan\n",
    "            evt.R    = (evt.X**2 + evt.Y**2)**0.5 if np.any(Qs) else np.nan\n",
    "            evt.Phi  = np.arctan2(evt.Y, evt.X) if np.any(Qs) else np.nan\n",
    "        \n",
    "        evt.ok = evt.nS1 > 0 and evt.nS2 > 0.\n",
    "        if evt.ok:\n",
    "            for iS2 in evt.S2t:\n",
    "                evt.Z.append((iS2 - s1time) * units.ns / units.mus)\n",
    "        evts_out.append(evt)\n",
    "\n",
    "\n",
    "@timefunc\n",
    "def build_dataset(inputfiles):\n",
    "    evts_out = []\n",
    "    for ifile in inputfiles:\n",
    "        s1s, s2s, sis = pmapf.read_pmaps(ifile)\n",
    "        fill_evts(pmapf.df_to_pmaps_dict(s1s),\n",
    "                  pmapf.df_to_pmaps_dict(s2s),\n",
    "                  pmapf.df_to_s2si_dict (sis),\n",
    "                  evts_out, ifile)\n",
    "    return Dataset(evts_out)\n"
   ]
  },
  {
   "cell_type": "markdown",
   "metadata": {
    "deletable": true,
    "editable": true
   },
   "source": [
    "# Read data"
   ]
  },
  {
   "cell_type": "code",
   "execution_count": 8,
   "metadata": {
    "collapsed": false,
    "deletable": true,
    "editable": true,
    "scrolled": true
   },
   "outputs": [
    {
     "name": "stdout",
     "output_type": "stream",
     "text": [
      "/home/brais/Documents/Next/Na/data/2948/run_2948.gdcsnext.026.next1el_2948.root.h5 262\n",
      "Time spent in fill_evts: 0.15057873725891113 s\n",
      "/home/brais/Documents/Next/Na/data/2948/run_2948.gdcsnext.063.next1el_2948.root.h5 262\n",
      "Time spent in fill_evts: 0.16086244583129883 s\n",
      "/home/brais/Documents/Next/Na/data/2948/run_2948.gdcsnext.089.next1el_2948.root.h5 262\n",
      "Time spent in fill_evts: 0.16817927360534668 s\n",
      "/home/brais/Documents/Next/Na/data/2948/run_2948.gdcsnext.010.next1el_2948.root.h5 259\n",
      "Time spent in fill_evts: 0.16446137428283691 s\n",
      "/home/brais/Documents/Next/Na/data/2948/run_2948.gdcsnext.000.next1el_2948.root.h5 262\n",
      "Time spent in fill_evts: 0.16127967834472656 s\n",
      "/home/brais/Documents/Next/Na/data/2948/run_2948.gdcsnext.034.next1el_2948.root.h5 259\n",
      "Time spent in fill_evts: 0.16077303886413574 s\n",
      "/home/brais/Documents/Next/Na/data/2948/run_2948.gdcsnext.106.next1el_2948.root.h5 264\n",
      "Time spent in fill_evts: 0.16391777992248535 s\n",
      "/home/brais/Documents/Next/Na/data/2948/run_2948.gdcsnext.084.next1el_2948.root.h5 261\n",
      "Time spent in fill_evts: 0.16515159606933594 s\n",
      "/home/brais/Documents/Next/Na/data/2948/run_2948.gdcsnext.065.next1el_2948.root.h5 263\n",
      "Time spent in fill_evts: 0.17204737663269043 s\n",
      "/home/brais/Documents/Next/Na/data/2948/run_2948.gdcsnext.031.next1el_2948.root.h5 261\n",
      "Time spent in fill_evts: 0.18620610237121582 s\n",
      "/home/brais/Documents/Next/Na/data/2948/run_2948.gdcsnext.030.next1el_2948.root.h5 261\n",
      "Time spent in fill_evts: 0.1692945957183838 s\n",
      "/home/brais/Documents/Next/Na/data/2948/run_2948.gdcsnext.098.next1el_2948.root.h5 258\n",
      "Time spent in fill_evts: 0.16080045700073242 s\n",
      "/home/brais/Documents/Next/Na/data/2948/run_2948.gdcsnext.006.next1el_2948.root.h5 261\n",
      "Time spent in fill_evts: 0.16512703895568848 s\n",
      "/home/brais/Documents/Next/Na/data/2948/run_2948.gdcsnext.088.next1el_2948.root.h5 262\n",
      "Time spent in fill_evts: 0.16263580322265625 s\n",
      "/home/brais/Documents/Next/Na/data/2948/run_2948.gdcsnext.090.next1el_2948.root.h5 263\n",
      "Time spent in fill_evts: 0.17671751976013184 s\n",
      "/home/brais/Documents/Next/Na/data/2948/run_2948.gdcsnext.107.next1el_2948.root.h5 259\n",
      "Time spent in fill_evts: 0.1608448028564453 s\n",
      "/home/brais/Documents/Next/Na/data/2948/run_2948.gdcsnext.037.next1el_2948.root.h5 261\n",
      "Time spent in fill_evts: 0.1706562042236328 s\n",
      "/home/brais/Documents/Next/Na/data/2948/run_2948.gdcsnext.019.next1el_2948.root.h5 260\n",
      "Time spent in fill_evts: 0.18597865104675293 s\n",
      "/home/brais/Documents/Next/Na/data/2948/run_2948.gdcsnext.053.next1el_2948.root.h5 260\n",
      "Time spent in fill_evts: 0.17145466804504395 s\n",
      "/home/brais/Documents/Next/Na/data/2948/run_2948.gdcsnext.009.next1el_2948.root.h5 258\n",
      "Time spent in fill_evts: 0.17998623847961426 s\n",
      "/home/brais/Documents/Next/Na/data/2948/run_2948.gdcsnext.021.next1el_2948.root.h5 261\n",
      "Time spent in fill_evts: 0.18176674842834473 s\n",
      "/home/brais/Documents/Next/Na/data/2948/run_2948.gdcsnext.005.next1el_2948.root.h5 262\n",
      "Time spent in fill_evts: 0.1733996868133545 s\n",
      "/home/brais/Documents/Next/Na/data/2948/run_2948.gdcsnext.032.next1el_2948.root.h5 262\n",
      "Time spent in fill_evts: 0.17645788192749023 s\n",
      "/home/brais/Documents/Next/Na/data/2948/run_2948.gdcsnext.078.next1el_2948.root.h5 260\n",
      "Time spent in fill_evts: 0.16438746452331543 s\n",
      "/home/brais/Documents/Next/Na/data/2948/run_2948.gdcsnext.016.next1el_2948.root.h5 259\n",
      "Time spent in fill_evts: 0.18696379661560059 s\n",
      "/home/brais/Documents/Next/Na/data/2948/run_2948.gdcsnext.064.next1el_2948.root.h5 260\n",
      "Time spent in fill_evts: 0.23140525817871094 s\n",
      "/home/brais/Documents/Next/Na/data/2948/run_2948.gdcsnext.076.next1el_2948.root.h5 261\n",
      "Time spent in fill_evts: 0.16541409492492676 s\n",
      "/home/brais/Documents/Next/Na/data/2948/run_2948.gdcsnext.081.next1el_2948.root.h5 262\n",
      "Time spent in fill_evts: 0.17270326614379883 s\n",
      "/home/brais/Documents/Next/Na/data/2948/run_2948.gdcsnext.096.next1el_2948.root.h5 261\n",
      "Time spent in fill_evts: 0.19023466110229492 s\n",
      "/home/brais/Documents/Next/Na/data/2948/run_2948.gdcsnext.055.next1el_2948.root.h5 260\n",
      "Time spent in fill_evts: 0.21006035804748535 s\n",
      "/home/brais/Documents/Next/Na/data/2948/run_2948.gdcsnext.071.next1el_2948.root.h5 261\n",
      "Time spent in fill_evts: 0.22833633422851562 s\n",
      "/home/brais/Documents/Next/Na/data/2948/run_2948.gdcsnext.067.next1el_2948.root.h5 262\n",
      "Time spent in fill_evts: 0.20469427108764648 s\n",
      "/home/brais/Documents/Next/Na/data/2948/run_2948.gdcsnext.043.next1el_2948.root.h5 261\n",
      "Time spent in fill_evts: 0.18259191513061523 s\n",
      "/home/brais/Documents/Next/Na/data/2948/run_2948.gdcsnext.054.next1el_2948.root.h5 262\n",
      "Time spent in fill_evts: 0.2079787254333496 s\n",
      "/home/brais/Documents/Next/Na/data/2948/run_2948.gdcsnext.011.next1el_2948.root.h5 262\n",
      "Time spent in fill_evts: 0.19027090072631836 s\n",
      "/home/brais/Documents/Next/Na/data/2948/run_2948.gdcsnext.028.next1el_2948.root.h5 260\n",
      "Time spent in fill_evts: 0.24758577346801758 s\n",
      "/home/brais/Documents/Next/Na/data/2948/run_2948.gdcsnext.025.next1el_2948.root.h5 258\n",
      "Time spent in fill_evts: 0.20243120193481445 s\n",
      "/home/brais/Documents/Next/Na/data/2948/run_2948.gdcsnext.040.next1el_2948.root.h5 262\n",
      "Time spent in fill_evts: 0.22225642204284668 s\n",
      "/home/brais/Documents/Next/Na/data/2948/run_2948.gdcsnext.007.next1el_2948.root.h5 261\n",
      "Time spent in fill_evts: 0.2046358585357666 s\n",
      "/home/brais/Documents/Next/Na/data/2948/run_2948.gdcsnext.093.next1el_2948.root.h5 264\n",
      "Time spent in fill_evts: 0.17231488227844238 s\n",
      "/home/brais/Documents/Next/Na/data/2948/run_2948.gdcsnext.086.next1el_2948.root.h5 262\n",
      "Time spent in fill_evts: 0.2452564239501953 s\n",
      "/home/brais/Documents/Next/Na/data/2948/run_2948.gdcsnext.051.next1el_2948.root.h5 262\n",
      "Time spent in fill_evts: 0.15539765357971191 s\n",
      "/home/brais/Documents/Next/Na/data/2948/run_2948.gdcsnext.097.next1el_2948.root.h5 260\n",
      "Time spent in fill_evts: 0.17109203338623047 s\n",
      "/home/brais/Documents/Next/Na/data/2948/run_2948.gdcsnext.018.next1el_2948.root.h5 261\n",
      "Time spent in fill_evts: 0.1817631721496582 s\n",
      "/home/brais/Documents/Next/Na/data/2948/run_2948.gdcsnext.100.next1el_2948.root.h5 261\n",
      "Time spent in fill_evts: 0.16649746894836426 s\n",
      "/home/brais/Documents/Next/Na/data/2948/run_2948.gdcsnext.035.next1el_2948.root.h5 259\n",
      "Time spent in fill_evts: 0.17357707023620605 s\n",
      "/home/brais/Documents/Next/Na/data/2948/run_2948.gdcsnext.023.next1el_2948.root.h5 260\n",
      "Time spent in fill_evts: 0.18313360214233398 s\n",
      "/home/brais/Documents/Next/Na/data/2948/run_2948.gdcsnext.050.next1el_2948.root.h5 259\n",
      "Time spent in fill_evts: 0.17747712135314941 s\n",
      "/home/brais/Documents/Next/Na/data/2948/run_2948.gdcsnext.048.next1el_2948.root.h5 263\n",
      "Time spent in fill_evts: 0.25105810165405273 s\n",
      "/home/brais/Documents/Next/Na/data/2948/run_2948.gdcsnext.056.next1el_2948.root.h5 262\n",
      "Time spent in fill_evts: 0.18482303619384766 s\n",
      "/home/brais/Documents/Next/Na/data/2948/run_2948.gdcsnext.027.next1el_2948.root.h5 262\n",
      "Time spent in fill_evts: 0.17427730560302734 s\n",
      "/home/brais/Documents/Next/Na/data/2948/run_2948.gdcsnext.069.next1el_2948.root.h5 260\n",
      "Time spent in fill_evts: 0.18233513832092285 s\n",
      "/home/brais/Documents/Next/Na/data/2948/run_2948.gdcsnext.101.next1el_2948.root.h5 260\n",
      "Time spent in fill_evts: 0.16441822052001953 s\n",
      "/home/brais/Documents/Next/Na/data/2948/run_2948.gdcsnext.038.next1el_2948.root.h5 260\n",
      "Time spent in fill_evts: 0.16264867782592773 s\n",
      "/home/brais/Documents/Next/Na/data/2948/run_2948.gdcsnext.085.next1el_2948.root.h5 260\n",
      "Time spent in fill_evts: 0.15448856353759766 s\n",
      "/home/brais/Documents/Next/Na/data/2948/run_2948.gdcsnext.066.next1el_2948.root.h5 260\n",
      "Time spent in fill_evts: 0.16838407516479492 s\n",
      "/home/brais/Documents/Next/Na/data/2948/run_2948.gdcsnext.008.next1el_2948.root.h5 261\n",
      "Time spent in fill_evts: 0.16219758987426758 s\n",
      "/home/brais/Documents/Next/Na/data/2948/run_2948.gdcsnext.041.next1el_2948.root.h5 261\n",
      "Time spent in fill_evts: 0.16357111930847168 s\n",
      "/home/brais/Documents/Next/Na/data/2948/run_2948.gdcsnext.045.next1el_2948.root.h5 263\n",
      "Time spent in fill_evts: 0.16130757331848145 s\n",
      "/home/brais/Documents/Next/Na/data/2948/run_2948.gdcsnext.105.next1el_2948.root.h5 260\n",
      "Time spent in fill_evts: 0.1678299903869629 s\n",
      "/home/brais/Documents/Next/Na/data/2948/run_2948.gdcsnext.033.next1el_2948.root.h5 260\n",
      "Time spent in fill_evts: 0.17320466041564941 s\n",
      "/home/brais/Documents/Next/Na/data/2948/run_2948.gdcsnext.077.next1el_2948.root.h5 259\n",
      "Time spent in fill_evts: 0.1701946258544922 s\n",
      "/home/brais/Documents/Next/Na/data/2948/run_2948.gdcsnext.046.next1el_2948.root.h5 261\n",
      "Time spent in fill_evts: 0.19047212600708008 s\n",
      "/home/brais/Documents/Next/Na/data/2948/run_2948.gdcsnext.062.next1el_2948.root.h5 257\n",
      "Time spent in fill_evts: 0.1615278720855713 s\n",
      "/home/brais/Documents/Next/Na/data/2948/run_2948.gdcsnext.091.next1el_2948.root.h5 257\n",
      "Time spent in fill_evts: 0.15415692329406738 s\n",
      "/home/brais/Documents/Next/Na/data/2948/run_2948.gdcsnext.014.next1el_2948.root.h5 263\n",
      "Time spent in fill_evts: 0.18262815475463867 s\n",
      "/home/brais/Documents/Next/Na/data/2948/run_2948.gdcsnext.060.next1el_2948.root.h5 261\n",
      "Time spent in fill_evts: 0.17403507232666016 s\n",
      "/home/brais/Documents/Next/Na/data/2948/run_2948.gdcsnext.012.next1el_2948.root.h5 262\n",
      "Time spent in fill_evts: 0.17820954322814941 s\n",
      "/home/brais/Documents/Next/Na/data/2948/run_2948.gdcsnext.039.next1el_2948.root.h5 259\n",
      "Time spent in fill_evts: 0.17328476905822754 s\n",
      "/home/brais/Documents/Next/Na/data/2948/run_2948.gdcsnext.022.next1el_2948.root.h5 259\n",
      "Time spent in fill_evts: 0.17645859718322754 s\n",
      "/home/brais/Documents/Next/Na/data/2948/run_2948.gdcsnext.024.next1el_2948.root.h5 259\n",
      "Time spent in fill_evts: 0.18211150169372559 s\n",
      "/home/brais/Documents/Next/Na/data/2948/run_2948.gdcsnext.036.next1el_2948.root.h5 263\n",
      "Time spent in fill_evts: 0.19883370399475098 s\n",
      "/home/brais/Documents/Next/Na/data/2948/run_2948.gdcsnext.074.next1el_2948.root.h5 264\n",
      "Time spent in fill_evts: 0.17626023292541504 s\n",
      "/home/brais/Documents/Next/Na/data/2948/run_2948.gdcsnext.083.next1el_2948.root.h5 263\n",
      "Time spent in fill_evts: 0.15742945671081543 s\n",
      "/home/brais/Documents/Next/Na/data/2948/run_2948.gdcsnext.068.next1el_2948.root.h5 261\n",
      "Time spent in fill_evts: 0.16921043395996094 s\n",
      "/home/brais/Documents/Next/Na/data/2948/run_2948.gdcsnext.080.next1el_2948.root.h5 261\n",
      "Time spent in fill_evts: 0.1602487564086914 s\n",
      "/home/brais/Documents/Next/Na/data/2948/run_2948.gdcsnext.103.next1el_2948.root.h5 258\n",
      "Time spent in fill_evts: 0.16328787803649902 s\n",
      "/home/brais/Documents/Next/Na/data/2948/run_2948.gdcsnext.017.next1el_2948.root.h5 261\n",
      "Time spent in fill_evts: 0.16811418533325195 s\n",
      "/home/brais/Documents/Next/Na/data/2948/run_2948.gdcsnext.059.next1el_2948.root.h5 260\n",
      "Time spent in fill_evts: 0.17163848876953125 s\n",
      "/home/brais/Documents/Next/Na/data/2948/run_2948.gdcsnext.072.next1el_2948.root.h5 259\n",
      "Time spent in fill_evts: 0.1708228588104248 s\n",
      "/home/brais/Documents/Next/Na/data/2948/run_2948.gdcsnext.057.next1el_2948.root.h5 262\n",
      "Time spent in fill_evts: 0.16194462776184082 s\n",
      "/home/brais/Documents/Next/Na/data/2948/run_2948.gdcsnext.082.next1el_2948.root.h5 259\n",
      "Time spent in fill_evts: 0.15200328826904297 s\n",
      "/home/brais/Documents/Next/Na/data/2948/run_2948.gdcsnext.049.next1el_2948.root.h5 262\n",
      "Time spent in fill_evts: 0.17462158203125 s\n",
      "/home/brais/Documents/Next/Na/data/2948/run_2948.gdcsnext.052.next1el_2948.root.h5 261\n",
      "Time spent in fill_evts: 0.17003512382507324 s\n",
      "/home/brais/Documents/Next/Na/data/2948/run_2948.gdcsnext.047.next1el_2948.root.h5 261\n",
      "Time spent in fill_evts: 0.16988658905029297 s\n",
      "/home/brais/Documents/Next/Na/data/2948/run_2948.gdcsnext.013.next1el_2948.root.h5 259\n",
      "Time spent in fill_evts: 0.16170430183410645 s\n",
      "/home/brais/Documents/Next/Na/data/2948/run_2948.gdcsnext.015.next1el_2948.root.h5 263\n",
      "Time spent in fill_evts: 0.16502881050109863 s\n",
      "/home/brais/Documents/Next/Na/data/2948/run_2948.gdcsnext.020.next1el_2948.root.h5 263\n",
      "Time spent in fill_evts: 0.17196989059448242 s\n",
      "/home/brais/Documents/Next/Na/data/2948/run_2948.gdcsnext.003.next1el_2948.root.h5 263\n",
      "Time spent in fill_evts: 0.1611037254333496 s\n",
      "/home/brais/Documents/Next/Na/data/2948/run_2948.gdcsnext.092.next1el_2948.root.h5 260\n",
      "Time spent in fill_evts: 0.17053914070129395 s\n",
      "/home/brais/Documents/Next/Na/data/2948/run_2948.gdcsnext.042.next1el_2948.root.h5 259\n",
      "Time spent in fill_evts: 0.1838221549987793 s\n",
      "/home/brais/Documents/Next/Na/data/2948/run_2948.gdcsnext.087.next1el_2948.root.h5 260\n",
      "Time spent in fill_evts: 0.18372058868408203 s\n",
      "/home/brais/Documents/Next/Na/data/2948/run_2948.gdcsnext.061.next1el_2948.root.h5 262\n",
      "Time spent in fill_evts: 0.1675887107849121 s\n",
      "/home/brais/Documents/Next/Na/data/2948/run_2948.gdcsnext.044.next1el_2948.root.h5 261\n",
      "Time spent in fill_evts: 0.15865445137023926 s\n",
      "/home/brais/Documents/Next/Na/data/2948/run_2948.gdcsnext.099.next1el_2948.root.h5 262\n",
      "Time spent in fill_evts: 0.15506577491760254 s\n",
      "/home/brais/Documents/Next/Na/data/2948/run_2948.gdcsnext.073.next1el_2948.root.h5 258\n",
      "Time spent in fill_evts: 0.16295337677001953 s\n",
      "/home/brais/Documents/Next/Na/data/2948/run_2948.gdcsnext.104.next1el_2948.root.h5 260\n",
      "Time spent in fill_evts: 0.1559150218963623 s\n",
      "/home/brais/Documents/Next/Na/data/2948/run_2948.gdcsnext.079.next1el_2948.root.h5 263\n",
      "Time spent in fill_evts: 0.1596670150756836 s\n",
      "/home/brais/Documents/Next/Na/data/2948/run_2948.gdcsnext.075.next1el_2948.root.h5 260\n",
      "Time spent in fill_evts: 0.17906665802001953 s\n",
      "/home/brais/Documents/Next/Na/data/2948/run_2948.gdcsnext.004.next1el_2948.root.h5 263\n",
      "Time spent in fill_evts: 0.1705789566040039 s\n",
      "/home/brais/Documents/Next/Na/data/2948/run_2948.gdcsnext.001.next1el_2948.root.h5 259\n",
      "Time spent in fill_evts: 0.1741793155670166 s\n",
      "/home/brais/Documents/Next/Na/data/2948/run_2948.gdcsnext.029.next1el_2948.root.h5 261\n",
      "Time spent in fill_evts: 0.16705036163330078 s\n",
      "/home/brais/Documents/Next/Na/data/2948/run_2948.gdcsnext.102.next1el_2948.root.h5 260\n",
      "Time spent in fill_evts: 0.16428756713867188 s\n",
      "/home/brais/Documents/Next/Na/data/2948/run_2948.gdcsnext.095.next1el_2948.root.h5 262\n",
      "Time spent in fill_evts: 0.167741060256958 s\n",
      "/home/brais/Documents/Next/Na/data/2948/run_2948.gdcsnext.058.next1el_2948.root.h5 257\n",
      "Time spent in fill_evts: 0.18047618865966797 s\n",
      "/home/brais/Documents/Next/Na/data/2948/run_2948.gdcsnext.094.next1el_2948.root.h5 260\n",
      "Time spent in fill_evts: 0.17401576042175293 s\n",
      "/home/brais/Documents/Next/Na/data/2948/run_2948.gdcsnext.070.next1el_2948.root.h5 261\n",
      "Time spent in fill_evts: 0.1872704029083252 s\n",
      "/home/brais/Documents/Next/Na/data/2948/run_2948.gdcsnext.002.next1el_2948.root.h5 261\n",
      "Time spent in fill_evts: 0.16712570190429688 s\n",
      "Time spent in _create_attrs: 0.45647597312927246 s\n",
      "Time spent in build_dataset: 43.18046164512634 s\n"
     ]
    }
   ],
   "source": [
    "data = build_dataset(ifiles)"
   ]
  },
  {
   "cell_type": "markdown",
   "metadata": {},
   "source": [
    "# Filtering data"
   ]
  },
  {
   "cell_type": "code",
   "execution_count": 51,
   "metadata": {
    "collapsed": false
   },
   "outputs": [],
   "source": [
    "from copy import deepcopy\n",
    "def Filter(data):\n",
    "    filtered = deepcopy(data)\n",
    "    \n",
    "    min_S1w = 250.\n",
    "    max_S1w = 400.\n",
    "    min_S1h = 10.\n",
    "    max_S1h = 100.\n",
    "    \n",
    "    min_S2i = 3000.\n",
    "    max_S2i = 6500.\n",
    "    \n",
    "    #S1_filter_S1(filtered, [min_S1w, max_S1w], [min_S1h,max_S1h])\n",
    "    \n",
    "    print('Inicial: ',len(filtered.nS1))\n",
    "    filtered = filtered[filtered.nS1 == 1] # Just one S2\n",
    "    print('1 S1: ', len(filtered.nS1), len(filtered.nS2))\n",
    "    filtered = filtered[filtered.nS2 == 2] # Just two S2\n",
    "    print('2 S2: ', len(filtered.nS1), len(filtered.nS2))\n",
    "    \n",
    "    filtered = filtered[flat(filtered.S1w > min_S1w)]\n",
    "    filtered = filtered[flat(filtered.S1w < max_S1w)]\n",
    "    print('S1 width: ', len(filtered.nS1), len(filtered.nS2))\n",
    "    \n",
    "    filtered = filtered[flat(filtered.S1h > min_S1h )]\n",
    "    filtered = filtered[flat(filtered.S1h < max_S1h)]\n",
    "    print('S1 height: ', len(filtered.nS1), len(filtered.nS2))\n",
    "\n",
    "    mask, flat_mask = S2_filter(filtered, [min_S2i, max_S2i])\n",
    "    filtered        = filtered[flat_mask]\n",
    "    mask            = mask[flat_mask]\n",
    "    filtered.XRi    = filtered.S2i[:][mask]\n",
    "    filtered.XRw    = filtered.S2w[:][mask]\n",
    "    filtered.XRh    = filtered.S2h[:][mask]\n",
    "    filtered.XRt    = filtered.S2t[:][mask]\n",
    "    filtered.XRp    = filtered.S2p[:][mask]\n",
    "    filtered.XRZ    = filtered.Z[:][mask]\n",
    "    \n",
    "    print('S2 XR Energy: ', len(filtered.nS1), len(filtered.nS2), len(filtered.XRi ))\n",
    "    return filtered\n",
    "\n",
    "def S2_filter(data, edges):\n",
    "    filtered = deepcopy(data)\n",
    "    min_S2i, max_S2i = edges\n",
    "    \n",
    "    mask      = np.logical_and(filtered.S2i[:]>min_S2i,\n",
    "                               filtered.S2i[:]<max_S2i)  \n",
    "    flat_mask = mask.any(axis=1)\n",
    "\n",
    "    return mask, flat_mask\n",
    "\n",
    "def S1_filter_S1(data, edges_w, edges_h):\n",
    "    filtered = deepcopy(data)\n",
    "   \n",
    "    min_S1w, max_S1w = edges_w\n",
    "    min_S1h, max_S1h = edges_h\n",
    "    print(list(zip(filtered.S1h[:], filtered.S1w[:],filtered.S1t[:])))\n",
    "    a1 = filtered.S1w[:]>min_S1w\n",
    "    a2 = filtered.S1w[:]<max_S1w\n",
    "    a3 = filtered.S1h[:]>min_S1h\n",
    "    a4 = filtered.S1h[:]<max_S1h\n",
    "    mask      = np.logical_and(a1, \n",
    "                               a2,\n",
    "                               a3,\n",
    "                               a4)\n",
    "    flat_mask = mask.any(axis=1)\n",
    "    \n",
    "\n",
    "    return np.array(mask), np.array(flat_mask)"
   ]
  },
  {
   "cell_type": "code",
   "execution_count": null,
   "metadata": {
    "collapsed": false
   },
   "outputs": [],
   "source": [
    "x = np.array([[1,1],[2,3]], dtype=np.float)\n",
    "#x[0,:]>3\n"
   ]
  },
  {
   "cell_type": "code",
   "execution_count": 52,
   "metadata": {
    "collapsed": false,
    "scrolled": true
   },
   "outputs": [
    {
     "name": "stdout",
     "output_type": "stream",
     "text": [
      "Inicial:  207\n",
      "Time spent in _create_attrs: 0.003309011459350586 s\n",
      "1 S1:  207 207\n",
      "Time spent in _create_attrs: 0.003326416015625 s\n",
      "2 S2:  207 207\n",
      "Time spent in _create_attrs: 0.003019094467163086 s\n",
      "Time spent in _create_attrs: 0.0025250911712646484 s\n",
      "S1 width:  207 207\n",
      "Time spent in _create_attrs: 0.002508401870727539 s\n",
      "Time spent in _create_attrs: 0.002890348434448242 s\n",
      "S1 height:  207 207\n",
      "Time spent in _create_attrs: 0.002850770950317383 s\n",
      "S2 XR Energy:  207 207 208\n"
     ]
    }
   ],
   "source": [
    "filt = Filter(data)"
   ]
  },
  {
   "cell_type": "code",
   "execution_count": 11,
   "metadata": {
    "collapsed": false
   },
   "outputs": [],
   "source": [
    "data = filt"
   ]
  },
  {
   "cell_type": "markdown",
   "metadata": {
    "deletable": true,
    "editable": true
   },
   "source": [
    "## General plots about S1 and S2 (no selections applied)"
   ]
  },
  {
   "cell_type": "code",
   "execution_count": null,
   "metadata": {
    "collapsed": true,
    "deletable": true,
    "editable": true
   },
   "outputs": [],
   "source": [
    "data = full"
   ]
  },
  {
   "cell_type": "markdown",
   "metadata": {
    "deletable": true,
    "editable": true
   },
   "source": [
    "#### Number of S1 and S2 signals"
   ]
  },
  {
   "cell_type": "code",
   "execution_count": 12,
   "metadata": {
    "collapsed": false,
    "deletable": true,
    "editable": true
   },
   "outputs": [
    {
     "data": {
      "image/png": "[encoded data removed]",
      "text/plain": [
       "<matplotlib.figure.Figure at 0x7f13795e14a8>"
      ]
     },
     "metadata": {},
     "output_type": "display_data"
    },
    {
     "data": {
      "image/png": "[encoded data removed]",
      "text/plain": [
       "<matplotlib.figure.Figure at 0x7f13795e1550>"
      ]
     },
     "metadata": {},
     "output_type": "display_data"
    }
   ],
   "source": [
    "pdf(data.nS1, 10, range=(0, 10))\n",
    "labels(\"# S1\", \"Entries\")\n",
    "save(\"NS1\")\n",
    "\n",
    "################################\n",
    "pdf(data.nS2, 15, range=(0, 15))\n",
    "labels(\"# S2\", \"Entries\")\n",
    "save(\"NS2\")\n"
   ]
  },
  {
   "cell_type": "markdown",
   "metadata": {
    "deletable": true,
    "editable": true
   },
   "source": [
    "## From now on the study is focused on those events with exactly one S1 and one S2"
   ]
  },
  {
   "cell_type": "code",
   "execution_count": 13,
   "metadata": {
    "collapsed": false,
    "deletable": true,
    "editable": true
   },
   "outputs": [
    {
     "ename": "NameError",
     "evalue": "name 'full' is not defined",
     "output_type": "error",
     "traceback": [
      "\u001b[0;31m---------------------------------------------------------------------------\u001b[0m",
      "\u001b[0;31mNameError\u001b[0m                                 Traceback (most recent call last)",
      "\u001b[0;32m<ipython-input-13-9a40a3d1d542>\u001b[0m in \u001b[0;36m<module>\u001b[0;34m()\u001b[0m\n\u001b[0;32m----> 1\u001b[0;31m \u001b[0moneS1oneS2\u001b[0m \u001b[0;34m=\u001b[0m \u001b[0mfull\u001b[0m\u001b[0;34m[\u001b[0m\u001b[0mfull\u001b[0m\u001b[0;34m.\u001b[0m\u001b[0mok\u001b[0m\u001b[0;34m]\u001b[0m\u001b[0;34m\u001b[0m\u001b[0m\n\u001b[0m\u001b[1;32m      2\u001b[0m \u001b[0mdata\u001b[0m \u001b[0;34m=\u001b[0m \u001b[0moneS1oneS2\u001b[0m\u001b[0;34m\u001b[0m\u001b[0m\n\u001b[1;32m      3\u001b[0m \u001b[0mprint\u001b[0m\u001b[0;34m(\u001b[0m\u001b[0;34m\"Full set   :\"\u001b[0m\u001b[0;34m,\u001b[0m \u001b[0mfull\u001b[0m\u001b[0;34m.\u001b[0m\u001b[0mevts\u001b[0m\u001b[0;34m.\u001b[0m\u001b[0msize\u001b[0m\u001b[0;34m,\u001b[0m \u001b[0;34m\"events\"\u001b[0m\u001b[0;34m)\u001b[0m\u001b[0;34m\u001b[0m\u001b[0m\n\u001b[1;32m      4\u001b[0m \u001b[0mprint\u001b[0m\u001b[0;34m(\u001b[0m\u001b[0;34m\"Reduced set:\"\u001b[0m\u001b[0;34m,\u001b[0m \u001b[0mdata\u001b[0m\u001b[0;34m.\u001b[0m\u001b[0mevts\u001b[0m\u001b[0;34m.\u001b[0m\u001b[0msize\u001b[0m\u001b[0;34m,\u001b[0m \u001b[0;34m\"events\"\u001b[0m\u001b[0;34m)\u001b[0m\u001b[0;34m\u001b[0m\u001b[0m\n\u001b[1;32m      5\u001b[0m \u001b[0mprint\u001b[0m\u001b[0;34m(\u001b[0m\u001b[0;34m\"Ratio      :\"\u001b[0m\u001b[0;34m,\u001b[0m \u001b[0mdata\u001b[0m\u001b[0;34m.\u001b[0m\u001b[0mevts\u001b[0m\u001b[0;34m.\u001b[0m\u001b[0msize\u001b[0m\u001b[0;34m/\u001b[0m\u001b[0mfull\u001b[0m\u001b[0;34m.\u001b[0m\u001b[0mevts\u001b[0m\u001b[0;34m.\u001b[0m\u001b[0msize\u001b[0m\u001b[0;34m)\u001b[0m\u001b[0;34m\u001b[0m\u001b[0m\n",
      "\u001b[0;31mNameError\u001b[0m: name 'full' is not defined"
     ]
    }
   ],
   "source": [
    "oneS1oneS2 = full[full.ok]\n",
    "data = oneS1oneS2\n",
    "print(\"Full set   :\", full.evts.size, \"events\")\n",
    "print(\"Reduced set:\", data.evts.size, \"events\")\n",
    "print(\"Ratio      :\", data.evts.size/full.evts.size)"
   ]
  },
  {
   "cell_type": "markdown",
   "metadata": {
    "deletable": true,
    "editable": true
   },
   "source": [
    "<b>\n",
    "The ratio of \"reliable\" to total events is ~69.19%\n",
    "</b>"
   ]
  },
  {
   "cell_type": "markdown",
   "metadata": {
    "deletable": true,
    "editable": true
   },
   "source": [
    "## Distribution of events in Z"
   ]
  },
  {
   "cell_type": "code",
   "execution_count": 14,
   "metadata": {
    "collapsed": false,
    "deletable": true,
    "editable": true,
    "scrolled": false
   },
   "outputs": [
    {
     "data": {
      "image/png": "[encoded data removed]",
      "text/plain": [
       "<matplotlib.figure.Figure at 0x7f13768156d8>"
      ]
     },
     "metadata": {},
     "output_type": "display_data"
    }
   ],
   "source": [
    "hist(data.XRZ, 100)\n",
    "labels(\"Drift time ($\\mu$s)\", \"Event energy (pes)\")\n",
    "save(\"Z\")    "
   ]
  },
  {
   "cell_type": "markdown",
   "metadata": {
    "deletable": true,
    "editable": true
   },
   "source": [
    "## Width of S1 signals"
   ]
  },
  {
   "cell_type": "code",
   "execution_count": 15,
   "metadata": {
    "collapsed": false,
    "deletable": true,
    "editable": true
   },
   "outputs": [
    {
     "data": {
      "image/png": "[encoded data removed]",
      "text/plain": [
       "<matplotlib.figure.Figure at 0x7f13736fb550>"
      ]
     },
     "metadata": {},
     "output_type": "display_data"
    }
   ],
   "source": [
    "s1t = flat(data.S1t)/1e3\n",
    "\n",
    "################################\n",
    "hist(s1t, 100, range=(0, 2e2))\n",
    "labels(\"S1 time (mus)\", \"Entries\")\n",
    "save(\"S1time\")"
   ]
  },
  {
   "cell_type": "code",
   "execution_count": 17,
   "metadata": {
    "collapsed": false,
    "deletable": true,
    "editable": true,
    "scrolled": true
   },
   "outputs": [
    {
     "name": "stdout",
     "output_type": "stream",
     "text": [
      "208 207\n"
     ]
    },
    {
     "ename": "ValueError",
     "evalue": "x and y must be the same size",
     "output_type": "error",
     "traceback": [
      "\u001b[0;31m---------------------------------------------------------------------------\u001b[0m",
      "\u001b[0;31mValueError\u001b[0m                                Traceback (most recent call last)",
      "\u001b[0;32m<ipython-input-17-9048472d75a8>\u001b[0m in \u001b[0;36m<module>\u001b[0;34m()\u001b[0m\n\u001b[1;32m     10\u001b[0m \u001b[0mprint\u001b[0m\u001b[0;34m(\u001b[0m\u001b[0mlen\u001b[0m\u001b[0;34m(\u001b[0m\u001b[0mdata\u001b[0m\u001b[0;34m.\u001b[0m\u001b[0mXRZ\u001b[0m\u001b[0;34m)\u001b[0m\u001b[0;34m,\u001b[0m \u001b[0mlen\u001b[0m\u001b[0;34m(\u001b[0m\u001b[0ms1w\u001b[0m\u001b[0;34m)\u001b[0m\u001b[0;34m)\u001b[0m\u001b[0;34m\u001b[0m\u001b[0m\n\u001b[1;32m     11\u001b[0m \u001b[0;34m\u001b[0m\u001b[0m\n\u001b[0;32m---> 12\u001b[0;31m \u001b[0mscatter\u001b[0m\u001b[0;34m(\u001b[0m\u001b[0mdata\u001b[0m\u001b[0;34m.\u001b[0m\u001b[0mXRZ\u001b[0m\u001b[0;34m,\u001b[0m \u001b[0ms1w\u001b[0m\u001b[0;34m)\u001b[0m\u001b[0;34m\u001b[0m\u001b[0m\n\u001b[0m\u001b[1;32m     13\u001b[0m \u001b[0mx\u001b[0m\u001b[0;34m,\u001b[0m \u001b[0my\u001b[0m\u001b[0;34m,\u001b[0m \u001b[0m_\u001b[0m \u001b[0;34m=\u001b[0m \u001b[0mfitf\u001b[0m\u001b[0;34m.\u001b[0m\u001b[0mprofileX\u001b[0m\u001b[0;34m(\u001b[0m\u001b[0mdata\u001b[0m\u001b[0;34m.\u001b[0m\u001b[0mXRZ\u001b[0m\u001b[0;34m,\u001b[0m \u001b[0ms1w\u001b[0m\u001b[0;34m,\u001b[0m \u001b[0;36m50\u001b[0m\u001b[0;34m)\u001b[0m\u001b[0;34m\u001b[0m\u001b[0m\n\u001b[1;32m     14\u001b[0m \u001b[0mplt\u001b[0m\u001b[0;34m.\u001b[0m\u001b[0mplot\u001b[0m\u001b[0;34m(\u001b[0m\u001b[0mx\u001b[0m\u001b[0;34m,\u001b[0m \u001b[0my\u001b[0m\u001b[0;34m,\u001b[0m \u001b[0mprofOpt\u001b[0m\u001b[0;34m)\u001b[0m\u001b[0;34m\u001b[0m\u001b[0m\n",
      "\u001b[0;32m<ipython-input-3-32208213289e>\u001b[0m in \u001b[0;36mscatter\u001b[0;34m(*args, **kwargs)\u001b[0m\n\u001b[1;32m     73\u001b[0m     \"\"\"\n\u001b[1;32m     74\u001b[0m     \u001b[0mplt\u001b[0m\u001b[0;34m.\u001b[0m\u001b[0mfigure\u001b[0m\u001b[0;34m(\u001b[0m\u001b[0;34m)\u001b[0m\u001b[0;34m\u001b[0m\u001b[0m\n\u001b[0;32m---> 75\u001b[0;31m     \u001b[0;32mreturn\u001b[0m \u001b[0mplt\u001b[0m\u001b[0;34m.\u001b[0m\u001b[0mscatter\u001b[0m\u001b[0;34m(\u001b[0m\u001b[0;34m*\u001b[0m\u001b[0margs\u001b[0m\u001b[0;34m,\u001b[0m \u001b[0;34m**\u001b[0m\u001b[0mkwargs\u001b[0m\u001b[0;34m)\u001b[0m\u001b[0;34m\u001b[0m\u001b[0m\n\u001b[0m\u001b[1;32m     76\u001b[0m \u001b[0;34m\u001b[0m\u001b[0m\n\u001b[1;32m     77\u001b[0m \u001b[0;34m\u001b[0m\u001b[0m\n",
      "\u001b[0;32m/home/brais/anaconda3/envs/IC3.5/lib/python3.5/site-packages/matplotlib/pyplot.py\u001b[0m in \u001b[0;36mscatter\u001b[0;34m(x, y, s, c, marker, cmap, norm, vmin, vmax, alpha, linewidths, verts, edgecolors, hold, data, **kwargs)\u001b[0m\n\u001b[1;32m   3433\u001b[0m                          \u001b[0mvmin\u001b[0m\u001b[0;34m=\u001b[0m\u001b[0mvmin\u001b[0m\u001b[0;34m,\u001b[0m \u001b[0mvmax\u001b[0m\u001b[0;34m=\u001b[0m\u001b[0mvmax\u001b[0m\u001b[0;34m,\u001b[0m \u001b[0malpha\u001b[0m\u001b[0;34m=\u001b[0m\u001b[0malpha\u001b[0m\u001b[0;34m,\u001b[0m\u001b[0;34m\u001b[0m\u001b[0m\n\u001b[1;32m   3434\u001b[0m                          \u001b[0mlinewidths\u001b[0m\u001b[0;34m=\u001b[0m\u001b[0mlinewidths\u001b[0m\u001b[0;34m,\u001b[0m \u001b[0mverts\u001b[0m\u001b[0;34m=\u001b[0m\u001b[0mverts\u001b[0m\u001b[0;34m,\u001b[0m\u001b[0;34m\u001b[0m\u001b[0m\n\u001b[0;32m-> 3435\u001b[0;31m                          edgecolors=edgecolors, data=data, **kwargs)\n\u001b[0m\u001b[1;32m   3436\u001b[0m     \u001b[0;32mfinally\u001b[0m\u001b[0;34m:\u001b[0m\u001b[0;34m\u001b[0m\u001b[0m\n\u001b[1;32m   3437\u001b[0m         \u001b[0max\u001b[0m\u001b[0;34m.\u001b[0m\u001b[0m_hold\u001b[0m \u001b[0;34m=\u001b[0m \u001b[0mwashold\u001b[0m\u001b[0;34m\u001b[0m\u001b[0m\n",
      "\u001b[0;32m/home/brais/anaconda3/envs/IC3.5/lib/python3.5/site-packages/matplotlib/__init__.py\u001b[0m in \u001b[0;36minner\u001b[0;34m(ax, *args, **kwargs)\u001b[0m\n\u001b[1;32m   1890\u001b[0m                     warnings.warn(msg % (label_namer, func.__name__),\n\u001b[1;32m   1891\u001b[0m                                   RuntimeWarning, stacklevel=2)\n\u001b[0;32m-> 1892\u001b[0;31m             \u001b[0;32mreturn\u001b[0m \u001b[0mfunc\u001b[0m\u001b[0;34m(\u001b[0m\u001b[0max\u001b[0m\u001b[0;34m,\u001b[0m \u001b[0;34m*\u001b[0m\u001b[0margs\u001b[0m\u001b[0;34m,\u001b[0m \u001b[0;34m**\u001b[0m\u001b[0mkwargs\u001b[0m\u001b[0;34m)\u001b[0m\u001b[0;34m\u001b[0m\u001b[0m\n\u001b[0m\u001b[1;32m   1893\u001b[0m         \u001b[0mpre_doc\u001b[0m \u001b[0;34m=\u001b[0m \u001b[0minner\u001b[0m\u001b[0;34m.\u001b[0m\u001b[0m__doc__\u001b[0m\u001b[0;34m\u001b[0m\u001b[0m\n\u001b[1;32m   1894\u001b[0m         \u001b[0;32mif\u001b[0m \u001b[0mpre_doc\u001b[0m \u001b[0;32mis\u001b[0m \u001b[0;32mNone\u001b[0m\u001b[0;34m:\u001b[0m\u001b[0;34m\u001b[0m\u001b[0m\n",
      "\u001b[0;32m/home/brais/anaconda3/envs/IC3.5/lib/python3.5/site-packages/matplotlib/axes/_axes.py\u001b[0m in \u001b[0;36mscatter\u001b[0;34m(self, x, y, s, c, marker, cmap, norm, vmin, vmax, alpha, linewidths, verts, edgecolors, **kwargs)\u001b[0m\n\u001b[1;32m   3956\u001b[0m         \u001b[0my\u001b[0m \u001b[0;34m=\u001b[0m \u001b[0mnp\u001b[0m\u001b[0;34m.\u001b[0m\u001b[0mma\u001b[0m\u001b[0;34m.\u001b[0m\u001b[0mravel\u001b[0m\u001b[0;34m(\u001b[0m\u001b[0my\u001b[0m\u001b[0;34m)\u001b[0m\u001b[0;34m\u001b[0m\u001b[0m\n\u001b[1;32m   3957\u001b[0m         \u001b[0;32mif\u001b[0m \u001b[0mx\u001b[0m\u001b[0;34m.\u001b[0m\u001b[0msize\u001b[0m \u001b[0;34m!=\u001b[0m \u001b[0my\u001b[0m\u001b[0;34m.\u001b[0m\u001b[0msize\u001b[0m\u001b[0;34m:\u001b[0m\u001b[0;34m\u001b[0m\u001b[0m\n\u001b[0;32m-> 3958\u001b[0;31m             \u001b[0;32mraise\u001b[0m \u001b[0mValueError\u001b[0m\u001b[0;34m(\u001b[0m\u001b[0;34m\"x and y must be the same size\"\u001b[0m\u001b[0;34m)\u001b[0m\u001b[0;34m\u001b[0m\u001b[0m\n\u001b[0m\u001b[1;32m   3959\u001b[0m \u001b[0;34m\u001b[0m\u001b[0m\n\u001b[1;32m   3960\u001b[0m         \u001b[0;32mif\u001b[0m \u001b[0ms\u001b[0m \u001b[0;32mis\u001b[0m \u001b[0;32mNone\u001b[0m\u001b[0;34m:\u001b[0m\u001b[0;34m\u001b[0m\u001b[0m\n",
      "\u001b[0;31mValueError\u001b[0m: x and y must be the same size"
     ]
    },
    {
     "data": {
      "image/png": "[encoded data removed]",
      "text/plain": [
       "<matplotlib.figure.Figure at 0x7f1376c9c588>"
      ]
     },
     "metadata": {},
     "output_type": "display_data"
    },
    {
     "data": {
      "image/png": "[encoded data removed]",
      "text/plain": [
       "<matplotlib.figure.Figure at 0x7f1375fcb278>"
      ]
     },
     "metadata": {},
     "output_type": "display_data"
    }
   ],
   "source": [
    "s1w = flat(data.S1w)\n",
    "\n",
    "################################\n",
    "hist(s1w, 100, range=(0, 600))\n",
    "labels(\"S1 width (ns)\", \"Entries\")\n",
    "save(\"S1width\")\n",
    "\n",
    "################################\n",
    "\n",
    "print(len(data.XRZ), len(s1w))\n",
    "\n",
    "scatter(data.XRZ, s1w)\n",
    "x, y, _ = fitf.profileX(data.XRZ, s1w, 50)\n",
    "plt.plot(x, y, profOpt)\n",
    "f = fitf.fit(fitf.polynom, x, y, (1., 1.))\n",
    "plt.plot(x, f.fn(x), fitOpt)\n",
    "plt.text(20, 20, \"{:.3f} + {:.3f} x\".format(*f.values))\n",
    "labels(\"Drift time ($\\mu$s)\", \"S1 width (ns)\")\n",
    "plt.ylim(0, 2e5)\n",
    "save(\"S1widthvsZ\")"
   ]
  },
  {
   "cell_type": "markdown",
   "metadata": {
    "deletable": true,
    "editable": true
   },
   "source": [
    "# Height of S1 signals"
   ]
  },
  {
   "cell_type": "code",
   "execution_count": 20,
   "metadata": {
    "collapsed": false,
    "deletable": true,
    "editable": true,
    "scrolled": false
   },
   "outputs": [
    {
     "name": "stdout",
     "output_type": "stream",
     "text": [
      "207\n"
     ]
    },
    {
     "data": {
      "text/plain": [
       "'\\nprint(len(data.Z[:,0]), len(s1h))\\nscatter(data.Z[:,0], s1h)\\nx, y, _ = fitf.profileX(data.Z[:,0], s1h, 100)\\nplt.plot(x, y, profOpt)\\nf = fitf.fit(fitf.polynom, x, y, (1., 0.8, 0.01))\\n#plt.plot(x, f.fn(x), fitOpt)\\n#plt.text(0, 6, \"{:.3g} + {:.3g} x + {:.3g} x^2\".format(*f.values))\\nlabels(\"Drift time ($\\\\mu$s)\", \"S1 height (pes)\")\\nplt.ylim(0, 100)\\nsave(\"S1heightvsZ\")\\n'"
      ]
     },
     "execution_count": 20,
     "metadata": {},
     "output_type": "execute_result"
    },
    {
     "data": {
      "image/png": "[encoded data removed]",
      "text/plain": [
       "<matplotlib.figure.Figure at 0x7f1375feaba8>"
      ]
     },
     "metadata": {},
     "output_type": "display_data"
    }
   ],
   "source": [
    "s1h = flat(data.S1h)\n",
    "print(len(s1h))\n",
    "################################\n",
    "hist(s1h, 40, range=(0, 100))\n",
    "#plt.semilogy()\n",
    "labels(\"S1 height (pes)\", \"Entries\")\n",
    "save(\"S1height\")\n",
    "\n",
    "################################\n",
    "'''\n",
    "print(len(data.Z[:,0]), len(s1h))\n",
    "scatter(data.Z[:,0], s1h)\n",
    "x, y, _ = fitf.profileX(data.Z[:,0], s1h, 100)\n",
    "plt.plot(x, y, profOpt)\n",
    "f = fitf.fit(fitf.polynom, x, y, (1., 0.8, 0.01))\n",
    "#plt.plot(x, f.fn(x), fitOpt)\n",
    "#plt.text(0, 6, \"{:.3g} + {:.3g} x + {:.3g} x^2\".format(*f.values))\n",
    "labels(\"Drift time ($\\mu$s)\", \"S1 height (pes)\")\n",
    "plt.ylim(0, 100)\n",
    "save(\"S1heightvsZ\")\n",
    "'''"
   ]
  },
  {
   "cell_type": "code",
   "execution_count": 21,
   "metadata": {
    "collapsed": false
   },
   "outputs": [
    {
     "data": {
      "image/png": "[encoded data removed]",
      "text/plain": [
       "<matplotlib.figure.Figure at 0x7f1373ceacc0>"
      ]
     },
     "metadata": {},
     "output_type": "display_data"
    }
   ],
   "source": [
    "s1h = flat(data.S1h)\n",
    "s1w = flat(data.S1w)\n",
    "scatter(s1h,s1w)\n",
    "plt.yscale\n",
    "#x, y, _ = fitf.profileX(s1h, s1w, 100)\n",
    "#plt.plot(x, y, profOpt)\n",
    "#f = fitf.fit(fitf.polynom, x, y, (1., 1e-2, 1e-4))\n",
    "#plt.plot(x, f.fn(x), fitOpt)\n",
    "#plt.text(0, 100, \"{:.3g} + {:.3g} x + {:.3g} x^2\".format(*f.values))\n",
    "labels(\"S1 height (pes)\", \"S1 width (ns)\")\n",
    "plt.ylim(0, 1000)\n",
    "save(\"S1withvsS1Height\")"
   ]
  },
  {
   "cell_type": "markdown",
   "metadata": {
    "deletable": true,
    "editable": true
   },
   "source": [
    "\n",
    "\n",
    "## S1 energy"
   ]
  },
  {
   "cell_type": "code",
   "execution_count": 22,
   "metadata": {
    "collapsed": false,
    "deletable": true,
    "editable": true,
    "scrolled": false
   },
   "outputs": [
    {
     "data": {
      "text/plain": [
       "'\\nscatter(data.Z, s1i)\\nx, y, _ = fitf.profileX(data.Z, s1i, 100)\\nplt.plot(x, y, profOpt)\\nf = fitf.fit(fitf.polynom, x, y, (1., 1e-2, 1e-4))\\nplt.plot(x, f.fn(x), fitOpt)\\nplt.text(0, 20, \"{:.3g} + {:.3g} x + {:.3g} x^2\".format(*f.values))\\nlabels(\"Drift time ($\\\\mu$s)\", \"S1 energy (pes)\")\\nplt.ylim(0, 25)\\nsave(\"S1vsZ\")\\n'"
      ]
     },
     "execution_count": 22,
     "metadata": {},
     "output_type": "execute_result"
    },
    {
     "data": {
      "image/png": "[encoded data removed]",
      "text/plain": [
       "<matplotlib.figure.Figure at 0x7f13743164e0>"
      ]
     },
     "metadata": {},
     "output_type": "display_data"
    },
    {
     "data": {
      "image/png": "[encoded data removed]",
      "text/plain": [
       "<matplotlib.figure.Figure at 0x7f1373bb52b0>"
      ]
     },
     "metadata": {},
     "output_type": "display_data"
    }
   ],
   "source": [
    "s1i = flat(data.S1i)\n",
    "\n",
    "################################\n",
    "hist(s1i, 50, range=(0, 600))\n",
    "labels(\"S1 integral (pes)\", \"Entries\")\n",
    "save(\"S1energy\")\n",
    "\n",
    "################################\n",
    "pdf(s1i, 50, range=(0, 600))\n",
    "labels(\"S1 integral (pes)\", \"Entries\")\n",
    "save(\"S1energy_log\")\n",
    "\n",
    "################################\n",
    "\"\"\"\n",
    "scatter(data.Z, s1i)\n",
    "x, y, _ = fitf.profileX(data.Z, s1i, 100)\n",
    "plt.plot(x, y, profOpt)\n",
    "f = fitf.fit(fitf.polynom, x, y, (1., 1e-2, 1e-4))\n",
    "plt.plot(x, f.fn(x), fitOpt)\n",
    "plt.text(0, 20, \"{:.3g} + {:.3g} x + {:.3g} x^2\".format(*f.values))\n",
    "labels(\"Drift time ($\\mu$s)\", \"S1 energy (pes)\")\n",
    "plt.ylim(0, 25)\n",
    "save(\"S1vsZ\")\n",
    "\"\"\""
   ]
  },
  {
   "cell_type": "markdown",
   "metadata": {
    "deletable": true,
    "editable": true
   },
   "source": [
    "## S1 peak-to-area ratio"
   ]
  },
  {
   "cell_type": "code",
   "execution_count": 23,
   "metadata": {
    "collapsed": false,
    "deletable": true,
    "editable": true
   },
   "outputs": [
    {
     "name": "stderr",
     "output_type": "stream",
     "text": [
      "/home/brais/Documents/Next/IC/IC-1/invisible_cities/core/fit_functions.py:119: RuntimeWarning: divide by zero encountered in true_divide\n",
      "  chi2 = np.sum(np.ma.masked_invalid((fitx - y)**2/y))\n",
      "/home/brais/Documents/Next/IC/IC-1/invisible_cities/core/fit_functions.py:119: RuntimeWarning: invalid value encountered in true_divide\n",
      "  chi2 = np.sum(np.ma.masked_invalid((fitx - y)**2/y))\n"
     ]
    },
    {
     "data": {
      "image/png": "[encoded data removed]",
      "text/plain": [
       "<matplotlib.figure.Figure at 0x7f1373833240>"
      ]
     },
     "metadata": {},
     "output_type": "display_data"
    }
   ],
   "source": [
    "################################\n",
    "y, x, _ = hist(s1h/s1i, 50, range=(0, 0.5))\n",
    "x = x[:-1] + np.diff(x) * 0.5\n",
    "f = fitf.fit(fitf.gauss, x, y, (1e5, 0.3, 0.01))\n",
    "#plt.plot(x, f.fn(x), \"r\")\n",
    "labels(\"Peak to area ratio (pes/pes)\", \"Entries\")\n",
    "save(\"S1peak2area\")"
   ]
  },
  {
   "cell_type": "markdown",
   "metadata": {
    "deletable": true,
    "editable": true
   },
   "source": [
    "<b>\n",
    "1. The peak to area ratio is roughtly gaussianly distributed. On average, the ratio is ~26%.\n",
    "</b>"
   ]
  },
  {
   "cell_type": "markdown",
   "metadata": {
    "deletable": true,
    "editable": true
   },
   "source": [
    "## Width of S2 signals"
   ]
  },
  {
   "cell_type": "code",
   "execution_count": 35,
   "metadata": {
    "collapsed": false,
    "deletable": true,
    "editable": true
   },
   "outputs": [
    {
     "data": {
      "image/png": "[encoded data removed]",
      "text/plain": [
       "<matplotlib.figure.Figure at 0x7f1375c3f6d8>"
      ]
     },
     "metadata": {},
     "output_type": "display_data"
    }
   ],
   "source": [
    "s2t = flat(data.XRt)/1e3\n",
    "\n",
    "################################\n",
    "hist(s2t, 100, range=(0, 10e2))\n",
    "labels(\"S2 time (mus)\", \"Entries\")\n",
    "save(\"S2time_ok\")"
   ]
  },
  {
   "cell_type": "code",
   "execution_count": 36,
   "metadata": {
    "collapsed": false,
    "deletable": true,
    "editable": true
   },
   "outputs": [
    {
     "data": {
      "image/png": "[encoded data removed]",
      "text/plain": [
       "<matplotlib.figure.Figure at 0x7f1376f21198>"
      ]
     },
     "metadata": {},
     "output_type": "display_data"
    }
   ],
   "source": [
    "s2w = flat(data.XRw)\n",
    "\n",
    "################################\n",
    "hist(s2w, 30, range=(0, 100))\n",
    "labels(\"S2 width (mus)\", \"Entries\")\n",
    "save(\"S2width\")\n",
    "\n",
    "################################\n",
    "#scatter(flat(data.Z), s2w[::-1])\n",
    "#x, y, _ = fitf.profileX(data.Z, s2w, 100)\n",
    "#plt.plot(x, y, profOpt)\n",
    "#f = fitf.fit(fitf.power, x, y, (1., 0.8))\n",
    "#plt.plot(x, f.fn(x), fitOpt)\n",
    "#plt.text(0, 20, \"{:.3f} $\\cdot$ x^{:.2f}\".format(*f.values))\n",
    "#labels(\"Drift time ($\\mu$s)\", \"S2 width ($\\mu$s)\")\n",
    "#plt.ylim(0, 30)\n",
    "#save(\"S2widthvsZ\")"
   ]
  },
  {
   "cell_type": "markdown",
   "metadata": {
    "deletable": true,
    "editable": true
   },
   "source": [
    "# Height of S2 signals"
   ]
  },
  {
   "cell_type": "code",
   "execution_count": 37,
   "metadata": {
    "collapsed": false,
    "deletable": true,
    "editable": true,
    "scrolled": false
   },
   "outputs": [
    {
     "data": {
      "image/png": "[encoded data removed]",
      "text/plain": [
       "<matplotlib.figure.Figure at 0x7f1376cd4400>"
      ]
     },
     "metadata": {},
     "output_type": "display_data"
    },
    {
     "data": {
      "image/png": "[encoded data removed]",
      "text/plain": [
       "<matplotlib.figure.Figure at 0x7f1376f77470>"
      ]
     },
     "metadata": {},
     "output_type": "display_data"
    }
   ],
   "source": [
    "s2h = flat(data.XRh)\n",
    "\n",
    "################################\n",
    "hist(s2h, 40, range=(0, 15e3))\n",
    "labels(\"S2 height (pes)\", \"Entries\")\n",
    "save(\"S2height\")\n",
    "\n",
    "################################\n",
    "\"\"\"scatter(data.Z, s2h)\n",
    "x, y, _ = fitf.profileX(data.Z, s2h, 100)\n",
    "plt.plot(x, y, profOpt)\n",
    "fun = lambda x, *args: fitf.expo(x,*args[:2])/fitf.power(x, *args[2:])\n",
    "f = fitf.fit(fun, x, y, (1., -2e4, 0.1, -0.8))\n",
    "plt.plot(x, f.fn(x), fitOpt)\n",
    "plt.text(1e2, 4e3, \"{:.3f} exp(x/{:.3g}) / \"\n",
    "                   \"({:.3g} $\\cdot$ x^{:.2f})\".format(*f.values))\n",
    "labels(\"Drift time ($\\mu$s)\", \"S2 height (pes)\")\n",
    "plt.ylim(0, 3e4)\n",
    "save(\"S2heightvsZ\")\n",
    "\"\"\"\n",
    "################################\n",
    "scatter(s2w, s2h)\n",
    "#x, y, _ = fitf.profileX(s2w, s2h, 50)\n",
    "#plt.plot(x, y, profOpt)\n",
    "#f = fitf.fit(fitf.power, x, y, (1., -1.0))\n",
    "#plt.plot(x, f.fn(x), fitOpt)\n",
    "#plt.text(10, 4e3, \"{:.3f} $\\cdot$ x^{:.2f}\".format(*f.values))\n",
    "labels(\"S2 width ($\\mu$s)\", \"S2 height (pes)\")\n",
    "plt.ylim(0, 3e4)\n",
    "plt.xlim(0,100)\n",
    "save(\"S2heightvsS2width\")\n"
   ]
  },
  {
   "cell_type": "markdown",
   "metadata": {
    "deletable": true,
    "editable": true
   },
   "source": [
    "## S2 energy"
   ]
  },
  {
   "cell_type": "code",
   "execution_count": 38,
   "metadata": {
    "collapsed": false,
    "deletable": true,
    "editable": true
   },
   "outputs": [
    {
     "data": {
      "text/plain": [
       "'\\nscatter(data.Z, s2i)\\nx, y, _ = fitf.profileX(data.Z, s2i, 100)\\nplt.plot(x, y, profOpt)\\nf = fitf.fit(fitf.expo, x, y, (7e3, -1))\\nplt.plot(x, f.fn(x), fitOpt)\\nplt.text(0, 2200, \"{:.1f} $\\\\cdot$ exp(-x/{:.4g})\".format(*f.values))\\nlabels(\"Drift time ($\\\\mu$s)\", \"Event energy (pes)\")\\nplt.ylim(2e3, 8e3)\\nsave(\"EvsZ\")\\n'"
      ]
     },
     "execution_count": 38,
     "metadata": {},
     "output_type": "execute_result"
    },
    {
     "data": {
      "image/png": "[encoded data removed]",
      "text/plain": [
       "<matplotlib.figure.Figure at 0x7f1379f08e10>"
      ]
     },
     "metadata": {},
     "output_type": "display_data"
    },
    {
     "data": {
      "image/png": "[encoded data removed]",
      "text/plain": [
       "<matplotlib.figure.Figure at 0x7f1377024e48>"
      ]
     },
     "metadata": {},
     "output_type": "display_data"
    },
    {
     "data": {
      "image/png": "[encoded data removed]",
      "text/plain": [
       "<matplotlib.figure.Figure at 0x7f1373ab2c50>"
      ]
     },
     "metadata": {},
     "output_type": "display_data"
    },
    {
     "data": {
      "image/png": "[encoded data removed]",
      "text/plain": [
       "<matplotlib.figure.Figure at 0x7f1372ec6198>"
      ]
     },
     "metadata": {},
     "output_type": "display_data"
    }
   ],
   "source": [
    "s2i = flat(data.XRi)\n",
    "\n",
    "################################\n",
    "hist(s2i, 500, range=(0, 300e3))\n",
    "labels(\"S2 integral (pes)\", \"Entries\")\n",
    "save(\"S2energy_fullRange\")\n",
    "\n",
    "################################\n",
    "hist(s2i, 50, range=(0, 8e3))\n",
    "labels(\"S2 integral (pes)\", \"Entries\")\n",
    "save(\"S2energy_RX\")\n",
    "\n",
    "################################\n",
    "pdf(s2i, 500, range=(0, 300e3))\n",
    "labels(\"S2 integral (pes)\", \"Entries\")\n",
    "save(\"S2energy_log_fullRange\")\n",
    "\n",
    "################################\n",
    "pdf(s2i, 50, range=(0, 8e3))\n",
    "labels(\"S2 integral (pes)\", \"Entries\")\n",
    "save(\"S2energy_log_RX\")\n",
    "\n",
    "################################\n",
    "'''\n",
    "scatter(data.Z, s2i)\n",
    "x, y, _ = fitf.profileX(data.Z, s2i, 100)\n",
    "plt.plot(x, y, profOpt)\n",
    "f = fitf.fit(fitf.expo, x, y, (7e3, -1))\n",
    "plt.plot(x, f.fn(x), fitOpt)\n",
    "plt.text(0, 2200, \"{:.1f} $\\cdot$ exp(-x/{:.4g})\".format(*f.values))\n",
    "labels(\"Drift time ($\\mu$s)\", \"Event energy (pes)\")\n",
    "plt.ylim(2e3, 8e3)\n",
    "save(\"EvsZ\")\n",
    "'''"
   ]
  },
  {
   "cell_type": "code",
   "execution_count": null,
   "metadata": {
    "collapsed": true
   },
   "outputs": [],
   "source": []
  },
  {
   "cell_type": "code",
   "execution_count": null,
   "metadata": {
    "collapsed": true
   },
   "outputs": [],
   "source": []
  },
  {
   "cell_type": "code",
   "execution_count": null,
   "metadata": {
    "collapsed": true
   },
   "outputs": [],
   "source": []
  },
  {
   "cell_type": "code",
   "execution_count": null,
   "metadata": {
    "collapsed": true
   },
   "outputs": [],
   "source": []
  },
  {
   "cell_type": "code",
   "execution_count": null,
   "metadata": {
    "collapsed": true
   },
   "outputs": [],
   "source": []
  },
  {
   "cell_type": "markdown",
   "metadata": {
    "deletable": true,
    "editable": true
   },
   "source": [
    "## S2 peak-to-area ratio"
   ]
  },
  {
   "cell_type": "code",
   "execution_count": 39,
   "metadata": {
    "collapsed": false,
    "deletable": true,
    "editable": true
   },
   "outputs": [
    {
     "data": {
      "image/png": "[encoded data removed]",
      "text/plain": [
       "<matplotlib.figure.Figure at 0x7f1373eb6780>"
      ]
     },
     "metadata": {},
     "output_type": "display_data"
    }
   ],
   "source": [
    "################################\n",
    "hist(s2h/s2i, 50, range=(0, 1))\n",
    "labels(\"Peak to area ratio (pes/pes)\", \"Entries\")\n",
    "save(\"S2peak2area\")"
   ]
  },
  {
   "cell_type": "markdown",
   "metadata": {
    "deletable": true,
    "editable": true
   },
   "source": [
    "<b>\n",
    "1. The peak to area ratio seems to be composed of different types of peaks (~0.2, ~0.32, ~0.42, ~0.5). Not yet understood, but surely related to the structure found in the height of S2 signals.\n",
    "</b>"
   ]
  },
  {
   "cell_type": "markdown",
   "metadata": {
    "deletable": true,
    "editable": true
   },
   "source": [
    "## S2 vs S1"
   ]
  },
  {
   "cell_type": "code",
   "execution_count": 48,
   "metadata": {
    "collapsed": false,
    "deletable": true,
    "editable": true
   },
   "outputs": [
    {
     "name": "stdout",
     "output_type": "stream",
     "text": [
      "207 208\n",
      "390.351915061 4282.9292984\n",
      "181.752583146 4207.55843353\n",
      "178.534247965 3305.50853157\n",
      "195.851776391 5666.89421463\n",
      "131.875495195 5778.83222198\n",
      "92.8782899976 4741.4886055\n",
      "153.922627687 5163.28575325\n",
      "108.621518373 5236.14461708\n",
      "69.7482926548 4786.85123825\n",
      "131.519540817 4659.64693451\n",
      "86.0390766859 5582.44148636\n",
      "78.8143588305 3546.84492493\n",
      "152.2887384 4878.73717356\n",
      "146.077076942 6496.22772217\n",
      "258.166640282 5528.63856506\n",
      "166.131781071 4230.76235962\n",
      "114.807576239 5274.64605713\n",
      "100.140220821 5172.29592133\n",
      "129.188556999 5087.79604197\n",
      "111.207964212 5531.86998367\n",
      "328.483787537 3082.61918259\n",
      "129.772942662 5710.00688934\n",
      "116.259193599 5072.42498398\n",
      "233.997507364 5077.84773362\n",
      "91.8863029182 3939.35089111\n",
      "220.32008785 4048.1752243\n",
      "97.3206117451 4570.68354034\n",
      "76.20544824 3661.23651886\n",
      "97.2419516146 5309.10625839\n",
      "106.044339627 5294.94213009\n",
      "94.7673030496 5674.87895203\n",
      "117.349646449 5564.31356812\n",
      "283.609965563 4091.5111084\n",
      "159.327170968 4425.35639191\n",
      "231.818889737 4939.4791255\n",
      "115.994665086 3707.05572128\n",
      "117.816102266 5982.82789993\n",
      "144.0888291 5127.01175666\n",
      "323.631557375 4577.8252387\n",
      "98.0087421685 5117.13332367\n",
      "98.8591273725 4322.65381241\n",
      "197.35658896 6191.73204041\n",
      "296.505682677 3565.70646286\n",
      "81.2984977365 4954.33813858\n",
      "123.286979109 4123.67531586\n",
      "56.404735297 6494.71772766\n",
      "198.033274174 5821.67694092\n",
      "280.24506557 5135.4331131\n",
      "241.35248518 4913.755476\n",
      "394.534146667 5624.66361237\n",
      "306.626993179 5173.63455343\n",
      "232.81213516 3793.77856064\n",
      "364.825924337 3544.46389008\n",
      "314.064331234 4787.1100502\n",
      "109.246682584 3838.89505959\n",
      "142.115248203 5466.76148224\n",
      "84.1227542162 5513.25926971\n",
      "259.546671033 4711.06323242\n",
      "117.721247822 3845.50131261\n",
      "359.418233216 4905.3359623\n",
      "119.430443406 4544.61040878\n",
      "104.782249361 4976.31228638\n",
      "195.198479444 4972.22853851\n",
      "79.5890389383 4975.66991425\n",
      "97.5496188998 5283.66106415\n",
      "77.3984669745 5473.61831665\n",
      "105.498307139 5240.58025551\n",
      "51.802553013 5734.13915586\n",
      "102.221240044 4510.17790985\n",
      "159.823766083 5474.77913284\n",
      "83.1699911356 6267.77239227\n",
      "115.802549422 4990.91522217\n",
      "147.773196936 5821.82564163\n",
      "129.389182568 5537.26960373\n",
      "115.433799684 4287.92605591\n",
      "249.027010158 4768.92200851\n",
      "377.699829578 5581.88113117\n",
      "135.410041988 5087.90106964\n",
      "267.814629972 6177.69871902\n",
      "84.878798157 4882.60522175\n",
      "114.189878255 4619.90705872\n",
      "171.314996064 5033.08673477\n",
      "233.274397373 3678.03839684\n",
      "85.6633889377 3971.78163147\n",
      "84.6917106807 4875.53478241\n",
      "94.9123652577 4564.46356964\n",
      "151.550897717 4702.92427158\n",
      "136.014596164 3587.84745502\n",
      "105.316283613 5369.2473526\n",
      "243.080822676 5922.79592133\n",
      "71.0100497007 5171.50198364\n",
      "143.277709216 5130.36902881\n",
      "102.282134578 5513.00146484\n",
      "124.673332632 5476.58169365\n",
      "73.8743987381 4971.84922028\n",
      "137.981707945 3113.82914352\n",
      "116.505472362 4052.95107269\n",
      "102.14583075 5806.28760529\n",
      "218.184577644 4647.27223206\n",
      "158.361547887 5799.21614838\n",
      "117.645497337 4858.11360931\n",
      "156.63003099 4972.95553589\n",
      "113.062192932 4444.01487732\n",
      "140.064353019 4115.12117195\n",
      "139.462493837 5230.97768283\n",
      "98.12333709 5578.50949478\n",
      "143.400301903 6368.7829361\n",
      "208.282866716 5295.56658483\n",
      "96.7135222256 5659.6072464\n",
      "202.780461386 4499.7226119\n",
      "108.234032989 4705.07082748\n",
      "204.959061027 5289.72177124\n",
      "120.745804742 3278.87472534\n",
      "142.399002269 5470.59134579\n",
      "79.2292720675 4655.95079041\n",
      "310.296656013 5124.38171959\n",
      "170.674720243 5082.57370758\n",
      "160.226205349 6438.77087402\n",
      "76.1674363911 5813.86314011\n",
      "97.8091620505 6245.43856239\n",
      "63.143237114 5881.85977364\n",
      "157.334669456 4264.31017303\n",
      "185.06844157 6349.25185776\n",
      "213.468203515 6089.47294998\n",
      "153.123444974 6265.18959427\n",
      "173.102203429 4647.09923553\n",
      "115.132139087 4641.24150085\n",
      "103.499977887 4485.68026733\n",
      "123.134050727 3831.93653107\n",
      "124.342978328 6332.13126564\n",
      "109.873054922 4530.78839016\n",
      "188.991788656 5169.01565361\n",
      "300.397086978 5897.33618164\n",
      "97.0067327023 3992.97508621\n",
      "141.644212812 5026.39559555\n",
      "79.1521273255 5280.03482819\n",
      "107.070824265 4360.91486216\n",
      "122.007510304 4297.27104187\n",
      "104.9119519 5166.13710785\n",
      "101.246070862 5259.33396149\n",
      "158.05028069 4772.11911774\n",
      "113.71134299 3742.28206825\n",
      "133.370552838 5010.39219666\n",
      "95.0234175473 4045.61603165\n",
      "163.300172061 5188.60862541\n",
      "115.704259813 5659.60151672\n",
      "132.286953986 4409.38937426\n",
      "103.96316129 4365.18616676\n",
      "260.353132963 4936.47171974\n",
      "159.329093754 4832.61727905\n",
      "91.0553148389 4790.98426819\n",
      "164.482083946 5279.28006744\n",
      "109.246005863 6122.96204758\n",
      "143.436716586 5170.84172344\n",
      "256.871646881 6328.32666874\n",
      "73.377766341 5453.6001358\n",
      "118.640290082 6191.96261024\n",
      "239.737933844 3767.65478516\n",
      "76.3257785439 5180.1834259\n",
      "90.0249087214 6044.90171814\n",
      "98.6623667777 6347.67323685\n",
      "134.125589669 5129.32632065\n",
      "130.649799705 5856.46847296\n",
      "124.394875169 4365.48894119\n",
      "160.998052716 4719.29449463\n",
      "86.17970559 4445.99264145\n",
      "344.503783107 4986.59785843\n",
      "256.279649973 3869.63944936\n",
      "133.232401222 4544.66280365\n",
      "92.4896149635 5660.86297607\n",
      "314.004532695 4792.33044434\n",
      "118.484931916 5561.04223251\n",
      "113.553010106 5586.03428149\n",
      "96.0548022985 5972.95963216\n",
      "119.435778558 5002.02668095\n",
      "122.842537895 4337.27463531\n",
      "126.571571171 4196.41394043\n",
      "98.2071710825 4827.95543671\n",
      "102.904958874 3810.98606873\n",
      "64.7636695206 4381.96449566\n",
      "134.736348242 5337.54245567\n",
      "93.0242900252 4957.1358757\n",
      "174.576835215 5581.10058594\n",
      "102.508915499 3311.53043509\n",
      "215.26531148 4875.13620305\n",
      "251.547698379 5082.5635643\n",
      "140.470410675 3299.95133781\n",
      "80.2783621252 5210.85778046\n",
      "128.361030459 5165.65855789\n",
      "130.995387465 4716.41237259\n",
      "109.887326121 4655.24752045\n",
      "114.909809351 4819.39770317\n",
      "217.488018245 6488.43778229\n",
      "255.655626893 5774.8458252\n",
      "99.5916309655 5994.36310196\n",
      "131.32538566 4403.93125153\n",
      "108.297040939 6183.4371891\n",
      "62.4512394071 5491.28782654\n",
      "133.597602367 4865.71880722\n",
      "108.477197185 5102.0057373\n",
      "138.637929916 5809.49149704\n",
      "236.973942488 5319.7822113\n",
      "137.744064122 5373.34631348\n",
      "87.4742569029 4813.33273888\n",
      "145.128485128 4119.93505096\n",
      "95.8919474185 4227.35370636\n",
      "4833.10787964\n"
     ]
    },
    {
     "ename": "ValueError",
     "evalue": "x and y must be the same size",
     "output_type": "error",
     "traceback": [
      "\u001b[0;31m---------------------------------------------------------------------------\u001b[0m",
      "\u001b[0;31mValueError\u001b[0m                                Traceback (most recent call last)",
      "\u001b[0;32m<ipython-input-48-2972054d058f>\u001b[0m in \u001b[0;36m<module>\u001b[0;34m()\u001b[0m\n\u001b[1;32m      4\u001b[0m     \u001b[0mprint\u001b[0m\u001b[0;34m(\u001b[0m\u001b[0ms1i\u001b[0m\u001b[0;34m[\u001b[0m\u001b[0mi\u001b[0m\u001b[0;34m]\u001b[0m\u001b[0;34m,\u001b[0m\u001b[0ms2i\u001b[0m\u001b[0;34m[\u001b[0m\u001b[0mi\u001b[0m\u001b[0;34m]\u001b[0m\u001b[0;34m)\u001b[0m\u001b[0;34m\u001b[0m\u001b[0m\n\u001b[1;32m      5\u001b[0m \u001b[0mprint\u001b[0m\u001b[0;34m(\u001b[0m\u001b[0ms2i\u001b[0m\u001b[0;34m[\u001b[0m\u001b[0;36m207\u001b[0m\u001b[0;34m]\u001b[0m\u001b[0;34m)\u001b[0m\u001b[0;34m\u001b[0m\u001b[0m\n\u001b[0;32m----> 6\u001b[0;31m \u001b[0mscatter\u001b[0m\u001b[0;34m(\u001b[0m\u001b[0ms1i\u001b[0m\u001b[0;34m,\u001b[0m \u001b[0ms2i\u001b[0m\u001b[0;34m)\u001b[0m\u001b[0;34m\u001b[0m\u001b[0m\n\u001b[0m\u001b[1;32m      7\u001b[0m \u001b[0mx\u001b[0m\u001b[0;34m,\u001b[0m \u001b[0my\u001b[0m\u001b[0;34m,\u001b[0m \u001b[0m_\u001b[0m \u001b[0;34m=\u001b[0m \u001b[0mfitf\u001b[0m\u001b[0;34m.\u001b[0m\u001b[0mprofileX\u001b[0m\u001b[0;34m(\u001b[0m\u001b[0ms1i\u001b[0m\u001b[0;34m,\u001b[0m \u001b[0ms2i\u001b[0m\u001b[0;34m,\u001b[0m \u001b[0;36m100\u001b[0m\u001b[0;34m,\u001b[0m \u001b[0;34m(\u001b[0m\u001b[0;36m0\u001b[0m\u001b[0;34m,\u001b[0m \u001b[0;36m20\u001b[0m\u001b[0;34m)\u001b[0m\u001b[0;34m)\u001b[0m\u001b[0;34m\u001b[0m\u001b[0m\n\u001b[1;32m      8\u001b[0m \u001b[0mplt\u001b[0m\u001b[0;34m.\u001b[0m\u001b[0mplot\u001b[0m\u001b[0;34m(\u001b[0m\u001b[0mx\u001b[0m\u001b[0;34m,\u001b[0m \u001b[0my\u001b[0m\u001b[0;34m,\u001b[0m \u001b[0mprofOpt\u001b[0m\u001b[0;34m)\u001b[0m\u001b[0;34m\u001b[0m\u001b[0m\n",
      "\u001b[0;32m<ipython-input-3-32208213289e>\u001b[0m in \u001b[0;36mscatter\u001b[0;34m(*args, **kwargs)\u001b[0m\n\u001b[1;32m     73\u001b[0m     \"\"\"\n\u001b[1;32m     74\u001b[0m     \u001b[0mplt\u001b[0m\u001b[0;34m.\u001b[0m\u001b[0mfigure\u001b[0m\u001b[0;34m(\u001b[0m\u001b[0;34m)\u001b[0m\u001b[0;34m\u001b[0m\u001b[0m\n\u001b[0;32m---> 75\u001b[0;31m     \u001b[0;32mreturn\u001b[0m \u001b[0mplt\u001b[0m\u001b[0;34m.\u001b[0m\u001b[0mscatter\u001b[0m\u001b[0;34m(\u001b[0m\u001b[0;34m*\u001b[0m\u001b[0margs\u001b[0m\u001b[0;34m,\u001b[0m \u001b[0;34m**\u001b[0m\u001b[0mkwargs\u001b[0m\u001b[0;34m)\u001b[0m\u001b[0;34m\u001b[0m\u001b[0m\n\u001b[0m\u001b[1;32m     76\u001b[0m \u001b[0;34m\u001b[0m\u001b[0m\n\u001b[1;32m     77\u001b[0m \u001b[0;34m\u001b[0m\u001b[0m\n",
      "\u001b[0;32m/home/brais/anaconda3/envs/IC3.5/lib/python3.5/site-packages/matplotlib/pyplot.py\u001b[0m in \u001b[0;36mscatter\u001b[0;34m(x, y, s, c, marker, cmap, norm, vmin, vmax, alpha, linewidths, verts, edgecolors, hold, data, **kwargs)\u001b[0m\n\u001b[1;32m   3433\u001b[0m                          \u001b[0mvmin\u001b[0m\u001b[0;34m=\u001b[0m\u001b[0mvmin\u001b[0m\u001b[0;34m,\u001b[0m \u001b[0mvmax\u001b[0m\u001b[0;34m=\u001b[0m\u001b[0mvmax\u001b[0m\u001b[0;34m,\u001b[0m \u001b[0malpha\u001b[0m\u001b[0;34m=\u001b[0m\u001b[0malpha\u001b[0m\u001b[0;34m,\u001b[0m\u001b[0;34m\u001b[0m\u001b[0m\n\u001b[1;32m   3434\u001b[0m                          \u001b[0mlinewidths\u001b[0m\u001b[0;34m=\u001b[0m\u001b[0mlinewidths\u001b[0m\u001b[0;34m,\u001b[0m \u001b[0mverts\u001b[0m\u001b[0;34m=\u001b[0m\u001b[0mverts\u001b[0m\u001b[0;34m,\u001b[0m\u001b[0;34m\u001b[0m\u001b[0m\n\u001b[0;32m-> 3435\u001b[0;31m                          edgecolors=edgecolors, data=data, **kwargs)\n\u001b[0m\u001b[1;32m   3436\u001b[0m     \u001b[0;32mfinally\u001b[0m\u001b[0;34m:\u001b[0m\u001b[0;34m\u001b[0m\u001b[0m\n\u001b[1;32m   3437\u001b[0m         \u001b[0max\u001b[0m\u001b[0;34m.\u001b[0m\u001b[0m_hold\u001b[0m \u001b[0;34m=\u001b[0m \u001b[0mwashold\u001b[0m\u001b[0;34m\u001b[0m\u001b[0m\n",
      "\u001b[0;32m/home/brais/anaconda3/envs/IC3.5/lib/python3.5/site-packages/matplotlib/__init__.py\u001b[0m in \u001b[0;36minner\u001b[0;34m(ax, *args, **kwargs)\u001b[0m\n\u001b[1;32m   1890\u001b[0m                     warnings.warn(msg % (label_namer, func.__name__),\n\u001b[1;32m   1891\u001b[0m                                   RuntimeWarning, stacklevel=2)\n\u001b[0;32m-> 1892\u001b[0;31m             \u001b[0;32mreturn\u001b[0m \u001b[0mfunc\u001b[0m\u001b[0;34m(\u001b[0m\u001b[0max\u001b[0m\u001b[0;34m,\u001b[0m \u001b[0;34m*\u001b[0m\u001b[0margs\u001b[0m\u001b[0;34m,\u001b[0m \u001b[0;34m**\u001b[0m\u001b[0mkwargs\u001b[0m\u001b[0;34m)\u001b[0m\u001b[0;34m\u001b[0m\u001b[0m\n\u001b[0m\u001b[1;32m   1893\u001b[0m         \u001b[0mpre_doc\u001b[0m \u001b[0;34m=\u001b[0m \u001b[0minner\u001b[0m\u001b[0;34m.\u001b[0m\u001b[0m__doc__\u001b[0m\u001b[0;34m\u001b[0m\u001b[0m\n\u001b[1;32m   1894\u001b[0m         \u001b[0;32mif\u001b[0m \u001b[0mpre_doc\u001b[0m \u001b[0;32mis\u001b[0m \u001b[0;32mNone\u001b[0m\u001b[0;34m:\u001b[0m\u001b[0;34m\u001b[0m\u001b[0m\n",
      "\u001b[0;32m/home/brais/anaconda3/envs/IC3.5/lib/python3.5/site-packages/matplotlib/axes/_axes.py\u001b[0m in \u001b[0;36mscatter\u001b[0;34m(self, x, y, s, c, marker, cmap, norm, vmin, vmax, alpha, linewidths, verts, edgecolors, **kwargs)\u001b[0m\n\u001b[1;32m   3956\u001b[0m         \u001b[0my\u001b[0m \u001b[0;34m=\u001b[0m \u001b[0mnp\u001b[0m\u001b[0;34m.\u001b[0m\u001b[0mma\u001b[0m\u001b[0;34m.\u001b[0m\u001b[0mravel\u001b[0m\u001b[0;34m(\u001b[0m\u001b[0my\u001b[0m\u001b[0;34m)\u001b[0m\u001b[0;34m\u001b[0m\u001b[0m\n\u001b[1;32m   3957\u001b[0m         \u001b[0;32mif\u001b[0m \u001b[0mx\u001b[0m\u001b[0;34m.\u001b[0m\u001b[0msize\u001b[0m \u001b[0;34m!=\u001b[0m \u001b[0my\u001b[0m\u001b[0;34m.\u001b[0m\u001b[0msize\u001b[0m\u001b[0;34m:\u001b[0m\u001b[0;34m\u001b[0m\u001b[0m\n\u001b[0;32m-> 3958\u001b[0;31m             \u001b[0;32mraise\u001b[0m \u001b[0mValueError\u001b[0m\u001b[0;34m(\u001b[0m\u001b[0;34m\"x and y must be the same size\"\u001b[0m\u001b[0;34m)\u001b[0m\u001b[0;34m\u001b[0m\u001b[0m\n\u001b[0m\u001b[1;32m   3959\u001b[0m \u001b[0;34m\u001b[0m\u001b[0m\n\u001b[1;32m   3960\u001b[0m         \u001b[0;32mif\u001b[0m \u001b[0ms\u001b[0m \u001b[0;32mis\u001b[0m \u001b[0;32mNone\u001b[0m\u001b[0;34m:\u001b[0m\u001b[0;34m\u001b[0m\u001b[0m\n",
      "\u001b[0;31mValueError\u001b[0m: x and y must be the same size"
     ]
    },
    {
     "data": {
      "image/png": "[encoded data removed]",
      "text/plain": [
       "<matplotlib.figure.Figure at 0x7f13737931d0>"
      ]
     },
     "metadata": {},
     "output_type": "display_data"
    }
   ],
   "source": [
    "################################\n",
    "print(len(s1i),len(s2i))\n",
    "for i in range(206):\n",
    "    print(s1i[i],s2i[i])\n",
    "print(s2i[207])\n",
    "scatter(s1i, s2i)\n",
    "x, y, _ = fitf.profileX(s1i, s2i, 100, (0, 20))\n",
    "plt.plot(x, y, profOpt)\n",
    "f = fitf.fit(fitf.polynom, x, y, (6e3, -1.))\n",
    "plt.plot(x, f.fn(x), fitOpt)\n",
    "plt.text(12, 3200, \"{:.3f} + {:.3f} x\".format(*f.values))\n",
    "labels(\"S1 energy (pes)\", \"S2 energy (pes)\")\n",
    "plt.xlim(0, 20)\n",
    "plt.ylim(2e3, 8e3)\n",
    "save(\"S2vsS1\")\n"
   ]
  },
  {
   "cell_type": "markdown",
   "metadata": {
    "deletable": true,
    "editable": true
   },
   "source": [
    "<b>\n",
    "1. S2 energy is also (anti)correlated with S1 charge. I don’t know where does this come from as there is no recombination in the MC. It may be caused purely by the S2 vs Z dependence.\n",
    "</b>"
   ]
  },
  {
   "cell_type": "markdown",
   "metadata": {
    "deletable": true,
    "editable": true
   },
   "source": [
    "## Number of SiPMs touched"
   ]
  },
  {
   "cell_type": "code",
   "execution_count": null,
   "metadata": {
    "collapsed": false,
    "deletable": true,
    "editable": true,
    "scrolled": false
   },
   "outputs": [],
   "source": [
    "nsipm = flat(data.Nsipm)\n",
    "\n",
    "################################\n",
    "hist(nsipm, 10, range=(0, 10))\n",
    "labels(\"Number of charged SiPMs\", \"Entries\")\n",
    "save(\"Nsipm\")\n",
    "\n",
    "################################\n",
    "scatter(data.Z, nsipm)\n",
    "x, y, _ = fitf.profileX(flat(data.Z), nsipm, 100)\n",
    "plt.plot(x, y, profOpt)\n",
    "f = fitf.fit(fitf.polynom, x, y, (2, -1e-5, -1e-2, -1e-3))\n",
    "plt.plot(x, f.fn(x), fitOpt)\n",
    "plt.text(0, 3.5, \"{:.3g} + {:.3g} x + {:.3g} x^2 + {:.3g} x^3\".format(*f.values))\n",
    "labels(\"Drift time ($\\mu$s)\", \"Number of SiPMs touched\")\n",
    "save(\"NsipmvsZ\")\n",
    "\n",
    "################################\n",
    "selection = ~np.isnan(data.R)\n",
    "R = data.R[selection]\n",
    "scatter(R, nsipm[selection])\n",
    "x, y, _ = fitf.profileX(R, nsipm[selection], 50)\n",
    "plt.plot(x, y, profOpt)\n",
    "f = fitf.fit(fitf.expo, x, y, (1., -0.8))\n",
    "plt.plot(x, f.fn(x), fitOpt)\n",
    "plt.text(0, 3.2, \"{:.3f} exp(x/{:.2f})\".format(*f.values))\n",
    "labels(\"r (mm)\", \"Number of SiPMs touched\")\n",
    "save(\"NsipmvsR\")\n"
   ]
  },
  {
   "cell_type": "markdown",
   "metadata": {
    "deletable": true,
    "editable": true
   },
   "source": [
    "## To study geometrical dependendes, we will select those events with Nsipm > 0"
   ]
  },
  {
   "cell_type": "code",
   "execution_count": null,
   "metadata": {
    "collapsed": false,
    "deletable": true,
    "editable": true
   },
   "outputs": [],
   "source": [
    "atleast1sipm = oneS1oneS2[flat(oneS1oneS2.Nsipm) > 0]\n",
    "data         = atleast1sipm"
   ]
  },
  {
   "cell_type": "markdown",
   "metadata": {
    "deletable": true,
    "editable": true
   },
   "source": [
    "## Event distribution in the X, Y plane"
   ]
  },
  {
   "cell_type": "code",
   "execution_count": null,
   "metadata": {
    "collapsed": false,
    "deletable": true,
    "editable": true,
    "scrolled": false
   },
   "outputs": [],
   "source": [
    "X, Y, R, Phi = flat(data.X), flat(data.Y), flat(data.R), flat(data.Phi)\n",
    "\n",
    "################################\n",
    "hist(X, 100, range=(-220, 220))\n",
    "labels(\"x (mm)\", \"Entries\")\n",
    "save(\"X\")\n",
    "\n",
    "################################\n",
    "hist(Y, 100, range=(-220, 220))\n",
    "labels(\"y (mm)\", \"Entries\")\n",
    "save(\"Y\")\n",
    "\n",
    "################################\n",
    "hist(R, 100, range=(0, 220))\n",
    "labels(\"r (mm)\", \"Entries\")\n",
    "save(\"R\")\n",
    "\n",
    "################################\n",
    "hist(Phi, 100, range=(-pi, pi))\n",
    "labels(\"$\\phi$ (rad)\", \"Entries\")\n",
    "save(\"Phi\")\n",
    "\n",
    "################################\n",
    "hist2d(X, Y, 100, range=((-220, 220),\n",
    "                         (-220, 220)))\n",
    "plt.colorbar().set_label(\"# events\")\n",
    "labels(\"x (mm)\", \"y (mm)\")\n",
    "save(\"XY\")\n",
    "\n",
    "################################\n",
    "hist2d(R, Phi, 100, range=((  0, 220),\n",
    "                           (-pi, pi )))\n",
    "plt.colorbar().set_label(\"# events\")\n",
    "labels(\"r (mm)\", \"$\\phi$ (mm)\")\n",
    "save(\"RPhi\")\n"
   ]
  },
  {
   "cell_type": "markdown",
   "metadata": {
    "deletable": true,
    "editable": true
   },
   "source": [
    "<b>\n",
    "1. The distribution of events (computed using the barycenter) is, as expected, quite homogeneous if we ignore the strip pattern. It seems that the differences in bin contents are small, with the only exception of the hole in (5, -155).\n",
    "2. Because there is a dead SiPM at that position and because of the low number of SiPMs touched, the events that should be reconstructed at (5, -155) are biased towards the closest neighbors.\n",
    "3. The strip pattern is clearly caused by the the small number of charged SiPMs (particularly when Nsipm = 1). This makes the outcome kind of discrete and biased.\n",
    "</b>"
   ]
  },
  {
   "cell_type": "markdown",
   "metadata": {
    "deletable": true,
    "editable": true
   },
   "source": [
    "## S2 charge"
   ]
  },
  {
   "cell_type": "code",
   "execution_count": null,
   "metadata": {
    "collapsed": false,
    "deletable": true,
    "editable": true
   },
   "outputs": [],
   "source": [
    "################################\n",
    "s2q = flat(data.Q)\n",
    "hist(s2q, 100, range=(0, 600))\n",
    "labels(\"Tracking plane charge (pes)\", \"Entries\")\n",
    "save(\"S2Q\")\n",
    "\n",
    "################################\n",
    "pdf(s2q, 100, range=(0, 600))\n",
    "labels(\"Tracking plane charge (pes)\", \"Entries\")\n",
    "save(\"S2Q_log\")"
   ]
  },
  {
   "cell_type": "markdown",
   "metadata": {
    "deletable": true,
    "editable": true
   },
   "source": [
    "<b>\n",
    "1. The total charge (integral of the tracking plane) is weirdly distributed, not even close to a gaussian form. We need to look at its dependences.\n",
    "</b>"
   ]
  },
  {
   "cell_type": "code",
   "execution_count": null,
   "metadata": {
    "collapsed": false,
    "deletable": true,
    "editable": true
   },
   "outputs": [],
   "source": [
    "################################\n",
    "scatter(data.Z, s2q)\n",
    "x, y, _ = fitf.profileX(data.Z, s2q, 100)\n",
    "plt.plot(x, y, profOpt)\n",
    "f = fitf.fit(fitf.polynom, x, y, (400, -1, 0.1, 0.01))\n",
    "plt.plot(x, f.fn(x), fitOpt)\n",
    "plt.text(50, 550, \"{:.3g} + {:.3g} x + {:.3g} x^2 + {:.3g} x^3\".format(*f.values))\n",
    "labels(\"Drift time ($\\mu$s)\", \"Traking Plane integral (pes)\")\n",
    "save(\"QvsZ\")\n",
    "\n",
    "################################\n",
    "ave = f.fn(data.Z[data.Z<200])\n",
    "y, x, _ = hist((s2q[data.Z<200] - ave)/ave**0.5, 100, range=(-10, 10))\n",
    "x = x[:-1] + np.diff(x) * 0.5\n",
    "f = fitf.fit(fitf.gauss, x, y, (1e4, 0, 5))\n",
    "plt.plot(x, f.fn(x), \"r\")\n",
    "labels(\"Traking Plane integral - average value (pes)\", \"Entries\")\n",
    "save(\"QvsZ_shifted\")"
   ]
  },
  {
   "cell_type": "code",
   "execution_count": null,
   "metadata": {
    "collapsed": false,
    "deletable": true,
    "editable": true
   },
   "outputs": [],
   "source": [
    "nsipm = flat(data.Nsipm)\n",
    "################################\n",
    "scatter(nsipm, s2q)\n",
    "x, y, _ = fitf.profileX(nsipm, s2q, 100, xrange=(0, 5))\n",
    "plt.plot(x, y, profOpt)\n",
    "f = fitf.fit(fitf.power, x, y, (100, 0.7))\n",
    "plt.plot(x, f.fn(x), fitOpt)\n",
    "plt.text(2.5, 50, \"{:.3f} $\\cdot$ x^{:.2f}\".format(*f.values))\n",
    "labels(\"Number of SiPMs touched\", \"S2 charge (pes)\")\n",
    "save(\"QvsNsipm\")"
   ]
  },
  {
   "cell_type": "code",
   "execution_count": null,
   "metadata": {
    "collapsed": false,
    "deletable": true,
    "editable": true
   },
   "outputs": [],
   "source": [
    "################################\n",
    "plt.figure()\n",
    "x, y, q, qe = fitf.profileXY(X, Y, s2q, 100, 100)\n",
    "x = np.repeat(x, x.size)\n",
    "y = np.tile(y, y.size)\n",
    "q = np.concatenate(q)\n",
    "plt.scatter(x, y, c=q, marker=\"s\")\n",
    "plt.colorbar().set_label(\"S2 charge (pes)\")\n",
    "labels(\"x (mm)\", \"y (mm)\")\n",
    "save(\"QvsXY\")\n",
    "\n",
    "################################\n",
    "plt.figure()\n",
    "x, y, q, qe = fitf.profileXY(R, Phi, s2q, 100, 100)\n",
    "x = np.repeat(x, x.size)\n",
    "y = np.tile(y, y.size)\n",
    "q = np.concatenate(q)\n",
    "plt.scatter(x, y, c=q, marker=\"s\")\n",
    "plt.colorbar().set_label(\"S2 charge (pes)\")\n",
    "labels(\"r (mm)\", \"$\\phi$ (rad)\")\n",
    "save(\"QvsRPhi\")\n",
    "\n",
    "################################\n",
    "scatter(R, s2q)\n",
    "x, y, _ = fitf.profileX(R, s2q, 50)\n",
    "plt.plot(x, y, profOpt)\n",
    "f = fitf.fit(fitf.polynom, x, y, (200, -0.001))\n",
    "plt.plot(x, f.fn(x), fitOpt)\n",
    "plt.text(0, 600, \"{:.3g} + {:.3g} x\".format(*f.values))\n",
    "labels(\"r (mm)\", \"S2 charge (pes)\")\n",
    "save(\"QvsR\")\n",
    "\n",
    "################################\n",
    "scatter(Phi, s2q)\n",
    "x, y, _ = fitf.profileX(Phi, s2q, 100)\n",
    "plt.plot(x, y, profOpt)\n",
    "labels(\"$\\phi$ (rad)\", \"S2 charge (pes)\")\n",
    "save(\"QvsPhi\")"
   ]
  },
  {
   "cell_type": "markdown",
   "metadata": {
    "deletable": true,
    "editable": true
   },
   "source": [
    "<b>\n",
    "After taking a look to the dependencies of this magnitude we see that:\n",
    "    - Charge collection is homogeneous in the TP.\n",
    "    - It depends on the number of SiPMs touched, but this magnitude depends on Z.\n",
    "    - There is a strong dependence on Z. While events occurring near the anode have ~400 pes, it is very likely to miss those happening near the cathode. On the other hand, if we take Q - averageQ for Z < 200 mus, the distribution seems gaussianly distributed, as expected. Therefore, we can conclude that charge variation in Z is the dominant effect in the TP.\n",
    "</b>"
   ]
  },
  {
   "cell_type": "code",
   "execution_count": null,
   "metadata": {
    "collapsed": false,
    "deletable": true,
    "editable": true
   },
   "outputs": [],
   "source": [
    "s2e = flat(data.S2i)\n",
    "\n",
    "################################\n",
    "plt.figure()\n",
    "x, y, q, qe = fitf.profileXY(X, Y, s2e, 100, 100)\n",
    "x = np.repeat(x, x.size)\n",
    "y = np.tile(y, y.size)\n",
    "q = np.concatenate(q)\n",
    "plt.scatter(x, y, c=q, marker=\"s\")\n",
    "plt.colorbar().set_label(\"Event energy (pes)\")\n",
    "labels(\"x (mm)\", \"y (mm)\")\n",
    "save(\"EvsXY\")\n",
    "\n",
    "################################\n",
    "plt.figure()\n",
    "x, y, q, qe = fitf.profileXY(R, Phi, s2e, 100, 100)\n",
    "x = np.repeat(x, x.size)\n",
    "y = np.tile(y, y.size)\n",
    "q = np.concatenate(q)\n",
    "plt.scatter(x, y, c=q, marker=\"s\")\n",
    "plt.colorbar().set_label(\"S2 energy (pes)\")\n",
    "labels(\"r (mm)\", \"$\\phi$ (rad)\")\n",
    "save(\"EvsRPhi\")\n",
    "\n",
    "################################\n",
    "scatter(R, s2e)\n",
    "x, y, _ = fitf.profileX(R, s2e, 100)\n",
    "plt.plot(x, y, profOpt)\n",
    "f = fitf.fit(fitf.polynom, x, y, (6e3, -1e-2, 1e-2, -1e-3, -1e-4, 1e-6, 1e-7))\n",
    "plt.plot(x, f.fn(x), fitOpt)\n",
    "plt.text(0, 3e3, \"{:.3g} + {:.3g} x + {:.3g} x^2 + \\n\"\n",
    "                 \"{:.3g} x^3 + {:.3g} x^4 + {:.3g} x^5 +\\n\"\n",
    "                 \"{:.3g} x^6\".format(*f.values))\n",
    "labels(\"r (mm)\", \"Event energy (pes)\")\n",
    "save(\"EvsR\")\n",
    "\n",
    "################################\n",
    "scatter(Phi, s2e)\n",
    "x, y, _ = fitf.profileX(Phi, s2e, 100)\n",
    "plt.plot(x, y, profOpt)\n",
    "labels(\"$\\phi$ (rad)\", \"Event energy (pes)\")\n",
    "save(\"EvsPhi\")"
   ]
  },
  {
   "cell_type": "markdown",
   "metadata": {
    "deletable": true,
    "editable": true
   },
   "source": [
    "<b>\n",
    "1. Finally, the dependence of the energy with the position is obvious. The behaviour in R and $\\phi$ are the ones expected from the parametrization. The Kr energy map seems quite good, even with the bias introduced by the small number of SiPMs touched (although the bins are 4mm wide). There are still some holes for which we only need more statistics, but there is a big one at the position of the dead SiPM. Unless we can increase the number of SiPMs touched and/or the light they receive, I don’t think we can do a better energy map.\n",
    "</b>"
   ]
  },
  {
   "cell_type": "code",
   "execution_count": null,
   "metadata": {
    "collapsed": false,
    "deletable": true,
    "editable": true
   },
   "outputs": [],
   "source": [
    "################################\n",
    "scatter(s2e, s2q)\n",
    "plt.xlim(3500)\n",
    "x, y, _ = fitf.profileX(s2e, s2q, 100, (4700, 7200))\n",
    "plt.plot(x, y, profOpt)\n",
    "f = fitf.fit(fitf.polynom, x, y, (200, 1e-2, 1e-4))\n",
    "plt.plot(x, f.fn(x), fitOpt)\n",
    "plt.text(3600, 600, \"{:.3g} + {:.3g} x + {:.3g} x^2\".format(*f.values))\n",
    "labels(\"S2 energy (pes)\", \"S2 charge (pes)\")\n",
    "save(\"QvsE\")"
   ]
  },
  {
   "cell_type": "markdown",
   "metadata": {
    "deletable": true,
    "editable": true
   },
   "source": [
    "<b>\n",
    "1. The meaning of the charge vs energy plot is not clear. The only dependences are Q(Z) and E(R) (E(z) is negligible compared with the other one), so the quadratic correlation does not seem obvious to me.\n",
    "</b>"
   ]
  },
  {
   "cell_type": "code",
   "execution_count": null,
   "metadata": {
    "collapsed": false,
    "deletable": true,
    "editable": true
   },
   "outputs": [],
   "source": [
    "################################\n",
    "qsipm = flat(data.Qsipm)\n",
    "hist(qsipm, 100, range=(0, 600))\n",
    "labels(\"SiPM charge (pes)\", \"Entries\")\n",
    "save(\"SipmQ\")\n",
    "\n",
    "################################\n",
    "pdf(qsipm, 100, range=(0, 600))\n",
    "labels(\"SiPM charge (pes)\", \"Entries\")\n",
    "save(\"SipmQ_log\")"
   ]
  },
  {
   "cell_type": "markdown",
   "metadata": {
    "deletable": true,
    "editable": true
   },
   "source": [
    "<b>\n",
    "1. The charge per SiPM shows that the majority of them have less than 100 pes, but, in the best-case scenario, they can reach up to 400 pes. However, since this charge is time-integrated, the lower bound of the distribution is shifted towards the ~5 pes/$\\mu$s region, very close to the ZS cut.\n",
    "</b>"
   ]
  },
  {
   "cell_type": "code",
   "execution_count": null,
   "metadata": {
    "collapsed": false,
    "deletable": true,
    "editable": true,
    "scrolled": false
   },
   "outputs": [],
   "source": [
    "################################\n",
    "order, charge, norm_charge = [], [], []\n",
    "for evt in data.Qsipm:\n",
    "    for peak in evt:\n",
    "        maxq = np.sum(peak)\n",
    "        for i, q in enumerate(sorted(peak, reverse=True)):\n",
    "            order.append(i)\n",
    "            charge.append(q)\n",
    "            norm_charge.append(q/maxq)\n",
    "\n",
    "order, charge, norm_charge = map(np.array, [order, charge, norm_charge])\n",
    "scatter(order, charge)\n",
    "x, y, _ = fitf.profileX(order, charge, 100, (0, 4))\n",
    "plt.plot(x, y, profOpt)\n",
    "labels(\"Ordering\", \"SiPM charge (pes)\")\n",
    "save(\"SipmQordered\")\n",
    "\n",
    "###########################\n",
    "scatter(order, norm_charge)\n",
    "x, y, _ = fitf.profileX(order, norm_charge, 100, (0, 4))\n",
    "plt.plot(x, y, profOpt)\n",
    "labels(\"Ordering\", \"SiPM normalized charge (pes/pes)\")\n",
    "save(\"SipmQnormordered\")"
   ]
  },
  {
   "cell_type": "markdown",
   "metadata": {
    "deletable": true,
    "editable": true
   },
   "source": [
    "## Spread of the events"
   ]
  },
  {
   "cell_type": "code",
   "execution_count": null,
   "metadata": {
    "collapsed": false,
    "deletable": true,
    "editable": true
   },
   "outputs": [],
   "source": [
    "################################\n",
    "hist(flat(data.Xrms), 100, range=(0, 10))\n",
    "labels(\"rms x (mm)\", \"Entries\")\n",
    "save(\"rmsX_full\")\n",
    "\n",
    "################################\n",
    "hist(flat(data.Yrms), 100, range=(0, 10))\n",
    "labels(\"rms y (mm)\", \"Entries\")\n",
    "save(\"rmsY_full\")"
   ]
  },
  {
   "cell_type": "markdown",
   "metadata": {
    "deletable": true,
    "editable": true
   },
   "source": [
    "<b>\n",
    "1. The spread of the event can be measured by the standard deviation of X and Y. These plots show how the distributions of these variables are affected by those events with Nsipm=1. Therefore, to perform this study we must get rid of those events with rms=0.\n",
    "</b>"
   ]
  },
  {
   "cell_type": "code",
   "execution_count": null,
   "metadata": {
    "collapsed": false,
    "deletable": true,
    "editable": true
   },
   "outputs": [],
   "source": [
    "rmsnotzero = data[(data.Xrms > 1e-3) & (data.Yrms > 1e-3)]\n",
    "data = rmsnotzero"
   ]
  },
  {
   "cell_type": "code",
   "execution_count": null,
   "metadata": {
    "collapsed": false,
    "deletable": true,
    "editable": true,
    "scrolled": false
   },
   "outputs": [],
   "source": [
    "xrms, yrms = data.Xrms, data.Yrms\n",
    "\n",
    "################################\n",
    "hist(xrms, 100, range=(0, 10))\n",
    "labels(\"rms x (mm)\", \"Entries\")\n",
    "save(\"rmsX\")\n",
    "\n",
    "################################\n",
    "hist(yrms, 100, range=(0, 10))\n",
    "labels(\"rms y (mm)\", \"Entries\")\n",
    "save(\"rmsY\")\n",
    "\n",
    "################################\n",
    "scatter(data.Z, xrms)\n",
    "x, y, _ = fitf.profileX(data.Z, xrms, 100, yrange=(0,30))\n",
    "plt.plot(x, y, profOpt)\n",
    "f = fitf.fit(fitf.polynom, x, y, (1., 0.8))\n",
    "plt.plot(x, f.fn(x), fitOpt)\n",
    "plt.text(100, 5, \"{:.3f} + {:.3f} x\".format(*f.values))\n",
    "labels(\"Drift time ($\\mu$s)\", \"rms x (mm)\")\n",
    "save(\"rmsXvsZ\")\n",
    "\n",
    "################################\n",
    "scatter(data.Z, yrms)\n",
    "x, y, _ = fitf.profileX(data.Z, yrms, 100, yrange=(0,30))\n",
    "plt.plot(x, y, profOpt)\n",
    "f = fitf.fit(fitf.polynom, x, y, (1., 0.8))\n",
    "plt.plot(x, f.fn(x), fitOpt)\n",
    "plt.text(100, 5, \"{:.3f} + {:.3f} x\".format(*f.values))\n",
    "labels(\"Drift time ($\\mu$s)\", \"rms y (mm)\")\n",
    "save(\"rmsYvsZ\")"
   ]
  },
  {
   "cell_type": "markdown",
   "metadata": {
    "deletable": true,
    "editable": true
   },
   "source": [
    "<b>\n",
    "1. The same distributions after the second selection are more clear. These are unfolded in Z and it seems that the spread of the event increases slightly with Z, but this plot is biased because of the Nsipm > 1 selection. However, even when selecting events with the same number of charged SiPMs, the same distribution shows up again, so the effect is real. It would be interesting to reproduce this with a higher number of SiPMs touched.\n",
    "</b>"
   ]
  }
 ],
 "metadata": {
  "kernelspec": {
   "display_name": "Python 3",
   "language": "python",
   "name": "python3"
  },
  "language_info": {
   "codemirror_mode": {
    "name": "ipython",
    "version": 3
   },
   "file_extension": ".py",
   "mimetype": "text/x-python",
   "name": "python",
   "nbconvert_exporter": "python",
   "pygments_lexer": "ipython3",
   "version": "3.5.3"
  }
 },
 "nbformat": 4,
 "nbformat_minor": 2
}
