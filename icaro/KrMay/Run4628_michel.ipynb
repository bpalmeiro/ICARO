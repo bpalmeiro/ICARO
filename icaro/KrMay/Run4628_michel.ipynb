{
 "cells": [
  {
   "cell_type": "markdown",
   "metadata": {},
   "source": [
    "# Notebook configuration"
   ]
  },
  {
   "cell_type": "code",
   "execution_count": 1,
   "metadata": {
    "collapsed": true
   },
   "outputs": [],
   "source": [
    "run_number    = 4628\n",
    "save_plots    = False\n",
    "plots_format  = \"pdf\"\n",
    "outputfolder  = \"plots/{}/\".format(run_number)\n",
    "corr_filename = \"run{}_corrections.h5\".format(run_number)\n",
    "#copy_corr_to  = \"/Users/Gonzalo/github/NEXTdata/XYmaps/\"\n",
    "inputfilename = \"/home/brais/Documents/Next/Kr/data/{0}/dst_{0}.root.h5\".format(run_number)\n",
    "\n",
    "Zrange        =     0, 600\n",
    "XYrange       =  -198, 198\n",
    "Rrange        =     0, max(XYrange)\n",
    "Prange        =  -3.2, 3.2  \n",
    "Erange_raw    =     0, 15e3\n",
    "Erange_zcorr  =   5e3, 15e3\n",
    "Erange_xycorr =   9e3, 14e3\n",
    "Erange_fit    = 11500, 13500\n",
    "Qrange        =     0, 10e2\n",
    "QErange       =     0, Qrange[1]/Erange_xycorr[1]\n",
    "Frange        =   0.8, 1.5\n",
    "Urange        =  1e-3, 1.2e-2\n",
    "\n",
    "S1Erange      =     0, 40\n",
    "S1Wrange      =     0, 400\n",
    "S1Hrange      =     0, 10\n",
    "S2Wrange      =     0, 50\n",
    "S2Hrange      =     0, 10e3\n",
    "NSirange      =     0, 30\n",
    "\n",
    "Zrange_DV     =   545, 555\n",
    "Zrange_LT     =    50, 520\n",
    "Zrange_XY     =     0, 520\n",
    "nX, nY, nR    =    50,  50, 50\n",
    "x0, y0, r0    =    40, -40, 15 # for lifetime scan\n",
    "\n",
    "extra_pitches = [( 25,  25),\n",
    "                 ( 50,  50),\n",
    "                 ( 75,  75),\n",
    "                 (100, 100)]\n",
    "\n",
    "split_sample  = True"
   ]
  },
  {
   "cell_type": "code",
   "execution_count": 2,
   "metadata": {
    "collapsed": true
   },
   "outputs": [],
   "source": [
    "Emin_fit      = Erange_fit[0]\n",
    "Emax_fit      = Erange_fit[1]\n",
    "Emean_fit     = 0.5*sum(Erange_fit)"
   ]
  },
  {
   "cell_type": "markdown",
   "metadata": {},
   "source": [
    "# Kr analysis"
   ]
  },
  {
   "cell_type": "code",
   "execution_count": 90,
   "metadata": {},
   "outputs": [
    {
     "name": "stdout",
     "output_type": "stream",
     "text": [
      "Running on  Thu Sep 21 20:37:51 2017\n"
     ]
    }
   ],
   "source": [
    "import os\n",
    "import shutil\n",
    "import functools\n",
    "import time\n",
    "print(\"Running on \", time.asctime())\n",
    "\n",
    "import numpy             as np\n",
    "import tables            as tb\n",
    "import pandas            as pd\n",
    "import matplotlib.pyplot as plt\n",
    "from   matplotlib.colors import LogNorm\n",
    "from   copy              import copy\n",
    "\n",
    "\n",
    "import invisible_cities.core.core_functions as coref\n",
    "import invisible_cities.core.fit_functions  as fitf\n",
    "import invisible_cities.reco.dst_functions  as dstf\n",
    "import invisible_cities.io  .kdst_io        as kdstio\n",
    "import invisible_cities.reco.corrections    as corrf\n",
    "\n",
    "from invisible_cities.icaro.hst_functions import hist\n",
    "from invisible_cities.icaro.hst_functions import hist2d\n",
    "from invisible_cities.icaro.hst_functions import pdf\n",
    "from invisible_cities.icaro.hst_functions import labels\n",
    "from invisible_cities.icaro.hst_functions import display_matrix\n",
    "from invisible_cities.icaro.hst_functions import covariance\n",
    "from invisible_cities.icaro.hst_functions import resolution\n",
    "from invisible_cities.icaro.hst_functions import poisson_sigma\n",
    "from invisible_cities.icaro.hst_functions import gausstext\n",
    "from invisible_cities.icaro.hst_functions import shift_to_bin_centers\n",
    "from invisible_cities.icaro.hst_functions import plot_writer\n",
    "from invisible_cities.icaro.hst_functions import measurement_string\n",
    "\n",
    "\n",
    "xy_map = dstf.load_xy_corrections(\"/home/brais/Documents/Next/Correction_maps/run4628_corrections.h5\")\n",
    "\n",
    "pi   = np.pi\n",
    "save = plot_writer(outputfolder, plots_format) if save_plots else lambda *x: None"
   ]
  },
  {
   "cell_type": "markdown",
   "metadata": {},
   "source": [
    "#### General plotting options"
   ]
  },
  {
   "cell_type": "code",
   "execution_count": 4,
   "metadata": {
    "collapsed": true
   },
   "outputs": [],
   "source": [
    "%matplotlib inline\n",
    "\n",
    "np.warnings.filterwarnings('ignore')\n",
    "\n",
    "plt.rcParams[\"figure.figsize\"]          = 8, 6\n",
    "plt.rcParams[\"font.size\"]               = 15\n",
    "plt.rcParams[\"figure.max_open_warning\"] = 100\n",
    "\n",
    "profOpt = \"--k\"\n",
    "fitOpt  = \"r\"\n",
    "if not os.path.exists(outputfolder):\n",
    "    os.mkdir(outputfolder)"
   ]
  },
  {
   "cell_type": "markdown",
   "metadata": {},
   "source": [
    "# Read data"
   ]
  },
  {
   "cell_type": "code",
   "execution_count": 8,
   "metadata": {
    "scrolled": false
   },
   "outputs": [
    {
     "name": "stdout",
     "output_type": "stream",
     "text": [
      "1827789\n"
     ]
    },
    {
     "data": {
      "text/html": [
       "<div>\n",
       "<style>\n",
       "    .dataframe thead tr:only-child th {\n",
       "        text-align: right;\n",
       "    }\n",
       "\n",
       "    .dataframe thead th {\n",
       "        text-align: left;\n",
       "    }\n",
       "\n",
       "    .dataframe tbody tr th {\n",
       "        vertical-align: top;\n",
       "    }\n",
       "</style>\n",
       "<table border=\"1\" class=\"dataframe\">\n",
       "  <thead>\n",
       "    <tr style=\"text-align: right;\">\n",
       "      <th></th>\n",
       "      <th>event</th>\n",
       "      <th>time</th>\n",
       "      <th>peak</th>\n",
       "      <th>nS2</th>\n",
       "      <th>S1w</th>\n",
       "      <th>S1h</th>\n",
       "      <th>S1e</th>\n",
       "      <th>S1t</th>\n",
       "      <th>S2w</th>\n",
       "      <th>S2h</th>\n",
       "      <th>...</th>\n",
       "      <th>S2t</th>\n",
       "      <th>Nsipm</th>\n",
       "      <th>DT</th>\n",
       "      <th>Z</th>\n",
       "      <th>X</th>\n",
       "      <th>Y</th>\n",
       "      <th>R</th>\n",
       "      <th>Phi</th>\n",
       "      <th>Xrms</th>\n",
       "      <th>Yrms</th>\n",
       "    </tr>\n",
       "  </thead>\n",
       "  <tbody>\n",
       "    <tr>\n",
       "      <th>0</th>\n",
       "      <td>1</td>\n",
       "      <td>1.504810e+09</td>\n",
       "      <td>0</td>\n",
       "      <td>1</td>\n",
       "      <td>150.0</td>\n",
       "      <td>1.628713</td>\n",
       "      <td>7.330867</td>\n",
       "      <td>251400.0</td>\n",
       "      <td>12.271562</td>\n",
       "      <td>1738.578003</td>\n",
       "      <td>...</td>\n",
       "      <td>654462.5</td>\n",
       "      <td>25</td>\n",
       "      <td>403.0625</td>\n",
       "      <td>403.0625</td>\n",
       "      <td>-6.180693</td>\n",
       "      <td>-22.432651</td>\n",
       "      <td>23.268537</td>\n",
       "      <td>-1.839648</td>\n",
       "      <td>11.141517</td>\n",
       "      <td>10.729227</td>\n",
       "    </tr>\n",
       "    <tr>\n",
       "      <th>1</th>\n",
       "      <td>5</td>\n",
       "      <td>1.504810e+09</td>\n",
       "      <td>0</td>\n",
       "      <td>1</td>\n",
       "      <td>275.0</td>\n",
       "      <td>3.802718</td>\n",
       "      <td>17.222768</td>\n",
       "      <td>345150.0</td>\n",
       "      <td>10.969375</td>\n",
       "      <td>2321.613525</td>\n",
       "      <td>...</td>\n",
       "      <td>653412.5</td>\n",
       "      <td>23</td>\n",
       "      <td>308.2625</td>\n",
       "      <td>308.2625</td>\n",
       "      <td>-16.337314</td>\n",
       "      <td>40.618310</td>\n",
       "      <td>43.780760</td>\n",
       "      <td>1.953211</td>\n",
       "      <td>11.659206</td>\n",
       "      <td>10.759904</td>\n",
       "    </tr>\n",
       "    <tr>\n",
       "      <th>2</th>\n",
       "      <td>6</td>\n",
       "      <td>1.504810e+09</td>\n",
       "      <td>0</td>\n",
       "      <td>1</td>\n",
       "      <td>175.0</td>\n",
       "      <td>2.230152</td>\n",
       "      <td>11.899826</td>\n",
       "      <td>493275.0</td>\n",
       "      <td>8.019000</td>\n",
       "      <td>3005.588135</td>\n",
       "      <td>...</td>\n",
       "      <td>653087.5</td>\n",
       "      <td>23</td>\n",
       "      <td>159.8125</td>\n",
       "      <td>159.8125</td>\n",
       "      <td>-132.351610</td>\n",
       "      <td>3.125162</td>\n",
       "      <td>132.388502</td>\n",
       "      <td>3.117984</td>\n",
       "      <td>9.455723</td>\n",
       "      <td>16.547122</td>\n",
       "    </tr>\n",
       "    <tr>\n",
       "      <th>3</th>\n",
       "      <td>7</td>\n",
       "      <td>1.504810e+09</td>\n",
       "      <td>0</td>\n",
       "      <td>2</td>\n",
       "      <td>325.0</td>\n",
       "      <td>7.637844</td>\n",
       "      <td>41.220879</td>\n",
       "      <td>522725.0</td>\n",
       "      <td>6.126250</td>\n",
       "      <td>2353.676025</td>\n",
       "      <td>...</td>\n",
       "      <td>653037.5</td>\n",
       "      <td>20</td>\n",
       "      <td>130.3125</td>\n",
       "      <td>130.3125</td>\n",
       "      <td>21.689926</td>\n",
       "      <td>-125.689443</td>\n",
       "      <td>127.547203</td>\n",
       "      <td>-1.399912</td>\n",
       "      <td>23.105154</td>\n",
       "      <td>18.530561</td>\n",
       "    </tr>\n",
       "    <tr>\n",
       "      <th>5</th>\n",
       "      <td>8</td>\n",
       "      <td>1.504810e+09</td>\n",
       "      <td>0</td>\n",
       "      <td>1</td>\n",
       "      <td>225.0</td>\n",
       "      <td>4.044936</td>\n",
       "      <td>21.512648</td>\n",
       "      <td>389725.0</td>\n",
       "      <td>14.284562</td>\n",
       "      <td>1673.607056</td>\n",
       "      <td>...</td>\n",
       "      <td>653162.5</td>\n",
       "      <td>31</td>\n",
       "      <td>263.4375</td>\n",
       "      <td>263.4375</td>\n",
       "      <td>22.665922</td>\n",
       "      <td>-120.972339</td>\n",
       "      <td>123.077418</td>\n",
       "      <td>-1.385579</td>\n",
       "      <td>20.454246</td>\n",
       "      <td>13.668382</td>\n",
       "    </tr>\n",
       "  </tbody>\n",
       "</table>\n",
       "<p>5 rows × 22 columns</p>\n",
       "</div>"
      ],
      "text/plain": [
       "   event          time  peak  nS2    S1w       S1h        S1e       S1t  \\\n",
       "0      1  1.504810e+09     0    1  150.0  1.628713   7.330867  251400.0   \n",
       "1      5  1.504810e+09     0    1  275.0  3.802718  17.222768  345150.0   \n",
       "2      6  1.504810e+09     0    1  175.0  2.230152  11.899826  493275.0   \n",
       "3      7  1.504810e+09     0    2  325.0  7.637844  41.220879  522725.0   \n",
       "5      8  1.504810e+09     0    1  225.0  4.044936  21.512648  389725.0   \n",
       "\n",
       "         S2w          S2h    ...           S2t  Nsipm        DT         Z  \\\n",
       "0  12.271562  1738.578003    ...      654462.5     25  403.0625  403.0625   \n",
       "1  10.969375  2321.613525    ...      653412.5     23  308.2625  308.2625   \n",
       "2   8.019000  3005.588135    ...      653087.5     23  159.8125  159.8125   \n",
       "3   6.126250  2353.676025    ...      653037.5     20  130.3125  130.3125   \n",
       "5  14.284562  1673.607056    ...      653162.5     31  263.4375  263.4375   \n",
       "\n",
       "            X           Y           R       Phi       Xrms       Yrms  \n",
       "0   -6.180693  -22.432651   23.268537 -1.839648  11.141517  10.729227  \n",
       "1  -16.337314   40.618310   43.780760  1.953211  11.659206  10.759904  \n",
       "2 -132.351610    3.125162  132.388502  3.117984   9.455723  16.547122  \n",
       "3   21.689926 -125.689443  127.547203 -1.399912  23.105154  18.530561  \n",
       "5   22.665922 -120.972339  123.077418 -1.385579  20.454246  13.668382  \n",
       "\n",
       "[5 rows x 22 columns]"
      ]
     },
     "execution_count": 8,
     "metadata": {},
     "output_type": "execute_result"
    }
   ],
   "source": [
    "full = dstf.load_dst(inputfilename, \"DST\", \"Events\")\n",
    "full = full[full.R<max(Rrange)] # soft radial cut to reduce badly reconstructed events\n",
    "print(len(full))\n",
    "full.head()"
   ]
  },
  {
   "cell_type": "code",
   "execution_count": 30,
   "metadata": {},
   "outputs": [
    {
     "name": "stdout",
     "output_type": "stream",
     "text": [
      "full dst:  1727038\n",
      "nS2 = 2 :  172458\n",
      "nS2 = 2 :  90090\n",
      "nS2 = 2 :  86229.0\n",
      "full dst:  86796\n",
      "full dst:  85662\n",
      "full dst:  1727038\n",
      "full dst:  1727038\n"
     ]
    }
   ],
   "source": [
    "print(\"full dst: \",len(np.unique(full.event)))\n",
    "print(\"nS2 = 2 : \",len((full[full.nS2==2])))\n",
    "print(\"nS2 = 2 : \",len(np.unique(full[full.nS2==2].event)))\n",
    "print(\"nS2 = 2 : \",len(full[full.nS2==2])/2.)\n",
    "print(\"full dst: \",len(full[(full.nS2==2)&(full.peak==1)]))\n",
    "print(\"full dst: \",len(full[(full.nS2==2)&(full.peak==0)]))\n",
    "print(\"full dst: \",len(np.unique(full.event)))\n",
    "print(\"full dst: \",len(np.unique(full.event)))"
   ]
  },
  {
   "cell_type": "code",
   "execution_count": 169,
   "metadata": {
    "scrolled": true
   },
   "outputs": [
    {
     "name": "stdout",
     "output_type": "stream",
     "text": [
      "0\n",
      "1000\n",
      "2000\n",
      "3000\n",
      "4000\n",
      "5000\n",
      "6000\n",
      "7000\n",
      "8000\n",
      "9000\n",
      "10000\n",
      "11000\n",
      "12000\n",
      "13000\n",
      "14000\n",
      "15000\n",
      "16000\n",
      "17000\n",
      "18000\n",
      "19000\n",
      "20000\n",
      "21000\n",
      "22000\n",
      "23000\n",
      "24000\n",
      "25000\n",
      "26000\n",
      "27000\n",
      "28000\n",
      "29000\n",
      "30000\n",
      "31000\n",
      "32000\n",
      "33000\n",
      "34000\n",
      "35000\n",
      "36000\n",
      "37000\n",
      "38000\n",
      "39000\n",
      "40000\n",
      "41000\n",
      "42000\n",
      "43000\n",
      "44000\n",
      "45000\n",
      "46000\n",
      "47000\n",
      "48000\n",
      "49000\n",
      "50000\n",
      "51000\n",
      "52000\n",
      "53000\n",
      "54000\n",
      "55000\n",
      "56000\n",
      "57000\n",
      "58000\n",
      "59000\n",
      "60000\n",
      "61000\n",
      "62000\n",
      "63000\n",
      "64000\n",
      "65000\n",
      "66000\n",
      "67000\n",
      "68000\n",
      "69000\n",
      "70000\n",
      "71000\n",
      "72000\n",
      "73000\n",
      "74000\n",
      "75000\n",
      "76000\n",
      "77000\n",
      "78000\n",
      "79000\n",
      "80000\n",
      "81000\n",
      "82000\n",
      "83000\n",
      "84000\n",
      "85000\n",
      "86000\n",
      "87000\n",
      "88000\n",
      "89000\n",
      "90000\n"
     ]
    }
   ],
   "source": [
    "selns2 = [] #np.zeros_like(full.nS2==2)\n",
    "i = 0\n",
    "\n",
    "#sel = full[np.fromiter(map(lambda evt: len(full[full.event==evt])==2, np.unique(full.event)),dtype=np.int,count=1000)]\n",
    "evts = np.unique(full.event[full.nS2==2])\n",
    "j = 0\n",
    "for evt in evts:\n",
    "    if j%1000==0: print(j)\n",
    "    if len(full[full.event==evt])==2:\n",
    "        selns2.append(full[full.event==evt])\n",
    "        \n",
    "    j += 1\n",
    "    \n",
    "    \n",
    "\n",
    "\n",
    "\n",
    "#sl = np.fromiter(sel,dtype=np.int)"
   ]
  },
  {
   "cell_type": "code",
   "execution_count": 64,
   "metadata": {
    "collapsed": true
   },
   "outputs": [],
   "source": [
    "s2full = pd.concat(selns2)\n"
   ]
  },
  {
   "cell_type": "code",
   "execution_count": 89,
   "metadata": {},
   "outputs": [
    {
     "name": "stdout",
     "output_type": "stream",
     "text": [
      "82368.0\n"
     ]
    }
   ],
   "source": [
    "print(len(s2full)/2.)"
   ]
  },
  {
   "cell_type": "code",
   "execution_count": 97,
   "metadata": {
    "collapsed": true
   },
   "outputs": [],
   "source": [
    "three_gauss = lambda x, *args: fitf.gauss(x, *args[:3]) + fitf.gauss(x, *args[3:6]) + fitf.gauss(x, *args[6:9]) + args[-1]\n"
   ]
  },
  {
   "cell_type": "code",
   "execution_count": 145,
   "metadata": {},
   "outputs": [
    {
     "name": "stdout",
     "output_type": "stream",
     "text": [
      "[  1.08624366e+05   8.69854906e+03   1.99462285e+02   2.92438990e+04\n",
      "   9.91120589e+03   2.23837548e+02   3.74512508e+04   1.21565898e+04\n",
      "   1.95058126e+02   5.25602551e+00]\n",
      "[  1.00495574e+03   1.62010288e+00   1.79950565e+00   1.09260790e+03\n",
      "   7.15377373e+00   8.04420764e+00   3.61459551e+04   1.86414421e+02\n",
      "   6.78648273e+01   6.23720775e-01]\n"
     ]
    },
    {
     "data": {
      "text/plain": [
       "[<matplotlib.lines.Line2D at 0x7f0415d2df60>]"
      ]
     },
     "execution_count": 145,
     "metadata": {},
     "output_type": "execute_result"
    },
    {
     "data": {
      "image/png": "[encoded data removed]",
      "text/plain": [
       "<matplotlib.figure.Figure at 0x7f04197300b8>"
      ]
     },
     "metadata": {},
     "output_type": "display_data"
    }
   ],
   "source": [
    "data = s2full\n",
    "data = data[data.R<100]\n",
    "#data = data[data.Z<100]\n",
    "\n",
    "energy  = data.S2e * Zcorr(data.Z.values).value * xy_map(data.X.values, data.Y.values).value\n",
    "y, x, _ = hist(energy,500,[7.5e3,14e3]);\n",
    "\n",
    "seed = 1e4,  8500, 300, 1e3, 10000, 500, 2.9e6, 12500,  500, 10\n",
    "low  =  10,  8000,  50, 1e2,  9000,  50, 2.0e3, 120,  100, 0 \n",
    "upp  = 1e8,  9000, 900, 1e9, 11000, 500, 1e9, 15000, 9000, 100\n",
    "f    = fitf.fit(three_gauss, x, y, seed, fit_range=(7.9e3,12e3), bounds=(low, upp))\n",
    "print(f.values)\n",
    "print(f.errors)\n",
    "\n",
    "\n",
    "xrange = np.linspace(x[0], x[-1],1000)\n",
    "\n",
    "\n",
    "plt.plot(xrange, fitf.gauss(xrange, *f.values[:3]), \"r-\", linewidth=2)\n",
    "plt.plot(xrange, fitf.gauss(xrange, *f.values[3:6]), linewidth=2)\n",
    "plt.plot(xrange, fitf.gauss(xrange, *f.values[6:9]), linewidth=2)\n",
    "plt.plot(xrange, f.values[-1]*np.ones_like(xrange), linewidth=2)\n",
    "plt.plot(xrange, f.fn(xrange), \"k-\", linewidth=2)\n",
    "\n",
    "#plt.text(Erange_zcorr[0]+4.5e3, 1*max(y)/4+20, gausstext(f.values, 30), color=fitOpt)\n"
   ]
  },
  {
   "cell_type": "code",
   "execution_count": 138,
   "metadata": {},
   "outputs": [
    {
     "name": "stdout",
     "output_type": "stream",
     "text": [
      "[ 30304.80443298  12251.32151156    250.26607541]\n",
      "[ 350.98807436    3.34702593    3.34702599]\n"
     ]
    },
    {
     "data": {
      "text/plain": [
       "[<matplotlib.lines.Line2D at 0x7f0425da7278>]"
      ]
     },
     "execution_count": 138,
     "metadata": {},
     "output_type": "execute_result"
    },
    {
     "data": {
      "image/png": "[encoded data removed]",
      "text/plain": [
       "<matplotlib.figure.Figure at 0x7f042446c6a0>"
      ]
     },
     "metadata": {},
     "output_type": "display_data"
    }
   ],
   "source": [
    "data = s2full\n",
    "data = data[data.R<100]\n",
    "#data = data[data.Z<100]\n",
    "\n",
    "energy  = data.S2e * Zcorr(data.Z.values).value * xy_map(data.X.values, data.Y.values).value\n",
    "y, x, _ = hist(energy,500,[11e3,14e3]);\n",
    "\n",
    "seed = 1e4,  12000, 500\n",
    "low  =  10,  8000,  50  \n",
    "upp  = 1e8,  9000, 900\n",
    "f    = fitf.fit(fitf.gauss, x, y, seed, fit_range=(7.9e3,14e3))\n",
    "print(f.values)\n",
    "print(f.errors)\n",
    "\n",
    "xrange = np.linspace(x[0], x[-1],1000)\n",
    "plt.plot(xrange, fitf.gauss(xrange, *f.values[:3]), \"r-\", linewidth=2)"
   ]
  },
  {
   "cell_type": "code",
   "execution_count": 156,
   "metadata": {},
   "outputs": [
    {
     "name": "stdout",
     "output_type": "stream",
     "text": [
      "[-242.07215468  301.00755923] [ 30.19744174   0.93387405]\n"
     ]
    },
    {
     "data": {
      "image/png": "[encoded data removed]",
      "text/plain": [
       "<matplotlib.figure.Figure at 0x7f0415239ac8>"
      ]
     },
     "metadata": {},
     "output_type": "display_data"
    }
   ],
   "source": [
    "y  = np.array([8.69854757e+03, 9.91121050e+03, 12251.32151156])\n",
    "ey = np.array([1.62010288e+00, 7.15377373e+00, 3.34702593 ])\n",
    "x  = np.array([ 29.7         ,  33.8         , 41.5])\n",
    "\n",
    "plt.errorbar(x, y, ey, fmt = 'o')\n",
    "plt.xlabel(\"Energy (keV)\")\n",
    "plt.ylabel(\"Energy (pes)\")\n",
    "\n",
    "f    = fitf.fit(fitf.polynom, x, y,  [0,0], fit_range=(28,45), sigma=ey)\n",
    "\n",
    "xrange = np.linspace(x[0], x[-1],1000)\n",
    "plt.plot(xrange, fitf.polynom(xrange, *f.values), \"r-\", linewidth=2)\n",
    "\n",
    "print(f.values, f.errors)\n",
    "\n",
    "trans = f.values"
   ]
  },
  {
   "cell_type": "code",
   "execution_count": 166,
   "metadata": {},
   "outputs": [
    {
     "data": {
      "text/plain": [
       "<matplotlib.text.Text at 0x7f041012feb8>"
      ]
     },
     "execution_count": 166,
     "metadata": {},
     "output_type": "execute_result"
    },
    {
     "data": {
      "image/png": "[encoded data removed]",
      "text/plain": [
       "<matplotlib.figure.Figure at 0x7f0411d36710>"
      ]
     },
     "metadata": {},
     "output_type": "display_data"
    },
    {
     "data": {
      "image/png": "[encoded data removed]",
      "text/plain": [
       "<matplotlib.figure.Figure at 0x7f0411165eb8>"
      ]
     },
     "metadata": {},
     "output_type": "display_data"
    }
   ],
   "source": [
    "data = s2full\n",
    "#data = data[data.R<100]\n",
    "#data = data[data.Z<100]\n",
    "\n",
    "energy  = data.S2e * Zcorr(data.Z.values).value * xy_map(data.X.values, data.Y.values).value \n",
    "energy  = (energy-trans[0])/trans[1]\n",
    "y, x, _ = hist(energy,500,[20,50])\n",
    "plt.xlabel(\"Energy (keV)\")\n",
    "plt.ylabel(\"Entries\")\n",
    "\n",
    "y, x, _ = hist(energy,500,[27,36])\n",
    "plt.xlabel(\"Energy (keV)\")\n",
    "plt.ylabel(\"Entries\")"
   ]
  },
  {
   "cell_type": "code",
   "execution_count": 242,
   "metadata": {
    "scrolled": true
   },
   "outputs": [
    {
     "name": "stdout",
     "output_type": "stream",
     "text": [
      "0\n",
      "1000\n",
      "2000\n",
      "3000\n",
      "4000\n",
      "5000\n",
      "6000\n",
      "7000\n",
      "8000\n",
      "9000\n",
      "10000\n",
      "11000\n",
      "12000\n",
      "13000\n",
      "14000\n",
      "15000\n",
      "16000\n",
      "17000\n",
      "18000\n",
      "19000\n",
      "20000\n",
      "21000\n",
      "22000\n",
      "23000\n",
      "24000\n",
      "25000\n",
      "26000\n",
      "27000\n",
      "28000\n",
      "29000\n",
      "30000\n",
      "31000\n",
      "32000\n",
      "33000\n",
      "34000\n",
      "35000\n",
      "36000\n",
      "37000\n",
      "38000\n",
      "39000\n",
      "40000\n",
      "41000\n",
      "42000\n",
      "43000\n",
      "44000\n",
      "45000\n",
      "46000\n",
      "47000\n",
      "48000\n",
      "49000\n",
      "50000\n",
      "51000\n",
      "52000\n",
      "53000\n",
      "54000\n",
      "55000\n",
      "56000\n",
      "57000\n",
      "58000\n",
      "59000\n",
      "60000\n",
      "61000\n",
      "62000\n",
      "63000\n",
      "64000\n",
      "65000\n",
      "66000\n",
      "67000\n",
      "68000\n",
      "69000\n",
      "70000\n",
      "71000\n",
      "72000\n",
      "73000\n",
      "74000\n",
      "75000\n",
      "76000\n",
      "77000\n",
      "78000\n",
      "79000\n",
      "80000\n",
      "81000\n",
      "82000\n"
     ]
    }
   ],
   "source": [
    "E1   = []\n",
    "E2   = []\n",
    "d    = []\n",
    "auxE = [0,0]\n",
    "j = 0\n",
    "for evt in selns2:\n",
    "    if j%1000==0: print(j)\n",
    "    data = evt[evt.peak==0]\n",
    "    aux  = data.S2e * Zcorr(data.Z.values).value * xy_map(data.X.values, data.Y.values).value    \n",
    "    d1 = np.array([np.array(data.X)[0], np.array(data.Y)[0],np.array(data.Z)[0]])\n",
    "    auxE[0] = np.array((aux-trans[0])/trans[1] )[0]\n",
    "    \n",
    "    data = evt[evt.peak==1]\n",
    "    aux  = data.S2e * Zcorr(data.Z.values).value * xy_map(data.X.values, data.Y.values).value\n",
    "    d2 = np.array([np.array(data.X)[0], np.array(data.Y)[0],np.array(data.Z)[0]])\n",
    "    auxE[1] = np.array((aux-trans[0])/trans[1] )[0]\n",
    "    \n",
    "    d.append(np.sum((d1-d2)**2))\n",
    " \n",
    "    \n",
    "    E1.append(max(auxE))\n",
    "    E2.append(min(auxE))\n",
    "    \n",
    "    j += 1\n"
   ]
  },
  {
   "cell_type": "code",
   "execution_count": 243,
   "metadata": {},
   "outputs": [
    {
     "name": "stdout",
     "output_type": "stream",
     "text": [
      "[ 13.49032427  51.39581088  81.76089678 ...,   8.52841412  59.89940066\n",
      "  62.00736974]\n"
     ]
    }
   ],
   "source": [
    "d = np.array(d)**0.5\n",
    "print(d)"
   ]
  },
  {
   "cell_type": "code",
   "execution_count": 251,
   "metadata": {
    "collapsed": true
   },
   "outputs": [],
   "source": [
    "import matplotlib.colors as colors"
   ]
  },
  {
   "cell_type": "code",
   "execution_count": 254,
   "metadata": {
    "scrolled": false
   },
   "outputs": [
    {
     "name": "stdout",
     "output_type": "stream",
     "text": [
      "950\n"
     ]
    },
    {
     "data": {
      "image/png": "[encoded data removed]",
      "text/plain": [
       "<matplotlib.figure.Figure at 0x7f03e43b1cc0>"
      ]
     },
     "metadata": {},
     "output_type": "display_data"
    },
    {
     "data": {
      "image/png": "[encoded data removed]",
      "text/plain": [
       "<matplotlib.figure.Figure at 0x7f03bd2c6400>"
      ]
     },
     "metadata": {},
     "output_type": "display_data"
    },
    {
     "data": {
      "image/png": "[encoded data removed]",
      "text/plain": [
       "<matplotlib.figure.Figure at 0x7f03e47e6198>"
      ]
     },
     "metadata": {},
     "output_type": "display_data"
    }
   ],
   "source": [
    "minE, maxE = 27,37\n",
    "\n",
    "hist2d(np.array(E1),np.array(E2),[50,50],[[minE, maxE],[minE, maxE]], norm=colors.LogNorm());\n",
    "plt.xlabel(\"S2e_max (keV)\")\n",
    "plt.ylabel(\"S2e_min (keV)\")\n",
    "\n",
    "\n",
    "plt.figure()\n",
    "plt.plot(np.array(E1),np.array(E2), '.',alpha=0.5)\n",
    "plt.xlim(minE, maxE)\n",
    "plt.ylim(minE, maxE)\n",
    "plt.xlabel(\"S2e_max (keV)\")\n",
    "plt.ylabel(\"S2e_min (keV)\")\n",
    "\n",
    "selE = np.logical_and(coref.in_range(np.array(E1),minE, maxE), coref.in_range(np.array(E2),minE, maxE)) \n",
    "\n",
    "hist(d[selE],100,[0,500])\n",
    "plt.xlabel(\"distance (mm)\")\n",
    "plt.ylabel(\"entries\")\n",
    "\n",
    "print(np.sum(np.logical_and(coref.in_range(np.array(E1),minE, maxE),coref.in_range(np.array(E2),minE, maxE))))"
   ]
  }
 ],
 "metadata": {
  "kernelspec": {
   "display_name": "Python 3",
   "language": "python",
   "name": "python3"
  },
  "language_info": {
   "codemirror_mode": {
    "name": "ipython",
    "version": 3
   },
   "file_extension": ".py",
   "mimetype": "text/x-python",
   "name": "python",
   "nbconvert_exporter": "python",
   "pygments_lexer": "ipython3",
   "version": "3.6.2"
  }
 },
 "nbformat": 4,
 "nbformat_minor": 2
}
