{
 "cells": [
  {
   "cell_type": "code",
   "execution_count": 1,
   "metadata": {},
   "outputs": [
    {
     "name": "stdout",
     "output_type": "stream",
     "text": [
      "Running on  Thu Oct  5 19:49:48 2017\n"
     ]
    }
   ],
   "source": [
    "import os\n",
    "import time\n",
    "print(\"Running on \", time.asctime())\n",
    "\n",
    "import numpy             as np \n",
    "import scipy.optimize    as so\n",
    "\n",
    "import scipy.stats\n",
    "\n",
    "import invisible_cities.core.fit_functions  as fitf"
   ]
  },
  {
   "cell_type": "code",
   "execution_count": 2,
   "metadata": {
    "collapsed": true
   },
   "outputs": [],
   "source": [
    "%load_ext autoreload\n",
    "\n",
    "%autoreload 2"
   ]
  },
  {
   "cell_type": "markdown",
   "metadata": {},
   "source": [
    "# Very simple example: fitting a straight line from pes to keV conversion\n",
    "\n",
    "This example has a bad error behavior, being too small for huge quantities, but it is an actual example I had to deal with"
   ]
  },
  {
   "cell_type": "code",
   "execution_count": 3,
   "metadata": {
    "collapsed": true
   },
   "outputs": [],
   "source": [
    "def line(x, m, n):\n",
    "    return m*x + n"
   ]
  },
  {
   "cell_type": "code",
   "execution_count": 4,
   "metadata": {
    "collapsed": true
   },
   "outputs": [],
   "source": [
    "y  = np.array([ 9.108e3, 10.34e3,   1.52387e5,   1.6202e5])\n",
    "ey = np.array([ 3.17   , 13.5   ,  70        ,  21       ])\n",
    "x  = np.array([29.7    , 33.8   , 481        , 511       ])"
   ]
  },
  {
   "cell_type": "markdown",
   "metadata": {},
   "source": [
    "### Previous IC implementation"
   ]
  },
  {
   "cell_type": "code",
   "execution_count": 5,
   "metadata": {},
   "outputs": [
    {
     "name": "stdout",
     "output_type": "stream",
     "text": [
      "Slope    : 317.69+-0.16\n",
      "Intercept: -331+-13\n",
      "chi2     : 0.2442279235092592\n",
      "P-value  : 4.846169e-01\n"
     ]
    }
   ],
   "source": [
    "res, cov     = so.curve_fit(line, x, y, p0=(1,1), sigma=ey)\n",
    "err          = np.diag(cov)**0.5\n",
    "chi2, pvalue = scipy.stats.chisquare(y, line(x, *res), len(y)-2)\n",
    "chi2         = chi2/(len(y)-2)\n",
    "\n",
    "print('Slope    : {0:1.2f}+-{1:1.2f}'  .format(res[0], err[0]))\n",
    "print('Intercept: {0:1.0f}+-{1:1.0f}'.format(res[1], err[1]))\n",
    "print('chi2     : {}'  .format(chi2))\n",
    "print('P-value  : {:e}'.format(pvalue))"
   ]
  },
  {
   "cell_type": "markdown",
   "metadata": {},
   "source": [
    "### Proposal"
   ]
  },
  {
   "cell_type": "code",
   "execution_count": 6,
   "metadata": {},
   "outputs": [
    {
     "name": "stdout",
     "output_type": "stream",
     "text": [
      "Slope    : 317.695+-0.043\n",
      "Intercept: -331.2+-3.5\n",
      "chi2     : 13.918715148470396\n",
      "P-value  : 9.019424e-07\n"
     ]
    }
   ],
   "source": [
    "f = fitf.fit(line, x, y, seed=(1,1), sigma=ey)\n",
    "print('Slope    : {0:1.3f}+-{1:1.3f}'  .format(f.values[0], f.errors[0]))\n",
    "print('Intercept: {0:1.1f}+-{1:1.1f}'.format(f.values[1], f.errors[1]))\n",
    "print('chi2     : {}'  .format(f.chi2))\n",
    "print('P-value  : {:e}'.format(f.pvalue))"
   ]
  },
  {
   "cell_type": "markdown",
   "metadata": {},
   "source": [
    "### Comparison with other fitting tools"
   ]
  },
  {
   "cell_type": "markdown",
   "metadata": {},
   "source": [
    "| Tool             |       Slope       | Intercept         | $\\chi^2$     |\n",
    "| :---------------:|:---------------:  |:-----------------:| :-----:  |\n",
    "| previous IC      | $317.67\\pm0.18$   | $-331\\pm13$       | $0.2442$ |\n",
    "| proposed IC      | $317.670\\pm0.043$ | $-331.2\\pm3.5$    | $13.919$ |\n",
    "| ROOT             | $317.693\\pm0.031$ | $-331.1\\pm3.5$    | $14.069$ |\n",
    "| Qtiplot (~Origin)| $317.694\\pm0.042$ | $-331.2\\pm3.5$    | $13.924$ |\n",
    "\n",
    "Both errors and $\\chi^2$ for the new procedure seem to be in agreement with other tools, but old method does not agree.\n"
   ]
  },
  {
   "cell_type": "markdown",
   "metadata": {},
   "source": [
    " \n",
    "\n",
    " \n",
    " \n",
    " \n",
    " "
   ]
  },
  {
   "cell_type": "markdown",
   "metadata": {},
   "source": [
    "# Gaussian fit\n",
    "\n",
    "## Poisson errors\n",
    "\n",
    "This example shows that, in a poisson smeared scenario, both procedure should yield compatible and reasonable $\\chi^2$ "
   ]
  },
  {
   "cell_type": "code",
   "execution_count": 7,
   "metadata": {},
   "outputs": [],
   "source": [
    "A     =  1e6\n",
    "mu    = 1500\n",
    "sigma =  210\n",
    "x     = np.linspace(1e3, 2e3, 100)\n",
    "y     = fitf.gauss(x, A, mu, sigma)\n",
    "y     = np.random.poisson(y)"
   ]
  },
  {
   "cell_type": "markdown",
   "metadata": {},
   "source": [
    "### Previous IC implementation"
   ]
  },
  {
   "cell_type": "code",
   "execution_count": 8,
   "metadata": {},
   "outputs": [
    {
     "name": "stdout",
     "output_type": "stream",
     "text": [
      "Slope    : 9.9750e+05+-3.2e+03\n",
      "Intercept: 1501.02+-0.71\n",
      "chi2     : 0.9911404817192085\n",
      "P-value  : 1.328398e-21\n"
     ]
    }
   ],
   "source": [
    "res, cov = so.curve_fit(fitf.gauss, x, y, p0=(A, mu, sigma), sigma=y**0.5)\n",
    "err      = np.diag(cov)**0.5\n",
    "chi2, pvalue = scipy.stats.chisquare(y, fitf.gauss(x, *res), len(y)-3)\n",
    "chi2         = chi2/(len(y)-3)\n",
    "print('Slope    : {0:1.4e}+-{1:1.1e}'  .format(res[0], err[0]))\n",
    "print('Intercept: {0:1.2f}+-{1:1.2f}'.format(res[1], err[1]))\n",
    "print('chi2     : {}'  .format(chi2))\n",
    "print('P-value  : {:e}'.format(pvalue))"
   ]
  },
  {
   "cell_type": "markdown",
   "metadata": {},
   "source": [
    "### Proposal"
   ]
  },
  {
   "cell_type": "code",
   "execution_count": 9,
   "metadata": {},
   "outputs": [
    {
     "name": "stdout",
     "output_type": "stream",
     "text": [
      "Slope    : 9.9750e+05+-3.2e+03\n",
      "Intercept: 1501.02+-0.71\n",
      "chi2     : 1.0002564260047784\n",
      "P-value  : 4.801919e-01\n"
     ]
    }
   ],
   "source": [
    "f = fitf.fit(fitf.gauss, x, y, seed=(A, mu, sigma), sigma=y**0.5)\n",
    "print('Slope    : {0:1.4e}+-{1:1.1e}'  .format(f.values[0], f.errors[0]))\n",
    "print('Intercept: {0:1.2f}+-{1:1.2f}'.format(f.values[1], f.errors[1]))\n",
    "print('chi2     : {}'  .format(f.chi2))\n",
    "print('P-value  : {:e}'.format(f.pvalue))"
   ]
  },
  {
   "cell_type": "markdown",
   "metadata": {},
   "source": [
    " "
   ]
  },
  {
   "cell_type": "markdown",
   "metadata": {},
   "source": [
    "## Non-Poisson errors\n",
    "\n",
    "This example shows that, in a non-poisson smeared scenario, new method yields reasonable $\\chi^2$ but old one does not "
   ]
  },
  {
   "cell_type": "code",
   "execution_count": 10,
   "metadata": {
    "collapsed": true
   },
   "outputs": [],
   "source": [
    "A     =  1e6\n",
    "mu    = 1500\n",
    "sigma =  210\n",
    "x     = np.linspace(1e3, 2e3, 100)\n",
    "y     = fitf.gauss(x, A, mu, sigma)\n",
    "y     = np.random.normal(y, np.log(y))"
   ]
  },
  {
   "cell_type": "markdown",
   "metadata": {},
   "source": [
    "### Previous IC implementation"
   ]
  },
  {
   "cell_type": "code",
   "execution_count": 11,
   "metadata": {},
   "outputs": [
    {
     "name": "stdout",
     "output_type": "stream",
     "text": [
      "Slope    : 9.9927e+05+-6.8e+02\n",
      "Intercept: 1500.06+-0.16\n",
      "chi2     : 0.06280180199492406\n",
      "P-value  : 4.755409e-02\n"
     ]
    }
   ],
   "source": [
    "res, cov = so.curve_fit(fitf.gauss, x, y, p0=(A, mu, sigma), sigma=np.log(y))\n",
    "err      = np.diag(cov)**0.5\n",
    "chi2, pvalue = scipy.stats.chisquare(y, fitf.gauss(x, *res), len(y)-3)\n",
    "chi2         = chi2/(len(y)-3)\n",
    "print('Slope    : {0:1.4e}+-{1:1.1e}'  .format(res[0], err[0]))\n",
    "print('Intercept: {0:1.2f}+-{1:1.2f}'.format(res[1], err[1]))\n",
    "print('chi2     : {}'  .format(chi2))\n",
    "print('P-value  : {:e}'.format(pvalue))"
   ]
  },
  {
   "cell_type": "markdown",
   "metadata": {},
   "source": [
    "### Proposal"
   ]
  },
  {
   "cell_type": "code",
   "execution_count": 12,
   "metadata": {},
   "outputs": [
    {
     "name": "stdout",
     "output_type": "stream",
     "text": [
      "Slope    : 9.9927e+05+-7.1e+02\n",
      "Intercept: 1500.06+-0.17\n",
      "chi2     : 0.8927456397739935\n",
      "P-value  : 7.664243e-01\n"
     ]
    }
   ],
   "source": [
    "f = fitf.fit(fitf.gauss, x, y, seed=(A, mu, sigma), sigma=np.log(y))\n",
    "print('Slope    : {0:1.4e}+-{1:1.1e}'  .format(f.values[0], f.errors[0]))\n",
    "print('Intercept: {0:1.2f}+-{1:1.2f}'.format(f.values[1], f.errors[1]))\n",
    "print('chi2     : {}'  .format(f.chi2))\n",
    "print('P-value  : {:e}'.format(f.pvalue))"
   ]
  }
 ],
 "metadata": {
  "kernelspec": {
   "display_name": "Python 3",
   "language": "python",
   "name": "python3"
  },
  "language_info": {
   "codemirror_mode": {
    "name": "ipython",
    "version": 3
   },
   "file_extension": ".py",
   "mimetype": "text/x-python",
   "name": "python",
   "nbconvert_exporter": "python",
   "pygments_lexer": "ipython3",
   "version": "3.6.2"
  }
 },
 "nbformat": 4,
 "nbformat_minor": 2
}
