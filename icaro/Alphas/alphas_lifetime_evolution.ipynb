{
 "cells": [
  {
   "cell_type": "markdown",
   "metadata": {},
   "source": [
    "**Combine measurements of lifetimes to show its evolution.**"
   ]
  },
  {
   "cell_type": "markdown",
   "metadata": {},
   "source": [
    "# Notebook configuration"
   ]
  },
  {
   "cell_type": "code",
   "execution_count": null,
   "metadata": {
    "collapsed": true
   },
   "outputs": [],
   "source": [
    "filename  = \"$ICARODIR/icaro/Lifetime/Lifetimes.txt\"\n",
    "min_run   = 0\n",
    "max_run   = 100000\n",
    "min_date  = \"2017-05-16-00:00:00\"\n",
    "max_date  = \"2116-12-31-23:59:59\""
   ]
  },
  {
   "cell_type": "markdown",
   "metadata": {},
   "source": [
    "# Alphas lifetime evolution"
   ]
  },
  {
   "cell_type": "code",
   "execution_count": null,
   "metadata": {
    "collapsed": true
   },
   "outputs": [],
   "source": [
    "import time\n",
    "import datetime\n",
    "import glob\n",
    "import collections\n",
    "\n",
    "import numpy             as np\n",
    "import tables            as tb\n",
    "import matplotlib.pyplot as plt\n",
    "\n",
    "import invisible_cities.core.core_functions as coref\n",
    "\n",
    "from icaro.core.kdst_functions import event_rate\n",
    "from icaro.core.kdst_functions import profile_and_fit\n",
    "from icaro.core.kdst_functions import lifetime\n",
    "from icaro.core.kdst_functions import load_lifetimes\n",
    "from icaro.core.kdst_functions import str_to_datetime\n",
    "from icaro.core.kdst_functions import datetime_to_str\n",
    "from icaro.core.kdst_functions import to_deltatime\n",
    "\n",
    "print(datetime.datetime.now().strftime('%Y-%m-%d %H:%M:%S'))"
   ]
  },
  {
   "cell_type": "markdown",
   "metadata": {},
   "source": [
    "# Plotting options"
   ]
  },
  {
   "cell_type": "code",
   "execution_count": null,
   "metadata": {
    "collapsed": true
   },
   "outputs": [],
   "source": [
    "%matplotlib inline\n",
    "\n",
    "np.warnings.filterwarnings('ignore')\n",
    "\n",
    "plt.rcParams[\"figure.figsize\"         ] = 16, 12\n",
    "plt.rcParams[  \"font.size\"            ] = 18\n",
    "plt.rcParams[\"figure.max_open_warning\"] = 1000"
   ]
  },
  {
   "cell_type": "markdown",
   "metadata": {},
   "source": [
    "# Read data"
   ]
  },
  {
   "cell_type": "code",
   "execution_count": null,
   "metadata": {
    "collapsed": true
   },
   "outputs": [],
   "source": [
    "lifetimes = load_lifetimes(filename)\n",
    "min_date  = datetime.datetime.strptime(min_date, \"%Y-%m-%d-%H:%M:%S\")\n",
    "max_date  = datetime.datetime.strptime(max_date, \"%Y-%m-%d-%H:%M:%S\")\n",
    "\n",
    "start_dates = np.array(list(map(str_to_datetime, lifetimes.Date_start.values)))\n",
    "lifetimes   = lifetimes[coref.in_range(lifetimes.Run, min_run , max_run+1)]\n",
    "lifetimes   = lifetimes[coref.in_range(start_dates  , min_date, max_date )]"
   ]
  },
  {
   "cell_type": "markdown",
   "metadata": {},
   "source": [
    "# Remarkable Changes in Gas System"
   ]
  },
  {
   "cell_type": "code",
   "execution_count": null,
   "metadata": {
    "collapsed": true
   },
   "outputs": [],
   "source": [
    "# Getter configuration changes:\n",
    "\n",
    "c1 = datetime.datetime.strptime('2017-05-17 00:00:0', '%Y-%m-%d %H:%M:%S')  #from no circulation to almost no circulation\n",
    "c2 = datetime.datetime.strptime('2017-05-18 17:05:0', '%Y-%m-%d %H:%M:%S')  #from almost no circulation to both cold getters\n",
    "c3 = datetime.datetime.strptime('2017-05-19 14:00:0', '%Y-%m-%d %H:%M:%S')  #from both cold getters to only new one\n",
    "c4 = datetime.datetime.strptime('2017-05-22 19:00:0', '%Y-%m-%d %H:%M:%S')  #from new cold getter to both new cold and old one\n",
    "\n",
    "k1 = datetime.datetime.strptime('2017-05-27 16:00:0', '%Y-%m-%d %H:%M:%S')  #Open Kr valves\n",
    "k2 = datetime.datetime.strptime('2017-06-06 15:00:0', '%Y-%m-%d %H:%M:%S')  #Close Kr valves\n",
    "\n",
    "DP = datetime.datetime.strptime('2017-05-29 20:00:0', '%Y-%m-%d %H:%M:%S')  #Change in alphas drift potential\n",
    "\n",
    "changes = [c1, c2, c3, c4]\n",
    "kripton = [k1, k2]"
   ]
  },
  {
   "cell_type": "markdown",
   "metadata": {},
   "source": [
    "# Lifetime evolution"
   ]
  },
  {
   "cell_type": "code",
   "execution_count": null,
   "metadata": {
    "collapsed": true,
    "scrolled": false
   },
   "outputs": [],
   "source": [
    "plt.figure(figsize=(20,5))\n",
    "\n",
    "date0 = list(map(str_to_datetime, lifetimes.Date_start.values))\n",
    "date1 = list(map(str_to_datetime, lifetimes.Date_end  .values))\n",
    "ddate = list(map(lambda x,y: (x-y)*0.5, date1, date0)) #move dates to mean run time\n",
    "datec = list(map(lambda x,y: (x+y)    , date0, ddate))\n",
    "\n",
    "plt.errorbar(datec, lifetimes.LT, lifetimes.LTu, ddate, linestyle='--', fmt='o', c='blue')\n",
    "plt.grid(True)\n",
    "plt.ylabel('Lifetime ($\\mu$s)')\n",
    "\n",
    "for ci  in changes:\n",
    "    plt.axvline(x=ci, color='k', linewidth=3)\n",
    "    \n",
    "for ki  in kripton:\n",
    "    plt.axvline(x=ki, color='g', linewidth=3, linestyle=':')\n",
    "\n",
    "plt.arrow(kripton[0], 310,  0.5, 0, width=5, head_width=40, head_length=0.5, fc='g', ec='k')\n",
    "plt.arrow(kripton[1], 310, -0.5, 0, width=5, head_width=40, head_length=0.5, fc='g', ec='k')\n",
    "\n",
    "    \n",
    "plt.axvline(x=DP, color='r', linewidth=3, linestyle='--')\n",
    "plt.arrow(DP, 500, 0.5, 0,width=5, head_width=40, head_length=0.5, fc='r', ec='k')\n",
    "\n",
    "# Labels in plot\n",
    "auxd = str_to_datetime('2017-05-15 15:30:0', '%Y-%m-%d %H:%M:%S')\n",
    "plt.text(auxd, 700, 'No circulation', fontsize=20, rotation='vertical')\n",
    "\n",
    "auxd = str_to_datetime('2017-05-17 12:30:0', '%Y-%m-%d %H:%M:%S')\n",
    "plt.text(auxd, 900.0, 'Mostly no circulation', fontsize=18, rotation='vertical')\n",
    "\n",
    "auxd = str_to_datetime('2017-05-18 23:00:0', '%Y-%m-%d %H:%M:%S')\n",
    "plt.text(auxd, 800, 'Both colds', fontsize=20, rotation='vertical')\n",
    "\n",
    "auxd = str_to_datetime('2017-05-20 00:00:0', '%Y-%m-%d %H:%M:%S')\n",
    "plt.text(auxd, 350, 'New cold \\n getter', fontsize=20, rotation='horizontal')\n",
    "\n",
    "auxd = str_to_datetime('2017-05-23 12:00:0', '%Y-%m-%d %H:%M:%S')\n",
    "plt.text(auxd, 455, 'New cold getter \\n and hot getter', fontsize=20, rotation='horizontal')\n",
    "\n",
    "auxd = str_to_datetime('2017-05-31 12:00:0', '%Y-%m-%d %H:%M:%S')\n",
    "plt.text(auxd, 300, 'With Kr', fontsize=20, rotation='horizontal', color='g')\n",
    "\n",
    "auxd = str_to_datetime('2017-05-31 3:00:0', '%Y-%m-%d %H:%M:%S')\n",
    "plt.text(auxd, 450.0, 'Higher Drift Potential \\n for Alphas (21kV)', fontsize=18, rotation='horizontal', color='r');"
   ]
  },
  {
   "cell_type": "markdown",
   "metadata": {
    "collapsed": true
   },
   "source": [
    "# Drift velocity evolution"
   ]
  },
  {
   "cell_type": "code",
   "execution_count": null,
   "metadata": {
    "collapsed": true
   },
   "outputs": [],
   "source": [
    "plt.figure(figsize=(20,5))\n",
    "\n",
    "date0 = list(map(str_to_datetime, lifetimes.Date_start.values))\n",
    "date1 = list(map(str_to_datetime, lifetimes.Date_end  .values))\n",
    "ddate = list(map(lambda x,y: (x-y)*0.5, date1, date0)) #move dates to mean run time\n",
    "datec = list(map(lambda x,y: (x+y)    , date0, ddate))\n",
    "\n",
    "plt.errorbar(datec, lifetimes.v_drift, lifetimes.u_v_drift, ddate, linestyle='--', fmt='o', c='blue')\n",
    "plt.grid(True)\n",
    "plt.ylabel('Lifetime ($\\mu$s)')\n",
    "\n",
    "for ci  in changes:\n",
    "    plt.axvline(x=ci, color='k', linewidth=3)\n",
    "\n",
    "plt.axvline(x=DP, color='k', linewidth=3, linestyle='--', c='red')\n",
    "    \n",
    "# Labels in plot\n",
    "auxd = str_to_datetime('2017-05-15 15:30:0', '%Y-%m-%d %H:%M:%S')\n",
    "plt.text(auxd, 0.9850, 'No circulation', fontsize=20, rotation='vertical')\n",
    "\n",
    "auxd = str_to_datetime('2017-05-17 05:30:0', '%Y-%m-%d %H:%M:%S')\n",
    "plt.text(auxd, 0.9720, 'Mostly no \\n circulation', fontsize=20, rotation='vertical')\n",
    "\n",
    "auxd = str_to_datetime('2017-05-19 01:00:0', '%Y-%m-%d %H:%M:%S')\n",
    "plt.text(auxd, 0.9920, 'Both colds', fontsize=20, rotation='vertical')\n",
    "\n",
    "auxd = str_to_datetime('2017-05-19 22:30:0', '%Y-%m-%d %H:%M:%S')\n",
    "plt.text(auxd, 0.9950, 'New cold \\n getter', fontsize=20, rotation='horizontal')\n",
    "\n",
    "auxd = str_to_datetime('2017-05-23 23:00:0', '%Y-%m-%d %H:%M:%S')\n",
    "plt.text(auxd, 0.9955, 'New cold getter \\n and hot getter', fontsize=20, rotation='horizontal');\n",
    "\n",
    "\n",
    "auxd = str_to_datetime('2017-05-29 23:00:0', '%Y-%m-%d %H:%M:%S')\n",
    "plt.text(auxd, 0.99900, 'Higher Drift Potential (21kV)', fontsize=18, rotation='horizontal', color='r');"
   ]
  }
 ],
 "metadata": {
  "kernelspec": {
   "display_name": "Python 3",
   "language": "python",
   "name": "python3"
  },
  "language_info": {
   "codemirror_mode": {
    "name": "ipython",
    "version": 3
   },
   "file_extension": ".py",
   "mimetype": "text/x-python",
   "name": "python",
   "nbconvert_exporter": "python",
   "pygments_lexer": "ipython3",
   "version": "3.6.1"
  }
 },
 "nbformat": 4,
 "nbformat_minor": 2
}
