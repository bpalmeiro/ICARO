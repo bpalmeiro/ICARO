{
 "cells": [
  {
   "cell_type": "markdown",
   "metadata": {},
   "source": [
    "# Alpha lifetimes"
   ]
  },
  {
   "cell_type": "markdown",
   "metadata": {},
   "source": [
    "**Combine measurements of lifetimes to show its evolution.**"
   ]
  },
  {
   "cell_type": "code",
   "execution_count": 39,
   "metadata": {
    "collapsed": false
   },
   "outputs": [
    {
     "name": "stdout",
     "output_type": "stream",
     "text": [
      "2017-05-24 19:14:28\n"
     ]
    }
   ],
   "source": [
    "import time\n",
    "import datetime\n",
    "import glob\n",
    "import collections\n",
    "print(datetime.datetime.now().strftime('%Y-%m-%d %H:%M:%S'))\n",
    "\n",
    "import numpy as np\n",
    "import tables as tb\n",
    "import matplotlib.pyplot as plt\n",
    "\n",
    "import invisible_cities.core.core_functions as coref\n",
    "\n",
    "from icaro.core.kdst_functions import event_rate\n",
    "from icaro.core.kdst_functions import profile_and_fit\n",
    "from icaro.core.kdst_functions import lifetime\n",
    "from icaro.core.kdst_functions import load_lifetimes\n",
    "from icaro.core.kdst_functions import str_to_datetime\n",
    "from icaro.core.kdst_functions import datetime_to_str\n",
    "from icaro.core.kdst_functions import to_deltatime"
   ]
  },
  {
   "cell_type": "code",
   "execution_count": 21,
   "metadata": {
    "collapsed": false
   },
   "outputs": [
    {
     "name": "stdout",
     "output_type": "stream",
     "text": [
      "The autoreload extension is already loaded. To reload it, use:\n",
      "  %reload_ext autoreload\n"
     ]
    }
   ],
   "source": [
    "%matplotlib inline\n",
    "%load_ext autoreload\n",
    "%autoreload 2"
   ]
  },
  {
   "cell_type": "code",
   "execution_count": 22,
   "metadata": {
    "collapsed": true
   },
   "outputs": [],
   "source": [
    "plt.rcParams[\"figure.figsize\"] = 10, 8"
   ]
  },
  {
   "cell_type": "markdown",
   "metadata": {},
   "source": [
    "# Configuration"
   ]
  },
  {
   "cell_type": "code",
   "execution_count": 23,
   "metadata": {
    "collapsed": false
   },
   "outputs": [],
   "source": [
    "filename  = \"Lifetimes.txt\"\n",
    "min_run   = 0\n",
    "max_run   = 100000\n",
    "min_date  = datetime.datetime.strptime(\"2017-01-01-00:00:00\", \"%Y-%m-%d-%H:%M:%S\")\n",
    "max_date  = datetime.datetime.strptime(\"2116-12-31-23:59:59\", \"%Y-%m-%d-%H:%M:%S\")"
   ]
  },
  {
   "cell_type": "code",
   "execution_count": 26,
   "metadata": {
    "collapsed": false
   },
   "outputs": [],
   "source": [
    "lifetimes = load_lifetimes(filename)\n",
    "lifetimes = lifetimes[coref.in_range(lifetimes.Run, min_run, max_run+1)]\n",
    "lifetimes = lifetimes[coref.in_range(np.array(list(map(str_to_datetime, lifetimes.Date_start.values))),\n",
    "                                     min_date, max_date)]"
   ]
  },
  {
   "cell_type": "markdown",
   "metadata": {},
   "source": [
    "# Lifetime evolution"
   ]
  },
  {
   "cell_type": "code",
   "execution_count": 35,
   "metadata": {
    "collapsed": false
   },
   "outputs": [
    {
     "name": "stdout",
     "output_type": "stream",
     "text": [
      "2017-05-24 08:38:43\n",
      "2017-05-24 09:43:33\n",
      "2017-05-24 09:11:08\n"
     ]
    }
   ],
   "source": [
    "a = str_to_datetime(lifetimes.Date_start.values[0])\n",
    "b = str_to_datetime(lifetimes.Date_end  .values[0])\n",
    "print(a)\n",
    "print(b)\n",
    "print(a + (b - a) * 0.5)"
   ]
  },
  {
   "cell_type": "code",
   "execution_count": 46,
   "metadata": {
    "collapsed": false
   },
   "outputs": [
    {
     "name": "stderr",
     "output_type": "stream",
     "text": [
      "/Applications/anaconda3/envs/IC3.5/lib/python3.5/site-packages/matplotlib/axes/_base.py:2903: UserWarning: Attempting to set identical left==right results\n",
      "in singular transformations; automatically expanding.\n",
      "left=4074, right=4074\n",
      "  'left=%s, right=%s') % (left, right))\n"
     ]
    },
    {
     "data": {
      "image/png": "[encoded data removed]",
      "text/plain": [
       "<matplotlib.figure.Figure at 0x112837c50>"
      ]
     },
     "metadata": {},
     "output_type": "display_data"
    }
   ],
   "source": [
    "date0 = list(map(str_to_datetime, lifetimes.Date_start.values))\n",
    "date1 = list(map(str_to_datetime, lifetimes.Date_end  .values))\n",
    "ddate = list(map(lambda x,y: (x-y)*0.5, date0, date1))\n",
    "datec = list(map(lambda x,y: (x+y)    , date0, ddate))\n",
    "#datec = list(map(datetime_to_str, datec))\n",
    "ddate = list(map(to_deltatime, date0, date1))\n",
    "\n",
    "plt.errorbar(datec, lifetimes.LT, lifetimes.LTu, ddate, linestyle='--', fmt='o', c='blue')\n",
    "plt.grid(True)\n",
    "#plt.title('Lifetime evolution')\n",
    "plt.ylabel('Lifetime ($\\mu$s)')\n",
    "\n",
    "ax2 = plt.gca().twiny()\n",
    "ax2.set_xlim  (min(lifetimes.Run), max(lifetimes.Run))\n",
    "ax2.set_xticks(lifetimes.Run);"
   ]
  },
  {
   "cell_type": "code",
   "execution_count": null,
   "metadata": {
    "collapsed": true
   },
   "outputs": [],
   "source": []
  }
 ],
 "metadata": {
  "kernelspec": {
   "display_name": "Python 3",
   "language": "python",
   "name": "python3"
  },
  "language_info": {
   "codemirror_mode": {
    "name": "ipython",
    "version": 3
   },
   "file_extension": ".py",
   "mimetype": "text/x-python",
   "name": "python",
   "nbconvert_exporter": "python",
   "pygments_lexer": "ipython3",
   "version": "3.5.2"
  }
 },
 "nbformat": 4,
 "nbformat_minor": 2
}
