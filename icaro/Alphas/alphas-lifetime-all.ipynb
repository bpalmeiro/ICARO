{
 "cells": [
  {
   "cell_type": "markdown",
   "metadata": {},
   "source": [
    "# Alpha lifetimes"
   ]
  },
  {
   "cell_type": "markdown",
   "metadata": {},
   "source": [
    "**Combine measurements of lifetimes to show its evolution.**"
   ]
  },
  {
   "cell_type": "code",
   "execution_count": 1,
   "metadata": {
    "collapsed": false
   },
   "outputs": [
    {
     "name": "stdout",
     "output_type": "stream",
     "text": [
      "2017-05-23 20:32:13\n"
     ]
    },
    {
     "ename": "ImportError",
     "evalue": "No module named 'icaro'",
     "output_type": "error",
     "traceback": [
      "\u001b[0;31m---------------------------------------------------------------------------\u001b[0m",
      "\u001b[0;31mImportError\u001b[0m                               Traceback (most recent call last)",
      "\u001b[0;32m<ipython-input-1-125cdd49631a>\u001b[0m in \u001b[0;36m<module>\u001b[0;34m()\u001b[0m\n\u001b[1;32m     13\u001b[0m \u001b[0;32mimport\u001b[0m \u001b[0minvisible_cities\u001b[0m\u001b[0;34m.\u001b[0m\u001b[0mreco\u001b[0m    \u001b[0;34m.\u001b[0m\u001b[0mdst_functions\u001b[0m \u001b[0;32mas\u001b[0m \u001b[0mdstf\u001b[0m\u001b[0;34m\u001b[0m\u001b[0m\n\u001b[1;32m     14\u001b[0m \u001b[0;34m\u001b[0m\u001b[0m\n\u001b[0;32m---> 15\u001b[0;31m \u001b[0;32mfrom\u001b[0m \u001b[0micaro\u001b[0m\u001b[0;34m.\u001b[0m\u001b[0mcore\u001b[0m\u001b[0;34m.\u001b[0m\u001b[0mkdst_functions\u001b[0m \u001b[0;32mimport\u001b[0m \u001b[0mevent_rate\u001b[0m\u001b[0;34m\u001b[0m\u001b[0m\n\u001b[0m\u001b[1;32m     16\u001b[0m \u001b[0;32mfrom\u001b[0m \u001b[0micaro\u001b[0m\u001b[0;34m.\u001b[0m\u001b[0mcore\u001b[0m\u001b[0;34m.\u001b[0m\u001b[0mkdst_functions\u001b[0m \u001b[0;32mimport\u001b[0m \u001b[0mprofile_and_fit\u001b[0m\u001b[0;34m\u001b[0m\u001b[0m\n\u001b[1;32m     17\u001b[0m \u001b[0;32mfrom\u001b[0m \u001b[0micaro\u001b[0m\u001b[0;34m.\u001b[0m\u001b[0mcore\u001b[0m\u001b[0;34m.\u001b[0m\u001b[0mkdst_functions\u001b[0m \u001b[0;32mimport\u001b[0m \u001b[0mlifetime\u001b[0m\u001b[0;34m\u001b[0m\u001b[0m\n",
      "\u001b[0;31mImportError\u001b[0m: No module named 'icaro'"
     ]
    }
   ],
   "source": [
    "import time\n",
    "import datetime\n",
    "import glob\n",
    "import collections\n",
    "print(datetime.datetime.now().strftime('%Y-%m-%d %H:%M:%S'))\n",
    "\n",
    "import numpy as np\n",
    "import tables as tb\n",
    "import matplotlib.pyplot as plt\n",
    "\n",
    "import invisible_cities.core.core_functions as coref\n",
    "\n",
    "from icaro.core.kdst_functions import event_rate\n",
    "from icaro.core.kdst_functions import profile_and_fit\n",
    "from icaro.core.kdst_functions import lifetime\n",
    "from icaro.core.kdst_functions import load_lifetimes"
   ]
  },
  {
   "cell_type": "code",
   "execution_count": 2,
   "metadata": {
    "collapsed": true
   },
   "outputs": [],
   "source": [
    "%matplotlib inline\n",
    "%load_ext autoreload\n",
    "%autoreload 2"
   ]
  },
  {
   "cell_type": "code",
   "execution_count": 3,
   "metadata": {
    "collapsed": true
   },
   "outputs": [],
   "source": [
    "plt.rcParams[\"figure.figsize\"] = 10, 8"
   ]
  },
  {
   "cell_type": "markdown",
   "metadata": {},
   "source": [
    "# Configuration"
   ]
  },
  {
   "cell_type": "code",
   "execution_count": null,
   "metadata": {
    "collapsed": true
   },
   "outputs": [],
   "source": [
    "filename  = \"/Users/Gonzalo/github/NEXTdata/Alphas/Lifetimes.txt\"\n",
    "min_run   = 0\n",
    "max_run   = 100000\n",
    "min_date  = datetime.datetime.strptime(\"2017-01-01 00:00:00\", \"%Y-%M-%D %H:%M:%S\")\n",
    "max_date  = datetime.datetime.strptime(\"2117-01-01 23:59:59\", \"%Y-%M-%D %H:%M:%S\")"
   ]
  },
  {
   "cell_type": "code",
   "execution_count": null,
   "metadata": {
    "collapsed": true
   },
   "outputs": [],
   "source": [
    "lifetimes = load_lifetimes(filename)\n",
    "lifetimes = lifetimes[coref.in_range(lifetimes.run, min_run, max_run+1)]\n",
    "lifetimes = lifetimes[coref.in_range(datetime.datetime.strptime(lifetimes.date, \"%Y-%M-%D %H:%M:%S\"), min_time, max_date)]"
   ]
  },
  {
   "cell_type": "markdown",
   "metadata": {},
   "source": [
    "# Lifetime evolution"
   ]
  },
  {
   "cell_type": "code",
   "execution_count": 21,
   "metadata": {
    "collapsed": false
   },
   "outputs": [
    {
     "data": {
      "text/plain": [
       "<matplotlib.text.Text at 0x114a7b0b8>"
      ]
     },
     "execution_count": 21,
     "metadata": {},
     "output_type": "execute_result"
    },
    {
     "data": {
      "image/png": "[encoded data removed]",
      "text/plain": [
       "<matplotlib.figure.Figure at 0x1147f9978>"
      ]
     },
     "metadata": {},
     "output_type": "display_data"
    }
   ],
   "source": [
    "plt.errorbar(lifetimes.date, lifetimes.value, lifetimes.uncertainty, linestyle='--', fmt='o', c='blue')\n",
    "plt.grid(True)\n",
    "plt.title('Lifetime evolution')\n",
    "plt.ylabel('Lifetime ($\\mu$s)')\n",
    "\n",
    "ax2 = plt.gca().twiny()\n",
    "ax2.set_xlim  (min(lifetimes.run), max(lifetimes.run))\n",
    "ax2.set_xticks(lifetimes.run)"
   ]
  }
 ],
 "metadata": {
  "kernelspec": {
   "display_name": "Python 3",
   "language": "python",
   "name": "python3"
  },
  "language_info": {
   "codemirror_mode": {
    "name": "ipython",
    "version": 3
   },
   "file_extension": ".py",
   "mimetype": "text/x-python",
   "name": "python",
   "nbconvert_exporter": "python",
   "pygments_lexer": "ipython3",
   "version": "3.5.2"
  }
 },
 "nbformat": 4,
 "nbformat_minor": 2
}
