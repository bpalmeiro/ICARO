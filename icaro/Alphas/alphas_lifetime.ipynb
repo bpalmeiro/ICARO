{
 "cells": [
  {
   "cell_type": "markdown",
   "metadata": {},
   "source": [
    "# Notebook configuration"
   ]
  },
  {
   "cell_type": "code",
   "execution_count": null,
   "metadata": {
    "collapsed": true
   },
   "outputs": [],
   "source": [
    "run_number    = XXXX\n",
    "run_tag       = YYYY # \"alpha\" or \"kr\"\n",
    "data_filename = \"$DATADIR/{0}/dst_{0}.root.h5\".format(run_number)\n",
    "text_filename = \"$ICARODIR/icaro/Lifetime/Lifetimes.txt\"\n",
    "run_comment   = \"\"\n",
    "overwrite     = False\n",
    "\n",
    "Xrange        = -200, 200\n",
    "Yrange        = -200, 200\n",
    "Zrange        =    0, 600\n",
    "Zrange_LT     =   50, 500\n",
    "Xnbins        =   50\n",
    "Ynbins        =   50\n",
    "Znbins        =   50\n",
    "Tnbins        =   50\n",
    "S1nbins       =   50\n",
    "S2nbins       =   50\n",
    "\n",
    "XYrange       = Xrange, Yrange\n",
    "XYnbins       = Xnbins, Ynbins\n",
    "\n",
    "if   run_tag == \"alpha\":\n",
    "    S1range   =    0, 3e3\n",
    "    S2range   =    0, 4e4\n",
    "elif run_tag == \"kr\":\n",
    "    S1range   =    0, 5e1\n",
    "    S2range   =    0, 2e4\n",
    "\n",
    "Rfiducial     = 100 # in mm\n",
    "Zcathode      = 500 # in µs"
   ]
  },
  {
   "cell_type": "markdown",
   "metadata": {},
   "source": [
    "# Alpha lifetime"
   ]
  },
  {
   "cell_type": "code",
   "execution_count": null,
   "metadata": {
    "collapsed": true
   },
   "outputs": [],
   "source": [
    "import os\n",
    "import sys\n",
    "import argparse\n",
    "import datetime\n",
    "\n",
    "import numpy             as np\n",
    "import matplotlib.pyplot as plt\n",
    "\n",
    "import invisible_cities.core.core_functions as coref\n",
    "import invisible_cities.reco. dst_functions as dstf\n",
    "import invisible_cities.core. fit_functions as fitf\n",
    "import invisible_cities.database.load_db    as db\n",
    "\n",
    "from invisible_cities.icaro.hst_functions import plot\n",
    "from invisible_cities.icaro.hst_functions import errorbar\n",
    "from invisible_cities.icaro.hst_functions import hist\n",
    "from invisible_cities.icaro.hst_functions import hist2d\n",
    "from invisible_cities.icaro.hst_functions import labels\n",
    "from invisible_cities.icaro.hst_functions import plot_writer\n",
    "from invisible_cities.icaro.hst_functions import measurement_string\n",
    "\n",
    "from icaro.core.kdst_functions import event_rate\n",
    "from icaro.core.kdst_functions import profile_and_fit\n",
    "from icaro.core.kdst_functions import time_from_timestamp\n",
    "from icaro.core.kdst_functions import to_deltatime\n",
    "from icaro.core.kdst_functions import lifetime_vs_t\n",
    "from icaro.core.kdst_functions import save_lifetime\n",
    "\n",
    "print(datetime.datetime.now().strftime('%Y-%m-%d %H:%M:%S'))"
   ]
  },
  {
   "cell_type": "markdown",
   "metadata": {},
   "source": [
    "# Plotting options"
   ]
  },
  {
   "cell_type": "code",
   "execution_count": null,
   "metadata": {
    "collapsed": true
   },
   "outputs": [],
   "source": [
    "%matplotlib inline\n",
    "\n",
    "np.warnings.filterwarnings('ignore')\n",
    "\n",
    "plt.rcParams[\"figure.figsize\"         ] = 16, 12\n",
    "plt.rcParams[  \"font.size\"            ] = 18\n",
    "plt.rcParams[\"figure.max_open_warning\"] = 1000"
   ]
  },
  {
   "cell_type": "markdown",
   "metadata": {},
   "source": [
    "# Read data"
   ]
  },
  {
   "cell_type": "code",
   "execution_count": null,
   "metadata": {
    "collapsed": true
   },
   "outputs": [],
   "source": [
    "full       = dstf.load_dst(os.path.expandvars(data_filename), \"DST\", \"Events\")\n",
    "t_begin    = np.min(full.time)\n",
    "t_end      = np.max(full.time)\n",
    "run_dt     = t_end - t_begin\n",
    "full.time -= t_begin\n",
    "fid        = full[full.R < Rfiducial] # michel sorel cuts\n",
    "cath       = full[full.Z > Zcathode ]\n",
    "bulk       = full[full.Z < Zcathode ]\n",
    "\n",
    "print(f\"# alphas              :\"        , len(full))\n",
    "print(f\"# alphas at R < {Rfiducial} mm:\", len(fid ))\n",
    "print(f\"# alphas at Z > {Zcathode} µs:\" , len(cath))\n",
    "print(f\"# alphas at Z < {Zcathode} µs:\" , len(bulk))\n",
    "\n",
    "full.head()"
   ]
  },
  {
   "cell_type": "markdown",
   "metadata": {},
   "source": [
    "# Trigger rate"
   ]
  },
  {
   "cell_type": "code",
   "execution_count": null,
   "metadata": {
    "collapsed": true
   },
   "outputs": [],
   "source": [
    "_, bins, _ = \\\n",
    "hist  (full.time/60, Tnbins)\n",
    "labels(\"Time (min)\",\n",
    "       \"Rate (({:.1f} min)$^{{-1}}$)\".format(np.diff(bins)[0]),\n",
    "       \"Trigger rate\")\n",
    "\n",
    "rate = event_rate(full)\n",
    "print(\"Average trigger rate: {:.2f} Hz\".format(rate))"
   ]
  },
  {
   "cell_type": "markdown",
   "metadata": {},
   "source": [
    "# Energy distributions and correlations"
   ]
  },
  {
   "cell_type": "code",
   "execution_count": null,
   "metadata": {
    "collapsed": true,
    "scrolled": false
   },
   "outputs": [],
   "source": [
    "plt.figure ()\n",
    "plt.subplot(2, 3, 1)\n",
    "plt.hist   (full.S1e, S1nbins, (0, np.max(full.S1e)))\n",
    "labels     (\"S1 energy (pes)\", \"Entries\", \"S1 energy\")\n",
    "\n",
    "plt.subplot(2, 3, 2)\n",
    "plt.hist   (full.S2e, S2nbins, (0, np.max(full.S2e) * 1.2))\n",
    "labels     (\"S2 energy (pes)\", \"Entries\", \"S2 energy\")\n",
    "\n",
    "plt.subplot(2, 3, 3)\n",
    "plt.hist   (fid .S2e, S2nbins, (0, np.max(full.S2e) * 1.2))\n",
    "labels     (\"S2 energy (pes)\", \"Entries\", \"S2 energy (R < 100 mm)\")\n",
    "\n",
    "plt.subplot(2, 3, 4)\n",
    "plt.hist   (full.Z  ,  Znbins, Zrange)\n",
    "labels     (\"Drift time (µs)\", \"Entries\", \"Drift time\")\n",
    "\n",
    "plt.subplot(2, 3, 5)\n",
    "plt.hist   (fid .Z  ,  Znbins, (Zcathode, Zrange[1]))\n",
    "labels     (\"Drift time (µs)\", \"Entries\", \"Drift time (cathode)\")\n",
    "\n",
    "plt.subplot(2, 3, 6)\n",
    "plt.hist   (fid .Z  ,  Znbins, (Zrange[0], Zcathode))\n",
    "labels     (\"Drift time (µs)\", \"Entries\", \"Drift time (bulk)\")\n",
    "\n",
    "plt.tight_layout()"
   ]
  },
  {
   "cell_type": "code",
   "execution_count": null,
   "metadata": {
    "collapsed": true
   },
   "outputs": [],
   "source": [
    "hist2d(full.time, full.S2e, (Tnbins, S2nbins))\n",
    "labels(\"Time (s)\", \"Energy (pes)\", \"Energy vs time\")"
   ]
  },
  {
   "cell_type": "code",
   "execution_count": null,
   "metadata": {
    "collapsed": true
   },
   "outputs": [],
   "source": [
    "plt.figure()\n",
    "\n",
    "plt.subplot(2, 3, 1)\n",
    "plt.hist2d (full.Z  , full.S2e, ( Znbins, S2nbins), range=( Zrange, S2range))\n",
    "labels     (\"Drift time (µs)\", \"S2 energy (pes)\", \"S2 vs Z\")\n",
    "\n",
    "plt.subplot(2, 3, 2)\n",
    "plt.hist2d (full.Z  , full.S1e, ( Znbins, S1nbins), range=( Zrange, S1range))\n",
    "labels     (\"Drift time (µs)\", \"S1 energy (pes)\", \"S1 vs Z\")\n",
    "\n",
    "plt.subplot(2, 3, 3)\n",
    "plt.hist2d (full.S2e, full.S1e, (S2nbins, S1nbins), range=(S2range, S1range))\n",
    "labels     (\"S2 energy (pes)\", \"S1 energy (pes)\", \"S1 vs S2\")\n",
    "\n",
    "plt.subplot(2, 3, 4)\n",
    "plt.hist2d (fid .Z  , fid .S2e, ( Znbins, S2nbins), range=( Zrange, S2range))\n",
    "labels     (\"Drift time (µs)\", \"S2 energy (pes)\", \"S2 vs Z (R < 100 mm)\")\n",
    "\n",
    "plt.subplot(2, 3, 5)\n",
    "plt.hist2d (fid .Z  , fid .S1e, ( Znbins, S1nbins), range=( Zrange, S1range))\n",
    "labels     (\"Drift time (µs)\", \"S1 energy (pes)\", \"S1 vs Z (R < 100 mm)\")\n",
    "\n",
    "plt.subplot(2, 3, 6)\n",
    "plt.hist2d (fid .S2e, fid .S1e, (S2nbins, S1nbins), range=(S2range, S1range))\n",
    "labels     (\"S2 energy (pes)\", \"S1 energy (pes)\", \"S1 vs S2 (R < 100 mm)\")\n",
    "\n",
    "plt.tight_layout()"
   ]
  },
  {
   "cell_type": "markdown",
   "metadata": {},
   "source": [
    "# Event distribution"
   ]
  },
  {
   "cell_type": "code",
   "execution_count": null,
   "metadata": {
    "collapsed": true
   },
   "outputs": [],
   "source": [
    "plt.figure ()\n",
    "plt.subplot(2, 2, 1)\n",
    "plt.hist2d (full.X, full.Y, XYnbins, XYrange)\n",
    "plt.colorbar().set_label(\"# events\")\n",
    "labels     (\"X (mm)\", \"Y (mm)\", \"XY distribution\")\n",
    "\n",
    "plt.subplot(2, 2, 2)\n",
    "plt.hist2d (fid .X, fid .Y, XYnbins, XYrange)\n",
    "plt.colorbar().set_label(\"# events\")\n",
    "labels     (\"X (mm)\", \"Y (mm)\", \"XY distribution (R < 100 mm)\")\n",
    "\n",
    "plt.subplot(2, 2, 3)\n",
    "plt.hist2d (bulk.X, bulk.Y, XYnbins, XYrange)\n",
    "plt.colorbar().set_label(\"# events\")\n",
    "labels     (\"X (mm)\", \"Y (mm)\", \"XY distribution (bulk)\")\n",
    "\n",
    "plt.subplot(2, 2, 4)\n",
    "plt.hist2d (cath.X, cath.Y, XYnbins, XYrange)\n",
    "plt.colorbar().set_label(\"# events\")\n",
    "labels     (\"X (mm)\", \"Y (mm)\", \"XY distribution (cathode)\")\n",
    "\n",
    "plt.tight_layout()"
   ]
  },
  {
   "cell_type": "markdown",
   "metadata": {},
   "source": [
    "# Lifetime"
   ]
  },
  {
   "cell_type": "code",
   "execution_count": null,
   "metadata": {
    "collapsed": true
   },
   "outputs": [],
   "source": [
    "seed = S2range[1], -1e3\n",
    "\n",
    "F, *_ = profile_and_fit(fid.Z, fid.S2e, \n",
    "                        xrange =  Zrange, \n",
    "                        yrange = S2range, \n",
    "                        nbins  =  Znbins, \n",
    "                        fitpar =  seed)\n",
    "labels(\"Drift time (µs)\", \"S2 energy (pes)\")\n",
    "\n",
    "E0, u_E0 =  F.values[0], F.errors[0]\n",
    "LT, u_LT = -F.values[1], F.errors[1]\n",
    "\n",
    "print(\"Energy at Z=0: ({}) pes\".format(measurement_string(E0, u_E0)))\n",
    "print(\"Lifetime     : ({}) µs \".format(measurement_string(LT, u_LT)))\n",
    "print(\"Chi2 fit     : {:.2f}  \".format(F.chi2))"
   ]
  },
  {
   "cell_type": "code",
   "execution_count": null,
   "metadata": {
    "collapsed": true
   },
   "outputs": [],
   "source": [
    "dst        = fid[coref.in_range(fid.Z, *Zrange)]\n",
    "timestamps = list(map(time_from_timestamp, dst.time))\n",
    "\n",
    "Ts, u_Ts, LTs, u_LTs, E0s, u_E0s = lifetime_vs_t(dst, nslices=8, timestamps=timestamps)\n",
    "\n",
    "errorbar(Ts, LTs, u_LTs, u_Ts)\n",
    "labels  (\"Time (s)\", \"Lifetime (µs)\", \"Lifetime evolution within run\")\n",
    "\n",
    "errorbar(Ts, E0s, u_E0s, u_Ts)\n",
    "labels  (\"Time (s)\", \"Energy at Z=0 (pes)\", \"Energy scale evolution within run\")"
   ]
  },
  {
   "cell_type": "markdown",
   "metadata": {},
   "source": [
    "## Drift velocity"
   ]
  },
  {
   "cell_type": "code",
   "execution_count": null,
   "metadata": {
    "collapsed": true
   },
   "outputs": [],
   "source": [
    "values, bins = np.histogram(cath.Z, 50)\n",
    "\n",
    "mean_val = bins[np.argmax(values)]\n",
    "zrange_  = mean_val - 5., mean_val + 5.\n",
    "\n",
    "y, x, _  = hist(cath.Z, Znbins, zrange_)\n",
    "F        = fitf.fit(fitf.gauss, x, y, (np.max(values), mean_val, 2))\n",
    "\n",
    "plt.plot(x, F.fn(x), lw=3, c='r')\n",
    "labels  (\"Drift length (µs)\", \"Entries\", \"Max drift length\")\n",
    "\n",
    "max_drift   = F.values[1]\n",
    "u_max_drift = F.errors[1] \n",
    "v_drift     = db.DetectorGeo().ZMAX[0]/max_drift\n",
    "u_v_drift   = v_drift*u_max_drift/max_drift\n",
    "\n",
    "print(\"Drift time     : ({}) µs   \".format(measurement_string(max_drift, u_max_drift)))\n",
    "print(\"Drift velocity : ({}) mm/µs\".format(measurement_string(  v_drift,   u_v_drift)))"
   ]
  },
  {
   "cell_type": "markdown",
   "metadata": {},
   "source": [
    "# Saving data"
   ]
  },
  {
   "cell_type": "code",
   "execution_count": null,
   "metadata": {
    "collapsed": true
   },
   "outputs": [],
   "source": [
    "date_begin = time_from_timestamp(t_begin)\n",
    "date_end   = time_from_timestamp(t_end  )\n",
    "date_lapse = to_deltatime       (t_begin, t_end, unit=\"s\", to_str=True)\n",
    "\n",
    "save_lifetime(os.path.expandvars(text_filename),\n",
    "                 run_number,    run_tag,\n",
    "                         LT,       u_LT,\n",
    "                         E0,       u_E0,\n",
    "                    v_drift,  u_v_drift,\n",
    "                    t_begin,      t_end,     run_dt,\n",
    "                 date_begin,   date_end, date_lapse,\n",
    "                 comment   = run_comment.replace(\" \", \"_\"),\n",
    "                 delimiter = \" \",\n",
    "                 overwrite = overwrite)"
   ]
  }
 ],
 "metadata": {
  "kernelspec": {
   "display_name": "Python 3",
   "language": "python",
   "name": "python3"
  },
  "language_info": {
   "codemirror_mode": {
    "name": "ipython",
    "version": 3
   },
   "file_extension": ".py",
   "mimetype": "text/x-python",
   "name": "python",
   "nbconvert_exporter": "python",
   "pygments_lexer": "ipython3",
   "version": "3.6.1"
  }
 },
 "nbformat": 4,
 "nbformat_minor": 2
}
