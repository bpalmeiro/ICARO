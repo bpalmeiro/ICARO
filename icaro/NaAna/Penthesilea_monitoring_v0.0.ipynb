{
 "cells": [
  {
   "cell_type": "markdown",
   "metadata": {},
   "source": [
    "# Th analysis"
   ]
  },
  {
   "cell_type": "code",
   "execution_count": 1,
   "metadata": {
    "collapsed": true
   },
   "outputs": [],
   "source": [
    "%matplotlib inline\n",
    "\n",
    "import os\n",
    "import random\n",
    "import sys\n",
    "import textwrap\n",
    "\n",
    "import matplotlib as mpl\n",
    "import matplotlib.pyplot as plt\n",
    "import numpy  as np\n",
    "import tables as tb\n",
    "\n",
    "import invisible_cities.core.core_functions as coref\n",
    "import invisible_cities.core.fit_functions as fitf\n",
    "import invisible_cities.reco.dst_functions  as dstf\n",
    "import invisible_cities.reco.paolina_functions as plf\n",
    "\n",
    "from   collections                             import namedtuple\n",
    "from   invisible_cities.io.hits_io             import load_hits\n",
    "from   invisible_cities.io.hits_io             import load_hits_skipping_NN\n",
    "from   invisible_cities.evm.event_model        import Hit, Cluster, HitCollection\n",
    "from   invisible_cities.types.ic_types         import xy\n",
    "from   invisible_cities.types.ic_types         import NN\n",
    "from   invisible_cities.core.system_of_units_c import units\n",
    "from   matplotlib.patches                      import Ellipse\n",
    "from   mpl_toolkits.mplot3d                    import Axes3D"
   ]
  },
  {
   "cell_type": "code",
   "execution_count": 11,
   "metadata": {
    "collapsed": true
   },
   "outputs": [],
   "source": [
    "%matplotlib inline\n",
    "\n",
    "np.warnings.filterwarnings('ignore')\n",
    "\n",
    "plt.rcParams[\"figure.figsize\"]          = 8, 6\n",
    "plt.rcParams[\"font.size\"]               = 15\n",
    "plt.rcParams[\"figure.max_open_warning\"] = 100\n",
    "\n",
    "profOpt = \"--k\"\n",
    "fitOpt  = \"r\""
   ]
  },
  {
   "cell_type": "markdown",
   "metadata": {},
   "source": [
    "## Read the corrections table\n",
    "Reads the corrections table from the specified file and creates a function that returns the correction factor for a given (x,y) location."
   ]
  },
  {
   "cell_type": "code",
   "execution_count": 2,
   "metadata": {
    "collapsed": true
   },
   "outputs": [],
   "source": [
    "corr_file = \"/home/brais/Documents/Next//Correction_maps/run4628_corrections.h5\"\n",
    "fcorr     = dstf.load_xy_corrections(corr_file)"
   ]
  },
  {
   "cell_type": "markdown",
   "metadata": {},
   "source": [
    "## Read in the output of Penthesilea\n",
    "Reads in Penthesilea output from the runs listed"
   ]
  },
  {
   "cell_type": "code",
   "execution_count": 3,
   "metadata": {
    "collapsed": true
   },
   "outputs": [],
   "source": [
    "def merge_NN_hits(hits_all,hits_nonNN):\n",
    "\n",
    "    # Iterate through the nonNN dictionary and update the energies including the NN hits from the \"all\" dictionary.\n",
    "    for (evt,hc) in hits_nonNN.items():\n",
    "\n",
    "        # Get the corresponding collection of all hits.\n",
    "        hc_all = hits_all[evt]\n",
    "            \n",
    "        # Add energy from all NN hits to hits in closest slice.\n",
    "        for h1 in hc_all.hits:\n",
    "\n",
    "            if(h1.Q == NN):\n",
    "\n",
    "                # Find the hits to which the energy will be added.\n",
    "                zdist_min = -1\n",
    "                h_add = []\n",
    "                for h2 in hc.hits:\n",
    "                    zdist = np.abs(h1.Z - h2.Z)\n",
    "                    if(zdist_min < 0 or zdist < zdist_min):\n",
    "                        zdist_min = zdist\n",
    "                        h_add = []\n",
    "                        h_add.append(h2)\n",
    "                    elif(zdist == zdist_min):\n",
    "                        h_add.append(h2)\n",
    "\n",
    "                # Add the energy.\n",
    "                hadd_etot = sum([ha.E for ha in h_add])\n",
    "                for ha in h_add:\n",
    "                    ha.energy += h1.E*(ha.E/hadd_etot)\n",
    "                    \n",
    "        # Check the sum of the energy.\n",
    "        #e1 = sum([hh.E for hh in hc_all.hits])\n",
    "        #e2 = sum([hh.E for hh in hc.hits])\n",
    "        #if(abs(e1 - e2) > 0.001):\n",
    "        #    print(\"ERROR\")\n"
   ]
  },
  {
   "cell_type": "code",
   "execution_count": 8,
   "metadata": {
    "collapsed": true
   },
   "outputs": [],
   "source": [
    "tlife  = 1544\n"
   ]
  },
  {
   "cell_type": "code",
   "execution_count": 24,
   "metadata": {},
   "outputs": [
    {
     "name": "stdout",
     "output_type": "stream",
     "text": [
      "size:  50000\n"
     ]
    }
   ],
   "source": [
    "fname = \"/home/brais/Documents/Next/Na/data/4567_dev/hit_dst_4567.root.h5\"\n",
    "hits_all = load_hits(fname, 50000)\n",
    "hits = load_hits_skipping_NN(fname, 50000)\n",
    "\n"
   ]
  },
  {
   "cell_type": "code",
   "execution_count": 33,
   "metadata": {},
   "outputs": [],
   "source": [
    "# Create the corrected hit collections (summed over all runs) for \n",
    "#  fully corrected (c), geometry-only corrected (g), tau-only corrected (t), and uncorrected (u) events.\n",
    "hitc_uevt = []; hitc_cevt = []; hitc_gevt = []; hitc_tevt = []\n",
    "\n",
    "for ee,hc in hits.items():\n",
    "    hc_ucorr = []; hc_corr = []; hc_gcorr = []; hc_tcorr = []\n",
    "    for hh in hc.hits:\n",
    "\n",
    "        hecorr = hh.E*fcorr(hh.X,hh.Y).value/np.exp(-hh.Z/1200.)\n",
    "        hegcorr = hh.E*fcorr(hh.X,hh.Y).value\n",
    "        hetcorr = hh.E/np.exp(-hh.Z/tlife)\n",
    "\n",
    "        hucorr = Hit(0,Cluster(0, xy(hh.X,hh.Y), xy(0,0), 0),hh.Z,hh.E)\n",
    "        hcorr  = Hit(0,Cluster(0, xy(hh.X,hh.Y), xy(0,0), 0),hh.Z,hecorr)\n",
    "        hgcorr = Hit(0,Cluster(0, xy(hh.X,hh.Y), xy(0,0), 0),hh.Z,hegcorr)\n",
    "        htcorr = Hit(0,Cluster(0, xy(hh.X,hh.Y), xy(0,0), 0),hh.Z,hetcorr)\n",
    "\n",
    "        hc_ucorr.append(hucorr); hc_corr.append(hcorr); hc_gcorr.append(hgcorr); hc_tcorr.append(htcorr)\n",
    "\n",
    "    # Only save events with >= 2 hits.\n",
    "    if(len(hc_corr) >= 1):\n",
    "        hitc_uevt.append(hc_ucorr)\n",
    "        hitc_cevt.append(hc_corr)\n",
    "        hitc_gevt.append(hc_gcorr)\n",
    "        hitc_tevt.append(hc_tcorr)"
   ]
  },
  {
   "cell_type": "markdown",
   "metadata": {},
   "source": [
    "## Control Plots"
   ]
  },
  {
   "cell_type": "markdown",
   "metadata": {},
   "source": [
    "### # of hits per event"
   ]
  },
  {
   "cell_type": "code",
   "execution_count": 34,
   "metadata": {},
   "outputs": [
    {
     "data": {
      "text/plain": [
       "(array([ 506.,  955.,  522.,  212.,   85.,   24.,    9.,    5.,    1.,    2.]),\n",
       " array([  3. ,  10.1,  17.2,  24.3,  31.4,  38.5,  45.6,  52.7,  59.8,\n",
       "         66.9,  74. ]),\n",
       " <a list of 10 Patch objects>)"
      ]
     },
     "execution_count": 34,
     "metadata": {},
     "output_type": "execute_result"
    },
    {
     "data": {
      "image/png": "[encoded data removed]",
      "text/plain": [
       "<matplotlib.figure.Figure at 0x7f35119ba780>"
      ]
     },
     "metadata": {},
     "output_type": "display_data"
    }
   ],
   "source": [
    "plt.hist(list([len(evt) for evt in hitc_cevt]))"
   ]
  },
  {
   "cell_type": "markdown",
   "metadata": {},
   "source": [
    "### Hit energy"
   ]
  },
  {
   "cell_type": "code",
   "execution_count": 79,
   "metadata": {},
   "outputs": [
    {
     "data": {
      "image/png": "[encoded data removed]",
      "text/plain": [
       "<matplotlib.figure.Figure at 0x7f34f7cd79e8>"
      ]
     },
     "metadata": {},
     "output_type": "display_data"
    }
   ],
   "source": [
    "hit_E = []\n",
    "for evt in hitc_cevt:\n",
    "    for hit in evt:\n",
    "        hit_E.append(hit.E[0])\n",
    "        \n",
    "plt.hist(hit_E, 100);"
   ]
  },
  {
   "cell_type": "markdown",
   "metadata": {},
   "source": [
    "### Event Energy"
   ]
  },
  {
   "cell_type": "code",
   "execution_count": 81,
   "metadata": {},
   "outputs": [
    {
     "data": {
      "image/png": "[encoded data removed]",
      "text/plain": [
       "<matplotlib.figure.Figure at 0x7f34f79198d0>"
      ]
     },
     "metadata": {},
     "output_type": "display_data"
    }
   ],
   "source": [
    "evt_E = []\n",
    "\n",
    "for evt in hitc_cevt:\n",
    "    hit_E = []\n",
    "    for hit in evt:\n",
    "        hit_E.append(hit.E[0])\n",
    "    evt_E.append(np.sum(hit_E))\n",
    "        \n",
    "plt.hist(evt_E, 100, [0,2e5]);"
   ]
  },
  {
   "cell_type": "markdown",
   "metadata": {},
   "source": [
    "### XY Hit position "
   ]
  },
  {
   "cell_type": "code",
   "execution_count": 88,
   "metadata": {},
   "outputs": [
    {
     "data": {
      "image/png": "[encoded data removed]",
      "text/plain": [
       "<matplotlib.figure.Figure at 0x7f34f70ea780>"
      ]
     },
     "metadata": {},
     "output_type": "display_data"
    },
    {
     "data": {
      "image/png": "[encoded data removed]",
      "text/plain": [
       "<matplotlib.figure.Figure at 0x7f34f6f42cf8>"
      ]
     },
     "metadata": {},
     "output_type": "display_data"
    }
   ],
   "source": [
    "hit_x = []\n",
    "hit_y = []\n",
    "\n",
    "for evt in hitc_cevt:\n",
    "    for hit in evt:\n",
    "        hit_x.append(hit.XY[0])\n",
    "        hit_y.append(hit.XY[1])\n",
    "\n",
    "plt.figure()\n",
    "plt.hist(hit_x)\n",
    "\n",
    "plt.figure()\n",
    "plt.hist(hit_y);\n"
   ]
  },
  {
   "cell_type": "markdown",
   "metadata": {},
   "source": [
    "### Average XY position"
   ]
  },
  {
   "cell_type": "code",
   "execution_count": 115,
   "metadata": {},
   "outputs": [
    {
     "data": {
      "image/png": "[encoded data removed]",
      "text/plain": [
       "<matplotlib.figure.Figure at 0x7f3511ab4588>"
      ]
     },
     "metadata": {},
     "output_type": "display_data"
    },
    {
     "data": {
      "image/png": "[encoded data removed]",
      "text/plain": [
       "<matplotlib.figure.Figure at 0x7f35049cc9e8>"
      ]
     },
     "metadata": {},
     "output_type": "display_data"
    }
   ],
   "source": [
    "evt_x = []; evt_y = []; \n",
    "\n",
    "for ee in range(len(hitc_cevt)):\n",
    "    \n",
    "    evt_E = sum([hh.E for hh in hitc_cevt[ee]])[0]\n",
    "    evt_x.append(sum([hh.X*hh.E for hh in hitc_cevt[ee]])[0]/evt_E)\n",
    "    evt_y.append(sum([hh.Y*hh.E for hh in hitc_cevt[ee]])[0]/evt_E)\n",
    "\n",
    "    \n",
    "plt.figure()\n",
    "plt.hist(evt_x, 100, [-200,200])\n",
    "\n",
    "plt.figure()\n",
    "plt.hist(evt_y, 100, [-200,200]);"
   ]
  },
  {
   "cell_type": "code",
   "execution_count": null,
   "metadata": {
    "collapsed": true
   },
   "outputs": [],
   "source": []
  }
 ],
 "metadata": {
  "anaconda-cloud": {},
  "kernelspec": {
   "display_name": "Python 3",
   "language": "python",
   "name": "python3"
  },
  "language_info": {
   "codemirror_mode": {
    "name": "ipython",
    "version": 3
   },
   "file_extension": ".py",
   "mimetype": "text/x-python",
   "name": "python",
   "nbconvert_exporter": "python",
   "pygments_lexer": "ipython3",
   "version": "3.6.2"
  }
 },
 "nbformat": 4,
 "nbformat_minor": 2
}
