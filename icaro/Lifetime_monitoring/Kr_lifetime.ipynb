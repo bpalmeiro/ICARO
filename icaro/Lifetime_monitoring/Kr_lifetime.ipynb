{
 "cells": [
  {
   "cell_type": "markdown",
   "metadata": {},
   "source": [
    "# Notebook configuration"
   ]
  },
  {
   "cell_type": "code",
   "execution_count": 12,
   "metadata": {},
   "outputs": [],
   "source": [
    "run_number    = 5863\n",
    "save_plots    = True\n",
    "plots_format  = \"pdf\"\n",
    "outputfolder  = \"plots/{}/\".format(run_number)\n",
    "\n",
    "# It's mandatory to have path sctructure as: /what/ever/this/path/is/RUN_NUMBER/ and just the files you want to\n",
    "# use in this folder. If it's not the case, you should implement proper changes\n",
    "input_path    = \"/Users/brais/Documents/NEXT/Datos/Kr_lt/{0}/\".format(run_number)\n",
    "\n",
    "Zrange        =     0, 600\n",
    "XYrange       =  -198, 198\n",
    "Rrange        =     0, max(XYrange)\n",
    "Erange_raw    =   3e3, 15e3\n",
    "\n",
    "E0guess       = 13e3\n",
    "Ltguess       = 1000\n",
    "R_fiducial    = 50\n",
    "Z_fiducial    = 10 , 570\n",
    "Zrange_DV     = 500, 600\n",
    "nslices       = 20\n",
    "nStimeprofile = 1800\n",
    "\n"
   ]
  },
  {
   "cell_type": "code",
   "execution_count": 13,
   "metadata": {},
   "outputs": [
    {
     "name": "stdout",
     "output_type": "stream",
     "text": [
      "Running on  Mon Jun 18 15:13:41 2018\n"
     ]
    }
   ],
   "source": [
    "import os\n",
    "import glob\n",
    "#import shutil\n",
    "#import functools\n",
    "import time\n",
    "print(\"Running on \", time.asctime())\n",
    "\n",
    "import numpy             as np\n",
    "import tables            as tb\n",
    "import matplotlib.pyplot as plt\n",
    "from   matplotlib.colors import LogNorm\n",
    "import matplotlib.dates  as md\n",
    "import datetime\n",
    "\n",
    "import invisible_cities.core.core_functions as coref\n",
    "import invisible_cities.core.fit_functions  as fitf\n",
    "\n",
    "import invisible_cities.reco.corrections    as corrf\n",
    "import invisible_cities.io  .dst_io         as dstio\n",
    "\n",
    "from invisible_cities.icaro.hst_functions import hist\n",
    "from invisible_cities.icaro.hst_functions import hist2d\n",
    "from invisible_cities.icaro.hst_functions import labels\n",
    "from invisible_cities.icaro.hst_functions import shift_to_bin_centers\n",
    "from invisible_cities.core.stat_functions import poisson_sigma\n",
    "\n",
    "\n",
    "\n",
    "from invisible_cities.icaro.hst_functions import plot_writer\n",
    "\n",
    "pi   = np.pi\n",
    "save = plot_writer(outputfolder, plots_format) if save_plots else lambda *x: None"
   ]
  },
  {
   "cell_type": "markdown",
   "metadata": {},
   "source": [
    "### General ploting options"
   ]
  },
  {
   "cell_type": "code",
   "execution_count": 14,
   "metadata": {
    "collapsed": true
   },
   "outputs": [],
   "source": [
    "%matplotlib inline\n",
    "\n",
    "np.warnings.filterwarnings('ignore')\n",
    "\n",
    "plt.rcParams[\"figure.figsize\"]          = 8, 6\n",
    "plt.rcParams[\"font.size\"]               = 15\n",
    "plt.rcParams[\"figure.max_open_warning\"] = 100\n",
    "\n",
    "profOpt = \"--k\"\n",
    "fitOpt  = \"r\"\n",
    "if not os.path.exists(outputfolder):\n",
    "    os.mkdir(outputfolder)"
   ]
  },
  {
   "cell_type": "markdown",
   "metadata": {},
   "source": [
    "# Read data"
   ]
  },
  {
   "cell_type": "code",
   "execution_count": 15,
   "metadata": {},
   "outputs": [
    {
     "name": "stdout",
     "output_type": "stream",
     "text": [
      "1209037\n"
     ]
    },
    {
     "data": {
      "text/html": [
       "<div>\n",
       "<style>\n",
       "    .dataframe thead tr:only-child th {\n",
       "        text-align: right;\n",
       "    }\n",
       "\n",
       "    .dataframe thead th {\n",
       "        text-align: left;\n",
       "    }\n",
       "\n",
       "    .dataframe tbody tr th {\n",
       "        vertical-align: top;\n",
       "    }\n",
       "</style>\n",
       "<table border=\"1\" class=\"dataframe\">\n",
       "  <thead>\n",
       "    <tr style=\"text-align: right;\">\n",
       "      <th></th>\n",
       "      <th>event</th>\n",
       "      <th>time</th>\n",
       "      <th>s1_peak</th>\n",
       "      <th>s2_peak</th>\n",
       "      <th>nS1</th>\n",
       "      <th>nS2</th>\n",
       "      <th>S1w</th>\n",
       "      <th>S1h</th>\n",
       "      <th>S1e</th>\n",
       "      <th>S1t</th>\n",
       "      <th>...</th>\n",
       "      <th>Nsipm</th>\n",
       "      <th>DT</th>\n",
       "      <th>Z</th>\n",
       "      <th>Zrms</th>\n",
       "      <th>X</th>\n",
       "      <th>Y</th>\n",
       "      <th>R</th>\n",
       "      <th>Phi</th>\n",
       "      <th>Xrms</th>\n",
       "      <th>Yrms</th>\n",
       "    </tr>\n",
       "  </thead>\n",
       "  <tbody>\n",
       "    <tr>\n",
       "      <th>0</th>\n",
       "      <td>1116021</td>\n",
       "      <td>1.529196e+09</td>\n",
       "      <td>0</td>\n",
       "      <td>0</td>\n",
       "      <td>1</td>\n",
       "      <td>1</td>\n",
       "      <td>175.0</td>\n",
       "      <td>2.107008</td>\n",
       "      <td>10.105659</td>\n",
       "      <td>536100.0</td>\n",
       "      <td>...</td>\n",
       "      <td>20</td>\n",
       "      <td>116.395256</td>\n",
       "      <td>116.395256</td>\n",
       "      <td>1.058606</td>\n",
       "      <td>-84.957147</td>\n",
       "      <td>-122.269721</td>\n",
       "      <td>148.887882</td>\n",
       "      <td>-2.178047</td>\n",
       "      <td>28.890614</td>\n",
       "      <td>20.512298</td>\n",
       "    </tr>\n",
       "    <tr>\n",
       "      <th>1</th>\n",
       "      <td>1116022</td>\n",
       "      <td>1.529196e+09</td>\n",
       "      <td>0</td>\n",
       "      <td>0</td>\n",
       "      <td>1</td>\n",
       "      <td>1</td>\n",
       "      <td>100.0</td>\n",
       "      <td>1.829953</td>\n",
       "      <td>6.108021</td>\n",
       "      <td>101475.0</td>\n",
       "      <td>...</td>\n",
       "      <td>19</td>\n",
       "      <td>553.000793</td>\n",
       "      <td>553.000793</td>\n",
       "      <td>2.187143</td>\n",
       "      <td>76.232893</td>\n",
       "      <td>71.069681</td>\n",
       "      <td>104.222616</td>\n",
       "      <td>0.750361</td>\n",
       "      <td>36.493012</td>\n",
       "      <td>41.341955</td>\n",
       "    </tr>\n",
       "    <tr>\n",
       "      <th>2</th>\n",
       "      <td>1116023</td>\n",
       "      <td>1.529196e+09</td>\n",
       "      <td>0</td>\n",
       "      <td>0</td>\n",
       "      <td>1</td>\n",
       "      <td>1</td>\n",
       "      <td>225.0</td>\n",
       "      <td>2.588907</td>\n",
       "      <td>14.453738</td>\n",
       "      <td>595150.0</td>\n",
       "      <td>...</td>\n",
       "      <td>23</td>\n",
       "      <td>57.301941</td>\n",
       "      <td>57.301941</td>\n",
       "      <td>0.790530</td>\n",
       "      <td>-21.985350</td>\n",
       "      <td>-96.243029</td>\n",
       "      <td>98.722218</td>\n",
       "      <td>-1.795379</td>\n",
       "      <td>31.553779</td>\n",
       "      <td>10.844797</td>\n",
       "    </tr>\n",
       "    <tr>\n",
       "      <th>3</th>\n",
       "      <td>1116024</td>\n",
       "      <td>1.529196e+09</td>\n",
       "      <td>0</td>\n",
       "      <td>0</td>\n",
       "      <td>1</td>\n",
       "      <td>1</td>\n",
       "      <td>150.0</td>\n",
       "      <td>5.718956</td>\n",
       "      <td>23.093748</td>\n",
       "      <td>497525.0</td>\n",
       "      <td>...</td>\n",
       "      <td>23</td>\n",
       "      <td>154.977875</td>\n",
       "      <td>154.977875</td>\n",
       "      <td>1.268382</td>\n",
       "      <td>64.365739</td>\n",
       "      <td>169.848918</td>\n",
       "      <td>181.635909</td>\n",
       "      <td>1.208559</td>\n",
       "      <td>21.580506</td>\n",
       "      <td>33.798127</td>\n",
       "    </tr>\n",
       "    <tr>\n",
       "      <th>4</th>\n",
       "      <td>1116025</td>\n",
       "      <td>1.529196e+09</td>\n",
       "      <td>0</td>\n",
       "      <td>0</td>\n",
       "      <td>1</td>\n",
       "      <td>1</td>\n",
       "      <td>200.0</td>\n",
       "      <td>2.671946</td>\n",
       "      <td>15.457053</td>\n",
       "      <td>397950.0</td>\n",
       "      <td>...</td>\n",
       "      <td>21</td>\n",
       "      <td>255.548325</td>\n",
       "      <td>255.548325</td>\n",
       "      <td>1.563690</td>\n",
       "      <td>-30.851648</td>\n",
       "      <td>-76.006892</td>\n",
       "      <td>82.029701</td>\n",
       "      <td>-1.956384</td>\n",
       "      <td>52.459812</td>\n",
       "      <td>14.624416</td>\n",
       "    </tr>\n",
       "  </tbody>\n",
       "</table>\n",
       "<p>5 rows × 25 columns</p>\n",
       "</div>"
      ],
      "text/plain": [
       "     event          time  s1_peak  s2_peak  nS1  nS2    S1w       S1h  \\\n",
       "0  1116021  1.529196e+09        0        0    1    1  175.0  2.107008   \n",
       "1  1116022  1.529196e+09        0        0    1    1  100.0  1.829953   \n",
       "2  1116023  1.529196e+09        0        0    1    1  225.0  2.588907   \n",
       "3  1116024  1.529196e+09        0        0    1    1  150.0  5.718956   \n",
       "4  1116025  1.529196e+09        0        0    1    1  200.0  2.671946   \n",
       "\n",
       "         S1e       S1t    ...      Nsipm          DT           Z      Zrms  \\\n",
       "0  10.105659  536100.0    ...         20  116.395256  116.395256  1.058606   \n",
       "1   6.108021  101475.0    ...         19  553.000793  553.000793  2.187143   \n",
       "2  14.453738  595150.0    ...         23   57.301941   57.301941  0.790530   \n",
       "3  23.093748  497525.0    ...         23  154.977875  154.977875  1.268382   \n",
       "4  15.457053  397950.0    ...         21  255.548325  255.548325  1.563690   \n",
       "\n",
       "           X           Y           R       Phi       Xrms       Yrms  \n",
       "0 -84.957147 -122.269721  148.887882 -2.178047  28.890614  20.512298  \n",
       "1  76.232893   71.069681  104.222616  0.750361  36.493012  41.341955  \n",
       "2 -21.985350  -96.243029   98.722218 -1.795379  31.553779  10.844797  \n",
       "3  64.365739  169.848918  181.635909  1.208559  21.580506  33.798127  \n",
       "4 -30.851648  -76.006892   82.029701 -1.956384  52.459812  14.624416  \n",
       "\n",
       "[5 rows x 25 columns]"
      ]
     },
     "execution_count": 15,
     "metadata": {},
     "output_type": "execute_result"
    }
   ],
   "source": [
    "full = dstio.load_dsts(glob.glob(input_path + '*h5'), \"DST\", \"Events\")\n",
    "full = full[full.R<max(Rrange)] # soft radial cut to reduce badly reconstructed events\n",
    "print(len(full))\n",
    "full.head()"
   ]
  },
  {
   "cell_type": "code",
   "execution_count": 16,
   "metadata": {},
   "outputs": [
    {
     "name": "stdout",
     "output_type": "stream",
     "text": [
      "Ratio: 0.06473581867221599\n"
     ]
    },
    {
     "data": {
      "text/html": [
       "<div>\n",
       "<style>\n",
       "    .dataframe thead tr:only-child th {\n",
       "        text-align: right;\n",
       "    }\n",
       "\n",
       "    .dataframe thead th {\n",
       "        text-align: left;\n",
       "    }\n",
       "\n",
       "    .dataframe tbody tr th {\n",
       "        vertical-align: top;\n",
       "    }\n",
       "</style>\n",
       "<table border=\"1\" class=\"dataframe\">\n",
       "  <thead>\n",
       "    <tr style=\"text-align: right;\">\n",
       "      <th></th>\n",
       "      <th>event</th>\n",
       "      <th>time</th>\n",
       "      <th>s1_peak</th>\n",
       "      <th>s2_peak</th>\n",
       "      <th>nS1</th>\n",
       "      <th>nS2</th>\n",
       "      <th>S1w</th>\n",
       "      <th>S1h</th>\n",
       "      <th>S1e</th>\n",
       "      <th>S1t</th>\n",
       "      <th>...</th>\n",
       "      <th>Nsipm</th>\n",
       "      <th>DT</th>\n",
       "      <th>Z</th>\n",
       "      <th>Zrms</th>\n",
       "      <th>X</th>\n",
       "      <th>Y</th>\n",
       "      <th>R</th>\n",
       "      <th>Phi</th>\n",
       "      <th>Xrms</th>\n",
       "      <th>Yrms</th>\n",
       "    </tr>\n",
       "  </thead>\n",
       "  <tbody>\n",
       "    <tr>\n",
       "      <th>9</th>\n",
       "      <td>1116029</td>\n",
       "      <td>1.529196e+09</td>\n",
       "      <td>0</td>\n",
       "      <td>0</td>\n",
       "      <td>1</td>\n",
       "      <td>1</td>\n",
       "      <td>125.0</td>\n",
       "      <td>2.228944</td>\n",
       "      <td>9.481476</td>\n",
       "      <td>122525.0</td>\n",
       "      <td>...</td>\n",
       "      <td>20</td>\n",
       "      <td>530.978088</td>\n",
       "      <td>530.978088</td>\n",
       "      <td>2.283895</td>\n",
       "      <td>-9.103964</td>\n",
       "      <td>-18.882342</td>\n",
       "      <td>20.962466</td>\n",
       "      <td>-2.020055</td>\n",
       "      <td>42.630459</td>\n",
       "      <td>29.145072</td>\n",
       "    </tr>\n",
       "    <tr>\n",
       "      <th>24</th>\n",
       "      <td>1116052</td>\n",
       "      <td>1.529196e+09</td>\n",
       "      <td>0</td>\n",
       "      <td>0</td>\n",
       "      <td>1</td>\n",
       "      <td>1</td>\n",
       "      <td>175.0</td>\n",
       "      <td>2.808993</td>\n",
       "      <td>13.671556</td>\n",
       "      <td>240300.0</td>\n",
       "      <td>...</td>\n",
       "      <td>20</td>\n",
       "      <td>413.209595</td>\n",
       "      <td>413.209595</td>\n",
       "      <td>1.973298</td>\n",
       "      <td>-8.990914</td>\n",
       "      <td>-46.658039</td>\n",
       "      <td>47.516410</td>\n",
       "      <td>-1.761161</td>\n",
       "      <td>50.970188</td>\n",
       "      <td>19.446958</td>\n",
       "    </tr>\n",
       "    <tr>\n",
       "      <th>34</th>\n",
       "      <td>1116063</td>\n",
       "      <td>1.529196e+09</td>\n",
       "      <td>0</td>\n",
       "      <td>0</td>\n",
       "      <td>1</td>\n",
       "      <td>1</td>\n",
       "      <td>275.0</td>\n",
       "      <td>1.472816</td>\n",
       "      <td>13.763200</td>\n",
       "      <td>185575.0</td>\n",
       "      <td>...</td>\n",
       "      <td>20</td>\n",
       "      <td>467.910706</td>\n",
       "      <td>467.910706</td>\n",
       "      <td>2.037511</td>\n",
       "      <td>23.644038</td>\n",
       "      <td>6.463988</td>\n",
       "      <td>24.511705</td>\n",
       "      <td>0.266867</td>\n",
       "      <td>49.289134</td>\n",
       "      <td>29.118828</td>\n",
       "    </tr>\n",
       "    <tr>\n",
       "      <th>46</th>\n",
       "      <td>1116085</td>\n",
       "      <td>1.529196e+09</td>\n",
       "      <td>0</td>\n",
       "      <td>0</td>\n",
       "      <td>1</td>\n",
       "      <td>1</td>\n",
       "      <td>325.0</td>\n",
       "      <td>1.345080</td>\n",
       "      <td>11.744434</td>\n",
       "      <td>385525.0</td>\n",
       "      <td>...</td>\n",
       "      <td>19</td>\n",
       "      <td>267.968964</td>\n",
       "      <td>267.968964</td>\n",
       "      <td>1.639308</td>\n",
       "      <td>1.356336</td>\n",
       "      <td>-33.264976</td>\n",
       "      <td>33.292616</td>\n",
       "      <td>-1.530045</td>\n",
       "      <td>25.018771</td>\n",
       "      <td>9.409370</td>\n",
       "    </tr>\n",
       "    <tr>\n",
       "      <th>47</th>\n",
       "      <td>1116086</td>\n",
       "      <td>1.529196e+09</td>\n",
       "      <td>0</td>\n",
       "      <td>0</td>\n",
       "      <td>1</td>\n",
       "      <td>1</td>\n",
       "      <td>125.0</td>\n",
       "      <td>2.249810</td>\n",
       "      <td>10.347129</td>\n",
       "      <td>296850.0</td>\n",
       "      <td>...</td>\n",
       "      <td>20</td>\n",
       "      <td>355.651886</td>\n",
       "      <td>355.651886</td>\n",
       "      <td>1.832010</td>\n",
       "      <td>-16.080360</td>\n",
       "      <td>19.877159</td>\n",
       "      <td>25.567156</td>\n",
       "      <td>2.250993</td>\n",
       "      <td>31.796394</td>\n",
       "      <td>17.711581</td>\n",
       "    </tr>\n",
       "  </tbody>\n",
       "</table>\n",
       "<p>5 rows × 25 columns</p>\n",
       "</div>"
      ],
      "text/plain": [
       "      event          time  s1_peak  s2_peak  nS1  nS2    S1w       S1h  \\\n",
       "9   1116029  1.529196e+09        0        0    1    1  125.0  2.228944   \n",
       "24  1116052  1.529196e+09        0        0    1    1  175.0  2.808993   \n",
       "34  1116063  1.529196e+09        0        0    1    1  275.0  1.472816   \n",
       "46  1116085  1.529196e+09        0        0    1    1  325.0  1.345080   \n",
       "47  1116086  1.529196e+09        0        0    1    1  125.0  2.249810   \n",
       "\n",
       "          S1e       S1t    ...      Nsipm          DT           Z      Zrms  \\\n",
       "9    9.481476  122525.0    ...         20  530.978088  530.978088  2.283895   \n",
       "24  13.671556  240300.0    ...         20  413.209595  413.209595  1.973298   \n",
       "34  13.763200  185575.0    ...         20  467.910706  467.910706  2.037511   \n",
       "46  11.744434  385525.0    ...         19  267.968964  267.968964  1.639308   \n",
       "47  10.347129  296850.0    ...         20  355.651886  355.651886  1.832010   \n",
       "\n",
       "            X          Y          R       Phi       Xrms       Yrms  \n",
       "9   -9.103964 -18.882342  20.962466 -2.020055  42.630459  29.145072  \n",
       "24  -8.990914 -46.658039  47.516410 -1.761161  50.970188  19.446958  \n",
       "34  23.644038   6.463988  24.511705  0.266867  49.289134  29.118828  \n",
       "46   1.356336 -33.264976  33.292616 -1.530045  25.018771   9.409370  \n",
       "47 -16.080360  19.877159  25.567156  2.250993  31.796394  17.711581  \n",
       "\n",
       "[5 rows x 25 columns]"
      ]
     },
     "execution_count": 16,
     "metadata": {},
     "output_type": "execute_result"
    }
   ],
   "source": [
    "fid = full\n",
    "fid = fid[fid.R < R_fiducial] # Fiducialize in order to reduce geometrical effects\n",
    "print(\"Ratio:\", len(fid)/len(full))\n",
    "fid.head()"
   ]
  },
  {
   "cell_type": "markdown",
   "metadata": {},
   "source": [
    "# Lifetime computation"
   ]
  },
  {
   "cell_type": "markdown",
   "metadata": {},
   "source": [
    "### General plots"
   ]
  },
  {
   "cell_type": "code",
   "execution_count": 17,
   "metadata": {},
   "outputs": [
    {
     "data": {
      "image/png": "[encoded data removed]",
      "text/plain": [
       "<matplotlib.figure.Figure at 0x1153f44e0>"
      ]
     },
     "metadata": {},
     "output_type": "display_data"
    },
    {
     "data": {
      "image/png": "[encoded data removed]",
      "text/plain": [
       "<matplotlib.figure.Figure at 0x11508ae80>"
      ]
     },
     "metadata": {},
     "output_type": "display_data"
    }
   ],
   "source": [
    "hist(fid.S2e, 50, range=Erange_raw)\n",
    "labels(\"S2 energy (pes)\", \"Entries\", \"Fidualized energy spectrum\")\n",
    "save(\"Raw_energy_fiducial\")\n",
    "\n",
    "\n",
    "hist2d(fid.Z, fid.S2e, (100, 50), range=(Zrange, Erange_raw))\n",
    "labels(\"Drift time ($\\mu$s)\", \"S2 energy (pes)\", \"Fiducialized energy spectrum vs Z\")\n",
    "save(\"Raw_energy_vsZ_fiducial\")\n"
   ]
  },
  {
   "cell_type": "markdown",
   "metadata": {},
   "source": [
    "## Computation"
   ]
  },
  {
   "cell_type": "code",
   "execution_count": 18,
   "metadata": {
    "scrolled": false
   },
   "outputs": [],
   "source": [
    "# Data selection\n",
    "\n",
    "data = fid\n",
    "\n",
    "Zbins = np.linspace(*Z_fiducial, nslices)\n",
    "Zcorr = corrf.LifetimeCorrection(-Ltguess, E0guess)\n",
    "\n",
    "\n",
    "Z_drift_data = []\n",
    "for i in range(len(Zbins)-1):\n",
    "    zpos    = np.mean([Zbins[i], Zbins[i+1]])\n",
    "    data_   = data[coref.in_range(data.Z.values, Zbins[i], Zbins[i+1])]\n",
    "    E_zcorr = data_.S2e.values \n",
    "    \n",
    "    y, x    = np.histogram(E_zcorr, 50, range=Erange_raw)\n",
    "    x       = shift_to_bin_centers(x)\n",
    "    seed = 1e4,  E0guess*Zcorr(zpos).value, 200 \n",
    "    f    = fitf.fit(fitf.gauss, x, y, seed, fit_range=Erange_raw)\n",
    "    Z_drift_data.append([f.values[1],f.errors[1]])\n"
   ]
  },
  {
   "cell_type": "code",
   "execution_count": 19,
   "metadata": {},
   "outputs": [
    {
     "name": "stdout",
     "output_type": "stream",
     "text": [
      "Energy at z=0 = 13078.2 +- 4.5\n",
      "Lifetime      = 996.251 +- 0.782\n",
      "Chi2          = 8.72          \n"
     ]
    },
    {
     "data": {
      "image/png": "[encoded data removed]",
      "text/plain": [
       "<matplotlib.figure.Figure at 0x113c5a470>"
      ]
     },
     "metadata": {},
     "output_type": "display_data"
    }
   ],
   "source": [
    "E_z = data.S2e \n",
    "hist2d(data.Z, E_z, (100, 50), range=(Zrange, Erange_raw))\n",
    "\n",
    "x, y, u_y = map(np.array, [Zbins, *zip(*Z_drift_data)])\n",
    "x = shift_to_bin_centers(x)\n",
    "\n",
    "plt.errorbar(x, y, yerr=u_y, fmt='b', linewidth=2)\n",
    "\n",
    "seed = E0guess, -Ltguess\n",
    "f    = fitf.fit(fitf.expo, x, y, seed, fit_range=Z_fiducial, sigma=u_y)\n",
    "\n",
    "E0mean, Ltmean = f.values \n",
    "\n",
    "plt.plot(x, f.fn(x), c='r', linewidth=2)\n",
    "print(\"Energy at z=0 = {:.1f} +- {:.1f}\".format( f.values[0], f.errors[0]))\n",
    "print(\"Lifetime      = {:.3f} +- {:.3f}\".format(-f.values[1], f.errors[1]))\n",
    "print(\"Chi2          = {:.2f}          \".format(f.chi2))\n",
    "\n",
    "labels(\"Drift time ($\\mu$s)\", \"S2 energy (pes)\", \"Fiducialized energy spectrum vs Z\")\n",
    "save(\"S2energyvsZ_fiducial\")"
   ]
  },
  {
   "cell_type": "markdown",
   "metadata": {},
   "source": [
    "### time profile"
   ]
  },
  {
   "cell_type": "code",
   "execution_count": 21,
   "metadata": {
    "scrolled": false
   },
   "outputs": [
    {
     "data": {
      "image/png": "[encoded data removed]",
      "text/plain": [
       "<matplotlib.figure.Figure at 0x115900390>"
      ]
     },
     "metadata": {},
     "output_type": "display_data"
    }
   ],
   "source": [
    "data = fid\n",
    "data = data.sort_values('event')\n",
    "\n",
    "tstart = data.time.values[ 0]\n",
    "tfinal = data.time.values[-1]\n",
    "\n",
    "nStimeprofile\n",
    "\n",
    "ntimebins = int( np.floor( ( tfinal - tstart) / nStimeprofile) )\n",
    "ntimebins = np.max([ntimebins, 1])\n",
    "\n",
    "tbins = np.linspace( tstart, tfinal, ntimebins+1)\n",
    "time, lt, elt = [], [], []\n",
    "\n",
    "for t in range(ntimebins):\n",
    "    data_time = data[coref.in_range(data.time, tbins[t], tbins[t+1])]\n",
    "    Zbins = np.linspace(*Z_fiducial, nslices)\n",
    "    Zcorr = corrf.LifetimeCorrection(Ltmean, E0mean)\n",
    "    Z_drift_data = []\n",
    "    for i in range(len(Zbins)-1):\n",
    "        zpos    = np.mean([Zbins[i], Zbins[i+1]])\n",
    "        data_   = data_time[coref.in_range(data_time.Z.values, Zbins[i], Zbins[i+1])]\n",
    "        E_zcorr = data_.S2e.values \n",
    "\n",
    "        y, x    = np.histogram(E_zcorr, 50, range=Erange_raw)\n",
    "        x       = shift_to_bin_centers(x)\n",
    "        seed = 1e4,  E0guess*Zcorr(zpos).value, 100 \n",
    "        f    = fitf.fit(fitf.gauss, x, y, seed, fit_range=Erange_raw)\n",
    "        Z_drift_data.append([f.values[1],f.errors[1]])\n",
    "    x, y, u_y = map(np.array, [Zbins, *zip(*Z_drift_data)])\n",
    "    x = shift_to_bin_centers(x)\n",
    "    \n",
    "    #plt.figure()\n",
    "    #hist2d(data_time.Z, data_time.S2e, (100, 50), range=(Zrange, Erange_raw))\n",
    "    #plt.errorbar(x,y)\n",
    "    \n",
    "    seed = E0mean, Ltmean\n",
    "    f    = fitf.fit(fitf.expo, x, y, seed, fit_range=Z_fiducial, sigma=u_y)\n",
    "    time.append(np.mean([tbins[t],tbins[t+1]]))\n",
    "    lt  .append(-f.values[1])\n",
    "    elt .append(-f.errors[1])\n",
    "\n",
    "\n",
    "time_ = list(map(datetime.datetime.fromtimestamp, time))\n",
    "\n",
    "plt.figure()\n",
    "ax=plt.gca()\n",
    "xfmt = md.DateFormatter('%d-%m %H:%M')\n",
    "ax.xaxis.set_major_formatter(xfmt)    \n",
    "\n",
    "plt.errorbar(time_, lt, elt)\n",
    "plt.xlabel('date')\n",
    "plt.ylabel('Lifetime (mus)')\n",
    "plt.xticks( rotation=25 )\n",
    "save(\"LifetimevsDate\")\n"
   ]
  },
  {
   "cell_type": "markdown",
   "metadata": {},
   "source": [
    "# Drift velocity"
   ]
  },
  {
   "cell_type": "code",
   "execution_count": 22,
   "metadata": {
    "scrolled": false
   },
   "outputs": [
    {
     "name": "stdout",
     "output_type": "stream",
     "text": [
      "Max drift length = 573.277 +- 0.169\n",
      "Drift velocity   = 0.92486 +- 0.00027\n"
     ]
    },
    {
     "data": {
      "image/png": "[encoded data removed]",
      "text/plain": [
       "<matplotlib.figure.Figure at 0x115764550>"
      ]
     },
     "metadata": {},
     "output_type": "display_data"
    }
   ],
   "source": [
    "data = fid\n",
    "y, x, _ = hist(data.Z, 50, Zrange_DV)\n",
    " \n",
    "sigmoid  = lambda x, A, B, C, D: A/(1 + np.exp(-C*(x-B))) + D\n",
    "seed     = np.max(y), np.mean(Zrange_DV), np.diff(Zrange_DV)[0]/100, np.min(y)\n",
    "f        = fitf.fit(sigmoid, x, y, seed, sigma=poisson_sigma(y), fit_range=Zrange_DV)\n",
    "\n",
    "dv   = 530.2/f.values[1]\n",
    "u_dv =  dv/f.values[1] * f.errors[1]\n",
    "\n",
    "plt.plot(x, f.fn(x), fitOpt)\n",
    "\n",
    "labels(\"Drift time ($\\mu$s)\", \"Entries\", \"Z distribution\")\n",
    "print(\"Max drift length = {:.3f} +- {:.3f}\".format(f.values[1], f.errors[1]))\n",
    "print(\"Drift velocity   = {:.5f} +- {:.5f}\".format(dv, u_dv))\n",
    "save(\"Drift_velocity\")"
   ]
  },
  {
   "cell_type": "code",
   "execution_count": null,
   "metadata": {
    "collapsed": true
   },
   "outputs": [],
   "source": []
  },
  {
   "cell_type": "code",
   "execution_count": null,
   "metadata": {
    "collapsed": true
   },
   "outputs": [],
   "source": []
  }
 ],
 "metadata": {
  "kernelspec": {
   "display_name": "Python 3",
   "language": "python",
   "name": "python3"
  },
  "language_info": {
   "codemirror_mode": {
    "name": "ipython",
    "version": 3
   },
   "file_extension": ".py",
   "mimetype": "text/x-python",
   "name": "python",
   "nbconvert_exporter": "python",
   "pygments_lexer": "ipython3",
   "version": "3.6.2"
  }
 },
 "nbformat": 4,
 "nbformat_minor": 2
}
